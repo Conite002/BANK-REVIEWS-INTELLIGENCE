{
 "cells": [
  {
   "cell_type": "code",
   "execution_count": 6,
   "metadata": {},
   "outputs": [],
   "source": [
    "import sys\n",
    "import os\n",
    "\n",
    "# Chemin absolu du répertoire racine du projet\n",
    "project_root = '/home/conite/Documents/WORKSPACE/PROJECTS/BI-PROJECT/BANK-REVIEWS-INTELLIGENCE/'\n",
    "\n",
    "# Ajouter le répertoire src au chemin de recherche des modules\n",
    "src_dir = os.path.join(project_root, 'src')\n",
    "sys.path.append(src_dir)\n",
    "\n"
   ]
  },
  {
   "cell_type": "code",
   "execution_count": 7,
   "metadata": {},
   "outputs": [
    {
     "name": "stdout",
     "output_type": "stream",
     "text": [
      "Traceback (most recent call last):\n",
      "  File \"/home/conite/Documents/WORKSPACE/PROJECTS/BI-PROJECT/BANK-REVIEWS-INTELLIGENCE/src/main.py\", line 31, in <module>\n",
      "    from sqlalchemy.orm import sessionmaker, relationship, declarative_base\n",
      "ImportError: cannot import name 'declarative_base' from 'sqlalchemy.orm' (/home/conite/.pyenv/versions/3.11.0/lib/python3.11/site-packages/sqlalchemy/orm/__init__.py)\n"
     ]
    }
   ],
   "source": [
    "!python main.py\n"
   ]
  },
  {
   "cell_type": "code",
   "execution_count": 10,
   "metadata": {},
   "outputs": [],
   "source": [
    "import pandas as pd\n",
    "\n",
    "df = pd.read_csv('/home/conite/Documents/WORKSPACE/PROJECTS/BI-PROJECT/BANK-REVIEWS-INTELLIGENCE/src/macro_table/macro_table.csv')"
   ]
  },
  {
   "cell_type": "code",
   "execution_count": 11,
   "metadata": {},
   "outputs": [],
   "source": [
    "df['Topic'] = {}"
   ]
  },
  {
   "cell_type": "code",
   "execution_count": null,
   "metadata": {},
   "outputs": [],
   "source": [
    "from datetime import datetime, timedelta\n",
    "\n",
    "for index, row in tqdm(df.iterrows(), total=df.shape[0]):\n",
    "    review = row['Reviewer_Text']\n",
    "    \n",
    "    try:\n",
    "        topics = extractor.extract(review, type='SINGLE_SOURCE')\n",
    "        topics_array = topics['topics']\n",
    "    \n",
    "        if len(topics_array) == 0:\n",
    "            static_topic, static_sentiment, static_sub_topic = generate_static_topics_and_sentiments(row['Reviewer_Sart'])\n",
    "            new_row = row.copy()\n",
    "            new_row['Topic'] = static_topic\n",
    "            new_row['Sentiment'] = static_sentiment\n",
    "            new_row['Sub_Topic'] = static_sub_topic\n",
    "            df_macro = pd.concat([df_macro, pd.DataFrame([new_row])], ignore_index=True)\n",
    "            row_accumulated += 1\n",
    "        else:\n",
    "            for tuple_ in topics_array:\n",
    "                new_row = row.copy()\n",
    "                new_row['Topic'] = tuple_[0]\n",
    "                new_row['Sentiment'] = tuple_[1]\n",
    "                new_row['Sub_Topic'] = tuple_[2]\n",
    "                df_macro = pd.concat([df_macro, pd.DataFrame([new_row])], ignore_index=True)\n",
    "                row_accumulated += 1\n",
    "            \n",
    "        # Sauvegarder à chaque intervalle défini\n",
    "        if row_accumulated >= save_interval:\n",
    "            df_macro.to_csv(output_file, index=False)\n",
    "            row_accumulated = 0\n",
    "    except Exception as e:\n",
    "        print(f\"Erreur rencontrée à l'index {index}: {e}\")\n",
    "        pass"
   ]
  }
 ],
 "metadata": {
  "kernelspec": {
   "display_name": "Python 3",
   "language": "python",
   "name": "python3"
  },
  "language_info": {
   "codemirror_mode": {
    "name": "ipython",
    "version": 3
   },
   "file_extension": ".py",
   "mimetype": "text/x-python",
   "name": "python",
   "nbconvert_exporter": "python",
   "pygments_lexer": "ipython3",
   "version": "3.11.0"
  }
 },
 "nbformat": 4,
 "nbformat_minor": 2
}
