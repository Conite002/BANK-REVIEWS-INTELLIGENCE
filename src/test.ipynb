{
 "cells": [
  {
   "cell_type": "code",
   "execution_count": 1,
   "metadata": {},
   "outputs": [],
   "source": [
    "import sys\n",
    "import os\n",
    "\n",
    "# Chemin absolu du répertoire racine du projet\n",
    "project_root = '/home/conite/Documents/WORKSPACE/PROJECTS/BI-PROJECT/BANK-REVIEWS-INTELLIGENCE/'\n",
    "\n",
    "# Ajouter le répertoire src au chemin de recherche des modules\n",
    "src = os.path.join(project_root, '.')\n",
    "sys.path.append(src)\n",
    "\n"
   ]
  },
  {
   "cell_type": "code",
   "execution_count": 2,
   "metadata": {},
   "outputs": [
    {
     "name": "stdout",
     "output_type": "stream",
     "text": [
      "/home/conite/Documents/WORKSPACE/PROJECTS/BI-PROJECT/BANK-REVIEWS-INTELLIGENCE/data/parquet/2024-07-30/Morocco/Nador.parquet: 90 rows\n",
      "Macro table saved at: /home/conite/Documents/WORKSPACE/PROJECTS/BI-PROJECT/BANK-REVIEWS-INTELLIGENCE/src/macro_table/macro_table.parquet\n",
      "Macro table saved as CSV at : /home/conite/Documents/WORKSPACE/PROJECTS/BI-PROJECT/BANK-REVIEWS-INTELLIGENCE/src/macro_table/macro_table.csv\n"
     ]
    }
   ],
   "source": [
    "import pandas as pd\n",
    "import numpy as np\n",
    "from src.data_concatenation.concatenate import build_macro_table\n",
    "from src.data_preprocessing.preprocessing import preprocess_dataframe\n",
    "from src.data_preprocessing.topificator import TopicExtractor\n",
    "from datetime import datetime\n",
    "from datetime import datetime, timedelta\n",
    "from tqdm import tqdm\n",
    "\n",
    "CURRENT_DATE = datetime.now().strftime(\"%Y-%m-%d\")\n",
    "DATA_PATH = os.path.join(project_root, 'data')\n",
    "CITIES_PATH = os.path.join(project_root, 'data', 'utils', 'countries_cities-full.json')\n",
    "RAW_SAVE_PATH = os.path.join(project_root, 'data', 'temp')\n",
    "PARCKET_PATH = os.path.join(project_root, 'data', 'parquet', CURRENT_DATE)\n",
    "\n",
    "\n",
    "concatenate_parquets = build_macro_table(DATA_PATH)\n",
    "\n",
    "# --------------------------------------------------------\n",
    "# 0.3 Preprocessing of concatenate parquets\n",
    "# --------------------------------------------------------\n",
    "# df = preprocess_dataframe(concatenate_parquets)\n",
    "\n"
   ]
  },
  {
   "cell_type": "code",
   "execution_count": 3,
   "metadata": {},
   "outputs": [
    {
     "data": {
      "text/plain": [
       "17"
      ]
     },
     "execution_count": 3,
     "metadata": {},
     "output_type": "execute_result"
    }
   ],
   "source": [
    "len(concatenate_parquets.columns)"
   ]
  },
  {
   "cell_type": "code",
   "execution_count": 5,
   "metadata": {},
   "outputs": [
    {
     "name": "stderr",
     "output_type": "stream",
     "text": [
      "/home/conite/Documents/WORKSPACE/PROJECTS/BI-PROJECT/BANK-REVIEWS-INTELLIGENCE/./src/data_preprocessing/preprocessing.py:64: FutureWarning: Downcasting object dtype arrays on .fillna, .ffill, .bfill is deprecated and will change in a future version. Call result.infer_objects(copy=False) instead. To opt-in to the future behavior, set `pd.set_option('future.no_silent_downcasting', True)`\n",
      "  df = df.fillna({\n"
     ]
    },
    {
     "name": "stdout",
     "output_type": "stream",
     "text": [
      "Topic : {'topics': [('Application mobile', 'Negative', ['Bug', 'Connexion difficile'])]}\n"
     ]
    },
    {
     "name": "stderr",
     "output_type": "stream",
     "text": [
      "  1%|▏         | 1/73 [01:18<1:33:56, 78.29s/it]"
     ]
    },
    {
     "name": "stdout",
     "output_type": "stream",
     "text": [
      "Topic 0 : Pays Ahsan ::: {'topics': [('Service client', 'Positive', ['réactif', 'rapidité']), ('Frais bancaires', 'Negative', ['élevés'])]}\n"
     ]
    },
    {
     "name": "stderr",
     "output_type": "stream",
     "text": [
      "  3%|▎         | 2/73 [02:15<1:18:12, 66.09s/it]"
     ]
    },
    {
     "name": "stdout",
     "output_type": "stream",
     "text": [
      "Topic 1 : Berger ::: {'topics': [(\"facilité d'ouverture de compte\", 'Positive', ['rapide', 'simple']), ('service client', 'Positive', ['réactif', 'rapidité'])]}\n"
     ]
    },
    {
     "name": "stderr",
     "output_type": "stream",
     "text": [
      "  4%|▍         | 3/73 [03:42<1:28:05, 75.51s/it]"
     ]
    },
    {
     "name": "stdout",
     "output_type": "stream",
     "text": [
      "Topic 2 : Expérience neutre ::: {'topics': [{'Topic': 'Gestion des comptes', 'Sentiment': 'Positive', 'Sub_topics': [\"Facilité d'ouverture de compte\"]}, {'Topic': 'Application mobile', 'Sentiment': 'Neutral', 'Sub_topics': []}]}\n",
      "Erreur rencontrée à l'index 2: 0\n"
     ]
    },
    {
     "name": "stderr",
     "output_type": "stream",
     "text": [
      "  5%|▌         | 4/73 [04:38<1:17:50, 67.70s/it]"
     ]
    },
    {
     "name": "stdout",
     "output_type": "stream",
     "text": [
      "Topic 3 : Très mauvaise expérience ::: {'topics': [('Gestion des comptes', 'Negative', ['expérience mauvaise'])]}\n"
     ]
    },
    {
     "name": "stderr",
     "output_type": "stream",
     "text": [
      "  7%|▋         | 5/73 [05:54<1:20:11, 70.76s/it]"
     ]
    },
    {
     "name": "stdout",
     "output_type": "stream",
     "text": [
      "Topic 4 : Expérience neutre ::: {'topics': [('Service client', 'Neutre', ['Réactif mais pas extraordinaire', 'Fonctionne bien']), ('Gestion des comptes', 'Neutre', [\"Rien d'extraordinaire\", 'Satisfaisant'])]}\n"
     ]
    },
    {
     "name": "stderr",
     "output_type": "stream",
     "text": [
      "  8%|▊         | 6/73 [06:59<1:16:39, 68.66s/it]"
     ]
    },
    {
     "name": "stdout",
     "output_type": "stream",
     "text": [
      "Topic 5 : Très bonne expérience ::: {'topics': [('Expérience utilisateur', 'Positive', ['Rapide', 'Simple'])]}\n"
     ]
    },
    {
     "name": "stderr",
     "output_type": "stream",
     "text": [
      " 10%|▉         | 7/73 [07:38<1:04:57, 59.05s/it]"
     ]
    },
    {
     "name": "stdout",
     "output_type": "stream",
     "text": [
      "Topic 6 : Expérience neutre ::: {'topics': []}\n",
      "Erreur rencontrée à l'index 6: 'Reviewer_Sart'\n"
     ]
    },
    {
     "name": "stderr",
     "output_type": "stream",
     "text": [
      " 11%|█         | 8/73 [09:07<1:14:25, 68.70s/it]"
     ]
    },
    {
     "name": "stdout",
     "output_type": "stream",
     "text": [
      "Topic 7 : J'ai eu l'honneur d'être accueilli chaleureusement par le président  de la BP Nador Al Hociema et son proche collaborateur , au cours  de notre entretien,  j'ai découvert une personnalité très averti, dynamique, pragmatique, et … ::: {'topics': [('Accueil chaleureux', 'Positive', ['personnalité averti', 'dynamique', 'pragmatique'])]}\n"
     ]
    },
    {
     "name": "stderr",
     "output_type": "stream",
     "text": [
      " 12%|█▏        | 9/73 [10:22<1:15:10, 70.48s/it]"
     ]
    },
    {
     "name": "stdout",
     "output_type": "stream",
     "text": [
      "Topic 8 : Siège de la banque populaire  Nador Al hoceima. ::: {'topics': [('Localisation et accessibilité', 'Positive', ['proche de chez moi', 'facile à trouver']), ('Satisfaction client', 'Positive', ['très satisfait', 'excellent service'])]}\n"
     ]
    },
    {
     "name": "stderr",
     "output_type": "stream",
     "text": [
      " 14%|█▎        | 10/73 [11:10<1:06:57, 63.77s/it]"
     ]
    },
    {
     "name": "stdout",
     "output_type": "stream",
     "text": [
      "Topic 9 : Bon accueil et professionnel ::: {'topics': [('Service client', 'Positive', ['professionnel', 'bien accueilli'])]}\n"
     ]
    },
    {
     "name": "stderr",
     "output_type": "stream",
     "text": [
      " 15%|█▌        | 11/73 [12:08<1:03:49, 61.77s/it]"
     ]
    },
    {
     "name": "stdout",
     "output_type": "stream",
     "text": [
      "Topic 10 : Accueil chaleureux bon service ::: {'topics': [('accueil chaleureux', 'Positive', ['bon service'])]}\n"
     ]
    },
    {
     "name": "stderr",
     "output_type": "stream",
     "text": [
      " 16%|█▋        | 12/73 [13:32<1:09:52, 68.73s/it]"
     ]
    },
    {
     "name": "stdout",
     "output_type": "stream",
     "text": [
      "Topic 11 : Certains employés de cette agence sont arrogants, notamment la dame en charge de l'assurance transport des morts (middle office). L'année prochaine, je déménagerai dans une meilleure banque, si Dieu le veut ::: {'topics': [('compétence du personnel', 'Negative', ['arrogants', 'moyenne office', 'banque']), ('service client', 'Positive', ['déménager'])]}\n"
     ]
    },
    {
     "name": "stderr",
     "output_type": "stream",
     "text": [
      " 18%|█▊        | 13/73 [14:42<1:09:05, 69.09s/it]"
     ]
    },
    {
     "name": "stdout",
     "output_type": "stream",
     "text": [
      "Topic 12 : Je ne suis jamais entré dans une banque aussi hostile.\n",
      "Personnel comme dans la rue\n",
      "Très déçu. ::: {'topics': [('atmosphère de la branche', 'Negative', ['hostile', 'décevant'])]}\n"
     ]
    },
    {
     "name": "stderr",
     "output_type": "stream",
     "text": [
      " 19%|█▉        | 14/73 [15:33<1:02:32, 63.61s/it]"
     ]
    },
    {
     "name": "stdout",
     "output_type": "stream",
     "text": [
      "Topic 13 : Cool. 👍🔐 … ::: {'topics': [('service client', 'Neutral', ['réactif']), ('application mobile', 'Negative', ['lente'])]}\n"
     ]
    },
    {
     "name": "stderr",
     "output_type": "stream",
     "text": [
      " 21%|██        | 15/73 [16:19<56:13, 58.16s/it]  "
     ]
    },
    {
     "name": "stdout",
     "output_type": "stream",
     "text": [
      "Topic 14 : Meilleure banque ::: {'topics': [('Service client', 'Positive', ['réactif', 'rapidité'])]}\n"
     ]
    },
    {
     "name": "stderr",
     "output_type": "stream",
     "text": [
      " 22%|██▏       | 16/73 [17:36<1:00:46, 63.97s/it]"
     ]
    },
    {
     "name": "stdout",
     "output_type": "stream",
     "text": [
      "Topic 15 : être ::: {'topics': [('ouverture de compte facile', 'Negative', ['problèmes', 'complexité']), ('sécurité des informations', 'Positive', ['confiance', 'integrité']), ('localisation et accessibilité', 'Neutral', ['proximité', 'horaires'])]}\n"
     ]
    },
    {
     "name": "stderr",
     "output_type": "stream",
     "text": [
      " 23%|██▎       | 17/73 [18:29<56:29, 60.52s/it]  "
     ]
    },
    {
     "name": "stdout",
     "output_type": "stream",
     "text": [
      "Topic 16 : Bonne expérience ::: {'topics': [('Expérience utilisateur', 'Positive', ['simple', 'rapide'])]}\n"
     ]
    },
    {
     "name": "stderr",
     "output_type": "stream",
     "text": [
      " 25%|██▍       | 18/73 [19:13<51:05, 55.73s/it]"
     ]
    },
    {
     "name": "stdout",
     "output_type": "stream",
     "text": [
      "Topic 17 : Très bonne expérience ::: {'topics': [['Expérience utilisateur', 'Positive', ['Rapide', 'Simple']]]}\n"
     ]
    },
    {
     "name": "stderr",
     "output_type": "stream",
     "text": [
      " 26%|██▌       | 19/73 [19:25<38:20, 42.61s/it]"
     ]
    },
    {
     "name": "stdout",
     "output_type": "stream",
     "text": [
      "Topic 18 : Très bonne expérience ::: {'topics': [['Satisfaction client', 'Positive', ['Très bonne expérience']]]}\n"
     ]
    },
    {
     "name": "stderr",
     "output_type": "stream",
     "text": [
      " 27%|██▋       | 20/73 [20:17<40:04, 45.36s/it]"
     ]
    },
    {
     "name": "stdout",
     "output_type": "stream",
     "text": [
      "Topic 19 : Expérience neutre ::: {'topics': [('Satisfaction client', 'Neutral', ['moyen'])]}\n"
     ]
    },
    {
     "name": "stderr",
     "output_type": "stream",
     "text": [
      " 29%|██▉       | 21/73 [21:13<42:05, 48.57s/it]"
     ]
    },
    {
     "name": "stdout",
     "output_type": "stream",
     "text": [
      "Topic 20 : Très bonne expérience ::: {'topics': [{'topic': 'ouverture de compte', 'sentiment': 'Positive', 'sub_topics': ['rapide', 'simple']}]}\n",
      "Erreur rencontrée à l'index 20: 0\n"
     ]
    },
    {
     "name": "stderr",
     "output_type": "stream",
     "text": [
      " 30%|███       | 22/73 [22:21<46:16, 54.45s/it]"
     ]
    },
    {
     "name": "stdout",
     "output_type": "stream",
     "text": [
      "Topic 21 : Très mauvaise expérience ::: {'topics': [('Satisfaction client', 'Negative', ['Expérience négative'])]}\n"
     ]
    },
    {
     "name": "stderr",
     "output_type": "stream",
     "text": [
      " 32%|███▏      | 23/73 [23:11<44:07, 52.95s/it]"
     ]
    },
    {
     "name": "stdout",
     "output_type": "stream",
     "text": [
      "Topic 22 : Expérience neutre ::: {'topics': [('Sécurité des transactions en ligne', 'Neutre', ['normale'])]}\n"
     ]
    },
    {
     "name": "stderr",
     "output_type": "stream",
     "text": [
      " 33%|███▎      | 24/73 [23:57<41:33, 50.89s/it]"
     ]
    },
    {
     "name": "stdout",
     "output_type": "stream",
     "text": [
      "Topic 24 : Banque et service normal. ::: {'topics': [{'topic': 'Service client', 'sentiment': 'Neutral', 'sub_topics': ['normal']}]}\n",
      "Erreur rencontrée à l'index 24: 0\n"
     ]
    },
    {
     "name": "stderr",
     "output_type": "stream",
     "text": [
      " 34%|███▍      | 25/73 [25:38<52:42, 65.90s/it]"
     ]
    },
    {
     "name": "stdout",
     "output_type": "stream",
     "text": [
      "Topic 25 : Banque populaire du nador ::: {'topics': [(\"Facilité d'ouverture de compte\", 'Positive', ['rapide', 'simple'])]}\n"
     ]
    },
    {
     "name": "stderr",
     "output_type": "stream",
     "text": [
      " 36%|███▌      | 26/73 [26:26<47:24, 60.52s/it]"
     ]
    },
    {
     "name": "stdout",
     "output_type": "stream",
     "text": [
      "Topic 26 : Bien ::: {'topics': [('Service client', 'Positive', ['réactif', 'rapidité']), ('Gestion des comptes', 'Positive', ['simple'])]}\n"
     ]
    },
    {
     "name": "stderr",
     "output_type": "stream",
     "text": [
      " 37%|███▋      | 27/73 [27:13<43:18, 56.49s/it]"
     ]
    },
    {
     "name": "stdout",
     "output_type": "stream",
     "text": [
      "Topic 27 : Non ::: {'topics': [('Service client', 'Negative', ['Pas réactif', 'Pas efficace'])]}\n"
     ]
    },
    {
     "name": "stderr",
     "output_type": "stream",
     "text": [
      " 38%|███▊      | 28/73 [28:04<41:18, 55.07s/it]"
     ]
    },
    {
     "name": "stdout",
     "output_type": "stream",
     "text": [
      "Topic 28 : Très bonne expérience ::: {'topics': [('Expérience utilisateur', 'Positive', ['Rapide', 'Simple'])]}\n"
     ]
    },
    {
     "name": "stderr",
     "output_type": "stream",
     "text": [
      " 40%|███▉      | 29/73 [29:02<41:01, 55.94s/it]"
     ]
    },
    {
     "name": "stdout",
     "output_type": "stream",
     "text": [
      "Topic 29 : Expérience neutre ::: {'topics': [{'topic': 'Ouverture de compte', 'sentiment': 'Neutre', 'sub_topics': [\"Facilité d'ouverture de compte\", 'Simplicité']}]}\n",
      "Erreur rencontrée à l'index 29: 0\n"
     ]
    },
    {
     "name": "stderr",
     "output_type": "stream",
     "text": [
      " 41%|████      | 30/73 [29:12<30:09, 42.07s/it]"
     ]
    },
    {
     "name": "stdout",
     "output_type": "stream",
     "text": [
      "Topic 30 : Expérience neutre ::: {'topics': [('Expérience utilisateur', 'Neutre', [])]}\n"
     ]
    },
    {
     "name": "stderr",
     "output_type": "stream",
     "text": [
      " 42%|████▏     | 31/73 [30:12<33:16, 47.53s/it]"
     ]
    },
    {
     "name": "stdout",
     "output_type": "stream",
     "text": [
      "Topic 31 : Bonne équipe ::: {'topics': [{'topic': 'Compétence du personnel', 'sentiment': 'Positive', 'sub_topics': ['équipe compétente']}]}\n",
      "Erreur rencontrée à l'index 31: 0\n"
     ]
    },
    {
     "name": "stderr",
     "output_type": "stream",
     "text": [
      " 44%|████▍     | 32/73 [31:12<34:56, 51.13s/it]"
     ]
    },
    {
     "name": "stdout",
     "output_type": "stream",
     "text": [
      "Topic 32 : C'est une banque de quartier ::: {'topics': [('Localisation et accessibilité', 'Positive', ['près de chez moi', 'accessible']), ('Sécurité', 'Neutral', [\"je ne sais pas si c'est sécurisé\", 'mais ça semble bien'])]}\n"
     ]
    },
    {
     "name": "stderr",
     "output_type": "stream",
     "text": [
      " 45%|████▌     | 33/73 [32:02<33:47, 50.68s/it]"
     ]
    },
    {
     "name": "stdout",
     "output_type": "stream",
     "text": [
      "Topic 33 : Très mauvaise expérience ::: {'topics': [('expérience utilisateur', 'Negative', ['mauvaise'])]}\n"
     ]
    },
    {
     "name": "stderr",
     "output_type": "stream",
     "text": [
      " 47%|████▋     | 34/73 [32:59<34:18, 52.77s/it]"
     ]
    },
    {
     "name": "stdout",
     "output_type": "stream",
     "text": [
      "Topic 34 : Très bonne expérience ::: {'topics': [('Expérience utilisateur', 'Positive', ['rapide', 'simple'])]}\n"
     ]
    },
    {
     "name": "stderr",
     "output_type": "stream",
     "text": [
      " 48%|████▊     | 35/73 [33:44<31:53, 50.37s/it]"
     ]
    },
    {
     "name": "stdout",
     "output_type": "stream",
     "text": [
      "Topic 35 : Expérience neutre ::: {'topics': [('Sécurité', 'Neutre', ['sûre', 'garantie'])]}\n"
     ]
    },
    {
     "name": "stderr",
     "output_type": "stream",
     "text": [
      " 49%|████▉     | 36/73 [34:26<29:36, 48.01s/it]"
     ]
    },
    {
     "name": "stdout",
     "output_type": "stream",
     "text": [
      "Topic 36 : Bonne equipe. ::: {'topics': [('equipe', 'Positive', ['bien'])]}\n"
     ]
    },
    {
     "name": "stderr",
     "output_type": "stream",
     "text": [
      " 51%|█████     | 37/73 [35:21<29:57, 49.92s/it]"
     ]
    },
    {
     "name": "stdout",
     "output_type": "stream",
     "text": [
      "Topic 37 : Bonne expérience ::: {'topics': [('Service client', 'Positive', ['réactif', 'résolution rapide de problèmes'])]}\n"
     ]
    },
    {
     "name": "stderr",
     "output_type": "stream",
     "text": [
      " 52%|█████▏    | 38/73 [36:05<28:09, 48.28s/it]"
     ]
    },
    {
     "name": "stdout",
     "output_type": "stream",
     "text": [
      "Topic 38 : Très mauvaise expérience ::: {'topics': [('Service client', 'Negative', ['Mauvaise expérience'])]}\n"
     ]
    },
    {
     "name": "stderr",
     "output_type": "stream",
     "text": [
      " 53%|█████▎    | 39/73 [36:18<21:20, 37.67s/it]"
     ]
    },
    {
     "name": "stdout",
     "output_type": "stream",
     "text": [
      "Topic 39 : Très mauvaise expérience ::: {'topics': [(\"Temps d'attente\", 'Negative', ['long', 'inutile'])]}\n"
     ]
    },
    {
     "name": "stderr",
     "output_type": "stream",
     "text": [
      " 55%|█████▍    | 40/73 [37:01<21:29, 39.08s/it]"
     ]
    },
    {
     "name": "stdout",
     "output_type": "stream",
     "text": [
      "Topic 40 : Très bonne expérience ::: {'topics': [('Expérience utilisateur', 'Positive', ['rapide', 'simple'])]}\n"
     ]
    },
    {
     "name": "stderr",
     "output_type": "stream",
     "text": [
      " 56%|█████▌    | 41/73 [37:13<16:33, 31.04s/it]"
     ]
    },
    {
     "name": "stdout",
     "output_type": "stream",
     "text": [
      "Topic 41 : Très bonne expérience ::: {'topics': [('exérience utilisateur', 'Positive', ['rapide', 'simple'])]}\n"
     ]
    },
    {
     "name": "stderr",
     "output_type": "stream",
     "text": [
      " 58%|█████▊    | 42/73 [38:14<20:39, 39.98s/it]"
     ]
    },
    {
     "name": "stdout",
     "output_type": "stream",
     "text": [
      "Topic 42 : Des gens biens ::: {'topics': [('service client', 'Positive', ['réactif', 'rapidité']), ('application mobile', 'Negative', ['lente', 'peu intuitive'])]}\n"
     ]
    },
    {
     "name": "stderr",
     "output_type": "stream",
     "text": [
      " 59%|█████▉    | 43/73 [39:09<22:21, 44.72s/it]"
     ]
    },
    {
     "name": "stdout",
     "output_type": "stream",
     "text": [
      "Topic 43 : Comme les autres banques ::: {'topics': []}\n",
      "Erreur rencontrée à l'index 43: 'Reviewer_Sart'\n"
     ]
    },
    {
     "name": "stderr",
     "output_type": "stream",
     "text": [
      " 60%|██████    | 44/73 [39:54<21:38, 44.79s/it]"
     ]
    },
    {
     "name": "stdout",
     "output_type": "stream",
     "text": [
      "Topic 44 : Très mauvaise expérience ::: {'topics': [(\"Temps d'attente\", 'Negative', ['Mauvaise expérience'])]}\n"
     ]
    },
    {
     "name": "stderr",
     "output_type": "stream",
     "text": [
      " 62%|██████▏   | 45/73 [40:06<16:11, 34.70s/it]"
     ]
    },
    {
     "name": "stdout",
     "output_type": "stream",
     "text": [
      "Topic 45 : Très mauvaise expérience ::: {'topics': [('Service client', 'Negative', ['Mauvaise expérience'])]}\n",
      "Attempt 1 failed with error: For SINGLE_SOURCE, reviews should be a single string.\n",
      "Attempt 2 failed with error: For SINGLE_SOURCE, reviews should be a single string.\n",
      "Attempt 3 failed with error: For SINGLE_SOURCE, reviews should be a single string.\n",
      "Attempt 4 failed with error: For SINGLE_SOURCE, reviews should be a single string.\n",
      "Attempt 5 failed with error: For SINGLE_SOURCE, reviews should be a single string.\n"
     ]
    },
    {
     "name": "stderr",
     "output_type": "stream",
     "text": [
      " 63%|██████▎   | 46/73 [40:16<12:16, 27.29s/it]"
     ]
    },
    {
     "name": "stdout",
     "output_type": "stream",
     "text": [
      "Topic 46 : ('Mauvaise expérience',) ::: Failed to extract topics after 5 attempts\n",
      "Erreur rencontrée à l'index 46: string indices must be integers, not 'str'\n"
     ]
    },
    {
     "name": "stderr",
     "output_type": "stream",
     "text": [
      " 64%|██████▍   | 47/73 [41:09<15:16, 35.25s/it]"
     ]
    },
    {
     "name": "stdout",
     "output_type": "stream",
     "text": [
      "Topic 47 : Bonne expérience ::: {'topics': [('Service clientèle', 'Positive', ['réactif', 'rapidement réglé']), ('Satisfaction client', 'Positive', ['très satisfait'])]}\n"
     ]
    },
    {
     "name": "stderr",
     "output_type": "stream",
     "text": [
      " 66%|██████▌   | 48/73 [41:59<16:26, 39.46s/it]"
     ]
    },
    {
     "name": "stdout",
     "output_type": "stream",
     "text": [
      "Topic 48 : Très mauvaise expérience ::: {'topics': [('Expérience utilisateur', 'Negative', ['Mauvaise'])]}\n"
     ]
    },
    {
     "name": "stderr",
     "output_type": "stream",
     "text": [
      " 67%|██████▋   | 49/73 [43:05<18:59, 47.46s/it]"
     ]
    },
    {
     "name": "stdout",
     "output_type": "stream",
     "text": [
      "Topic 49 : C'est une agence très magnifique Et très réactif chapeau pour l équipe  bonne continuation ::: {'topics': [('Localisation et accessibilité', 'Positive', ['magnifique', 'réactif'])]}\n"
     ]
    },
    {
     "name": "stderr",
     "output_type": "stream",
     "text": [
      " 68%|██████▊   | 50/73 [44:09<20:03, 52.33s/it]"
     ]
    },
    {
     "name": "stdout",
     "output_type": "stream",
     "text": [
      "Topic 50 : Si vous n'êtes pas résident au Maroc c'est très galère pour retirer de l'argent de son propre compte bancaire... ::: {'topics': [('Localisation et accessibilité', 'Negative', ['difficile', 'problème'])]}\n"
     ]
    },
    {
     "name": "stderr",
     "output_type": "stream",
     "text": [
      " 70%|██████▉   | 51/73 [44:55<18:30, 50.47s/it]"
     ]
    },
    {
     "name": "stdout",
     "output_type": "stream",
     "text": [
      "Topic 51 : Que Dieu bénisse ::: {'topics': []}\n",
      "Erreur rencontrée à l'index 51: 'Reviewer_Sart'\n"
     ]
    },
    {
     "name": "stderr",
     "output_type": "stream",
     "text": [
      " 71%|███████   | 52/73 [46:05<19:44, 56.41s/it]"
     ]
    },
    {
     "name": "stdout",
     "output_type": "stream",
     "text": [
      "Topic 52 : Service haut de gamme ::: {'topics': [('Service clientèle', 'Negative', ['longue attente', 'impatience']), ('Gestion des comptes', 'Positive', ['facile à utiliser', 'intuitive'])]}\n"
     ]
    },
    {
     "name": "stderr",
     "output_type": "stream",
     "text": [
      " 73%|███████▎  | 53/73 [47:05<19:08, 57.44s/it]"
     ]
    },
    {
     "name": "stdout",
     "output_type": "stream",
     "text": [
      "Topic 53 : Banque Dima Resayx huit ::: {'topics': [('Service clientèle', 'Positive', ['réactif', 'rapide']), ('Gestion des comptes', 'Positive', ['simple'])]}\n",
      "Attempt 1 failed with error: Failed to parse response: unterminated string literal (detected at line 7) (<string>, line 7)\n"
     ]
    },
    {
     "name": "stderr",
     "output_type": "stream",
     "text": [
      " 74%|███████▍  | 54/73 [48:43<22:06, 69.83s/it]"
     ]
    },
    {
     "name": "stdout",
     "output_type": "stream",
     "text": [
      "Topic 54 : Parce que oui\n",
      "Merci ::: {'topics': [('Service client', 'Negative', ['Pas de réponse', 'Rien à faire'])]}\n"
     ]
    },
    {
     "name": "stderr",
     "output_type": "stream",
     "text": [
      " 75%|███████▌  | 55/73 [49:37<19:29, 64.97s/it]"
     ]
    },
    {
     "name": "stdout",
     "output_type": "stream",
     "text": [
      "Topic 55 : Bonne expérience ::: {'topics': [('Sécurité des transactions en ligne', 'Positive', ['Facile', 'Rapide']), ('Authentification à deux facteurs', 'Positive', ['Pratique', 'Fiable'])]}\n"
     ]
    },
    {
     "name": "stderr",
     "output_type": "stream",
     "text": [
      " 77%|███████▋  | 56/73 [50:32<17:31, 61.83s/it]"
     ]
    },
    {
     "name": "stdout",
     "output_type": "stream",
     "text": [
      "Topic 56 : Imcompetence\n",
      "Aucun engagement\n",
      "Je sais pas si y a quelqu’un qui controle ces gens la ou pas . … ::: {'topics': [('Incompetence', 'Negative', ['imprévisible', 'désorganisé'])]}\n"
     ]
    },
    {
     "name": "stderr",
     "output_type": "stream",
     "text": [
      " 78%|███████▊  | 57/73 [51:33<16:24, 61.55s/it]"
     ]
    },
    {
     "name": "stdout",
     "output_type": "stream",
     "text": [
      "Topic 57 : Aïe incompétence c’est le seul mot qui me vienne ::: {'topics': [('incompétence du personnel', 'Negative', ['incompétent'])]}\n"
     ]
    },
    {
     "name": "stderr",
     "output_type": "stream",
     "text": [
      " 79%|███████▉  | 58/73 [52:22<14:30, 58.06s/it]"
     ]
    },
    {
     "name": "stdout",
     "output_type": "stream",
     "text": [
      "Topic 58 : Bonne expérience ::: {'topics': [('Service client', 'Positive', ['Rapide', 'Satisfait']), ('Expérience utilisateur', 'Positive', ['Facile', 'Simple'])]}\n"
     ]
    },
    {
     "name": "stderr",
     "output_type": "stream",
     "text": [
      " 81%|████████  | 59/73 [53:11<12:52, 55.18s/it]"
     ]
    },
    {
     "name": "stdout",
     "output_type": "stream",
     "text": [
      "Topic 59 : Une équipe très serviable et professionnelle. ::: {'topics': [('personnel', 'Positive', ['serviable', 'professionnelle'])]}\n"
     ]
    },
    {
     "name": "stderr",
     "output_type": "stream",
     "text": [
      " 82%|████████▏ | 60/73 [54:07<12:00, 55.45s/it]"
     ]
    },
    {
     "name": "stdout",
     "output_type": "stream",
     "text": [
      "Topic 60 : Merci pour le changement de direction j'aime bien ::: {'topics': [('service client', 'Neutral', ['bien']), ('expérience utilisateur', 'Positive', ['simple'])]}\n"
     ]
    },
    {
     "name": "stderr",
     "output_type": "stream",
     "text": [
      " 84%|████████▎ | 61/73 [55:12<11:41, 58.42s/it]"
     ]
    },
    {
     "name": "stdout",
     "output_type": "stream",
     "text": [
      "Topic 61 : Bonne agence ... une équipe professionnels..... ::: {'topics': [(\"professionnalisme de l'équipe\", 'Positive', ['bien formés', 'sympathiques']), ('ouverture de compte', 'Positive', ['rapide', 'simple'])]}\n"
     ]
    },
    {
     "name": "stderr",
     "output_type": "stream",
     "text": [
      " 85%|████████▍ | 62/73 [56:04<10:21, 56.46s/it]"
     ]
    },
    {
     "name": "stdout",
     "output_type": "stream",
     "text": [
      "Topic 62 : toujours je téléphone pas répondre . ::: {'topics': [('Service client', 'Negative', ['pas répondre'])]}\n"
     ]
    },
    {
     "name": "stderr",
     "output_type": "stream",
     "text": [
      " 86%|████████▋ | 63/73 [56:48<08:45, 52.58s/it]"
     ]
    },
    {
     "name": "stdout",
     "output_type": "stream",
     "text": [
      "Topic 63 : Très mauvaise expérience ::: {'topics': [(\"Temps d'attente\", 'Negative', ['long'])]}\n"
     ]
    },
    {
     "name": "stderr",
     "output_type": "stream",
     "text": [
      " 88%|████████▊ | 64/73 [57:32<07:31, 50.15s/it]"
     ]
    },
    {
     "name": "stdout",
     "output_type": "stream",
     "text": [
      "Topic 64 : Très bonne expérience ::: {'topics': [('ouverture de compte', 'Positive', ['rapide', 'simple'])]}\n"
     ]
    },
    {
     "name": "stderr",
     "output_type": "stream",
     "text": [
      " 89%|████████▉ | 65/73 [58:34<07:10, 53.79s/it]"
     ]
    },
    {
     "name": "stdout",
     "output_type": "stream",
     "text": [
      "Topic 81 : C'est la pire agence, toujours pas de la ligne de connexion, les menteurs .... ::: {'topics': [('Gestion des comptes', 'Negative', ['pas de ligne de connexion', 'menteurs'])]}\n"
     ]
    },
    {
     "name": "stderr",
     "output_type": "stream",
     "text": [
      " 90%|█████████ | 66/73 [59:23<06:05, 52.18s/it]"
     ]
    },
    {
     "name": "stdout",
     "output_type": "stream",
     "text": [
      "Topic 82 : Bien ::: {'topics': [{'topic': \"Facilité d'ouverture de compte\", 'sentiment': 'Positive', 'sub_topics': ['rapide', 'simple']}]}\n",
      "Erreur rencontrée à l'index 82: 0\n"
     ]
    },
    {
     "name": "stderr",
     "output_type": "stream",
     "text": [
      " 92%|█████████▏| 67/73 [1:00:05<04:55, 49.29s/it]"
     ]
    },
    {
     "name": "stdout",
     "output_type": "stream",
     "text": [
      "Topic 83 : Très bonne expérience ::: {'topics': [('Satisfaction client', 'Positive', ['Bonne expérience'])]}\n",
      "Attempt 1 failed with error: For SINGLE_SOURCE, reviews should be a single string.\n",
      "Attempt 2 failed with error: For SINGLE_SOURCE, reviews should be a single string.\n",
      "Attempt 3 failed with error: For SINGLE_SOURCE, reviews should be a single string.\n",
      "Attempt 4 failed with error: For SINGLE_SOURCE, reviews should be a single string.\n",
      "Attempt 5 failed with error: For SINGLE_SOURCE, reviews should be a single string.\n"
     ]
    },
    {
     "name": "stderr",
     "output_type": "stream",
     "text": [
      " 93%|█████████▎| 68/73 [1:00:15<03:07, 37.51s/it]"
     ]
    },
    {
     "name": "stdout",
     "output_type": "stream",
     "text": [
      "Topic 84 : ('Mauvaise expérience',) ::: Failed to extract topics after 5 attempts\n",
      "Erreur rencontrée à l'index 84: string indices must be integers, not 'str'\n"
     ]
    },
    {
     "name": "stderr",
     "output_type": "stream",
     "text": [
      " 95%|█████████▍| 69/73 [1:00:26<01:57, 29.33s/it]"
     ]
    },
    {
     "name": "stdout",
     "output_type": "stream",
     "text": [
      "Topic 85 : Très bonne expérience ::: {'topics': [['Satisfaction client', 'Positive', ['Très bonne expérience']]]}\n"
     ]
    },
    {
     "name": "stderr",
     "output_type": "stream",
     "text": [
      " 96%|█████████▌| 70/73 [1:01:41<02:09, 43.10s/it]"
     ]
    },
    {
     "name": "stdout",
     "output_type": "stream",
     "text": [
      "Topic 86 : Chaisya rien ::: {'topics': [('Sécurité', 'Negative', ['manque de protection', 'risque de phishing']), ('Localisation et accessibilité', 'Neutral', [\"pas d'info sur la localisation\", 'difficultés pour trouver une succursale'])]}\n"
     ]
    },
    {
     "name": "stderr",
     "output_type": "stream",
     "text": [
      " 97%|█████████▋| 71/73 [1:02:33<01:31, 45.71s/it]"
     ]
    },
    {
     "name": "stdout",
     "output_type": "stream",
     "text": [
      "Topic 87 : Prestation : 0\n",
      "Solutions : 0\n",
      "Attention : 0 ::: {'topics': [('Sécurité', 'Negative', ['Alerte de sécurité non fonctionnelle'])]}\n"
     ]
    },
    {
     "name": "stderr",
     "output_type": "stream",
     "text": [
      " 99%|█████████▊| 72/73 [1:03:39<00:51, 51.81s/it]"
     ]
    },
    {
     "name": "stdout",
     "output_type": "stream",
     "text": [
      "Topic 88 : Très bien situé, personnel excellent. Il y a parfois des problèmes sur Internet ::: {'topics': [('Localisation et accessibilité', 'Positive', ['Bonne emplacement', 'Personnel excellent']), ('Sécurité', 'Negative', ['Problèmes sur Internet'])]}\n"
     ]
    },
    {
     "name": "stderr",
     "output_type": "stream",
     "text": [
      "100%|██████████| 73/73 [1:04:22<00:00, 52.91s/it]"
     ]
    },
    {
     "name": "stdout",
     "output_type": "stream",
     "text": [
      "Topic 89 : service 0 ::: {'topics': [('Service client', 'Negative', ['pas réactif', 'trop long'])]}\n"
     ]
    },
    {
     "name": "stderr",
     "output_type": "stream",
     "text": [
      "\n"
     ]
    }
   ],
   "source": [
    "\n",
    "# --------------------------------------------------------\n",
    "# 0.3 Preprocessing of concatenate parquets\n",
    "# --------------------------------------------------------\n",
    "df = preprocess_dataframe(concatenate_parquets)"
   ]
  },
  {
   "cell_type": "code",
   "execution_count": 5,
   "metadata": {},
   "outputs": [
    {
     "data": {
      "text/plain": [
       "14"
      ]
     },
     "execution_count": 5,
     "metadata": {},
     "output_type": "execute_result"
    }
   ],
   "source": [
    "len(df.columns)"
   ]
  },
  {
   "cell_type": "code",
   "execution_count": 6,
   "metadata": {},
   "outputs": [
    {
     "data": {
      "text/html": [
       "<div>\n",
       "<style scoped>\n",
       "    .dataframe tbody tr th:only-of-type {\n",
       "        vertical-align: middle;\n",
       "    }\n",
       "\n",
       "    .dataframe tbody tr th {\n",
       "        vertical-align: top;\n",
       "    }\n",
       "\n",
       "    .dataframe thead th {\n",
       "        text-align: right;\n",
       "    }\n",
       "</style>\n",
       "<table border=\"1\" class=\"dataframe\">\n",
       "  <thead>\n",
       "    <tr style=\"text-align: right;\">\n",
       "      <th></th>\n",
       "      <th>Reviewer_Text</th>\n",
       "      <th>Reviewer_Star</th>\n",
       "    </tr>\n",
       "  </thead>\n",
       "  <tbody>\n",
       "    <tr>\n",
       "      <th>0</th>\n",
       "      <td>Pays Ahsan</td>\n",
       "      <td>5</td>\n",
       "    </tr>\n",
       "    <tr>\n",
       "      <th>1</th>\n",
       "      <td>Berger</td>\n",
       "      <td>4</td>\n",
       "    </tr>\n",
       "    <tr>\n",
       "      <th>2</th>\n",
       "      <td>Expérience neutre</td>\n",
       "      <td>3</td>\n",
       "    </tr>\n",
       "    <tr>\n",
       "      <th>3</th>\n",
       "      <td>Très mauvaise expérience</td>\n",
       "      <td>1</td>\n",
       "    </tr>\n",
       "    <tr>\n",
       "      <th>4</th>\n",
       "      <td>Expérience neutre</td>\n",
       "      <td>3</td>\n",
       "    </tr>\n",
       "    <tr>\n",
       "      <th>5</th>\n",
       "      <td>Très bonne expérience</td>\n",
       "      <td>5</td>\n",
       "    </tr>\n",
       "    <tr>\n",
       "      <th>6</th>\n",
       "      <td>Expérience neutre</td>\n",
       "      <td>3</td>\n",
       "    </tr>\n",
       "    <tr>\n",
       "      <th>7</th>\n",
       "      <td>J'ai eu l'honneur d'être accueilli chaleureuse...</td>\n",
       "      <td>5</td>\n",
       "    </tr>\n",
       "    <tr>\n",
       "      <th>8</th>\n",
       "      <td>Siège de la banque populaire  Nador Al hoceima.</td>\n",
       "      <td>5</td>\n",
       "    </tr>\n",
       "    <tr>\n",
       "      <th>9</th>\n",
       "      <td>Bon accueil et professionnel</td>\n",
       "      <td>5</td>\n",
       "    </tr>\n",
       "    <tr>\n",
       "      <th>10</th>\n",
       "      <td>Accueil chaleureux bon service</td>\n",
       "      <td>5</td>\n",
       "    </tr>\n",
       "    <tr>\n",
       "      <th>11</th>\n",
       "      <td>Certains employés de cette agence sont arrogan...</td>\n",
       "      <td>1</td>\n",
       "    </tr>\n",
       "    <tr>\n",
       "      <th>12</th>\n",
       "      <td>Je ne suis jamais entré dans une banque aussi ...</td>\n",
       "      <td>1</td>\n",
       "    </tr>\n",
       "    <tr>\n",
       "      <th>13</th>\n",
       "      <td>Cool. 👍🔐 …</td>\n",
       "      <td>4</td>\n",
       "    </tr>\n",
       "    <tr>\n",
       "      <th>14</th>\n",
       "      <td>Meilleure banque</td>\n",
       "      <td>5</td>\n",
       "    </tr>\n",
       "    <tr>\n",
       "      <th>15</th>\n",
       "      <td>être</td>\n",
       "      <td>4</td>\n",
       "    </tr>\n",
       "    <tr>\n",
       "      <th>16</th>\n",
       "      <td>Bonne expérience</td>\n",
       "      <td>4</td>\n",
       "    </tr>\n",
       "    <tr>\n",
       "      <th>17</th>\n",
       "      <td>Très bonne expérience</td>\n",
       "      <td>5</td>\n",
       "    </tr>\n",
       "    <tr>\n",
       "      <th>18</th>\n",
       "      <td>Très bonne expérience</td>\n",
       "      <td>5</td>\n",
       "    </tr>\n",
       "    <tr>\n",
       "      <th>19</th>\n",
       "      <td>Expérience neutre</td>\n",
       "      <td>3</td>\n",
       "    </tr>\n",
       "    <tr>\n",
       "      <th>20</th>\n",
       "      <td>Très bonne expérience</td>\n",
       "      <td>5</td>\n",
       "    </tr>\n",
       "    <tr>\n",
       "      <th>21</th>\n",
       "      <td>Très mauvaise expérience</td>\n",
       "      <td>1</td>\n",
       "    </tr>\n",
       "    <tr>\n",
       "      <th>22</th>\n",
       "      <td>Expérience neutre</td>\n",
       "      <td>3</td>\n",
       "    </tr>\n",
       "    <tr>\n",
       "      <th>24</th>\n",
       "      <td>Banque et service normal.</td>\n",
       "      <td>3</td>\n",
       "    </tr>\n",
       "    <tr>\n",
       "      <th>25</th>\n",
       "      <td>Banque populaire du nador</td>\n",
       "      <td>5</td>\n",
       "    </tr>\n",
       "    <tr>\n",
       "      <th>26</th>\n",
       "      <td>Bien</td>\n",
       "      <td>3</td>\n",
       "    </tr>\n",
       "    <tr>\n",
       "      <th>27</th>\n",
       "      <td>Non</td>\n",
       "      <td>1</td>\n",
       "    </tr>\n",
       "    <tr>\n",
       "      <th>28</th>\n",
       "      <td>Très bonne expérience</td>\n",
       "      <td>5</td>\n",
       "    </tr>\n",
       "    <tr>\n",
       "      <th>29</th>\n",
       "      <td>Expérience neutre</td>\n",
       "      <td>3</td>\n",
       "    </tr>\n",
       "    <tr>\n",
       "      <th>30</th>\n",
       "      <td>Expérience neutre</td>\n",
       "      <td>3</td>\n",
       "    </tr>\n",
       "    <tr>\n",
       "      <th>31</th>\n",
       "      <td>Bonne équipe</td>\n",
       "      <td>5</td>\n",
       "    </tr>\n",
       "    <tr>\n",
       "      <th>32</th>\n",
       "      <td>C'est une banque de quartier</td>\n",
       "      <td>4</td>\n",
       "    </tr>\n",
       "    <tr>\n",
       "      <th>33</th>\n",
       "      <td>Très mauvaise expérience</td>\n",
       "      <td>1</td>\n",
       "    </tr>\n",
       "    <tr>\n",
       "      <th>34</th>\n",
       "      <td>Très bonne expérience</td>\n",
       "      <td>5</td>\n",
       "    </tr>\n",
       "    <tr>\n",
       "      <th>35</th>\n",
       "      <td>Expérience neutre</td>\n",
       "      <td>3</td>\n",
       "    </tr>\n",
       "    <tr>\n",
       "      <th>36</th>\n",
       "      <td>Bonne equipe.</td>\n",
       "      <td>5</td>\n",
       "    </tr>\n",
       "    <tr>\n",
       "      <th>37</th>\n",
       "      <td>Bonne expérience</td>\n",
       "      <td>4</td>\n",
       "    </tr>\n",
       "    <tr>\n",
       "      <th>38</th>\n",
       "      <td>Très mauvaise expérience</td>\n",
       "      <td>1</td>\n",
       "    </tr>\n",
       "    <tr>\n",
       "      <th>39</th>\n",
       "      <td>Très mauvaise expérience</td>\n",
       "      <td>1</td>\n",
       "    </tr>\n",
       "    <tr>\n",
       "      <th>40</th>\n",
       "      <td>Très bonne expérience</td>\n",
       "      <td>5</td>\n",
       "    </tr>\n",
       "    <tr>\n",
       "      <th>41</th>\n",
       "      <td>Très bonne expérience</td>\n",
       "      <td>5</td>\n",
       "    </tr>\n",
       "    <tr>\n",
       "      <th>42</th>\n",
       "      <td>Des gens biens</td>\n",
       "      <td>5</td>\n",
       "    </tr>\n",
       "    <tr>\n",
       "      <th>43</th>\n",
       "      <td>Comme les autres banques</td>\n",
       "      <td>4</td>\n",
       "    </tr>\n",
       "    <tr>\n",
       "      <th>44</th>\n",
       "      <td>Très mauvaise expérience</td>\n",
       "      <td>1</td>\n",
       "    </tr>\n",
       "    <tr>\n",
       "      <th>45</th>\n",
       "      <td>Très mauvaise expérience</td>\n",
       "      <td>1</td>\n",
       "    </tr>\n",
       "    <tr>\n",
       "      <th>46</th>\n",
       "      <td>(Mauvaise expérience,)</td>\n",
       "      <td>2</td>\n",
       "    </tr>\n",
       "    <tr>\n",
       "      <th>47</th>\n",
       "      <td>Bonne expérience</td>\n",
       "      <td>4</td>\n",
       "    </tr>\n",
       "    <tr>\n",
       "      <th>48</th>\n",
       "      <td>Très mauvaise expérience</td>\n",
       "      <td>1</td>\n",
       "    </tr>\n",
       "    <tr>\n",
       "      <th>49</th>\n",
       "      <td>C'est une agence très magnifique Et très réact...</td>\n",
       "      <td>5</td>\n",
       "    </tr>\n",
       "    <tr>\n",
       "      <th>50</th>\n",
       "      <td>Si vous n'êtes pas résident au Maroc c'est trè...</td>\n",
       "      <td>1</td>\n",
       "    </tr>\n",
       "    <tr>\n",
       "      <th>51</th>\n",
       "      <td>Que Dieu bénisse</td>\n",
       "      <td>5</td>\n",
       "    </tr>\n",
       "    <tr>\n",
       "      <th>52</th>\n",
       "      <td>Service haut de gamme</td>\n",
       "      <td>5</td>\n",
       "    </tr>\n",
       "    <tr>\n",
       "      <th>53</th>\n",
       "      <td>Banque Dima Resayx huit</td>\n",
       "      <td>5</td>\n",
       "    </tr>\n",
       "    <tr>\n",
       "      <th>54</th>\n",
       "      <td>Parce que oui\\nMerci</td>\n",
       "      <td>5</td>\n",
       "    </tr>\n",
       "    <tr>\n",
       "      <th>55</th>\n",
       "      <td>Bonne expérience</td>\n",
       "      <td>4</td>\n",
       "    </tr>\n",
       "    <tr>\n",
       "      <th>56</th>\n",
       "      <td>Imcompetence\\nAucun engagement\\nJe sais pas si...</td>\n",
       "      <td>1</td>\n",
       "    </tr>\n",
       "    <tr>\n",
       "      <th>57</th>\n",
       "      <td>Aïe incompétence c’est le seul mot qui me vienne</td>\n",
       "      <td>1</td>\n",
       "    </tr>\n",
       "    <tr>\n",
       "      <th>58</th>\n",
       "      <td>Bonne expérience</td>\n",
       "      <td>4</td>\n",
       "    </tr>\n",
       "    <tr>\n",
       "      <th>59</th>\n",
       "      <td>Une équipe très serviable et professionnelle.</td>\n",
       "      <td>5</td>\n",
       "    </tr>\n",
       "    <tr>\n",
       "      <th>60</th>\n",
       "      <td>Merci pour le changement de direction j'aime bien</td>\n",
       "      <td>5</td>\n",
       "    </tr>\n",
       "    <tr>\n",
       "      <th>61</th>\n",
       "      <td>Bonne agence ... une équipe professionnels.....</td>\n",
       "      <td>5</td>\n",
       "    </tr>\n",
       "    <tr>\n",
       "      <th>62</th>\n",
       "      <td>toujours je téléphone pas répondre .</td>\n",
       "      <td>1</td>\n",
       "    </tr>\n",
       "    <tr>\n",
       "      <th>63</th>\n",
       "      <td>Très mauvaise expérience</td>\n",
       "      <td>1</td>\n",
       "    </tr>\n",
       "    <tr>\n",
       "      <th>64</th>\n",
       "      <td>Très bonne expérience</td>\n",
       "      <td>5</td>\n",
       "    </tr>\n",
       "    <tr>\n",
       "      <th>81</th>\n",
       "      <td>C'est la pire agence, toujours pas de la ligne...</td>\n",
       "      <td>1</td>\n",
       "    </tr>\n",
       "    <tr>\n",
       "      <th>82</th>\n",
       "      <td>Bien</td>\n",
       "      <td>4</td>\n",
       "    </tr>\n",
       "    <tr>\n",
       "      <th>83</th>\n",
       "      <td>Très bonne expérience</td>\n",
       "      <td>5</td>\n",
       "    </tr>\n",
       "    <tr>\n",
       "      <th>84</th>\n",
       "      <td>(Mauvaise expérience,)</td>\n",
       "      <td>2</td>\n",
       "    </tr>\n",
       "    <tr>\n",
       "      <th>85</th>\n",
       "      <td>Très bonne expérience</td>\n",
       "      <td>5</td>\n",
       "    </tr>\n",
       "    <tr>\n",
       "      <th>86</th>\n",
       "      <td>Chaisya rien</td>\n",
       "      <td>5</td>\n",
       "    </tr>\n",
       "    <tr>\n",
       "      <th>87</th>\n",
       "      <td>Prestation : 0\\nSolutions : 0\\nAttention : 0</td>\n",
       "      <td>1</td>\n",
       "    </tr>\n",
       "    <tr>\n",
       "      <th>88</th>\n",
       "      <td>Très bien situé, personnel excellent. Il y a p...</td>\n",
       "      <td>4</td>\n",
       "    </tr>\n",
       "    <tr>\n",
       "      <th>89</th>\n",
       "      <td>service 0</td>\n",
       "      <td>1</td>\n",
       "    </tr>\n",
       "  </tbody>\n",
       "</table>\n",
       "</div>"
      ],
      "text/plain": [
       "                                        Reviewer_Text  Reviewer_Star\n",
       "0                                          Pays Ahsan              5\n",
       "1                                              Berger              4\n",
       "2                                   Expérience neutre              3\n",
       "3                            Très mauvaise expérience              1\n",
       "4                                   Expérience neutre              3\n",
       "5                               Très bonne expérience              5\n",
       "6                                   Expérience neutre              3\n",
       "7   J'ai eu l'honneur d'être accueilli chaleureuse...              5\n",
       "8     Siège de la banque populaire  Nador Al hoceima.              5\n",
       "9                        Bon accueil et professionnel              5\n",
       "10                     Accueil chaleureux bon service              5\n",
       "11  Certains employés de cette agence sont arrogan...              1\n",
       "12  Je ne suis jamais entré dans une banque aussi ...              1\n",
       "13                                         Cool. 👍🔐 …              4\n",
       "14                                   Meilleure banque              5\n",
       "15                                               être              4\n",
       "16                                   Bonne expérience              4\n",
       "17                              Très bonne expérience              5\n",
       "18                              Très bonne expérience              5\n",
       "19                                  Expérience neutre              3\n",
       "20                              Très bonne expérience              5\n",
       "21                           Très mauvaise expérience              1\n",
       "22                                  Expérience neutre              3\n",
       "24                          Banque et service normal.              3\n",
       "25                          Banque populaire du nador              5\n",
       "26                                               Bien              3\n",
       "27                                                Non              1\n",
       "28                              Très bonne expérience              5\n",
       "29                                  Expérience neutre              3\n",
       "30                                  Expérience neutre              3\n",
       "31                                       Bonne équipe              5\n",
       "32                       C'est une banque de quartier              4\n",
       "33                           Très mauvaise expérience              1\n",
       "34                              Très bonne expérience              5\n",
       "35                                  Expérience neutre              3\n",
       "36                                      Bonne equipe.              5\n",
       "37                                   Bonne expérience              4\n",
       "38                           Très mauvaise expérience              1\n",
       "39                           Très mauvaise expérience              1\n",
       "40                              Très bonne expérience              5\n",
       "41                              Très bonne expérience              5\n",
       "42                                     Des gens biens              5\n",
       "43                           Comme les autres banques              4\n",
       "44                           Très mauvaise expérience              1\n",
       "45                           Très mauvaise expérience              1\n",
       "46                             (Mauvaise expérience,)              2\n",
       "47                                   Bonne expérience              4\n",
       "48                           Très mauvaise expérience              1\n",
       "49  C'est une agence très magnifique Et très réact...              5\n",
       "50  Si vous n'êtes pas résident au Maroc c'est trè...              1\n",
       "51                                   Que Dieu bénisse              5\n",
       "52                              Service haut de gamme              5\n",
       "53                            Banque Dima Resayx huit              5\n",
       "54                               Parce que oui\\nMerci              5\n",
       "55                                   Bonne expérience              4\n",
       "56  Imcompetence\\nAucun engagement\\nJe sais pas si...              1\n",
       "57   Aïe incompétence c’est le seul mot qui me vienne              1\n",
       "58                                   Bonne expérience              4\n",
       "59      Une équipe très serviable et professionnelle.              5\n",
       "60  Merci pour le changement de direction j'aime bien              5\n",
       "61    Bonne agence ... une équipe professionnels.....              5\n",
       "62               toujours je téléphone pas répondre .              1\n",
       "63                           Très mauvaise expérience              1\n",
       "64                              Très bonne expérience              5\n",
       "81  C'est la pire agence, toujours pas de la ligne...              1\n",
       "82                                               Bien              4\n",
       "83                              Très bonne expérience              5\n",
       "84                             (Mauvaise expérience,)              2\n",
       "85                              Très bonne expérience              5\n",
       "86                                       Chaisya rien              5\n",
       "87       Prestation : 0\\nSolutions : 0\\nAttention : 0              1\n",
       "88  Très bien situé, personnel excellent. Il y a p...              4\n",
       "89                                          service 0              1"
      ]
     },
     "execution_count": 6,
     "metadata": {},
     "output_type": "execute_result"
    }
   ],
   "source": [
    "# all df\n",
    "pd.set_option('display.max_rows', None)\n",
    "pd.set_option('display.max_columns', None)\n",
    "df[['Reviewer_Text', 'Reviewer_Star']]\n"
   ]
  },
  {
   "cell_type": "code",
   "execution_count": 8,
   "metadata": {},
   "outputs": [
    {
     "data": {
      "text/plain": [
       "Country                      0\n",
       "Town                         0\n",
       "Bank_Name                    0\n",
       "Bank_Phone_number            0\n",
       "Bank_Address                 0\n",
       "Bank_Website                 0\n",
       "Reviewer_Name                0\n",
       "Reviewer_Star                0\n",
       "Reviewer_Text                0\n",
       "Reviewer_Publish_Date        0\n",
       "Reviewer_Like_Reaction       0\n",
       "Reviewer_Profile_Link        0\n",
       "Reviewer_Owner_Reply         1\n",
       "Reviewer_Owner_Reply_Date    0\n",
       "dtype: int64"
      ]
     },
     "execution_count": 8,
     "metadata": {},
     "output_type": "execute_result"
    }
   ],
   "source": [
    "df.isna().sum()"
   ]
  },
  {
   "cell_type": "code",
   "execution_count": 9,
   "metadata": {},
   "outputs": [
    {
     "data": {
      "text/html": [
       "<div>\n",
       "<style scoped>\n",
       "    .dataframe tbody tr th:only-of-type {\n",
       "        vertical-align: middle;\n",
       "    }\n",
       "\n",
       "    .dataframe tbody tr th {\n",
       "        vertical-align: top;\n",
       "    }\n",
       "\n",
       "    .dataframe thead th {\n",
       "        text-align: right;\n",
       "    }\n",
       "</style>\n",
       "<table border=\"1\" class=\"dataframe\">\n",
       "  <thead>\n",
       "    <tr style=\"text-align: right;\">\n",
       "      <th></th>\n",
       "      <th>Country</th>\n",
       "      <th>Town</th>\n",
       "      <th>Bank_Name</th>\n",
       "      <th>Bank_Phone_number</th>\n",
       "      <th>Bank_Address</th>\n",
       "      <th>Bank_Website</th>\n",
       "      <th>Reviewer_Name</th>\n",
       "      <th>Reviewer_Star</th>\n",
       "      <th>Reviewer_Text</th>\n",
       "      <th>Reviewer_Publish_Date</th>\n",
       "      <th>Reviewer_Like_Reaction</th>\n",
       "      <th>Reviewer_Profile_Link</th>\n",
       "      <th>Reviewer_Owner_Reply</th>\n",
       "      <th>Reviewer_Owner_Reply_Date</th>\n",
       "    </tr>\n",
       "  </thead>\n",
       "  <tbody>\n",
       "    <tr>\n",
       "      <th>0</th>\n",
       "      <td>Morocco</td>\n",
       "      <td>Nador</td>\n",
       "      <td>Banque Populaire</td>\n",
       "      <td>Not available</td>\n",
       "      <td>53Hg+Fvc, Bd Mohamed Ameziane Errifi, Nador</td>\n",
       "      <td>not available</td>\n",
       "      <td>Habib Chouaa</td>\n",
       "      <td>5</td>\n",
       "      <td>Pays Ahsan</td>\n",
       "      <td>2016-08-08 09:34:58.486197</td>\n",
       "      <td>0</td>\n",
       "      <td>https://www.google.com/maps/contrib/1006948281...</td>\n",
       "      <td>Nothing</td>\n",
       "      <td>1970-01-01</td>\n",
       "    </tr>\n",
       "    <tr>\n",
       "      <th>1</th>\n",
       "      <td>Morocco</td>\n",
       "      <td>Nador</td>\n",
       "      <td>Banque Populaire</td>\n",
       "      <td>Not available</td>\n",
       "      <td>53Hg+Fvc, Bd Mohamed Ameziane Errifi, Nador</td>\n",
       "      <td>not available</td>\n",
       "      <td>Mohamed Nador</td>\n",
       "      <td>4</td>\n",
       "      <td>Berger</td>\n",
       "      <td>2016-08-08 09:34:58.486214</td>\n",
       "      <td>0</td>\n",
       "      <td>https://www.google.com/maps/contrib/1165746157...</td>\n",
       "      <td>Nothing</td>\n",
       "      <td>1970-01-01</td>\n",
       "    </tr>\n",
       "    <tr>\n",
       "      <th>2</th>\n",
       "      <td>Morocco</td>\n",
       "      <td>Nador</td>\n",
       "      <td>Banque Populaire</td>\n",
       "      <td>Not available</td>\n",
       "      <td>53Hg+Fvc, Bd Mohamed Ameziane Errifi, Nador</td>\n",
       "      <td>not available</td>\n",
       "      <td>Hafaimya</td>\n",
       "      <td>3</td>\n",
       "      <td>Expérience neutre</td>\n",
       "      <td>2021-08-07 09:34:58.486222</td>\n",
       "      <td>0</td>\n",
       "      <td>https://www.google.com/maps/contrib/1027703754...</td>\n",
       "      <td>Nothing</td>\n",
       "      <td>1970-01-01</td>\n",
       "    </tr>\n",
       "    <tr>\n",
       "      <th>3</th>\n",
       "      <td>Morocco</td>\n",
       "      <td>Nador</td>\n",
       "      <td>Banque Populaire</td>\n",
       "      <td>Not available</td>\n",
       "      <td>53Hg+Fvc, Bd Mohamed Ameziane Errifi, Nador</td>\n",
       "      <td>not available</td>\n",
       "      <td>Imad Charkani El-Hassani</td>\n",
       "      <td>1</td>\n",
       "      <td>Très mauvaise expérience</td>\n",
       "      <td>2018-08-08 09:34:58.486229</td>\n",
       "      <td>0</td>\n",
       "      <td>https://www.google.com/maps/contrib/1029760643...</td>\n",
       "      <td>Nothing</td>\n",
       "      <td>1970-01-01</td>\n",
       "    </tr>\n",
       "    <tr>\n",
       "      <th>4</th>\n",
       "      <td>Morocco</td>\n",
       "      <td>Nador</td>\n",
       "      <td>Banque Populaire</td>\n",
       "      <td>Not available</td>\n",
       "      <td>53Hg+Fvc, Bd Mohamed Ameziane Errifi, Nador</td>\n",
       "      <td>not available</td>\n",
       "      <td>Abdelkarim Ajarray</td>\n",
       "      <td>3</td>\n",
       "      <td>Expérience neutre</td>\n",
       "      <td>2017-08-08 09:34:58.486236</td>\n",
       "      <td>0</td>\n",
       "      <td>https://www.google.com/maps/contrib/1158693667...</td>\n",
       "      <td>Nothing</td>\n",
       "      <td>1970-01-01</td>\n",
       "    </tr>\n",
       "  </tbody>\n",
       "</table>\n",
       "</div>"
      ],
      "text/plain": [
       "   Country   Town         Bank_Name Bank_Phone_number  \\\n",
       "0  Morocco  Nador  Banque Populaire     Not available   \n",
       "1  Morocco  Nador  Banque Populaire     Not available   \n",
       "2  Morocco  Nador  Banque Populaire     Not available   \n",
       "3  Morocco  Nador  Banque Populaire     Not available   \n",
       "4  Morocco  Nador  Banque Populaire     Not available   \n",
       "\n",
       "                                  Bank_Address   Bank_Website  \\\n",
       "0  53Hg+Fvc, Bd Mohamed Ameziane Errifi, Nador  not available   \n",
       "1  53Hg+Fvc, Bd Mohamed Ameziane Errifi, Nador  not available   \n",
       "2  53Hg+Fvc, Bd Mohamed Ameziane Errifi, Nador  not available   \n",
       "3  53Hg+Fvc, Bd Mohamed Ameziane Errifi, Nador  not available   \n",
       "4  53Hg+Fvc, Bd Mohamed Ameziane Errifi, Nador  not available   \n",
       "\n",
       "              Reviewer_Name  Reviewer_Star             Reviewer_Text  \\\n",
       "0              Habib Chouaa              5                Pays Ahsan   \n",
       "1             Mohamed Nador              4                    Berger   \n",
       "2                  Hafaimya              3         Expérience neutre   \n",
       "3  Imad Charkani El-Hassani              1  Très mauvaise expérience   \n",
       "4        Abdelkarim Ajarray              3         Expérience neutre   \n",
       "\n",
       "       Reviewer_Publish_Date  Reviewer_Like_Reaction  \\\n",
       "0 2016-08-08 09:34:58.486197                       0   \n",
       "1 2016-08-08 09:34:58.486214                       0   \n",
       "2 2021-08-07 09:34:58.486222                       0   \n",
       "3 2018-08-08 09:34:58.486229                       0   \n",
       "4 2017-08-08 09:34:58.486236                       0   \n",
       "\n",
       "                               Reviewer_Profile_Link Reviewer_Owner_Reply  \\\n",
       "0  https://www.google.com/maps/contrib/1006948281...              Nothing   \n",
       "1  https://www.google.com/maps/contrib/1165746157...              Nothing   \n",
       "2  https://www.google.com/maps/contrib/1027703754...              Nothing   \n",
       "3  https://www.google.com/maps/contrib/1029760643...              Nothing   \n",
       "4  https://www.google.com/maps/contrib/1158693667...              Nothing   \n",
       "\n",
       "  Reviewer_Owner_Reply_Date  \n",
       "0                1970-01-01  \n",
       "1                1970-01-01  \n",
       "2                1970-01-01  \n",
       "3                1970-01-01  \n",
       "4                1970-01-01  "
      ]
     },
     "execution_count": 9,
     "metadata": {},
     "output_type": "execute_result"
    }
   ],
   "source": [
    "df.head()"
   ]
  },
  {
   "cell_type": "code",
   "execution_count": null,
   "metadata": {},
   "outputs": [],
   "source": [
    "\n",
    "\n",
    "for index, row in tqdm(df.iterrows(), total=df.shape[0]):\n",
    "    review = row['Reviewer_Text']\n",
    "    \n",
    "    try:\n",
    "        topics = extractor.extract(review, type='SINGLE_SOURCE')\n",
    "        topics_array = topics['topics']\n",
    "    \n",
    "        if len(topics_array) == 0:\n",
    "            static_topic, static_sentiment, static_sub_topic = generate_static_topics_and_sentiments(row['Reviewer_Sart'])\n",
    "            new_row = row.copy()\n",
    "            new_row['Topic'] = static_topic\n",
    "            new_row['Sentiment'] = static_sentiment\n",
    "            new_row['Sub_Topic'] = static_sub_topic\n",
    "            df_macro = pd.concat([df_macro, pd.DataFrame([new_row])], ignore_index=True)\n",
    "            row_accumulated += 1\n",
    "        else:\n",
    "            for tuple_ in topics_array:\n",
    "                new_row = row.copy()\n",
    "                new_row['Topic'] = tuple_[0]\n",
    "                new_row['Sentiment'] = tuple_[1]\n",
    "                new_row['Sub_Topic'] = tuple_[2]\n",
    "                df_macro = pd.concat([df_macro, pd.DataFrame([new_row])], ignore_index=True)\n",
    "                row_accumulated += 1\n",
    "            \n",
    "        # Sauvegarder à chaque intervalle défini\n",
    "        if row_accumulated >= save_interval:\n",
    "            df_macro.to_csv(output_file, index=False)\n",
    "            row_accumulated = 0\n",
    "    except Exception as e:\n",
    "        print(f\"Erreur rencontrée à l'index {index}: {e}\")\n",
    "        pass"
   ]
  }
 ],
 "metadata": {
  "kernelspec": {
   "display_name": "Python 3",
   "language": "python",
   "name": "python3"
  },
  "language_info": {
   "codemirror_mode": {
    "name": "ipython",
    "version": 3
   },
   "file_extension": ".py",
   "mimetype": "text/x-python",
   "name": "python",
   "nbconvert_exporter": "python",
   "pygments_lexer": "ipython3",
   "version": "3.11.0"
  }
 },
 "nbformat": 4,
 "nbformat_minor": 2
}
