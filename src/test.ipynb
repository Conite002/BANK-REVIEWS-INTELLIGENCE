{
 "cells": [
  {
   "cell_type": "code",
   "execution_count": 1,
   "metadata": {},
   "outputs": [],
   "source": [
    "import sys\n",
    "import os\n",
    "\n",
    "# Chemin absolu du répertoire racine du projet\n",
    "project_root = '/home/conite/Documents/WORKSPACE/PROJECTS/BI-PROJECT/BANK-REVIEWS-INTELLIGENCE/'\n",
    "\n",
    "# Ajouter le répertoire src au chemin de recherche des modules\n",
    "src_dir = os.path.join(project_root, 'src')\n",
    "sys.path.append(src_dir)\n",
    "\n"
   ]
  },
  {
   "cell_type": "code",
   "execution_count": 2,
   "metadata": {},
   "outputs": [
    {
     "name": "stdout",
     "output_type": "stream",
     "text": [
      "Traceback (most recent call last):\n",
      "  File \"/home/conite/Documents/WORKSPACE/PROJECTS/BI-PROJECT/BANK-REVIEWS-INTELLIGENCE/src/main.py\", line 31, in <module>\n",
      "    from sqlalchemy.orm import sessionmaker, relationship, declarative_base\n",
      "ImportError: cannot import name 'declarative_base' from 'sqlalchemy.orm' (/home/conite/.pyenv/versions/3.11.0/lib/python3.11/site-packages/sqlalchemy/orm/__init__.py)\n"
     ]
    }
   ],
   "source": [
    "!python main.py\n"
   ]
  },
  {
   "cell_type": "code",
   "execution_count": 1,
   "metadata": {},
   "outputs": [
    {
     "name": "stdout",
     "output_type": "stream",
     "text": [
      "Requirement already satisfied: termcolor in /home/conite/.pyenv/versions/3.11.0/lib/python3.11/site-packages (2.4.0)\n"
     ]
    }
   ],
   "source": [
    "!pip install termcolor"
   ]
  },
  {
   "cell_type": "code",
   "execution_count": 5,
   "metadata": {},
   "outputs": [
    {
     "data": {
      "text/plain": [
       "85                                                  NAN\n",
       "86                                         Chaisya rien\n",
       "87         Prestation : 0\\nSolutions : 0\\nAttention : 0\n",
       "88    Très bien situé, personnel excellent. Il y a p...\n",
       "89                                            service 0\n",
       "Name: Reviewer_Text, dtype: object"
      ]
     },
     "execution_count": 5,
     "metadata": {},
     "output_type": "execute_result"
    }
   ],
   "source": [
    "import pandas as pd\n",
    "\n",
    "df = pd.read_csv('/home/conite/Documents/WORKSPACE/PROJECTS/BI-PROJECT/BANK-REVIEWS-INTELLIGENCE/src/macro_table/macro_table.csv')\n",
    "df['Reviewer_Text'].tail()"
   ]
  },
  {
   "cell_type": "code",
   "execution_count": null,
   "metadata": {},
   "outputs": [],
   "source": []
  }
 ],
 "metadata": {
  "kernelspec": {
   "display_name": "Python 3",
   "language": "python",
   "name": "python3"
  },
  "language_info": {
   "codemirror_mode": {
    "name": "ipython",
    "version": 3
   },
   "file_extension": ".py",
   "mimetype": "text/x-python",
   "name": "python",
   "nbconvert_exporter": "python",
   "pygments_lexer": "ipython3",
   "version": "3.11.0"
  }
 },
 "nbformat": 4,
 "nbformat_minor": 2
}
