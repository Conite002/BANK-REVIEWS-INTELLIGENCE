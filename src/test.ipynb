{
 "cells": [
  {
   "cell_type": "code",
   "execution_count": 1,
   "metadata": {},
   "outputs": [],
   "source": [
    "import sys\n",
    "import os\n",
    "\n",
    "# Chemin absolu du répertoire racine du projet\n",
    "project_root = '/home/conite/Documents/WORKSPACE/PROJECTS/BI-PROJECT/BANK-REVIEWS-INTELLIGENCE/'\n",
    "\n",
    "# Ajouter le répertoire src au chemin de recherche des modules\n",
    "src = os.path.join(project_root, '.')\n",
    "sys.path.append(src)\n",
    "\n"
   ]
  },
  {
   "cell_type": "code",
   "execution_count": 2,
   "metadata": {},
   "outputs": [
    {
     "name": "stdout",
     "output_type": "stream",
     "text": [
      "/home/conite/Documents/WORKSPACE/PROJECTS/BI-PROJECT/BANK-REVIEWS-INTELLIGENCE/data/parquet/2024-07-30/Morocco/Nador.parquet: 90 rows\n",
      "Macro table saved at: /home/conite/Documents/WORKSPACE/PROJECTS/BI-PROJECT/BANK-REVIEWS-INTELLIGENCE/data/temp/macro_table/macro_table.parquet\n",
      "Macro table saved as CSV at : /home/conite/Documents/WORKSPACE/PROJECTS/BI-PROJECT/BANK-REVIEWS-INTELLIGENCE/data/temp/macro_table/macro_table.csv\n"
     ]
    }
   ],
   "source": [
    "import pandas as pd\n",
    "import numpy as np\n",
    "from src.data_concatenation.concatenate import build_macro_table\n",
    "from src.data_preprocessing.preprocessing import preprocess_dataframe\n",
    "from src.data_preprocessing.topificator import TopicExtractor\n",
    "from src.database_management.database_initializer import DatabaseInitializer, wait_for_postgresql\n",
    "from src.database_management.dataframe_to_transactionalDB import insert_data_from_dataframe\n",
    "from src.database_management.migrate_to_decisionalDB import migration_to_decisionalDB\n",
    "from src.database_management.db_models import Base\n",
    "from sqlalchemy import create_engine, inspect\n",
    "from sqlalchemy.orm import sessionmaker\n",
    "from datetime import datetime\n",
    "from datetime import datetime, timedelta\n",
    "import psycopg2, os\n",
    "\n",
    "from tqdm import tqdm\n",
    "\n",
    "CURRENT_DATE = datetime.now().strftime(\"%Y-%m-%d\")\n",
    "DATA_PATH = os.path.join(project_root, 'data')\n",
    "CITIES_PATH = os.path.join(project_root, 'data', 'utils', 'countries_cities-full.json')\n",
    "RAW_SAVE_PATH = os.path.join(project_root, 'data', 'temp')\n",
    "PARCKET_PATH = os.path.join(project_root, 'data', 'parquet', CURRENT_DATE)\n",
    "\n",
    "\n",
    "concatenate_parquets = build_macro_table(DATA_PATH)\n",
    "\n",
    "# --------------------------------------------------------\n",
    "# 0.3 Preprocessing of concatenate parquets\n",
    "# --------------------------------------------------------\n",
    "# df = preprocess_dataframe(concatenate_parquets)\n"
   ]
  },
  {
   "cell_type": "code",
   "execution_count": 3,
   "metadata": {},
   "outputs": [
    {
     "data": {
      "text/plain": [
       "17"
      ]
     },
     "execution_count": 3,
     "metadata": {},
     "output_type": "execute_result"
    }
   ],
   "source": [
    "len(concatenate_parquets.columns)"
   ]
  },
  {
   "cell_type": "code",
   "execution_count": 4,
   "metadata": {},
   "outputs": [
    {
     "name": "stderr",
     "output_type": "stream",
     "text": [
      "/home/conite/Documents/WORKSPACE/PROJECTS/BI-PROJECT/BANK-REVIEWS-INTELLIGENCE/./src/data_preprocessing/preprocessing.py:64: FutureWarning: Downcasting object dtype arrays on .fillna, .ffill, .bfill is deprecated and will change in a future version. Call result.infer_objects(copy=False) instead. To opt-in to the future behavior, set `pd.set_option('future.no_silent_downcasting', True)`\n",
      "  df = df.fillna({\n"
     ]
    },
    {
     "name": "stdout",
     "output_type": "stream",
     "text": [
      "Topic : {'topics': [(\"problème d'application\", 'Negative', ['bug', ' connexion difficile'])]}\n",
      "DIRECTORY : /home/conite/Documents/WORKSPACE/PROJECTS/BI-PROJECT/BANK-REVIEWS-INTELLIGENCE/data/processed/2024-08-07\n"
     ]
    },
    {
     "name": "stderr",
     "output_type": "stream",
     "text": [
      "  1%|▏         | 1/73 [00:24<29:17, 24.41s/it]"
     ]
    },
    {
     "name": "stdout",
     "output_type": "stream",
     "text": [
      "Topic 0 : Pays Ahsan ::: {'topics': []}\n",
      "Erreur rencontrée à l'index 0: 'Reviewer_Sart'\n"
     ]
    },
    {
     "name": "stderr",
     "output_type": "stream",
     "text": [
      "  3%|▎         | 2/73 [01:01<37:53, 32.03s/it]"
     ]
    },
    {
     "name": "stdout",
     "output_type": "stream",
     "text": [
      "Topic 1 : Berger ::: {'topics': [('service client', 'Negative', ['malhonnête', 'incompétent']), (\"temps d'attente\", 'Negative', ['trop long']), ('frais bancaires', 'Negative', ['élevés']), ('application mobile', 'Positive', ['intuitive'])]}\n"
     ]
    },
    {
     "name": "stderr",
     "output_type": "stream",
     "text": [
      "  4%|▍         | 3/73 [01:34<37:34, 32.20s/it]"
     ]
    },
    {
     "name": "stdout",
     "output_type": "stream",
     "text": [
      "Topic 2 : Expérience neutre ::: {'topics': [('service client', 'Neutre', ['normaux', 'aucun problème spécifique']), ('produits financiers', 'Neutre', ['aucun commentaire positif ou négatif'])]}\n"
     ]
    },
    {
     "name": "stderr",
     "output_type": "stream",
     "text": [
      "  5%|▌         | 4/73 [02:07<37:22, 32.50s/it]"
     ]
    },
    {
     "name": "stdout",
     "output_type": "stream",
     "text": [
      "Topic 3 : Très mauvaise expérience ::: {'topics': [('Sécurité des transactions en ligne', 'Negative', [\"Introuvable l'option de sécurité à deux facteurs\"])]}\n"
     ]
    },
    {
     "name": "stderr",
     "output_type": "stream",
     "text": [
      "  7%|▋         | 5/73 [02:23<30:04, 26.53s/it]"
     ]
    },
    {
     "name": "stdout",
     "output_type": "stream",
     "text": [
      "Topic 4 : Expérience neutre ::: {'topics': []}\n",
      "Erreur rencontrée à l'index 4: 'Reviewer_Sart'\n"
     ]
    },
    {
     "name": "stderr",
     "output_type": "stream",
     "text": [
      "  8%|▊         | 6/73 [02:44<27:37, 24.74s/it]"
     ]
    },
    {
     "name": "stdout",
     "output_type": "stream",
     "text": [
      "Topic 5 : Très bonne expérience ::: {'topics': [('Service clientèle', 'Positive', ['réactif', 'récité'])]}\n"
     ]
    },
    {
     "name": "stderr",
     "output_type": "stream",
     "text": [
      " 10%|▉         | 7/73 [03:07<26:44, 24.31s/it]"
     ]
    },
    {
     "name": "stdout",
     "output_type": "stream",
     "text": [
      "Topic 6 : Expérience neutre ::: {'topics': [('Sécurité', 'Neutre', ['pas de problème'])]}\n"
     ]
    },
    {
     "name": "stderr",
     "output_type": "stream",
     "text": [
      " 11%|█         | 8/73 [04:26<45:14, 41.75s/it]"
     ]
    },
    {
     "name": "stdout",
     "output_type": "stream",
     "text": [
      "Topic 7 : J'ai eu l'honneur d'être accueilli chaleureusement par le président  de la BP Nador Al Hociema et son proche collaborateur , au cours  de notre entretien,  j'ai découvert une personnalité très averti, dynamique, pragmatique, et … ::: {'topics': [('ouverture de compte', 'Positive', ['rapide', 'simple']), ('service client', 'Positive', ['chaleureux', 'averti', 'dynamique', 'pragmatique'])]}\n"
     ]
    },
    {
     "name": "stderr",
     "output_type": "stream",
     "text": [
      " 12%|█▏        | 9/73 [04:58<41:16, 38.70s/it]"
     ]
    },
    {
     "name": "stdout",
     "output_type": "stream",
     "text": [
      "Topic 8 : Siège de la banque populaire  Nador Al hoceima. ::: {'topics': [('Sécurité', 'Positive', ['protégée']), ('Localisation et accessibilité', 'Positive', ['accessible']), ('Services additionnels', 'Positive', ['offerts'])]}\n"
     ]
    },
    {
     "name": "stderr",
     "output_type": "stream",
     "text": [
      " 14%|█▎        | 10/73 [05:30<38:26, 36.60s/it]"
     ]
    },
    {
     "name": "stdout",
     "output_type": "stream",
     "text": [
      "Topic 9 : Bon accueil et professionnel ::: {'topics': [{'topic': 'Bienvenue et professionnel', 'sentiment': 'Positive', 'sub_topics': ['accueil chaleureux', 'professionnalisme']}]}\n",
      "Erreur rencontrée à l'index 9: 0\n"
     ]
    },
    {
     "name": "stderr",
     "output_type": "stream",
     "text": [
      " 15%|█▌        | 11/73 [06:01<36:01, 34.87s/it]"
     ]
    },
    {
     "name": "stdout",
     "output_type": "stream",
     "text": [
      "Topic 10 : Accueil chaleureux bon service ::: {'topics': [('accueil chaleureux', 'Positive', ['chaleureux'])]}\n"
     ]
    },
    {
     "name": "stderr",
     "output_type": "stream",
     "text": [
      " 16%|█▋        | 12/73 [06:46<38:33, 37.93s/it]"
     ]
    },
    {
     "name": "stdout",
     "output_type": "stream",
     "text": [
      "Topic 11 : Certains employés de cette agence sont arrogants, notamment la dame en charge de l'assurance transport des morts (middle office). L'année prochaine, je déménagerai dans une meilleure banque, si Dieu le veut ::: {'topics': [('Gestion des comptes', 'Negative', ['Emplois arrogants', 'Bonne banque']), ('Sécurité des transactions en ligne', 'Nan')]}\n",
      "Erreur rencontrée à l'index 11: tuple index out of range\n"
     ]
    },
    {
     "name": "stderr",
     "output_type": "stream",
     "text": [
      " 18%|█▊        | 13/73 [07:17<35:45, 35.76s/it]"
     ]
    },
    {
     "name": "stdout",
     "output_type": "stream",
     "text": [
      "Topic 12 : Je ne suis jamais entré dans une banque aussi hostile.\n",
      "Personnel comme dans la rue\n",
      "Très déçu. ::: {'topics': [('Personnel', 'Negative', ['hostile']), ('Atmosphère de la branche', 'Negative', [' hostile'])]}\n"
     ]
    },
    {
     "name": "stderr",
     "output_type": "stream",
     "text": [
      " 19%|█▉        | 14/73 [07:36<30:21, 30.87s/it]"
     ]
    },
    {
     "name": "stdout",
     "output_type": "stream",
     "text": [
      "Topic 13 : Cool. 👍🔐 … ::: {'topics': [('expérience utilisateur', 'Negative', ['difficile'])]}\n"
     ]
    },
    {
     "name": "stderr",
     "output_type": "stream",
     "text": [
      " 21%|██        | 15/73 [08:07<29:39, 30.68s/it]"
     ]
    },
    {
     "name": "stdout",
     "output_type": "stream",
     "text": [
      "Topic 14 : Meilleure banque ::: {'topics': [('Service client', 'Positive', ['rapide', 'sympathique']), ('Expérience utilisateur', 'Positive', ['intuitive', 'simple'])]}\n"
     ]
    },
    {
     "name": "stderr",
     "output_type": "stream",
     "text": [
      " 22%|██▏       | 16/73 [08:30<26:58, 28.39s/it]"
     ]
    },
    {
     "name": "stdout",
     "output_type": "stream",
     "text": [
      "Topic 15 : être ::: {'topics': [('ouverture de compte', 'Positive', ['simple'])]}\n"
     ]
    },
    {
     "name": "stderr",
     "output_type": "stream",
     "text": [
      " 23%|██▎       | 17/73 [08:51<24:21, 26.10s/it]"
     ]
    },
    {
     "name": "stdout",
     "output_type": "stream",
     "text": [
      "Topic 16 : Bonne expérience ::: {'topics': [('expérience utilisateur', 'Positive', ['positive'])]}\n"
     ]
    },
    {
     "name": "stderr",
     "output_type": "stream",
     "text": [
      " 25%|██▍       | 18/73 [09:19<24:37, 26.86s/it]"
     ]
    },
    {
     "name": "stdout",
     "output_type": "stream",
     "text": [
      "Topic 17 : Très bonne expérience ::: {'topics': [{'topic': 'Satisfaction client', 'sentiment': 'Positive', 'sub_topics': ['rapide', 'simple']}]}\n",
      "Erreur rencontrée à l'index 17: 0\n"
     ]
    },
    {
     "name": "stderr",
     "output_type": "stream",
     "text": [
      " 26%|██▌       | 19/73 [09:30<19:46, 21.98s/it]"
     ]
    },
    {
     "name": "stdout",
     "output_type": "stream",
     "text": [
      "Topic 18 : Très bonne expérience ::: {'topics': [('expérience utilisateur', 'Positive', ['très bonne'])]}\n"
     ]
    },
    {
     "name": "stderr",
     "output_type": "stream",
     "text": [
      " 27%|██▋       | 20/73 [10:03<22:27, 25.43s/it]"
     ]
    },
    {
     "name": "stdout",
     "output_type": "stream",
     "text": [
      "Topic 19 : Expérience neutre ::: {'topics': [('Frais bancaires', 'Neutre', ['inconnus'])]}\n"
     ]
    },
    {
     "name": "stderr",
     "output_type": "stream",
     "text": [
      " 29%|██▉       | 21/73 [10:25<21:04, 24.32s/it]"
     ]
    },
    {
     "name": "stdout",
     "output_type": "stream",
     "text": [
      "Topic 20 : Très bonne expérience ::: {'topics': [('Service client', 'Positive', ['réactif', 'rapidité'])]}\n"
     ]
    },
    {
     "name": "stderr",
     "output_type": "stream",
     "text": [
      " 30%|███       | 22/73 [10:50<20:48, 24.47s/it]"
     ]
    },
    {
     "name": "stdout",
     "output_type": "stream",
     "text": [
      "Topic 21 : Très mauvaise expérience ::: {'topics': [('Satisfaction client', 'Negative', ['Très mauvaise expérience'])]}\n"
     ]
    },
    {
     "name": "stderr",
     "output_type": "stream",
     "text": [
      " 32%|███▏      | 23/73 [11:27<23:29, 28.20s/it]"
     ]
    },
    {
     "name": "stdout",
     "output_type": "stream",
     "text": [
      "Topic 22 : Expérience neutre ::: {'topics': [('Sécurité', 'Neutral', ['fiable']), ('Localisation et accessibilité', 'Neutral', ['convenient'])]}\n"
     ]
    },
    {
     "name": "stderr",
     "output_type": "stream",
     "text": [
      " 33%|███▎      | 24/73 [12:08<26:07, 32.00s/it]"
     ]
    },
    {
     "name": "stdout",
     "output_type": "stream",
     "text": [
      "Topic 24 : Banque et service normal. ::: {'topics': [{'topic': \"Facilité d'ouverture de compte\", 'sentiment': 'Positive', 'sub_topics': ['rapide', 'simple']}]}\n",
      "Erreur rencontrée à l'index 24: 0\n"
     ]
    },
    {
     "name": "stderr",
     "output_type": "stream",
     "text": [
      " 34%|███▍      | 25/73 [12:55<29:20, 36.68s/it]"
     ]
    },
    {
     "name": "stdout",
     "output_type": "stream",
     "text": [
      "Topic 25 : Banque populaire du nador ::: {'topics': [('Service client', 'Negative', ['rarement disponible', 'pas réactif']), ('Gestion des comptes', 'Neutral', ['facile à utiliser', 'mauvais interface']), ('Frais bancaires', 'Negative', ['trop élevés', 'difficiles à comprendre'])]}\n"
     ]
    },
    {
     "name": "stderr",
     "output_type": "stream",
     "text": [
      " 36%|███▌      | 26/73 [13:22<26:23, 33.69s/it]"
     ]
    },
    {
     "name": "stdout",
     "output_type": "stream",
     "text": [
      "Topic 26 : Bien ::: {'topics': [{'topic': 'Service client', 'sentiment': 'Positive', 'sub_topics': ['réactif', 'rapidité']}]}\n",
      "Erreur rencontrée à l'index 26: 0\n"
     ]
    },
    {
     "name": "stderr",
     "output_type": "stream",
     "text": [
      " 37%|███▋      | 27/73 [13:48<24:07, 31.47s/it]"
     ]
    },
    {
     "name": "stdout",
     "output_type": "stream",
     "text": [
      "Topic 27 : Non ::: {'topics': [('Frais bancaires', 'Negative', ['élevés'])]}\n"
     ]
    },
    {
     "name": "stderr",
     "output_type": "stream",
     "text": [
      " 38%|███▊      | 28/73 [14:16<22:50, 30.46s/it]"
     ]
    },
    {
     "name": "stdout",
     "output_type": "stream",
     "text": [
      "Topic 28 : Très bonne expérience ::: {'topics': [('expérience client', 'Positive', ['très bonne'])]}\n"
     ]
    },
    {
     "name": "stderr",
     "output_type": "stream",
     "text": [
      " 40%|███▉      | 29/73 [15:00<25:14, 34.42s/it]"
     ]
    },
    {
     "name": "stdout",
     "output_type": "stream",
     "text": [
      "Topic 29 : Expérience neutre ::: {'topics': [{'topic': 'Service client', 'sentiment': 'Positive', 'sub_topics': ['Satisfait']}, {'topic': 'Application mobile', 'sentiment': 'Neutral', 'sub_topics': []}]}\n",
      "Erreur rencontrée à l'index 29: 0\n"
     ]
    },
    {
     "name": "stderr",
     "output_type": "stream",
     "text": [
      " 41%|████      | 30/73 [15:11<19:38, 27.42s/it]"
     ]
    },
    {
     "name": "stdout",
     "output_type": "stream",
     "text": [
      "Topic 30 : Expérience neutre ::: {'topics': [{'topic': 'Gestion des comptes', 'sentiment': 'Neutre', 'sub_topics': ['']}]}\n",
      "Erreur rencontrée à l'index 30: 0\n"
     ]
    },
    {
     "name": "stderr",
     "output_type": "stream",
     "text": [
      " 42%|████▏     | 31/73 [15:38<19:08, 27.34s/it]"
     ]
    },
    {
     "name": "stdout",
     "output_type": "stream",
     "text": [
      "Topic 31 : Bonne équipe ::: {'topics': [{'topic': 'Compétence du personnel', 'sentiment': 'Positive', 'sub_topics': ['Bonne équipe']}]}\n",
      "Erreur rencontrée à l'index 31: 0\n"
     ]
    },
    {
     "name": "stderr",
     "output_type": "stream",
     "text": [
      " 44%|████▍     | 32/73 [16:16<20:50, 30.51s/it]"
     ]
    },
    {
     "name": "stdout",
     "output_type": "stream",
     "text": [
      "Topic 32 : C'est une banque de quartier ::: {'topics': [('Service client', 'Positive', ['Satisfait']), ('Ouverture de compte', 'Negative', ['Difficile', 'Longue attente'])]}\n"
     ]
    },
    {
     "name": "stderr",
     "output_type": "stream",
     "text": [
      " 45%|████▌     | 33/73 [16:48<20:36, 30.91s/it]"
     ]
    },
    {
     "name": "stdout",
     "output_type": "stream",
     "text": [
      "Topic 33 : Très mauvaise expérience ::: {'topics': [{'topic': 'ouverture de compte', 'sentiment': 'Negative', 'sub_topics': ['pénible', 'longue attente']}]}\n",
      "Erreur rencontrée à l'index 33: 0\n"
     ]
    },
    {
     "name": "stderr",
     "output_type": "stream",
     "text": [
      " 47%|████▋     | 34/73 [17:24<21:03, 32.40s/it]"
     ]
    },
    {
     "name": "stdout",
     "output_type": "stream",
     "text": [
      "Topic 34 : Très bonne expérience ::: {'topics': [('Service client', 'Positive', ['réactif', 'récupération de problème rapidement'])]}\n"
     ]
    },
    {
     "name": "stderr",
     "output_type": "stream",
     "text": [
      " 48%|████▊     | 35/73 [17:52<19:42, 31.11s/it]"
     ]
    },
    {
     "name": "stdout",
     "output_type": "stream",
     "text": [
      "Topic 35 : Expérience neutre ::: {'topics': [{'topic': 'ouverture de compte', 'sentiment': 'Positive', 'sub_topics': ['rapide', 'simple']}]}\n",
      "Erreur rencontrée à l'index 35: 0\n"
     ]
    },
    {
     "name": "stderr",
     "output_type": "stream",
     "text": [
      " 49%|████▉     | 36/73 [18:19<18:31, 30.04s/it]"
     ]
    },
    {
     "name": "stdout",
     "output_type": "stream",
     "text": [
      "Topic 36 : Bonne equipe. ::: {'topics': [('compétence du personnel', 'Positive', ['Bonne equipe'])]}\n"
     ]
    },
    {
     "name": "stderr",
     "output_type": "stream",
     "text": [
      " 51%|█████     | 37/73 [18:50<18:02, 30.07s/it]"
     ]
    },
    {
     "name": "stdout",
     "output_type": "stream",
     "text": [
      "Topic 37 : Bonne expérience ::: {'topics': [('Service client', 'Positive', ['réactif', 'rapidement réglé'])]}\n"
     ]
    },
    {
     "name": "stderr",
     "output_type": "stream",
     "text": [
      " 52%|█████▏    | 38/73 [19:29<19:14, 32.98s/it]"
     ]
    },
    {
     "name": "stdout",
     "output_type": "stream",
     "text": [
      "Topic 38 : Très mauvaise expérience ::: {'topics': [('Sécurité', 'Negative', ['Très mauvaise expérience'])]}\n"
     ]
    },
    {
     "name": "stderr",
     "output_type": "stream",
     "text": [
      " 53%|█████▎    | 39/73 [19:54<17:15, 30.44s/it]"
     ]
    },
    {
     "name": "stdout",
     "output_type": "stream",
     "text": [
      "Topic 39 : Très mauvaise expérience ::: {'topics': [{'topic': 'Gestion des comptes', 'sentiment': 'Negative', 'sub_topics': ['difficile', 'complicée']}]}\n",
      "Erreur rencontrée à l'index 39: 0\n"
     ]
    },
    {
     "name": "stderr",
     "output_type": "stream",
     "text": [
      " 55%|█████▍    | 40/73 [20:21<16:08, 29.35s/it]"
     ]
    },
    {
     "name": "stdout",
     "output_type": "stream",
     "text": [
      "Topic 40 : Très bonne expérience ::: {'topics': [('Expérience utilisateur', 'Positive', ['Rapide', 'Simple'])]}\n"
     ]
    },
    {
     "name": "stderr",
     "output_type": "stream",
     "text": [
      " 56%|█████▌    | 41/73 [20:29<12:19, 23.11s/it]"
     ]
    },
    {
     "name": "stdout",
     "output_type": "stream",
     "text": [
      "Topic 41 : Très bonne expérience ::: {'topics': [('Satisfaction client', 'Positive', ['Très bonne expérience'])]}\n"
     ]
    },
    {
     "name": "stderr",
     "output_type": "stream",
     "text": [
      " 58%|█████▊    | 42/73 [21:06<14:02, 27.19s/it]"
     ]
    },
    {
     "name": "stdout",
     "output_type": "stream",
     "text": [
      "Topic 42 : Des gens biens ::: {'topics': [('Des gens biens', 'Positive', ['Très satisfaits de leur rapidité'])]}\n"
     ]
    },
    {
     "name": "stderr",
     "output_type": "stream",
     "text": [
      " 59%|█████▉    | 43/73 [21:43<15:05, 30.18s/it]"
     ]
    },
    {
     "name": "stdout",
     "output_type": "stream",
     "text": [
      "Topic 43 : Comme les autres banques ::: {'topics': [('localisation et accessibilité', 'Negative', [\"comparée à d'autres banques\"]), ('services additionnels', 'Neutral', ['similaire aux autres banques'])]}\n"
     ]
    },
    {
     "name": "stderr",
     "output_type": "stream",
     "text": [
      " 60%|██████    | 44/73 [22:14<14:40, 30.35s/it]"
     ]
    },
    {
     "name": "stdout",
     "output_type": "stream",
     "text": [
      "Topic 44 : Très mauvaise expérience ::: {'topics': [(\"Temps d'attente\", 'Negative', ['mauvaise expérience'])]}\n"
     ]
    },
    {
     "name": "stderr",
     "output_type": "stream",
     "text": [
      " 62%|██████▏   | 45/73 [22:30<12:07, 25.99s/it]"
     ]
    },
    {
     "name": "stdout",
     "output_type": "stream",
     "text": [
      "Topic 45 : Très mauvaise expérience ::: {'topics': [('Satisfaction client', 'Negative', ['expérience négative'])]}\n",
      "Attempt 1 failed with error: For SINGLE_SOURCE, reviews should be a single string.\n",
      "Attempt 2 failed with error: For SINGLE_SOURCE, reviews should be a single string.\n",
      "Attempt 3 failed with error: For SINGLE_SOURCE, reviews should be a single string.\n",
      "Attempt 4 failed with error: For SINGLE_SOURCE, reviews should be a single string.\n",
      "Attempt 5 failed with error: For SINGLE_SOURCE, reviews should be a single string.\n"
     ]
    },
    {
     "name": "stderr",
     "output_type": "stream",
     "text": [
      " 63%|██████▎   | 46/73 [22:40<09:32, 21.19s/it]"
     ]
    },
    {
     "name": "stdout",
     "output_type": "stream",
     "text": [
      "Topic 46 : ('Mauvaise expérience',) ::: Failed to extract topics after 5 attempts\n",
      "Erreur rencontrée à l'index 46: string indices must be integers, not 'str'\n"
     ]
    },
    {
     "name": "stderr",
     "output_type": "stream",
     "text": [
      " 64%|██████▍   | 47/73 [23:03<09:29, 21.89s/it]"
     ]
    },
    {
     "name": "stdout",
     "output_type": "stream",
     "text": [
      "Topic 47 : Bonne expérience ::: {'topics': [('Service client', 'Positive', ['réactif', 'résolution rapide de problèmes']), ('Gestion des comptes', 'Positive', ['simple'])]}\n"
     ]
    },
    {
     "name": "stderr",
     "output_type": "stream",
     "text": [
      " 66%|██████▌   | 48/73 [24:12<14:57, 35.89s/it]"
     ]
    },
    {
     "name": "stdout",
     "output_type": "stream",
     "text": [
      "Topic 48 : Très mauvaise expérience ::: {'topics': [('Expérience client', 'Negative', ['négative'])]}\n"
     ]
    },
    {
     "name": "stderr",
     "output_type": "stream",
     "text": [
      " 67%|██████▋   | 49/73 [24:54<15:07, 37.82s/it]"
     ]
    },
    {
     "name": "stdout",
     "output_type": "stream",
     "text": [
      "Topic 49 : C'est une agence très magnifique Et très réactif chapeau pour l équipe  bonne continuation ::: {'topics': [('Service client', 'Positive', ['réactif', 'rapidité'])]}\n"
     ]
    },
    {
     "name": "stderr",
     "output_type": "stream",
     "text": [
      " 68%|██████▊   | 50/73 [25:32<14:28, 37.75s/it]"
     ]
    },
    {
     "name": "stdout",
     "output_type": "stream",
     "text": [
      "Topic 50 : Si vous n'êtes pas résident au Maroc c'est très galère pour retirer de l'argent de son propre compte bancaire... ::: {'topics': [(\"difficultés de retrait d'argent\", 'Negative', ['galère', 'propre compte bancaire'])]}\n"
     ]
    },
    {
     "name": "stderr",
     "output_type": "stream",
     "text": [
      " 70%|██████▉   | 51/73 [25:54<12:12, 33.28s/it]"
     ]
    },
    {
     "name": "stdout",
     "output_type": "stream",
     "text": [
      "Topic 51 : Que Dieu bénisse ::: {'topics': [('Service client', 'Positive', ['réactif', 'rapide', 'satisfait'])]}\n"
     ]
    },
    {
     "name": "stderr",
     "output_type": "stream",
     "text": [
      " 71%|███████   | 52/73 [26:21<10:56, 31.28s/it]"
     ]
    },
    {
     "name": "stdout",
     "output_type": "stream",
     "text": [
      "Topic 52 : Service haut de gamme ::: {'topics': [('produits financiers', 'Negative', ['élevés', 'inadaptés']), ('sécurité', 'Positive', ['fiable', 'protégée'])]}\n"
     ]
    },
    {
     "name": "stderr",
     "output_type": "stream",
     "text": [
      " 73%|███████▎  | 53/73 [27:00<11:14, 33.71s/it]"
     ]
    },
    {
     "name": "stdout",
     "output_type": "stream",
     "text": [
      "Topic 53 : Banque Dima Resayx huit ::: {'topics': [('Service clientèle', 'Positive', ['Réactif', 'Rapide']), ('Sécurité des transactions en ligne', 'N/A', []), ('Services multilingues', 'N/A', []), ('Compétence du personnel', 'N/A', []), ('Expérience utilisateur', 'N/A', [])]}\n"
     ]
    },
    {
     "name": "stderr",
     "output_type": "stream",
     "text": [
      " 74%|███████▍  | 54/73 [27:34<10:41, 33.76s/it]"
     ]
    },
    {
     "name": "stdout",
     "output_type": "stream",
     "text": [
      "Topic 54 : Parce que oui\n",
      "Merci ::: {'topics': [('service client', 'N/A', []), ('frais bancaires', 'Negative', ['élevés']), ('application mobile', 'Negative', ['lente', 'peu intuitive'])]}\n"
     ]
    },
    {
     "name": "stderr",
     "output_type": "stream",
     "text": [
      " 75%|███████▌  | 55/73 [28:11<10:24, 34.71s/it]"
     ]
    },
    {
     "name": "stdout",
     "output_type": "stream",
     "text": [
      "Topic 55 : Bonne expérience ::: {'topics': [('Bonne expérience', 'Positive', ['expérience utilisateur'])]}\n"
     ]
    },
    {
     "name": "stderr",
     "output_type": "stream",
     "text": [
      " 77%|███████▋  | 56/73 [28:38<09:08, 32.27s/it]"
     ]
    },
    {
     "name": "stdout",
     "output_type": "stream",
     "text": [
      "Topic 56 : Imcompetence\n",
      "Aucun engagement\n",
      "Je sais pas si y a quelqu’un qui controle ces gens la ou pas . … ::: {'topics': [('Implication du personnel', 'Negative', ['Incompétence'])]}\n"
     ]
    },
    {
     "name": "stderr",
     "output_type": "stream",
     "text": [
      " 78%|███████▊  | 57/73 [29:03<08:02, 30.14s/it]"
     ]
    },
    {
     "name": "stdout",
     "output_type": "stream",
     "text": [
      "Topic 57 : Aïe incompétence c’est le seul mot qui me vienne ::: {'topics': [('incompétence', 'Negative', [\"c'est l'unique mot qui me vienne\"])]}\n"
     ]
    },
    {
     "name": "stderr",
     "output_type": "stream",
     "text": [
      " 79%|███████▉  | 58/73 [29:33<07:32, 30.15s/it]"
     ]
    },
    {
     "name": "stdout",
     "output_type": "stream",
     "text": [
      "Topic 58 : Bonne expérience ::: {'topics': [{'topic': \"Facilité d'ouverture de compte\", 'sentiment': 'Positive', 'sub_topics': ['simple', 'rapide']}]}\n",
      "Erreur rencontrée à l'index 58: 0\n"
     ]
    },
    {
     "name": "stderr",
     "output_type": "stream",
     "text": [
      " 81%|████████  | 59/73 [30:04<07:03, 30.22s/it]"
     ]
    },
    {
     "name": "stdout",
     "output_type": "stream",
     "text": [
      "Topic 59 : Une équipe très serviable et professionnelle. ::: {'topics': [('service client', 'Positive', ['serviable', 'professionnel'])]}\n"
     ]
    },
    {
     "name": "stderr",
     "output_type": "stream",
     "text": [
      " 82%|████████▏ | 60/73 [31:52<11:38, 53.73s/it]"
     ]
    },
    {
     "name": "stdout",
     "output_type": "stream",
     "text": [
      "Topic 60 : Merci pour le changement de direction j'aime bien ::: {'topics': [('Merci', 'Positive', ['pour'])]}\n"
     ]
    },
    {
     "name": "stderr",
     "output_type": "stream",
     "text": [
      " 84%|████████▎ | 61/73 [32:26<09:32, 47.74s/it]"
     ]
    },
    {
     "name": "stdout",
     "output_type": "stream",
     "text": [
      "Topic 61 : Bonne agence ... une équipe professionnels..... ::: {'topics': [{'topic': 'Sécurité', 'sentiment': 'Positive', 'sub_topics': ['Équipe professionnelle']}]}\n",
      "Erreur rencontrée à l'index 61: 0\n"
     ]
    },
    {
     "name": "stderr",
     "output_type": "stream",
     "text": [
      " 85%|████████▍ | 62/73 [32:53<07:37, 41.59s/it]"
     ]
    },
    {
     "name": "stdout",
     "output_type": "stream",
     "text": [
      "Topic 62 : toujours je téléphone pas répondre . ::: {'topics': [('Service client', 'Negative', ['ne pas répondre'])]}\n"
     ]
    },
    {
     "name": "stderr",
     "output_type": "stream",
     "text": [
      " 86%|████████▋ | 63/73 [33:20<06:11, 37.15s/it]"
     ]
    },
    {
     "name": "stdout",
     "output_type": "stream",
     "text": [
      "Topic 63 : Très mauvaise expérience ::: {'topics': [('Exérience client', 'Negative', ['mauvaise'])]}\n"
     ]
    },
    {
     "name": "stderr",
     "output_type": "stream",
     "text": [
      " 88%|████████▊ | 64/73 [34:00<05:43, 38.16s/it]"
     ]
    },
    {
     "name": "stdout",
     "output_type": "stream",
     "text": [
      "Topic 64 : Très bonne expérience ::: {'topics': [('Expérience utilisateur', 'Positive', ['Rapide', 'Simple'])]}\n"
     ]
    },
    {
     "name": "stderr",
     "output_type": "stream",
     "text": [
      " 89%|████████▉ | 65/73 [35:38<07:28, 56.01s/it]"
     ]
    },
    {
     "name": "stdout",
     "output_type": "stream",
     "text": [
      "Topic 81 : C'est la pire agence, toujours pas de la ligne de connexion, les menteurs .... ::: {'topics': [('Ouverture de compte', 'Negative', ['pas de connexion', 'les menteurs'])]}\n"
     ]
    },
    {
     "name": "stderr",
     "output_type": "stream",
     "text": [
      " 90%|█████████ | 66/73 [36:00<05:20, 45.72s/it]"
     ]
    },
    {
     "name": "stdout",
     "output_type": "stream",
     "text": [
      "Topic 82 : Bien ::: {'topics': [('Satisfaction client', 'Positive', ['Bien'])]}\n"
     ]
    },
    {
     "name": "stderr",
     "output_type": "stream",
     "text": [
      " 92%|█████████▏| 67/73 [36:25<03:58, 39.68s/it]"
     ]
    },
    {
     "name": "stdout",
     "output_type": "stream",
     "text": [
      "Topic 83 : Très bonne expérience ::: {'topics': [('Service client', 'Positive', ['réactif', 'rapide'])]}\n",
      "Attempt 1 failed with error: For SINGLE_SOURCE, reviews should be a single string.\n",
      "Attempt 2 failed with error: For SINGLE_SOURCE, reviews should be a single string.\n",
      "Attempt 3 failed with error: For SINGLE_SOURCE, reviews should be a single string.\n",
      "Attempt 4 failed with error: For SINGLE_SOURCE, reviews should be a single string.\n",
      "Attempt 5 failed with error: For SINGLE_SOURCE, reviews should be a single string.\n"
     ]
    },
    {
     "name": "stderr",
     "output_type": "stream",
     "text": [
      " 93%|█████████▎| 68/73 [36:35<02:33, 30.78s/it]"
     ]
    },
    {
     "name": "stdout",
     "output_type": "stream",
     "text": [
      "Topic 84 : ('Mauvaise expérience',) ::: Failed to extract topics after 5 attempts\n",
      "Erreur rencontrée à l'index 84: string indices must be integers, not 'str'\n"
     ]
    },
    {
     "name": "stderr",
     "output_type": "stream",
     "text": [
      " 95%|█████████▍| 69/73 [36:48<01:40, 25.17s/it]"
     ]
    },
    {
     "name": "stdout",
     "output_type": "stream",
     "text": [
      "Topic 85 : Très bonne expérience ::: {'topics': [{'topic': 'Expérience utilisateur', 'sentiment': 'Positive', 'sub_topics': ['simple', 'rapide']}]}\n",
      "Erreur rencontrée à l'index 85: 0\n"
     ]
    },
    {
     "name": "stderr",
     "output_type": "stream",
     "text": [
      " 96%|█████████▌| 70/73 [37:34<01:35, 31.70s/it]"
     ]
    },
    {
     "name": "stdout",
     "output_type": "stream",
     "text": [
      "Topic 86 : Chaisya rien ::: {'topics': [['Localisation et accessibilité', 'Negative', ['distant']], ['Sécurité', 'Positive', ['sécurisable']]]}\n"
     ]
    },
    {
     "name": "stderr",
     "output_type": "stream",
     "text": [
      " 97%|█████████▋| 71/73 [38:14<01:08, 34.18s/it]"
     ]
    },
    {
     "name": "stdout",
     "output_type": "stream",
     "text": [
      "Topic 87 : Prestation : 0\n",
      "Solutions : 0\n",
      "Attention : 0 ::: {'topics': [('Prestation', 'Negative', ['0']), ('Solutions', 'Negative', ['0']), ('Attention', 'Negative', ['0'])]}\n"
     ]
    },
    {
     "name": "stderr",
     "output_type": "stream",
     "text": [
      " 99%|█████████▊| 72/73 [38:44<00:32, 32.72s/it]"
     ]
    },
    {
     "name": "stdout",
     "output_type": "stream",
     "text": [
      "Topic 88 : Très bien situé, personnel excellent. Il y a parfois des problèmes sur Internet ::: {'topics': [('Localisation et accessibilité', 'Positive', ['Bien situé'])]}\n"
     ]
    },
    {
     "name": "stderr",
     "output_type": "stream",
     "text": [
      "100%|██████████| 73/73 [39:04<00:00, 32.12s/it]"
     ]
    },
    {
     "name": "stdout",
     "output_type": "stream",
     "text": [
      "Topic 89 : service 0 ::: {'topics': []}\n",
      "Erreur rencontrée à l'index 89: 'Reviewer_Sart'\n",
      "File written to /home/conite/Documents/WORKSPACE/PROJECTS/BI-PROJECT/BANK-REVIEWS-INTELLIGENCE/data/processed/2024-08-07/macro_llamma.csv\n"
     ]
    },
    {
     "name": "stderr",
     "output_type": "stream",
     "text": [
      "\n"
     ]
    }
   ],
   "source": [
    "\n",
    "# --------------------------------------------------------\n",
    "# 0.3 Preprocessing of concatenate parquets\n",
    "# --------------------------------------------------------\n",
    "df = preprocess_dataframe(concatenate_parquets)"
   ]
  },
  {
   "cell_type": "code",
   "execution_count": 5,
   "metadata": {},
   "outputs": [
    {
     "data": {
      "text/plain": [
       "Index(['Country', 'Town', 'Bank_Name', 'Bank_Phone_number', 'Bank_Address',\n",
       "       'Bank_Website', 'Reviewer_Name', 'Reviewer_Star', 'Reviewer_Text',\n",
       "       'Reviewer_Publish_Date', 'Reviewer_Like_Reaction',\n",
       "       'Reviewer_Profile_Link', 'Reviewer_Owner_Reply',\n",
       "       'Reviewer_Owner_Reply_Date', 'Topic', 'Sentiment', 'Sub_Topic'],\n",
       "      dtype='object')"
      ]
     },
     "execution_count": 5,
     "metadata": {},
     "output_type": "execute_result"
    }
   ],
   "source": [
    "df.columns"
   ]
  },
  {
   "cell_type": "code",
   "execution_count": 17,
   "metadata": {},
   "outputs": [],
   "source": [
    "# all df\n",
    "pd.set_option('display.max_rows', None)\n",
    "pd.set_option('display.max_columns', None)\n",
    "# df\n"
   ]
  },
  {
   "cell_type": "code",
   "execution_count": 6,
   "metadata": {},
   "outputs": [
    {
     "data": {
      "text/plain": [
       "Country                      0\n",
       "Town                         0\n",
       "Bank_Name                    0\n",
       "Bank_Phone_number            0\n",
       "Bank_Address                 0\n",
       "Bank_Website                 0\n",
       "Reviewer_Name                0\n",
       "Reviewer_Star                0\n",
       "Reviewer_Text                0\n",
       "Reviewer_Publish_Date        0\n",
       "Reviewer_Like_Reaction       0\n",
       "Reviewer_Profile_Link        0\n",
       "Reviewer_Owner_Reply         1\n",
       "Reviewer_Owner_Reply_Date    0\n",
       "Topic                        0\n",
       "Sentiment                    0\n",
       "Sub_Topic                    0\n",
       "dtype: int64"
      ]
     },
     "execution_count": 6,
     "metadata": {},
     "output_type": "execute_result"
    }
   ],
   "source": [
    "df.isna().sum()"
   ]
  },
  {
   "cell_type": "code",
   "execution_count": 7,
   "metadata": {},
   "outputs": [
    {
     "data": {
      "text/html": [
       "<div>\n",
       "<style scoped>\n",
       "    .dataframe tbody tr th:only-of-type {\n",
       "        vertical-align: middle;\n",
       "    }\n",
       "\n",
       "    .dataframe tbody tr th {\n",
       "        vertical-align: top;\n",
       "    }\n",
       "\n",
       "    .dataframe thead th {\n",
       "        text-align: right;\n",
       "    }\n",
       "</style>\n",
       "<table border=\"1\" class=\"dataframe\">\n",
       "  <thead>\n",
       "    <tr style=\"text-align: right;\">\n",
       "      <th></th>\n",
       "      <th>Country</th>\n",
       "      <th>Town</th>\n",
       "      <th>Bank_Name</th>\n",
       "      <th>Bank_Phone_number</th>\n",
       "      <th>Bank_Address</th>\n",
       "      <th>Bank_Website</th>\n",
       "      <th>Reviewer_Name</th>\n",
       "      <th>Reviewer_Star</th>\n",
       "      <th>Reviewer_Text</th>\n",
       "      <th>Reviewer_Publish_Date</th>\n",
       "      <th>Reviewer_Like_Reaction</th>\n",
       "      <th>Reviewer_Profile_Link</th>\n",
       "      <th>Reviewer_Owner_Reply</th>\n",
       "      <th>Reviewer_Owner_Reply_Date</th>\n",
       "      <th>Topic</th>\n",
       "      <th>Sentiment</th>\n",
       "      <th>Sub_Topic</th>\n",
       "    </tr>\n",
       "  </thead>\n",
       "  <tbody>\n",
       "    <tr>\n",
       "      <th>0</th>\n",
       "      <td>Morocco</td>\n",
       "      <td>Nador</td>\n",
       "      <td>Banque Populaire</td>\n",
       "      <td>Not available</td>\n",
       "      <td>53Hg+Fvc, Bd Mohamed Ameziane Errifi, Nador</td>\n",
       "      <td>not available</td>\n",
       "      <td>Mohamed Nador</td>\n",
       "      <td>4</td>\n",
       "      <td>Berger</td>\n",
       "      <td>2016-08-09 02:47:38.649920</td>\n",
       "      <td>0</td>\n",
       "      <td>https://www.google.com/maps/contrib/1165746157...</td>\n",
       "      <td>Nothing</td>\n",
       "      <td>1970-01-01</td>\n",
       "      <td>service client</td>\n",
       "      <td>Negative</td>\n",
       "      <td>[malhonnête, incompétent]</td>\n",
       "    </tr>\n",
       "    <tr>\n",
       "      <th>1</th>\n",
       "      <td>Morocco</td>\n",
       "      <td>Nador</td>\n",
       "      <td>Banque Populaire</td>\n",
       "      <td>Not available</td>\n",
       "      <td>53Hg+Fvc, Bd Mohamed Ameziane Errifi, Nador</td>\n",
       "      <td>not available</td>\n",
       "      <td>Mohamed Nador</td>\n",
       "      <td>4</td>\n",
       "      <td>Berger</td>\n",
       "      <td>2016-08-09 02:47:38.649920</td>\n",
       "      <td>0</td>\n",
       "      <td>https://www.google.com/maps/contrib/1165746157...</td>\n",
       "      <td>Nothing</td>\n",
       "      <td>1970-01-01</td>\n",
       "      <td>temps d'attente</td>\n",
       "      <td>Negative</td>\n",
       "      <td>[trop long]</td>\n",
       "    </tr>\n",
       "    <tr>\n",
       "      <th>2</th>\n",
       "      <td>Morocco</td>\n",
       "      <td>Nador</td>\n",
       "      <td>Banque Populaire</td>\n",
       "      <td>Not available</td>\n",
       "      <td>53Hg+Fvc, Bd Mohamed Ameziane Errifi, Nador</td>\n",
       "      <td>not available</td>\n",
       "      <td>Mohamed Nador</td>\n",
       "      <td>4</td>\n",
       "      <td>Berger</td>\n",
       "      <td>2016-08-09 02:47:38.649920</td>\n",
       "      <td>0</td>\n",
       "      <td>https://www.google.com/maps/contrib/1165746157...</td>\n",
       "      <td>Nothing</td>\n",
       "      <td>1970-01-01</td>\n",
       "      <td>frais bancaires</td>\n",
       "      <td>Negative</td>\n",
       "      <td>[élevés]</td>\n",
       "    </tr>\n",
       "    <tr>\n",
       "      <th>3</th>\n",
       "      <td>Morocco</td>\n",
       "      <td>Nador</td>\n",
       "      <td>Banque Populaire</td>\n",
       "      <td>Not available</td>\n",
       "      <td>53Hg+Fvc, Bd Mohamed Ameziane Errifi, Nador</td>\n",
       "      <td>not available</td>\n",
       "      <td>Mohamed Nador</td>\n",
       "      <td>4</td>\n",
       "      <td>Berger</td>\n",
       "      <td>2016-08-09 02:47:38.649920</td>\n",
       "      <td>0</td>\n",
       "      <td>https://www.google.com/maps/contrib/1165746157...</td>\n",
       "      <td>Nothing</td>\n",
       "      <td>1970-01-01</td>\n",
       "      <td>application mobile</td>\n",
       "      <td>Positive</td>\n",
       "      <td>[intuitive]</td>\n",
       "    </tr>\n",
       "    <tr>\n",
       "      <th>4</th>\n",
       "      <td>Morocco</td>\n",
       "      <td>Nador</td>\n",
       "      <td>Banque Populaire</td>\n",
       "      <td>Not available</td>\n",
       "      <td>53Hg+Fvc, Bd Mohamed Ameziane Errifi, Nador</td>\n",
       "      <td>not available</td>\n",
       "      <td>Hafaimya</td>\n",
       "      <td>3</td>\n",
       "      <td>Expérience neutre</td>\n",
       "      <td>2021-08-08 02:47:38.649927</td>\n",
       "      <td>0</td>\n",
       "      <td>https://www.google.com/maps/contrib/1027703754...</td>\n",
       "      <td>Nothing</td>\n",
       "      <td>1970-01-01</td>\n",
       "      <td>service client</td>\n",
       "      <td>Neutre</td>\n",
       "      <td>[normaux, aucun problème spécifique]</td>\n",
       "    </tr>\n",
       "  </tbody>\n",
       "</table>\n",
       "</div>"
      ],
      "text/plain": [
       "   Country   Town         Bank_Name Bank_Phone_number  \\\n",
       "0  Morocco  Nador  Banque Populaire     Not available   \n",
       "1  Morocco  Nador  Banque Populaire     Not available   \n",
       "2  Morocco  Nador  Banque Populaire     Not available   \n",
       "3  Morocco  Nador  Banque Populaire     Not available   \n",
       "4  Morocco  Nador  Banque Populaire     Not available   \n",
       "\n",
       "                                  Bank_Address   Bank_Website  Reviewer_Name  \\\n",
       "0  53Hg+Fvc, Bd Mohamed Ameziane Errifi, Nador  not available  Mohamed Nador   \n",
       "1  53Hg+Fvc, Bd Mohamed Ameziane Errifi, Nador  not available  Mohamed Nador   \n",
       "2  53Hg+Fvc, Bd Mohamed Ameziane Errifi, Nador  not available  Mohamed Nador   \n",
       "3  53Hg+Fvc, Bd Mohamed Ameziane Errifi, Nador  not available  Mohamed Nador   \n",
       "4  53Hg+Fvc, Bd Mohamed Ameziane Errifi, Nador  not available       Hafaimya   \n",
       "\n",
       "   Reviewer_Star      Reviewer_Text      Reviewer_Publish_Date  \\\n",
       "0              4             Berger 2016-08-09 02:47:38.649920   \n",
       "1              4             Berger 2016-08-09 02:47:38.649920   \n",
       "2              4             Berger 2016-08-09 02:47:38.649920   \n",
       "3              4             Berger 2016-08-09 02:47:38.649920   \n",
       "4              3  Expérience neutre 2021-08-08 02:47:38.649927   \n",
       "\n",
       "   Reviewer_Like_Reaction                              Reviewer_Profile_Link  \\\n",
       "0                       0  https://www.google.com/maps/contrib/1165746157...   \n",
       "1                       0  https://www.google.com/maps/contrib/1165746157...   \n",
       "2                       0  https://www.google.com/maps/contrib/1165746157...   \n",
       "3                       0  https://www.google.com/maps/contrib/1165746157...   \n",
       "4                       0  https://www.google.com/maps/contrib/1027703754...   \n",
       "\n",
       "  Reviewer_Owner_Reply Reviewer_Owner_Reply_Date               Topic  \\\n",
       "0              Nothing                1970-01-01      service client   \n",
       "1              Nothing                1970-01-01     temps d'attente   \n",
       "2              Nothing                1970-01-01     frais bancaires   \n",
       "3              Nothing                1970-01-01  application mobile   \n",
       "4              Nothing                1970-01-01      service client   \n",
       "\n",
       "  Sentiment                             Sub_Topic  \n",
       "0  Negative             [malhonnête, incompétent]  \n",
       "1  Negative                           [trop long]  \n",
       "2  Negative                              [élevés]  \n",
       "3  Positive                           [intuitive]  \n",
       "4    Neutre  [normaux, aucun problème spécifique]  "
      ]
     },
     "execution_count": 7,
     "metadata": {},
     "output_type": "execute_result"
    }
   ],
   "source": [
    "df.head()"
   ]
  },
  {
   "cell_type": "code",
   "execution_count": null,
   "metadata": {},
   "outputs": [],
   "source": [
    "\n",
    "# --------------------------------------------------------\n",
    "# 0.5 Initialization of database\n",
    "# --------------------------------------------------------\n",
    "# Utilisation de la DatabaseInitializer\n",
    "ADMIN_USER = 'postgres'\n",
    "ADMIN_PASSWORD = 'postgres'\n",
    "HOST = 'postgresql'\n",
    "PORT = '5432'\n",
    "DB_USER = 'conite'\n",
    "DB_PASSWORD = 'conite_password'\n",
    "DB_NAME = 'bank_reviews'\n",
    "\n",
    "# --------------------------------------------------------------------------\n",
    "# Database Initialization\n",
    "# --------------------------------------------------------------------------\n",
    "db_initializer = DatabaseInitializer(ADMIN_USER, ADMIN_PASSWORD, HOST, PORT)\n",
    "\n",
    "db_initializer.create_database_and_user(DB_USER, DB_PASSWORD, DB_NAME)\n",
    "\n",
    "# ------------------------------------------------------------------------------\n",
    "# Configuration de la base de donnees\n",
    "# ------------------------------------------------------------------------------\n",
    "DB_URI = f'postgresql://{DB_USER}:{DB_PASSWORD}@{HOST}:5432/{DB_NAME}'\n",
    "\n",
    "# ------------------------------------------------------------------------------\n",
    "# Initialize database and create tables\n",
    "# ------------------------------------------------------------------------------\n",
    "\n",
    "engine = create_engine(DB_URI)\n",
    "Session = sessionmaker(bind=engine)\n",
    "session = Session()\n",
    "wait_for_postgresql(host=HOST, port=PORT, user=DB_USER, password=DB_PASSWORD, dbname=DB_NAME)\n",
    "Base.metadata.create_all(engine)\n",
    "\n",
    "conn_params = {\n",
    "    'dbname': DB_NAME,\n",
    "    'user': DB_USER,\n",
    "    'password': DB_PASSWORD,\n",
    "    'host': HOST,\n",
    "    'port': PORT\n",
    "}\n",
    "with psycopg2.connect(**conn_params) as conn:\n",
    "    with conn.cursor() as cur:\n",
    "        query = \"\"\"\n",
    "        SELECT table_name \n",
    "        FROM information_schema.tables \n",
    "        WHERE table_schema = 'public'\n",
    "        \"\"\"\n",
    "        cur.execute(query)\n",
    "        existing_tables = cur.fetchall()\n",
    "        existing_tables = [table[0] for table in existing_tables]\n",
    "        print(\"\\033[1;92mTABLES CREATED SUCCESSFULLY.\\033[0m \\033[1;94m\" + str(existing_tables) + \"\\033[0m\")\n",
    "\n",
    "# --------------------------------------------------------\n",
    "# 0.6 Insertion of data in database\n",
    "# --------------------------------------------------------\n",
    "insert_data_from_dataframe(df, session)\n",
    "migration_to_decisionalDB(DB_NAME, DB_PASSWORD, session)\n",
    "# session.commit()"
   ]
  },
  {
   "cell_type": "code",
   "execution_count": null,
   "metadata": {},
   "outputs": [],
   "source": []
  }
 ],
 "metadata": {
  "kernelspec": {
   "display_name": "Python 3",
   "language": "python",
   "name": "python3"
  },
  "language_info": {
   "codemirror_mode": {
    "name": "ipython",
    "version": 3
   },
   "file_extension": ".py",
   "mimetype": "text/x-python",
   "name": "python",
   "nbconvert_exporter": "python",
   "pygments_lexer": "ipython3",
   "version": "3.11.0"
  }
 },
 "nbformat": 4,
 "nbformat_minor": 2
}
