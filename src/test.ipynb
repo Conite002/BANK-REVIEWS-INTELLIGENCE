{
 "cells": [
  {
   "cell_type": "code",
   "execution_count": 1,
   "metadata": {},
   "outputs": [],
   "source": [
    "import sys\n",
    "import os\n",
    "\n",
    "# Chemin absolu du répertoire racine du projet\n",
    "project_root = '/home/conite/Documents/WORKSPACE/PROJECTS/BI-PROJECT/BANK-REVIEWS-INTELLIGENCE/'\n",
    "\n",
    "# Ajouter le répertoire src au chemin de recherche des modules\n",
    "src = os.path.join(project_root, '.')\n",
    "sys.path.append(src)\n",
    "\n"
   ]
  },
  {
   "cell_type": "code",
   "execution_count": 2,
   "metadata": {},
   "outputs": [
    {
     "name": "stdout",
     "output_type": "stream",
     "text": [
      "/home/conite/Documents/WORKSPACE/PROJECTS/BI-PROJECT/BANK-REVIEWS-INTELLIGENCE/data/parquet/2024-07-30/Morocco/Nador.parquet: 90 rows\n",
      "Macro table saved at: /home/conite/Documents/WORKSPACE/PROJECTS/BI-PROJECT/BANK-REVIEWS-INTELLIGENCE/data/temp/macro_table/macro_table.parquet\n",
      "Macro table saved as CSV at : /home/conite/Documents/WORKSPACE/PROJECTS/BI-PROJECT/BANK-REVIEWS-INTELLIGENCE/data/temp/macro_table/macro_table.csv\n"
     ]
    }
   ],
   "source": [
    "import pandas as pd\n",
    "import numpy as np\n",
    "from src.data_concatenation.concatenate import build_macro_table\n",
    "from src.data_preprocessing.preprocessing import preprocess_dataframe\n",
    "from src.data_preprocessing.topificator import TopicExtractor\n",
    "from datetime import datetime\n",
    "from datetime import datetime, timedelta\n",
    "from tqdm import tqdm\n",
    "\n",
    "CURRENT_DATE = datetime.now().strftime(\"%Y-%m-%d\")\n",
    "DATA_PATH = os.path.join(project_root, 'data')\n",
    "CITIES_PATH = os.path.join(project_root, 'data', 'utils', 'countries_cities-full.json')\n",
    "RAW_SAVE_PATH = os.path.join(project_root, 'data', 'temp')\n",
    "PARCKET_PATH = os.path.join(project_root, 'data', 'parquet', CURRENT_DATE)\n",
    "\n",
    "\n",
    "concatenate_parquets = build_macro_table(DATA_PATH)\n",
    "\n",
    "# --------------------------------------------------------\n",
    "# 0.3 Preprocessing of concatenate parquets\n",
    "# --------------------------------------------------------\n",
    "# df = preprocess_dataframe(concatenate_parquets)\n"
   ]
  },
  {
   "cell_type": "code",
   "execution_count": 3,
   "metadata": {},
   "outputs": [
    {
     "data": {
      "text/plain": [
       "17"
      ]
     },
     "execution_count": 3,
     "metadata": {},
     "output_type": "execute_result"
    }
   ],
   "source": [
    "len(concatenate_parquets.columns)"
   ]
  },
  {
   "cell_type": "code",
   "execution_count": 4,
   "metadata": {},
   "outputs": [
    {
     "name": "stderr",
     "output_type": "stream",
     "text": [
      "/home/conite/Documents/WORKSPACE/PROJECTS/BI-PROJECT/BANK-REVIEWS-INTELLIGENCE/./src/data_preprocessing/preprocessing.py:64: FutureWarning: Downcasting object dtype arrays on .fillna, .ffill, .bfill is deprecated and will change in a future version. Call result.infer_objects(copy=False) instead. To opt-in to the future behavior, set `pd.set_option('future.no_silent_downcasting', True)`\n",
      "  df = df.fillna({\n"
     ]
    },
    {
     "name": "stdout",
     "output_type": "stream",
     "text": [
      "Topic : {'topics': [('Application mobile', 'Negative', ['Application mobile bug', 'Problèmes de connexion'])]}\n",
      "DIRECTORY : /home/conite/Documents/WORKSPACE/PROJECTS/BI-PROJECT/BANK-REVIEWS-INTELLIGENCE/data/processed/2024-08-06\n"
     ]
    },
    {
     "name": "stderr",
     "output_type": "stream",
     "text": [
      "  1%|▏         | 1/73 [01:11<1:26:23, 71.99s/it]"
     ]
    },
    {
     "name": "stdout",
     "output_type": "stream",
     "text": [
      "Topic 0 : Pays Ahsan ::: {'topics': [('sécurité', 'Negative', ['vulnerabilité de données']), ('expérience utilisateur', 'Negative', ['interface utilisateur incohérente'])]}\n"
     ]
    },
    {
     "name": "stderr",
     "output_type": "stream",
     "text": [
      "  3%|▎         | 2/73 [03:00<1:50:30, 93.39s/it]"
     ]
    },
    {
     "name": "stdout",
     "output_type": "stream",
     "text": [
      "Topic 1 : Berger ::: {'topics': [('Localisation et accessibilité', 'Negative', ['Éloignée de chez moi']), ('Satisfaction client', 'Negative', [\"Ne m'a pas aidé à résoudre mon problème\"]), ('Compétence du personnel', 'Negative', ['Le représentant était irrespectueux']), ('Services additionnels', 'Positive', [\"M'ont proposé un programme de fidélité\"])]}\n"
     ]
    },
    {
     "name": "stderr",
     "output_type": "stream",
     "text": [
      "  4%|▍         | 3/73 [04:29<1:46:25, 91.22s/it]"
     ]
    },
    {
     "name": "stdout",
     "output_type": "stream",
     "text": [
      "Topic 2 : Expérience neutre ::: {'topics': [{'topic': 'Frais bancaires', 'sentiment': 'Neutral', 'sub_topics': []}, {'topic': 'Localisation et accessibilité', 'sentiment': 'Neutral', 'sub_topics': []}]}\n",
      "Erreur rencontrée à l'index 2: 0\n"
     ]
    },
    {
     "name": "stderr",
     "output_type": "stream",
     "text": [
      "  5%|▌         | 4/73 [05:33<1:32:42, 80.62s/it]"
     ]
    },
    {
     "name": "stdout",
     "output_type": "stream",
     "text": [
      "Topic 3 : Très mauvaise expérience ::: {'topics': [(\"Temps d'attente\", 'Negative', ['lent'])]}\n"
     ]
    },
    {
     "name": "stderr",
     "output_type": "stream",
     "text": [
      "  7%|▋         | 5/73 [07:15<1:39:57, 88.20s/it]"
     ]
    },
    {
     "name": "stdout",
     "output_type": "stream",
     "text": [
      "Topic 4 : Expérience neutre ::: {'topics': [('Service client', 'Neutral', ['réponse rapide', 'pas vraiment satisfait ou désappointé']), ('Gestion des comptes', 'Neutral', ['fonctionne correctement', 'aucune satisfaction ni frustration particulières']), ('Expérience utilisateur', 'Neutral', ['utilisation acceptable', \"pas d'émotions notables\"])]}\n"
     ]
    },
    {
     "name": "stderr",
     "output_type": "stream",
     "text": [
      "  8%|▊         | 6/73 [08:18<1:29:03, 79.75s/it]"
     ]
    },
    {
     "name": "stdout",
     "output_type": "stream",
     "text": [
      "Topic 5 : Très bonne expérience ::: {'topics': [('Satisfaction client', 'Positive', ['Très bonne expérience'])]}\n"
     ]
    },
    {
     "name": "stderr",
     "output_type": "stream",
     "text": [
      " 10%|▉         | 7/73 [09:37<1:27:40, 79.70s/it]"
     ]
    },
    {
     "name": "stdout",
     "output_type": "stream",
     "text": [
      "Topic 6 : Expérience neutre ::: {'topics': [(\"Temps d'attente\", 'Neutral', ['pas terrible', 'pas si mauvais']), ('Sécurité', 'Neutral', ['suffisante', 'pas super'])]}\n"
     ]
    },
    {
     "name": "stderr",
     "output_type": "stream",
     "text": [
      " 11%|█         | 8/73 [11:30<1:37:43, 90.20s/it]"
     ]
    },
    {
     "name": "stdout",
     "output_type": "stream",
     "text": [
      "Topic 7 : J'ai eu l'honneur d'être accueilli chaleureusement par le président  de la BP Nador Al Hociema et son proche collaborateur , au cours  de notre entretien,  j'ai découvert une personnalité très averti, dynamique, pragmatique, et … ::: {'topics': [('accueil', 'Positive', ['chaleureux']), ('personnalité', 'Positive', ['averti', 'dynamique', 'pragmatique'])]}\n"
     ]
    },
    {
     "name": "stderr",
     "output_type": "stream",
     "text": [
      " 12%|█▏        | 9/73 [13:00<1:36:12, 90.20s/it]"
     ]
    },
    {
     "name": "stdout",
     "output_type": "stream",
     "text": [
      "Topic 8 : Siège de la banque populaire  Nador Al hoceima. ::: {'topics': [('Service client', 'Negative', ['délai de réponse long']), ('Localisation et accessibilité', 'Positive', ['proximité']), ('Services additionnels', 'Neutral', ['présence de services supplémentaires'])]}\n"
     ]
    },
    {
     "name": "stderr",
     "output_type": "stream",
     "text": [
      " 14%|█▎        | 10/73 [14:10<1:28:01, 83.83s/it]"
     ]
    },
    {
     "name": "stdout",
     "output_type": "stream",
     "text": [
      "Topic 9 : Bon accueil et professionnel ::: {'topics': [('Service clientèle', 'Positive', ['récussite dans la résolution de problème'])]}\n"
     ]
    },
    {
     "name": "stderr",
     "output_type": "stream",
     "text": [
      " 15%|█▌        | 11/73 [15:16<1:21:05, 78.47s/it]"
     ]
    },
    {
     "name": "stdout",
     "output_type": "stream",
     "text": [
      "Topic 10 : Accueil chaleureux bon service ::: {'topics': [('accueil chaleureux', 'Positive', ['bon service'])]}\n"
     ]
    },
    {
     "name": "stderr",
     "output_type": "stream",
     "text": [
      " 16%|█▋        | 12/73 [16:42<1:22:02, 80.69s/it]"
     ]
    },
    {
     "name": "stdout",
     "output_type": "stream",
     "text": [
      "Topic 11 : Certains employés de cette agence sont arrogants, notamment la dame en charge de l'assurance transport des morts (middle office). L'année prochaine, je déménagerai dans une meilleure banque, si Dieu le veut ::: {'topics': [('Service client', 'Negative', ['arrogants', 'pauvre service'])]}\n"
     ]
    },
    {
     "name": "stderr",
     "output_type": "stream",
     "text": [
      " 18%|█▊        | 13/73 [17:52<1:17:21, 77.36s/it]"
     ]
    },
    {
     "name": "stdout",
     "output_type": "stream",
     "text": [
      "Topic 12 : Je ne suis jamais entré dans une banque aussi hostile.\n",
      "Personnel comme dans la rue\n",
      "Très déçu. ::: {'topics': [('hostilité du personnel', 'Negative', ['déçu'])]}\n"
     ]
    },
    {
     "name": "stderr",
     "output_type": "stream",
     "text": [
      " 19%|█▉        | 14/73 [19:20<1:19:21, 80.71s/it]"
     ]
    },
    {
     "name": "stdout",
     "output_type": "stream",
     "text": [
      "Topic 13 : Cool. 👍🔐 … ::: {'topics': [('Service client', 'Positive', ['Réactif']), ('Résolution de problème rapide', 'Positive', []), ('Satisfaction générale', 'Positive', ['Très satisfait'])]}\n"
     ]
    },
    {
     "name": "stderr",
     "output_type": "stream",
     "text": [
      " 21%|██        | 15/73 [20:32<1:15:29, 78.09s/it]"
     ]
    },
    {
     "name": "stdout",
     "output_type": "stream",
     "text": [
      "Topic 14 : Meilleure banque ::: {'topics': [('Service client', 'Positive', ['réactif', 'rapidité']), ('Gestion des comptes', 'Positive', ['simple'])]}\n"
     ]
    },
    {
     "name": "stderr",
     "output_type": "stream",
     "text": [
      " 22%|██▏       | 16/73 [21:47<1:13:13, 77.08s/it]"
     ]
    },
    {
     "name": "stdout",
     "output_type": "stream",
     "text": [
      "Topic 15 : être ::: {'topics': [['Frais bancaires', 'Negative', ['élevés', 'comparés']], ['Application mobile', 'Negative', ['lente', 'peu intuitive']]]}\n"
     ]
    },
    {
     "name": "stderr",
     "output_type": "stream",
     "text": [
      " 23%|██▎       | 17/73 [23:03<1:11:36, 76.72s/it]"
     ]
    },
    {
     "name": "stdout",
     "output_type": "stream",
     "text": [
      "Topic 16 : Bonne expérience ::: {'topics': [{'topic': \"Facilité d'ouverture de compte\", 'sentiment': 'Positive', 'sub_topics': ['rapide', 'simple']}]}\n",
      "Erreur rencontrée à l'index 16: 0\n"
     ]
    },
    {
     "name": "stderr",
     "output_type": "stream",
     "text": [
      " 25%|██▍       | 18/73 [24:10<1:07:37, 73.78s/it]"
     ]
    },
    {
     "name": "stdout",
     "output_type": "stream",
     "text": [
      "Topic 17 : Très bonne expérience ::: {'topics': [{'topic': 'Satisfaction client', 'sentiment': 'Positive', 'sub_topics': ['Simple']}]}\n",
      "Erreur rencontrée à l'index 17: 0\n"
     ]
    },
    {
     "name": "stderr",
     "output_type": "stream",
     "text": [
      " 26%|██▌       | 19/73 [24:26<50:54, 56.56s/it]  "
     ]
    },
    {
     "name": "stdout",
     "output_type": "stream",
     "text": [
      "Topic 18 : Très bonne expérience ::: {'topics': [('Expérience utilisateur', 'Positive', ['Rapide', 'Simple'])]}\n"
     ]
    },
    {
     "name": "stderr",
     "output_type": "stream",
     "text": [
      " 27%|██▋       | 20/73 [25:28<51:15, 58.03s/it]"
     ]
    },
    {
     "name": "stdout",
     "output_type": "stream",
     "text": [
      "Topic 19 : Expérience neutre ::: {'topics': [('Sécurité des transactions en ligne', 'Neutre', ['normal'])]}\n",
      "Attempt 1 failed with error: Failed to parse response: unhashable type: 'list'\n"
     ]
    },
    {
     "name": "stderr",
     "output_type": "stream",
     "text": [
      " 29%|██▉       | 21/73 [27:15<1:03:00, 72.70s/it]"
     ]
    },
    {
     "name": "stdout",
     "output_type": "stream",
     "text": [
      "Topic 20 : Très bonne expérience ::: {'topics': [('ouverture de compte', 'Positive', ['rapide', 'simple'])]}\n"
     ]
    },
    {
     "name": "stderr",
     "output_type": "stream",
     "text": [
      " 30%|███       | 22/73 [28:18<59:33, 70.06s/it]  "
     ]
    },
    {
     "name": "stdout",
     "output_type": "stream",
     "text": [
      "Topic 21 : Très mauvaise expérience ::: {'topics': [(\"temps d'attente\", 'Negative', ['très mauvaise expérience'])]}\n"
     ]
    },
    {
     "name": "stderr",
     "output_type": "stream",
     "text": [
      " 32%|███▏      | 23/73 [29:28<58:12, 69.86s/it]"
     ]
    },
    {
     "name": "stdout",
     "output_type": "stream",
     "text": [
      "Topic 22 : Expérience neutre ::: {'topics': [{'name': 'ouverture de compte', 'sentiment': 'Neutral', 'sub_topics': ['facile']}]}\n",
      "Erreur rencontrée à l'index 22: 0\n"
     ]
    },
    {
     "name": "stderr",
     "output_type": "stream",
     "text": [
      " 33%|███▎      | 24/73 [30:33<55:58, 68.54s/it]"
     ]
    },
    {
     "name": "stdout",
     "output_type": "stream",
     "text": [
      "Topic 24 : Banque et service normal. ::: {'topics': [('Service client', 'Negative', ['normal']), ('Gestion des comptes', 'Neutral', [])]}\n"
     ]
    },
    {
     "name": "stderr",
     "output_type": "stream",
     "text": [
      " 34%|███▍      | 25/73 [32:03<1:00:02, 75.04s/it]"
     ]
    },
    {
     "name": "stdout",
     "output_type": "stream",
     "text": [
      "Topic 25 : Banque populaire du nador ::: {'topics': [('Service client', 'Positive', ['réactif', 'rapide']), ('Frais bancaires', 'Negative', ['élevés']), ('Application mobile', 'Negative', ['lente', 'peu intuitive'])]}\n"
     ]
    },
    {
     "name": "stderr",
     "output_type": "stream",
     "text": [
      " 36%|███▌      | 26/73 [33:08<56:17, 71.87s/it]  "
     ]
    },
    {
     "name": "stdout",
     "output_type": "stream",
     "text": [
      "Topic 26 : Bien ::: {'topics': [(\"Facilité d'ouverture de compte\", 'Positive', ['Rapide', 'Simple'])]}\n"
     ]
    },
    {
     "name": "stderr",
     "output_type": "stream",
     "text": [
      " 37%|███▋      | 27/73 [33:59<50:22, 65.72s/it]"
     ]
    },
    {
     "name": "stdout",
     "output_type": "stream",
     "text": [
      "Topic 27 : Non ::: {'topics': [('Frais bancaires', 'Negative', ['élevés', \"comparés à d'autres banques\"]), ('Application mobile', 'Negative', ['lente', 'peu intuitive'])]}\n"
     ]
    },
    {
     "name": "stderr",
     "output_type": "stream",
     "text": [
      " 38%|███▊      | 28/73 [34:41<43:51, 58.49s/it]"
     ]
    },
    {
     "name": "stdout",
     "output_type": "stream",
     "text": [
      "Topic 28 : Très bonne expérience ::: {'topics': [('expérience utilisateur', 'Positive', ['rapide', 'simple'])]}\n"
     ]
    },
    {
     "name": "stderr",
     "output_type": "stream",
     "text": [
      " 40%|███▉      | 29/73 [35:24<39:25, 53.75s/it]"
     ]
    },
    {
     "name": "stdout",
     "output_type": "stream",
     "text": [
      "Topic 29 : Expérience neutre ::: {'topics': [('Service client', 'Neutral', ['réactif', 'rapidité'])]}\n"
     ]
    },
    {
     "name": "stderr",
     "output_type": "stream",
     "text": [
      " 41%|████      | 30/73 [35:42<30:53, 43.11s/it]"
     ]
    },
    {
     "name": "stdout",
     "output_type": "stream",
     "text": [
      "Topic 30 : Expérience neutre ::: {'topics': [('Service client', 'Neutral', ['Pas de problème']), ('Gestion des comptes', 'Neutral', ['Pas de problème'])]}\n"
     ]
    },
    {
     "name": "stderr",
     "output_type": "stream",
     "text": [
      " 42%|████▏     | 31/73 [36:40<33:13, 47.47s/it]"
     ]
    },
    {
     "name": "stdout",
     "output_type": "stream",
     "text": [
      "Topic 31 : Bonne équipe ::: {'topics': [{'topic': 'Compétence du personnel', 'sentiment': 'Positive', 'sub_topics': ['Bonne équipe']}]}\n",
      "Erreur rencontrée à l'index 31: 0\n"
     ]
    },
    {
     "name": "stderr",
     "output_type": "stream",
     "text": [
      " 44%|████▍     | 32/73 [38:06<40:26, 59.19s/it]"
     ]
    },
    {
     "name": "stdout",
     "output_type": "stream",
     "text": [
      "Topic 32 : C'est une banque de quartier ::: {'topics': [('Localisation et accessibilité', 'Positive', ['près de chez moi', 'facilement accessible']), ('Service client', 'Positive', ['très accueillant', 'rapidement réactif']), ('Gestion des comptes', 'Neutral', [\"je n'ai pas eu d'incidents\", 'mes informations sont à jour']), ('Sécurité', 'Positive', ['mes informations financières sont sécurisées', 'je suis rassuré'])]}\n"
     ]
    },
    {
     "name": "stderr",
     "output_type": "stream",
     "text": [
      " 45%|████▌     | 33/73 [38:59<38:13, 57.35s/it]"
     ]
    },
    {
     "name": "stdout",
     "output_type": "stream",
     "text": [
      "Topic 33 : Très mauvaise expérience ::: {'topics': [(\"Temps d'attente\", 'Negative', ['long'])]}\n"
     ]
    },
    {
     "name": "stderr",
     "output_type": "stream",
     "text": [
      " 47%|████▋     | 34/73 [39:46<35:11, 54.13s/it]"
     ]
    },
    {
     "name": "stdout",
     "output_type": "stream",
     "text": [
      "Topic 34 : Très bonne expérience ::: {'topics': [('service client', 'Positive', ['réactif', 'rapide']), ('expérience utilisateur', 'Positive', ['simple'])]}\n"
     ]
    },
    {
     "name": "stderr",
     "output_type": "stream",
     "text": [
      " 48%|████▊     | 35/73 [40:40<34:23, 54.29s/it]"
     ]
    },
    {
     "name": "stdout",
     "output_type": "stream",
     "text": [
      "Topic 35 : Expérience neutre ::: {'topics': [{'topic': 'Gestion des comptes', 'sentiment': 'Neutre', 'sub_topics': ['Expérience neutre']}]}\n",
      "Erreur rencontrée à l'index 35: 0\n"
     ]
    },
    {
     "name": "stderr",
     "output_type": "stream",
     "text": [
      " 49%|████▉     | 36/73 [41:49<36:05, 58.52s/it]"
     ]
    },
    {
     "name": "stdout",
     "output_type": "stream",
     "text": [
      "Topic 36 : Bonne equipe. ::: {'topics': [('Qualité des services', 'Positive', ['rapide', 'simple'])]}\n"
     ]
    },
    {
     "name": "stderr",
     "output_type": "stream",
     "text": [
      " 51%|█████     | 37/73 [42:31<32:14, 53.75s/it]"
     ]
    },
    {
     "name": "stdout",
     "output_type": "stream",
     "text": [
      "Topic 37 : Bonne expérience ::: {'topics': [('satisfaction client', 'Positive', ['bien', 'très bon'])]}\n"
     ]
    },
    {
     "name": "stderr",
     "output_type": "stream",
     "text": [
      " 52%|█████▏    | 38/73 [43:23<30:59, 53.14s/it]"
     ]
    },
    {
     "name": "stdout",
     "output_type": "stream",
     "text": [
      "Topic 38 : Très mauvaise expérience ::: {'topics': [('Expérience client', 'Negative', ['Mauvaise'])]}\n"
     ]
    },
    {
     "name": "stderr",
     "output_type": "stream",
     "text": [
      " 53%|█████▎    | 39/73 [43:40<23:57, 42.27s/it]"
     ]
    },
    {
     "name": "stdout",
     "output_type": "stream",
     "text": [
      "Topic 39 : Très mauvaise expérience ::: {'topics': [('Sécurité', 'Negative', ['vol', 'sécurité'])]}\n"
     ]
    },
    {
     "name": "stderr",
     "output_type": "stream",
     "text": [
      " 55%|█████▍    | 40/73 [44:32<24:53, 45.26s/it]"
     ]
    },
    {
     "name": "stdout",
     "output_type": "stream",
     "text": [
      "Topic 40 : Très bonne expérience ::: {'topics': [('Expérience utilisateur', 'Positive', ['Rapide', 'Simple'])]}\n"
     ]
    },
    {
     "name": "stderr",
     "output_type": "stream",
     "text": [
      " 56%|█████▌    | 41/73 [44:53<20:15, 37.98s/it]"
     ]
    },
    {
     "name": "stdout",
     "output_type": "stream",
     "text": [
      "Topic 41 : Très bonne expérience ::: {'topics': [('service client', 'Positive', ['réactif', 'résolution rapide de problèmes']), ('expérience utilisateur', 'Satisfaisante', ['rapide', 'simple'])]}\n"
     ]
    },
    {
     "name": "stderr",
     "output_type": "stream",
     "text": [
      " 58%|█████▊    | 42/73 [45:47<22:03, 42.71s/it]"
     ]
    },
    {
     "name": "stdout",
     "output_type": "stream",
     "text": [
      "Topic 42 : Des gens biens ::: {'topics': [('Sécurité', 'Positive', ['Très réactif', 'Résolution rapide de problèmes'])]}\n"
     ]
    },
    {
     "name": "stderr",
     "output_type": "stream",
     "text": [
      " 59%|█████▉    | 43/73 [46:55<25:07, 50.24s/it]"
     ]
    },
    {
     "name": "stdout",
     "output_type": "stream",
     "text": [
      "Topic 43 : Comme les autres banques ::: {'topics': [('autres banques', 'Negative', ['trop élevés', \"comparés à d'autres\"])]}\n"
     ]
    }
   ],
   "source": [
    "\n",
    "# --------------------------------------------------------\n",
    "# 0.3 Preprocessing of concatenate parquets\n",
    "# --------------------------------------------------------\n",
    "df = preprocess_dataframe(concatenate_parquets)"
   ]
  },
  {
   "cell_type": "code",
   "execution_count": 5,
   "metadata": {},
   "outputs": [
    {
     "data": {
      "text/plain": [
       "14"
      ]
     },
     "execution_count": 5,
     "metadata": {},
     "output_type": "execute_result"
    }
   ],
   "source": [
    "len(df.columns)"
   ]
  },
  {
   "cell_type": "code",
   "execution_count": 6,
   "metadata": {},
   "outputs": [
    {
     "data": {
      "text/html": [
       "<div>\n",
       "<style scoped>\n",
       "    .dataframe tbody tr th:only-of-type {\n",
       "        vertical-align: middle;\n",
       "    }\n",
       "\n",
       "    .dataframe tbody tr th {\n",
       "        vertical-align: top;\n",
       "    }\n",
       "\n",
       "    .dataframe thead th {\n",
       "        text-align: right;\n",
       "    }\n",
       "</style>\n",
       "<table border=\"1\" class=\"dataframe\">\n",
       "  <thead>\n",
       "    <tr style=\"text-align: right;\">\n",
       "      <th></th>\n",
       "      <th>Reviewer_Text</th>\n",
       "      <th>Reviewer_Star</th>\n",
       "    </tr>\n",
       "  </thead>\n",
       "  <tbody>\n",
       "    <tr>\n",
       "      <th>0</th>\n",
       "      <td>Pays Ahsan</td>\n",
       "      <td>5</td>\n",
       "    </tr>\n",
       "    <tr>\n",
       "      <th>1</th>\n",
       "      <td>Berger</td>\n",
       "      <td>4</td>\n",
       "    </tr>\n",
       "    <tr>\n",
       "      <th>2</th>\n",
       "      <td>Expérience neutre</td>\n",
       "      <td>3</td>\n",
       "    </tr>\n",
       "    <tr>\n",
       "      <th>3</th>\n",
       "      <td>Très mauvaise expérience</td>\n",
       "      <td>1</td>\n",
       "    </tr>\n",
       "    <tr>\n",
       "      <th>4</th>\n",
       "      <td>Expérience neutre</td>\n",
       "      <td>3</td>\n",
       "    </tr>\n",
       "    <tr>\n",
       "      <th>5</th>\n",
       "      <td>Très bonne expérience</td>\n",
       "      <td>5</td>\n",
       "    </tr>\n",
       "    <tr>\n",
       "      <th>6</th>\n",
       "      <td>Expérience neutre</td>\n",
       "      <td>3</td>\n",
       "    </tr>\n",
       "    <tr>\n",
       "      <th>7</th>\n",
       "      <td>J'ai eu l'honneur d'être accueilli chaleureuse...</td>\n",
       "      <td>5</td>\n",
       "    </tr>\n",
       "    <tr>\n",
       "      <th>8</th>\n",
       "      <td>Siège de la banque populaire  Nador Al hoceima.</td>\n",
       "      <td>5</td>\n",
       "    </tr>\n",
       "    <tr>\n",
       "      <th>9</th>\n",
       "      <td>Bon accueil et professionnel</td>\n",
       "      <td>5</td>\n",
       "    </tr>\n",
       "    <tr>\n",
       "      <th>10</th>\n",
       "      <td>Accueil chaleureux bon service</td>\n",
       "      <td>5</td>\n",
       "    </tr>\n",
       "    <tr>\n",
       "      <th>11</th>\n",
       "      <td>Certains employés de cette agence sont arrogan...</td>\n",
       "      <td>1</td>\n",
       "    </tr>\n",
       "    <tr>\n",
       "      <th>12</th>\n",
       "      <td>Je ne suis jamais entré dans une banque aussi ...</td>\n",
       "      <td>1</td>\n",
       "    </tr>\n",
       "    <tr>\n",
       "      <th>13</th>\n",
       "      <td>Cool. 👍🔐 …</td>\n",
       "      <td>4</td>\n",
       "    </tr>\n",
       "    <tr>\n",
       "      <th>14</th>\n",
       "      <td>Meilleure banque</td>\n",
       "      <td>5</td>\n",
       "    </tr>\n",
       "    <tr>\n",
       "      <th>15</th>\n",
       "      <td>être</td>\n",
       "      <td>4</td>\n",
       "    </tr>\n",
       "    <tr>\n",
       "      <th>16</th>\n",
       "      <td>Bonne expérience</td>\n",
       "      <td>4</td>\n",
       "    </tr>\n",
       "    <tr>\n",
       "      <th>17</th>\n",
       "      <td>Très bonne expérience</td>\n",
       "      <td>5</td>\n",
       "    </tr>\n",
       "    <tr>\n",
       "      <th>18</th>\n",
       "      <td>Très bonne expérience</td>\n",
       "      <td>5</td>\n",
       "    </tr>\n",
       "    <tr>\n",
       "      <th>19</th>\n",
       "      <td>Expérience neutre</td>\n",
       "      <td>3</td>\n",
       "    </tr>\n",
       "    <tr>\n",
       "      <th>20</th>\n",
       "      <td>Très bonne expérience</td>\n",
       "      <td>5</td>\n",
       "    </tr>\n",
       "    <tr>\n",
       "      <th>21</th>\n",
       "      <td>Très mauvaise expérience</td>\n",
       "      <td>1</td>\n",
       "    </tr>\n",
       "    <tr>\n",
       "      <th>22</th>\n",
       "      <td>Expérience neutre</td>\n",
       "      <td>3</td>\n",
       "    </tr>\n",
       "    <tr>\n",
       "      <th>24</th>\n",
       "      <td>Banque et service normal.</td>\n",
       "      <td>3</td>\n",
       "    </tr>\n",
       "    <tr>\n",
       "      <th>25</th>\n",
       "      <td>Banque populaire du nador</td>\n",
       "      <td>5</td>\n",
       "    </tr>\n",
       "    <tr>\n",
       "      <th>26</th>\n",
       "      <td>Bien</td>\n",
       "      <td>3</td>\n",
       "    </tr>\n",
       "    <tr>\n",
       "      <th>27</th>\n",
       "      <td>Non</td>\n",
       "      <td>1</td>\n",
       "    </tr>\n",
       "    <tr>\n",
       "      <th>28</th>\n",
       "      <td>Très bonne expérience</td>\n",
       "      <td>5</td>\n",
       "    </tr>\n",
       "    <tr>\n",
       "      <th>29</th>\n",
       "      <td>Expérience neutre</td>\n",
       "      <td>3</td>\n",
       "    </tr>\n",
       "    <tr>\n",
       "      <th>30</th>\n",
       "      <td>Expérience neutre</td>\n",
       "      <td>3</td>\n",
       "    </tr>\n",
       "    <tr>\n",
       "      <th>31</th>\n",
       "      <td>Bonne équipe</td>\n",
       "      <td>5</td>\n",
       "    </tr>\n",
       "    <tr>\n",
       "      <th>32</th>\n",
       "      <td>C'est une banque de quartier</td>\n",
       "      <td>4</td>\n",
       "    </tr>\n",
       "    <tr>\n",
       "      <th>33</th>\n",
       "      <td>Très mauvaise expérience</td>\n",
       "      <td>1</td>\n",
       "    </tr>\n",
       "    <tr>\n",
       "      <th>34</th>\n",
       "      <td>Très bonne expérience</td>\n",
       "      <td>5</td>\n",
       "    </tr>\n",
       "    <tr>\n",
       "      <th>35</th>\n",
       "      <td>Expérience neutre</td>\n",
       "      <td>3</td>\n",
       "    </tr>\n",
       "    <tr>\n",
       "      <th>36</th>\n",
       "      <td>Bonne equipe.</td>\n",
       "      <td>5</td>\n",
       "    </tr>\n",
       "    <tr>\n",
       "      <th>37</th>\n",
       "      <td>Bonne expérience</td>\n",
       "      <td>4</td>\n",
       "    </tr>\n",
       "    <tr>\n",
       "      <th>38</th>\n",
       "      <td>Très mauvaise expérience</td>\n",
       "      <td>1</td>\n",
       "    </tr>\n",
       "    <tr>\n",
       "      <th>39</th>\n",
       "      <td>Très mauvaise expérience</td>\n",
       "      <td>1</td>\n",
       "    </tr>\n",
       "    <tr>\n",
       "      <th>40</th>\n",
       "      <td>Très bonne expérience</td>\n",
       "      <td>5</td>\n",
       "    </tr>\n",
       "    <tr>\n",
       "      <th>41</th>\n",
       "      <td>Très bonne expérience</td>\n",
       "      <td>5</td>\n",
       "    </tr>\n",
       "    <tr>\n",
       "      <th>42</th>\n",
       "      <td>Des gens biens</td>\n",
       "      <td>5</td>\n",
       "    </tr>\n",
       "    <tr>\n",
       "      <th>43</th>\n",
       "      <td>Comme les autres banques</td>\n",
       "      <td>4</td>\n",
       "    </tr>\n",
       "    <tr>\n",
       "      <th>44</th>\n",
       "      <td>Très mauvaise expérience</td>\n",
       "      <td>1</td>\n",
       "    </tr>\n",
       "    <tr>\n",
       "      <th>45</th>\n",
       "      <td>Très mauvaise expérience</td>\n",
       "      <td>1</td>\n",
       "    </tr>\n",
       "    <tr>\n",
       "      <th>46</th>\n",
       "      <td>(Mauvaise expérience,)</td>\n",
       "      <td>2</td>\n",
       "    </tr>\n",
       "    <tr>\n",
       "      <th>47</th>\n",
       "      <td>Bonne expérience</td>\n",
       "      <td>4</td>\n",
       "    </tr>\n",
       "    <tr>\n",
       "      <th>48</th>\n",
       "      <td>Très mauvaise expérience</td>\n",
       "      <td>1</td>\n",
       "    </tr>\n",
       "    <tr>\n",
       "      <th>49</th>\n",
       "      <td>C'est une agence très magnifique Et très réact...</td>\n",
       "      <td>5</td>\n",
       "    </tr>\n",
       "    <tr>\n",
       "      <th>50</th>\n",
       "      <td>Si vous n'êtes pas résident au Maroc c'est trè...</td>\n",
       "      <td>1</td>\n",
       "    </tr>\n",
       "    <tr>\n",
       "      <th>51</th>\n",
       "      <td>Que Dieu bénisse</td>\n",
       "      <td>5</td>\n",
       "    </tr>\n",
       "    <tr>\n",
       "      <th>52</th>\n",
       "      <td>Service haut de gamme</td>\n",
       "      <td>5</td>\n",
       "    </tr>\n",
       "    <tr>\n",
       "      <th>53</th>\n",
       "      <td>Banque Dima Resayx huit</td>\n",
       "      <td>5</td>\n",
       "    </tr>\n",
       "    <tr>\n",
       "      <th>54</th>\n",
       "      <td>Parce que oui\\nMerci</td>\n",
       "      <td>5</td>\n",
       "    </tr>\n",
       "    <tr>\n",
       "      <th>55</th>\n",
       "      <td>Bonne expérience</td>\n",
       "      <td>4</td>\n",
       "    </tr>\n",
       "    <tr>\n",
       "      <th>56</th>\n",
       "      <td>Imcompetence\\nAucun engagement\\nJe sais pas si...</td>\n",
       "      <td>1</td>\n",
       "    </tr>\n",
       "    <tr>\n",
       "      <th>57</th>\n",
       "      <td>Aïe incompétence c’est le seul mot qui me vienne</td>\n",
       "      <td>1</td>\n",
       "    </tr>\n",
       "    <tr>\n",
       "      <th>58</th>\n",
       "      <td>Bonne expérience</td>\n",
       "      <td>4</td>\n",
       "    </tr>\n",
       "    <tr>\n",
       "      <th>59</th>\n",
       "      <td>Une équipe très serviable et professionnelle.</td>\n",
       "      <td>5</td>\n",
       "    </tr>\n",
       "    <tr>\n",
       "      <th>60</th>\n",
       "      <td>Merci pour le changement de direction j'aime bien</td>\n",
       "      <td>5</td>\n",
       "    </tr>\n",
       "    <tr>\n",
       "      <th>61</th>\n",
       "      <td>Bonne agence ... une équipe professionnels.....</td>\n",
       "      <td>5</td>\n",
       "    </tr>\n",
       "    <tr>\n",
       "      <th>62</th>\n",
       "      <td>toujours je téléphone pas répondre .</td>\n",
       "      <td>1</td>\n",
       "    </tr>\n",
       "    <tr>\n",
       "      <th>63</th>\n",
       "      <td>Très mauvaise expérience</td>\n",
       "      <td>1</td>\n",
       "    </tr>\n",
       "    <tr>\n",
       "      <th>64</th>\n",
       "      <td>Très bonne expérience</td>\n",
       "      <td>5</td>\n",
       "    </tr>\n",
       "    <tr>\n",
       "      <th>81</th>\n",
       "      <td>C'est la pire agence, toujours pas de la ligne...</td>\n",
       "      <td>1</td>\n",
       "    </tr>\n",
       "    <tr>\n",
       "      <th>82</th>\n",
       "      <td>Bien</td>\n",
       "      <td>4</td>\n",
       "    </tr>\n",
       "    <tr>\n",
       "      <th>83</th>\n",
       "      <td>Très bonne expérience</td>\n",
       "      <td>5</td>\n",
       "    </tr>\n",
       "    <tr>\n",
       "      <th>84</th>\n",
       "      <td>(Mauvaise expérience,)</td>\n",
       "      <td>2</td>\n",
       "    </tr>\n",
       "    <tr>\n",
       "      <th>85</th>\n",
       "      <td>Très bonne expérience</td>\n",
       "      <td>5</td>\n",
       "    </tr>\n",
       "    <tr>\n",
       "      <th>86</th>\n",
       "      <td>Chaisya rien</td>\n",
       "      <td>5</td>\n",
       "    </tr>\n",
       "    <tr>\n",
       "      <th>87</th>\n",
       "      <td>Prestation : 0\\nSolutions : 0\\nAttention : 0</td>\n",
       "      <td>1</td>\n",
       "    </tr>\n",
       "    <tr>\n",
       "      <th>88</th>\n",
       "      <td>Très bien situé, personnel excellent. Il y a p...</td>\n",
       "      <td>4</td>\n",
       "    </tr>\n",
       "    <tr>\n",
       "      <th>89</th>\n",
       "      <td>service 0</td>\n",
       "      <td>1</td>\n",
       "    </tr>\n",
       "  </tbody>\n",
       "</table>\n",
       "</div>"
      ],
      "text/plain": [
       "                                        Reviewer_Text  Reviewer_Star\n",
       "0                                          Pays Ahsan              5\n",
       "1                                              Berger              4\n",
       "2                                   Expérience neutre              3\n",
       "3                            Très mauvaise expérience              1\n",
       "4                                   Expérience neutre              3\n",
       "5                               Très bonne expérience              5\n",
       "6                                   Expérience neutre              3\n",
       "7   J'ai eu l'honneur d'être accueilli chaleureuse...              5\n",
       "8     Siège de la banque populaire  Nador Al hoceima.              5\n",
       "9                        Bon accueil et professionnel              5\n",
       "10                     Accueil chaleureux bon service              5\n",
       "11  Certains employés de cette agence sont arrogan...              1\n",
       "12  Je ne suis jamais entré dans une banque aussi ...              1\n",
       "13                                         Cool. 👍🔐 …              4\n",
       "14                                   Meilleure banque              5\n",
       "15                                               être              4\n",
       "16                                   Bonne expérience              4\n",
       "17                              Très bonne expérience              5\n",
       "18                              Très bonne expérience              5\n",
       "19                                  Expérience neutre              3\n",
       "20                              Très bonne expérience              5\n",
       "21                           Très mauvaise expérience              1\n",
       "22                                  Expérience neutre              3\n",
       "24                          Banque et service normal.              3\n",
       "25                          Banque populaire du nador              5\n",
       "26                                               Bien              3\n",
       "27                                                Non              1\n",
       "28                              Très bonne expérience              5\n",
       "29                                  Expérience neutre              3\n",
       "30                                  Expérience neutre              3\n",
       "31                                       Bonne équipe              5\n",
       "32                       C'est une banque de quartier              4\n",
       "33                           Très mauvaise expérience              1\n",
       "34                              Très bonne expérience              5\n",
       "35                                  Expérience neutre              3\n",
       "36                                      Bonne equipe.              5\n",
       "37                                   Bonne expérience              4\n",
       "38                           Très mauvaise expérience              1\n",
       "39                           Très mauvaise expérience              1\n",
       "40                              Très bonne expérience              5\n",
       "41                              Très bonne expérience              5\n",
       "42                                     Des gens biens              5\n",
       "43                           Comme les autres banques              4\n",
       "44                           Très mauvaise expérience              1\n",
       "45                           Très mauvaise expérience              1\n",
       "46                             (Mauvaise expérience,)              2\n",
       "47                                   Bonne expérience              4\n",
       "48                           Très mauvaise expérience              1\n",
       "49  C'est une agence très magnifique Et très réact...              5\n",
       "50  Si vous n'êtes pas résident au Maroc c'est trè...              1\n",
       "51                                   Que Dieu bénisse              5\n",
       "52                              Service haut de gamme              5\n",
       "53                            Banque Dima Resayx huit              5\n",
       "54                               Parce que oui\\nMerci              5\n",
       "55                                   Bonne expérience              4\n",
       "56  Imcompetence\\nAucun engagement\\nJe sais pas si...              1\n",
       "57   Aïe incompétence c’est le seul mot qui me vienne              1\n",
       "58                                   Bonne expérience              4\n",
       "59      Une équipe très serviable et professionnelle.              5\n",
       "60  Merci pour le changement de direction j'aime bien              5\n",
       "61    Bonne agence ... une équipe professionnels.....              5\n",
       "62               toujours je téléphone pas répondre .              1\n",
       "63                           Très mauvaise expérience              1\n",
       "64                              Très bonne expérience              5\n",
       "81  C'est la pire agence, toujours pas de la ligne...              1\n",
       "82                                               Bien              4\n",
       "83                              Très bonne expérience              5\n",
       "84                             (Mauvaise expérience,)              2\n",
       "85                              Très bonne expérience              5\n",
       "86                                       Chaisya rien              5\n",
       "87       Prestation : 0\\nSolutions : 0\\nAttention : 0              1\n",
       "88  Très bien situé, personnel excellent. Il y a p...              4\n",
       "89                                          service 0              1"
      ]
     },
     "execution_count": 6,
     "metadata": {},
     "output_type": "execute_result"
    }
   ],
   "source": [
    "# all df\n",
    "pd.set_option('display.max_rows', None)\n",
    "pd.set_option('display.max_columns', None)\n",
    "df[['Reviewer_Text', 'Reviewer_Star']]\n"
   ]
  },
  {
   "cell_type": "code",
   "execution_count": 8,
   "metadata": {},
   "outputs": [
    {
     "data": {
      "text/plain": [
       "Country                      0\n",
       "Town                         0\n",
       "Bank_Name                    0\n",
       "Bank_Phone_number            0\n",
       "Bank_Address                 0\n",
       "Bank_Website                 0\n",
       "Reviewer_Name                0\n",
       "Reviewer_Star                0\n",
       "Reviewer_Text                0\n",
       "Reviewer_Publish_Date        0\n",
       "Reviewer_Like_Reaction       0\n",
       "Reviewer_Profile_Link        0\n",
       "Reviewer_Owner_Reply         1\n",
       "Reviewer_Owner_Reply_Date    0\n",
       "dtype: int64"
      ]
     },
     "execution_count": 8,
     "metadata": {},
     "output_type": "execute_result"
    }
   ],
   "source": [
    "df.isna().sum()"
   ]
  },
  {
   "cell_type": "code",
   "execution_count": 9,
   "metadata": {},
   "outputs": [
    {
     "data": {
      "text/html": [
       "<div>\n",
       "<style scoped>\n",
       "    .dataframe tbody tr th:only-of-type {\n",
       "        vertical-align: middle;\n",
       "    }\n",
       "\n",
       "    .dataframe tbody tr th {\n",
       "        vertical-align: top;\n",
       "    }\n",
       "\n",
       "    .dataframe thead th {\n",
       "        text-align: right;\n",
       "    }\n",
       "</style>\n",
       "<table border=\"1\" class=\"dataframe\">\n",
       "  <thead>\n",
       "    <tr style=\"text-align: right;\">\n",
       "      <th></th>\n",
       "      <th>Country</th>\n",
       "      <th>Town</th>\n",
       "      <th>Bank_Name</th>\n",
       "      <th>Bank_Phone_number</th>\n",
       "      <th>Bank_Address</th>\n",
       "      <th>Bank_Website</th>\n",
       "      <th>Reviewer_Name</th>\n",
       "      <th>Reviewer_Star</th>\n",
       "      <th>Reviewer_Text</th>\n",
       "      <th>Reviewer_Publish_Date</th>\n",
       "      <th>Reviewer_Like_Reaction</th>\n",
       "      <th>Reviewer_Profile_Link</th>\n",
       "      <th>Reviewer_Owner_Reply</th>\n",
       "      <th>Reviewer_Owner_Reply_Date</th>\n",
       "    </tr>\n",
       "  </thead>\n",
       "  <tbody>\n",
       "    <tr>\n",
       "      <th>0</th>\n",
       "      <td>Morocco</td>\n",
       "      <td>Nador</td>\n",
       "      <td>Banque Populaire</td>\n",
       "      <td>Not available</td>\n",
       "      <td>53Hg+Fvc, Bd Mohamed Ameziane Errifi, Nador</td>\n",
       "      <td>not available</td>\n",
       "      <td>Habib Chouaa</td>\n",
       "      <td>5</td>\n",
       "      <td>Pays Ahsan</td>\n",
       "      <td>2016-08-08 09:34:58.486197</td>\n",
       "      <td>0</td>\n",
       "      <td>https://www.google.com/maps/contrib/1006948281...</td>\n",
       "      <td>Nothing</td>\n",
       "      <td>1970-01-01</td>\n",
       "    </tr>\n",
       "    <tr>\n",
       "      <th>1</th>\n",
       "      <td>Morocco</td>\n",
       "      <td>Nador</td>\n",
       "      <td>Banque Populaire</td>\n",
       "      <td>Not available</td>\n",
       "      <td>53Hg+Fvc, Bd Mohamed Ameziane Errifi, Nador</td>\n",
       "      <td>not available</td>\n",
       "      <td>Mohamed Nador</td>\n",
       "      <td>4</td>\n",
       "      <td>Berger</td>\n",
       "      <td>2016-08-08 09:34:58.486214</td>\n",
       "      <td>0</td>\n",
       "      <td>https://www.google.com/maps/contrib/1165746157...</td>\n",
       "      <td>Nothing</td>\n",
       "      <td>1970-01-01</td>\n",
       "    </tr>\n",
       "    <tr>\n",
       "      <th>2</th>\n",
       "      <td>Morocco</td>\n",
       "      <td>Nador</td>\n",
       "      <td>Banque Populaire</td>\n",
       "      <td>Not available</td>\n",
       "      <td>53Hg+Fvc, Bd Mohamed Ameziane Errifi, Nador</td>\n",
       "      <td>not available</td>\n",
       "      <td>Hafaimya</td>\n",
       "      <td>3</td>\n",
       "      <td>Expérience neutre</td>\n",
       "      <td>2021-08-07 09:34:58.486222</td>\n",
       "      <td>0</td>\n",
       "      <td>https://www.google.com/maps/contrib/1027703754...</td>\n",
       "      <td>Nothing</td>\n",
       "      <td>1970-01-01</td>\n",
       "    </tr>\n",
       "    <tr>\n",
       "      <th>3</th>\n",
       "      <td>Morocco</td>\n",
       "      <td>Nador</td>\n",
       "      <td>Banque Populaire</td>\n",
       "      <td>Not available</td>\n",
       "      <td>53Hg+Fvc, Bd Mohamed Ameziane Errifi, Nador</td>\n",
       "      <td>not available</td>\n",
       "      <td>Imad Charkani El-Hassani</td>\n",
       "      <td>1</td>\n",
       "      <td>Très mauvaise expérience</td>\n",
       "      <td>2018-08-08 09:34:58.486229</td>\n",
       "      <td>0</td>\n",
       "      <td>https://www.google.com/maps/contrib/1029760643...</td>\n",
       "      <td>Nothing</td>\n",
       "      <td>1970-01-01</td>\n",
       "    </tr>\n",
       "    <tr>\n",
       "      <th>4</th>\n",
       "      <td>Morocco</td>\n",
       "      <td>Nador</td>\n",
       "      <td>Banque Populaire</td>\n",
       "      <td>Not available</td>\n",
       "      <td>53Hg+Fvc, Bd Mohamed Ameziane Errifi, Nador</td>\n",
       "      <td>not available</td>\n",
       "      <td>Abdelkarim Ajarray</td>\n",
       "      <td>3</td>\n",
       "      <td>Expérience neutre</td>\n",
       "      <td>2017-08-08 09:34:58.486236</td>\n",
       "      <td>0</td>\n",
       "      <td>https://www.google.com/maps/contrib/1158693667...</td>\n",
       "      <td>Nothing</td>\n",
       "      <td>1970-01-01</td>\n",
       "    </tr>\n",
       "  </tbody>\n",
       "</table>\n",
       "</div>"
      ],
      "text/plain": [
       "   Country   Town         Bank_Name Bank_Phone_number  \\\n",
       "0  Morocco  Nador  Banque Populaire     Not available   \n",
       "1  Morocco  Nador  Banque Populaire     Not available   \n",
       "2  Morocco  Nador  Banque Populaire     Not available   \n",
       "3  Morocco  Nador  Banque Populaire     Not available   \n",
       "4  Morocco  Nador  Banque Populaire     Not available   \n",
       "\n",
       "                                  Bank_Address   Bank_Website  \\\n",
       "0  53Hg+Fvc, Bd Mohamed Ameziane Errifi, Nador  not available   \n",
       "1  53Hg+Fvc, Bd Mohamed Ameziane Errifi, Nador  not available   \n",
       "2  53Hg+Fvc, Bd Mohamed Ameziane Errifi, Nador  not available   \n",
       "3  53Hg+Fvc, Bd Mohamed Ameziane Errifi, Nador  not available   \n",
       "4  53Hg+Fvc, Bd Mohamed Ameziane Errifi, Nador  not available   \n",
       "\n",
       "              Reviewer_Name  Reviewer_Star             Reviewer_Text  \\\n",
       "0              Habib Chouaa              5                Pays Ahsan   \n",
       "1             Mohamed Nador              4                    Berger   \n",
       "2                  Hafaimya              3         Expérience neutre   \n",
       "3  Imad Charkani El-Hassani              1  Très mauvaise expérience   \n",
       "4        Abdelkarim Ajarray              3         Expérience neutre   \n",
       "\n",
       "       Reviewer_Publish_Date  Reviewer_Like_Reaction  \\\n",
       "0 2016-08-08 09:34:58.486197                       0   \n",
       "1 2016-08-08 09:34:58.486214                       0   \n",
       "2 2021-08-07 09:34:58.486222                       0   \n",
       "3 2018-08-08 09:34:58.486229                       0   \n",
       "4 2017-08-08 09:34:58.486236                       0   \n",
       "\n",
       "                               Reviewer_Profile_Link Reviewer_Owner_Reply  \\\n",
       "0  https://www.google.com/maps/contrib/1006948281...              Nothing   \n",
       "1  https://www.google.com/maps/contrib/1165746157...              Nothing   \n",
       "2  https://www.google.com/maps/contrib/1027703754...              Nothing   \n",
       "3  https://www.google.com/maps/contrib/1029760643...              Nothing   \n",
       "4  https://www.google.com/maps/contrib/1158693667...              Nothing   \n",
       "\n",
       "  Reviewer_Owner_Reply_Date  \n",
       "0                1970-01-01  \n",
       "1                1970-01-01  \n",
       "2                1970-01-01  \n",
       "3                1970-01-01  \n",
       "4                1970-01-01  "
      ]
     },
     "execution_count": 9,
     "metadata": {},
     "output_type": "execute_result"
    }
   ],
   "source": [
    "df.head()"
   ]
  },
  {
   "cell_type": "code",
   "execution_count": null,
   "metadata": {},
   "outputs": [],
   "source": [
    "\n",
    "\n",
    "for index, row in tqdm(df.iterrows(), total=df.shape[0]):\n",
    "    review = row['Reviewer_Text']\n",
    "    \n",
    "    try:\n",
    "        topics = extractor.extract(review, type='SINGLE_SOURCE')\n",
    "        topics_array = topics['topics']\n",
    "    \n",
    "        if len(topics_array) == 0:\n",
    "            static_topic, static_sentiment, static_sub_topic = generate_static_topics_and_sentiments(row['Reviewer_Sart'])\n",
    "            new_row = row.copy()\n",
    "            new_row['Topic'] = static_topic\n",
    "            new_row['Sentiment'] = static_sentiment\n",
    "            new_row['Sub_Topic'] = static_sub_topic\n",
    "            df_macro = pd.concat([df_macro, pd.DataFrame([new_row])], ignore_index=True)\n",
    "            row_accumulated += 1\n",
    "        else:\n",
    "            for tuple_ in topics_array:\n",
    "                new_row = row.copy()\n",
    "                new_row['Topic'] = tuple_[0]\n",
    "                new_row['Sentiment'] = tuple_[1]\n",
    "                new_row['Sub_Topic'] = tuple_[2]\n",
    "                df_macro = pd.concat([df_macro, pd.DataFrame([new_row])], ignore_index=True)\n",
    "                row_accumulated += 1\n",
    "            \n",
    "        # Sauvegarder à chaque intervalle défini\n",
    "        if row_accumulated >= save_interval:\n",
    "            df_macro.to_csv(output_file, index=False)\n",
    "            row_accumulated = 0\n",
    "    except Exception as e:\n",
    "        print(f\"Erreur rencontrée à l'index {index}: {e}\")\n",
    "        pass"
   ]
  }
 ],
 "metadata": {
  "kernelspec": {
   "display_name": "Python 3",
   "language": "python",
   "name": "python3"
  },
  "language_info": {
   "codemirror_mode": {
    "name": "ipython",
    "version": 3
   },
   "file_extension": ".py",
   "mimetype": "text/x-python",
   "name": "python",
   "nbconvert_exporter": "python",
   "pygments_lexer": "ipython3",
   "version": "3.11.0"
  }
 },
 "nbformat": 4,
 "nbformat_minor": 2
}
