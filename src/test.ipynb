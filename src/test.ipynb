{
 "cells": [
  {
   "cell_type": "code",
   "execution_count": 12,
   "metadata": {},
   "outputs": [],
   "source": [
    "import sys\n",
    "import os\n",
    "\n",
    "# Chemin absolu du répertoire racine du projet\n",
    "project_root = '/home/conite/Documents/WORKSPACE/PROJECTS/BI-PROJECT/BANK-REVIEWS-INTELLIGENCE/'\n",
    "\n",
    "# Ajouter le répertoire src au chemin de recherche des modules\n",
    "src = os.path.join(project_root, '.')\n",
    "sys.path.append(src)\n",
    "\n"
   ]
  },
  {
   "cell_type": "code",
   "execution_count": 13,
   "metadata": {},
   "outputs": [
    {
     "name": "stdout",
     "output_type": "stream",
     "text": [
      "/home/conite/Documents/WORKSPACE/PROJECTS/BI-PROJECT/BANK-REVIEWS-INTELLIGENCE/data/parquet/2024-07-30/Morocco/Nador.parquet: 90 rows\n",
      "Macro table saved at: /home/conite/Documents/WORKSPACE/PROJECTS/BI-PROJECT/BANK-REVIEWS-INTELLIGENCE/data/temp/macro_table/macro_table.parquet\n",
      "Macro table saved as CSV at : /home/conite/Documents/WORKSPACE/PROJECTS/BI-PROJECT/BANK-REVIEWS-INTELLIGENCE/data/temp/macro_table/macro_table.csv\n"
     ]
    }
   ],
   "source": [
    "import pandas as pd\n",
    "import numpy as np\n",
    "from src.data_concatenation.concatenate import build_macro_table\n",
    "from src.data_preprocessing.preprocessing import preprocess_dataframe\n",
    "from src.data_preprocessing.topificator import TopicExtractor\n",
    "from src.database_management.database_initializer import DatabaseInitializer, wait_for_postgresql\n",
    "from src.database_management.dataframe_to_transactionalDB import insert_data_from_dataframe\n",
    "from src.database_management.migrate_to_decisionalDB import migration_to_decisionalDB\n",
    "from src.database_management.db_models import Base\n",
    "from sqlalchemy import create_engine, inspect\n",
    "from sqlalchemy.orm import sessionmaker\n",
    "from datetime import datetime\n",
    "from datetime import datetime, timedelta\n",
    "import psycopg2, os\n",
    "\n",
    "from tqdm import tqdm\n",
    "\n",
    "CURRENT_DATE = datetime.now().strftime(\"%Y-%m-%d\")\n",
    "DATA_PATH = os.path.join(project_root, 'data')\n",
    "CITIES_PATH = os.path.join(project_root, 'data', 'utils', 'countries_cities-full.json')\n",
    "RAW_SAVE_PATH = os.path.join(project_root, 'data', 'temp')\n",
    "PARCKET_PATH = os.path.join(project_root, 'data', 'parquet', CURRENT_DATE)\n",
    "\n",
    "\n",
    "concatenate_parquets = build_macro_table(DATA_PATH)\n",
    "\n",
    "# --------------------------------------------------------\n",
    "# 0.3 Preprocessing of concatenate parquets\n",
    "# --------------------------------------------------------\n",
    "# df = preprocess_dataframe(concatenate_parquets)\n"
   ]
  },
  {
   "cell_type": "code",
   "execution_count": 14,
   "metadata": {},
   "outputs": [
    {
     "data": {
      "text/plain": [
       "17"
      ]
     },
     "execution_count": 14,
     "metadata": {},
     "output_type": "execute_result"
    }
   ],
   "source": [
    "len(concatenate_parquets.columns)"
   ]
  },
  {
   "cell_type": "code",
   "execution_count": 15,
   "metadata": {},
   "outputs": [
    {
     "name": "stderr",
     "output_type": "stream",
     "text": [
      "/home/conite/Documents/WORKSPACE/PROJECTS/BI-PROJECT/BANK-REVIEWS-INTELLIGENCE/./src/data_preprocessing/preprocessing.py:64: FutureWarning: Downcasting object dtype arrays on .fillna, .ffill, .bfill is deprecated and will change in a future version. Call result.infer_objects(copy=False) instead. To opt-in to the future behavior, set `pd.set_option('future.no_silent_downcasting', True)`\n",
      "  df = df.fillna({\n"
     ]
    },
    {
     "name": "stdout",
     "output_type": "stream",
     "text": [
      "Topic : {'topics': [('application mobile', 'Negative', ['bug', 'difficulte de connexion'])]}\n",
      "DIRECTORY : /home/conite/Documents/WORKSPACE/PROJECTS/BI-PROJECT/BANK-REVIEWS-INTELLIGENCE/data/processed/2024-08-06\n"
     ]
    },
    {
     "name": "stderr",
     "output_type": "stream",
     "text": [
      "  1%|▏         | 1/73 [00:53<1:04:30, 53.75s/it]"
     ]
    },
    {
     "name": "stdout",
     "output_type": "stream",
     "text": [
      "Topic 0 : Pays Ahsan ::: {'topics': [('Gestion des comptes', 'Positive', ['facile à utiliser', 'intuitive']), ('Sécurité', 'Neutral', ['pas de problème signalé', \"mais pas d'information sur la sécurité\"])]}\n"
     ]
    },
    {
     "name": "stderr",
     "output_type": "stream",
     "text": [
      "  3%|▎         | 2/73 [01:33<54:00, 45.65s/it]  "
     ]
    },
    {
     "name": "stdout",
     "output_type": "stream",
     "text": [
      "Topic 1 : Berger ::: {'topics': [('Service client', 'Positive', ['réactif', 'rapidité']), ('Gestion des comptes', 'Neutral', ['simple'])]}\n"
     ]
    },
    {
     "name": "stderr",
     "output_type": "stream",
     "text": [
      "  4%|▍         | 3/73 [02:18<52:55, 45.37s/it]"
     ]
    },
    {
     "name": "stdout",
     "output_type": "stream",
     "text": [
      "Topic 2 : Expérience neutre ::: {'topics': [('Service client', 'Neutre', []), ('Sécurité', 'Neutre', ['réglementaire']), (\"Taux d'intérêt\", 'Neutre', ['fixes'])]}\n"
     ]
    },
    {
     "name": "stderr",
     "output_type": "stream",
     "text": [
      "  5%|▌         | 4/73 [02:59<49:54, 43.40s/it]"
     ]
    },
    {
     "name": "stdout",
     "output_type": "stream",
     "text": [
      "Topic 3 : Très mauvaise expérience ::: {'topics': [('Gestion des comptes', 'Negative', ['Mauvaise expérience', 'Problèmes avec les comptes'])]}\n"
     ]
    },
    {
     "name": "stderr",
     "output_type": "stream",
     "text": [
      "  7%|▋         | 5/73 [03:54<54:11, 47.82s/it]"
     ]
    },
    {
     "name": "stdout",
     "output_type": "stream",
     "text": [
      "Topic 4 : Expérience neutre ::: {'topics': [{'topic': \"Temps d'attente\", 'sentiment': 'Neutre', 'sub_topics': ['pas trop long']}, {'topic': \"Facilité d'ouverture de compte\", 'sentiment': 'Positive', 'sub_topics': ['rapide', 'simple']}]}\n",
      "Erreur rencontrée à l'index 4: 0\n"
     ]
    },
    {
     "name": "stderr",
     "output_type": "stream",
     "text": [
      "  8%|▊         | 6/73 [04:32<49:43, 44.52s/it]"
     ]
    },
    {
     "name": "stdout",
     "output_type": "stream",
     "text": [
      "Topic 5 : Très bonne expérience ::: {'topics': [('Expérience utilisateur', 'Positive', ['Facile'])]}\n"
     ]
    },
    {
     "name": "stderr",
     "output_type": "stream",
     "text": [
      " 10%|▉         | 7/73 [05:19<49:33, 45.06s/it]"
     ]
    },
    {
     "name": "stdout",
     "output_type": "stream",
     "text": [
      "Topic 6 : Expérience neutre ::: {'topics': [{'topic': 'Gestion des comptes', 'sentiment': 'Neutral', 'sub_topics': [\"Pas de commentaires sur l'expérience\"]}]}\n",
      "Erreur rencontrée à l'index 6: 0\n"
     ]
    },
    {
     "name": "stderr",
     "output_type": "stream",
     "text": [
      " 11%|█         | 8/73 [06:09<50:45, 46.85s/it]"
     ]
    },
    {
     "name": "stdout",
     "output_type": "stream",
     "text": [
      "Topic 7 : J'ai eu l'honneur d'être accueilli chaleureusement par le président  de la BP Nador Al Hociema et son proche collaborateur , au cours  de notre entretien,  j'ai découvert une personnalité très averti, dynamique, pragmatique, et … ::: {'topics': [('reception', 'Positive', ['chaleureuse'])]}\n"
     ]
    },
    {
     "name": "stderr",
     "output_type": "stream",
     "text": [
      " 12%|█▏        | 9/73 [07:08<54:05, 50.72s/it]"
     ]
    },
    {
     "name": "stdout",
     "output_type": "stream",
     "text": [
      "Topic 8 : Siège de la banque populaire  Nador Al hoceima. ::: {'topics': [('Sécurité', 'Negative', ['vol', 'perte de documents']), ('Gestion des comptes', 'Positive', ['facile', 'pratique']), ('Expérience utilisateur', 'Mixed', ['site web efficace', 'application mobile lente'])]}\n"
     ]
    },
    {
     "name": "stderr",
     "output_type": "stream",
     "text": [
      " 14%|█▎        | 10/73 [07:45<48:29, 46.18s/it]"
     ]
    },
    {
     "name": "stdout",
     "output_type": "stream",
     "text": [
      "Topic 9 : Bon accueil et professionnel ::: {'topics': [['Accueil', 'Positive', ['professionnel']]]}\n"
     ]
    },
    {
     "name": "stderr",
     "output_type": "stream",
     "text": [
      " 15%|█▌        | 11/73 [08:26<46:20, 44.85s/it]"
     ]
    },
    {
     "name": "stdout",
     "output_type": "stream",
     "text": [
      "Topic 10 : Accueil chaleureux bon service ::: {'topics': [{'topic': 'Accueil', 'sentiment': 'Positive', 'sub_topics': ['chaleureux', 'bon']}]}\n",
      "Erreur rencontrée à l'index 10: 0\n"
     ]
    },
    {
     "name": "stderr",
     "output_type": "stream",
     "text": [
      " 16%|█▋        | 12/73 [09:22<48:50, 48.03s/it]"
     ]
    },
    {
     "name": "stdout",
     "output_type": "stream",
     "text": [
      "Topic 11 : Certains employés de cette agence sont arrogants, notamment la dame en charge de l'assurance transport des morts (middle office). L'année prochaine, je déménagerai dans une meilleure banque, si Dieu le veut ::: {'topics': [('Sécurité', 'Negative', ['arrogants', \"dame en charge de l'assurance transport des morts (middle office)\"]), ('Localisation et accessibilité', 'Negative', ['mieux'])]}\n"
     ]
    },
    {
     "name": "stderr",
     "output_type": "stream",
     "text": [
      " 18%|█▊        | 13/73 [09:58<44:24, 44.41s/it]"
     ]
    },
    {
     "name": "stdout",
     "output_type": "stream",
     "text": [
      "Topic 12 : Je ne suis jamais entré dans une banque aussi hostile.\n",
      "Personnel comme dans la rue\n",
      "Très déçu. ::: {'topics': [('Sécurité', 'Negative', ['hostile', 'personnel']), ('Expérience utilisateur', 'Negative', ['déçu'])]}\n"
     ]
    },
    {
     "name": "stderr",
     "output_type": "stream",
     "text": [
      " 19%|█▉        | 14/73 [10:22<37:39, 38.30s/it]"
     ]
    },
    {
     "name": "stdout",
     "output_type": "stream",
     "text": [
      "Topic 13 : Cool. 👍🔐 … ::: {'topics': [('Sécurité', 'Negative', [])]}\n"
     ]
    },
    {
     "name": "stderr",
     "output_type": "stream",
     "text": [
      " 21%|██        | 15/73 [10:59<36:43, 38.00s/it]"
     ]
    },
    {
     "name": "stdout",
     "output_type": "stream",
     "text": [
      "Topic 14 : Meilleure banque ::: {'topics': [('Sécurité', 'Positive', ['protégée', 'sûre']), ('Application mobile', 'Negative', ['lente', 'peu intuitive']), ('Frais bancaires', 'Negative', ['trop élevés'])]}\n"
     ]
    },
    {
     "name": "stderr",
     "output_type": "stream",
     "text": [
      " 22%|██▏       | 16/73 [11:26<32:52, 34.61s/it]"
     ]
    },
    {
     "name": "stdout",
     "output_type": "stream",
     "text": [
      "Topic 15 : être ::: {'topics': [(\"Facilité d'ouverture de compte\", 'Positive', ['facile', 'rapide'])]}\n"
     ]
    },
    {
     "name": "stderr",
     "output_type": "stream",
     "text": [
      " 23%|██▎       | 17/73 [11:51<29:38, 31.75s/it]"
     ]
    },
    {
     "name": "stdout",
     "output_type": "stream",
     "text": [
      "Topic 16 : Bonne expérience ::: {'topics': [['Satisfaction client', 'Positive', ['Bonne expérience']]]}\n"
     ]
    },
    {
     "name": "stderr",
     "output_type": "stream",
     "text": [
      " 25%|██▍       | 18/73 [12:16<27:07, 29.59s/it]"
     ]
    },
    {
     "name": "stdout",
     "output_type": "stream",
     "text": [
      "Topic 17 : Très bonne expérience ::: {'topics': [('Expérience utilisateur', 'Positive', ['Bonne expérience'])]}\n"
     ]
    },
    {
     "name": "stderr",
     "output_type": "stream",
     "text": [
      " 26%|██▌       | 19/73 [12:23<20:42, 23.00s/it]"
     ]
    },
    {
     "name": "stdout",
     "output_type": "stream",
     "text": [
      "Topic 18 : Très bonne expérience ::: {'topics': [('Expérience client', 'Positive', ['positive', 'experience'])]}\n"
     ]
    },
    {
     "name": "stderr",
     "output_type": "stream",
     "text": [
      " 27%|██▋       | 20/73 [13:00<24:02, 27.22s/it]"
     ]
    },
    {
     "name": "stdout",
     "output_type": "stream",
     "text": [
      "Topic 19 : Expérience neutre ::: {'topics': [('Service client', 'Negative', [\"difficile d'obtenir en assistance\"]), ('Application mobile', 'Neutral', [\"pas mal de l'ordinaire\"]), ('Frais bancaires', 'Positive', ['pas trop élevé'])]}\n"
     ]
    },
    {
     "name": "stderr",
     "output_type": "stream",
     "text": [
      " 29%|██▉       | 21/73 [13:27<23:21, 26.94s/it]"
     ]
    },
    {
     "name": "stdout",
     "output_type": "stream",
     "text": [
      "Topic 20 : Très bonne expérience ::: {'topics': [('Service client', 'Positive', ['récupération rapide des informations'])]}\n"
     ]
    },
    {
     "name": "stderr",
     "output_type": "stream",
     "text": [
      " 30%|███       | 22/73 [14:03<25:16, 29.73s/it]"
     ]
    },
    {
     "name": "stdout",
     "output_type": "stream",
     "text": [
      "Topic 21 : Très mauvaise expérience ::: {'topics': [('Expérience client', 'Negative', ['Très mauvaise'])]}\n"
     ]
    },
    {
     "name": "stderr",
     "output_type": "stream",
     "text": [
      " 32%|███▏      | 23/73 [14:43<27:28, 32.97s/it]"
     ]
    },
    {
     "name": "stdout",
     "output_type": "stream",
     "text": [
      "Topic 22 : Expérience neutre ::: {'topics': [{'topic': 'Ouverture de compte', 'sentiment': 'Neutral', 'sub_topics': ['simple']}]}\n",
      "Erreur rencontrée à l'index 22: 0\n"
     ]
    },
    {
     "name": "stderr",
     "output_type": "stream",
     "text": [
      " 33%|███▎      | 24/73 [15:30<30:11, 36.97s/it]"
     ]
    },
    {
     "name": "stdout",
     "output_type": "stream",
     "text": [
      "Topic 24 : Banque et service normal. ::: {'topics': [['Service clientèle', 'Negative', ['manque de réactivité']]]}\n"
     ]
    },
    {
     "name": "stderr",
     "output_type": "stream",
     "text": [
      " 34%|███▍      | 25/73 [17:01<42:38, 53.30s/it]"
     ]
    },
    {
     "name": "stdout",
     "output_type": "stream",
     "text": [
      "Topic 25 : Banque populaire du nador ::: {'topics': [('Sécurité', 'Positive', ['sécurisée', 'fiable']), ('Gestion des comptes', 'Positive', ['organisé', 'facile à utiliser']), ('Service client', 'Positive', ['courtois', 'utile']), ('Localisation et accessibilité', 'Negative', ['distantiellement situee']), ('Services additionnels', 'Neutral', ['existants', 'non spécifiés'])]}\n"
     ]
    },
    {
     "name": "stderr",
     "output_type": "stream",
     "text": [
      " 36%|███▌      | 26/73 [17:50<40:43, 52.00s/it]"
     ]
    },
    {
     "name": "stdout",
     "output_type": "stream",
     "text": [
      "Topic 26 : Bien ::: {'topics': [('Service client', 'Positive', ['réactif', 'résolution rapide de problèmes'])]}\n"
     ]
    },
    {
     "name": "stderr",
     "output_type": "stream",
     "text": [
      " 37%|███▋      | 27/73 [18:45<40:30, 52.84s/it]"
     ]
    },
    {
     "name": "stdout",
     "output_type": "stream",
     "text": [
      "Topic 27 : Non ::: {'topics': [('Service clientèle réactif', 'Positive', ['Résolution rapide de problèmes']), ('Frais bancaires trop élevés', 'Negative', ['Application mobile lente', 'Application mobile peu intuitive'])]}\n"
     ]
    },
    {
     "name": "stderr",
     "output_type": "stream",
     "text": [
      " 38%|███▊      | 28/73 [19:37<39:22, 52.49s/it]"
     ]
    },
    {
     "name": "stdout",
     "output_type": "stream",
     "text": [
      "Topic 28 : Très bonne expérience ::: {'topics': [('Service client', 'Positive', ['rapide', 'simple']), ('Expérience utilisateur', 'Positive', ['simple'])]}\n"
     ]
    },
    {
     "name": "stderr",
     "output_type": "stream",
     "text": [
      " 40%|███▉      | 29/73 [20:16<35:38, 48.61s/it]"
     ]
    },
    {
     "name": "stdout",
     "output_type": "stream",
     "text": [
      "Topic 29 : Expérience neutre ::: {'topics': [('Services multilingues', 'Neutral', ['neutre'])]}\n"
     ]
    },
    {
     "name": "stderr",
     "output_type": "stream",
     "text": [
      " 41%|████      | 30/73 [20:58<33:29, 46.73s/it]"
     ]
    },
    {
     "name": "stdout",
     "output_type": "stream",
     "text": [
      "Topic 30 : Expérience neutre ::: {'topics': [{'topic': 'Frais bancaires', 'sentiment': 'Negative', 'sub_topics': ['trop élevés']}, {'topic': 'Application mobile', 'sentiment': 'Negative', 'sub_topics': ['lente', 'peu intuitive']}]}\n",
      "Erreur rencontrée à l'index 30: 0\n"
     ]
    },
    {
     "name": "stderr",
     "output_type": "stream",
     "text": [
      " 42%|████▏     | 31/73 [21:41<31:45, 45.36s/it]"
     ]
    },
    {
     "name": "stdout",
     "output_type": "stream",
     "text": [
      "Topic 31 : Bonne équipe ::: {'topics': [('Qualité des services', 'Positive', ['Bonne équipe'])]}\n"
     ]
    },
    {
     "name": "stderr",
     "output_type": "stream",
     "text": [
      " 44%|████▍     | 32/73 [22:51<36:13, 53.01s/it]"
     ]
    },
    {
     "name": "stdout",
     "output_type": "stream",
     "text": [
      "Topic 32 : C'est une banque de quartier ::: {'topics': [('banque de quartier', 'Positive', ['présent', 'accessible']), ('personnel sympa', 'Positive', ['serviable', 'gentil']), ('sécurité des dépots', 'Positive', ['fiable', 'propre']), ('localisation pratique', 'Positive', ['centrale', 'même'])]}\n"
     ]
    },
    {
     "name": "stderr",
     "output_type": "stream",
     "text": [
      " 45%|████▌     | 33/73 [23:33<33:08, 49.72s/it]"
     ]
    },
    {
     "name": "stdout",
     "output_type": "stream",
     "text": [
      "Topic 33 : Très mauvaise expérience ::: {'topics': [('Satisfaction client', 'Negative', ['Mauvaise expérience'])]}\n"
     ]
    },
    {
     "name": "stderr",
     "output_type": "stream",
     "text": [
      " 47%|████▋     | 34/73 [24:23<32:16, 49.66s/it]"
     ]
    },
    {
     "name": "stdout",
     "output_type": "stream",
     "text": [
      "Topic 34 : Très bonne expérience ::: {'topics': [{'topic': 'Expérience utilisateur', 'sentiment': 'Positive', 'sub_topics': ['rapide', 'simple']}]}\n",
      "Erreur rencontrée à l'index 34: 0\n"
     ]
    },
    {
     "name": "stderr",
     "output_type": "stream",
     "text": [
      " 48%|████▊     | 35/73 [25:12<31:17, 49.40s/it]"
     ]
    },
    {
     "name": "stdout",
     "output_type": "stream",
     "text": [
      "Topic 35 : Expérience neutre ::: {'topics': [('expérience utilisateur', 'neutre', [])]}\n"
     ]
    },
    {
     "name": "stderr",
     "output_type": "stream",
     "text": [
      " 49%|████▉     | 36/73 [26:09<31:49, 51.60s/it]"
     ]
    },
    {
     "name": "stdout",
     "output_type": "stream",
     "text": [
      "Topic 36 : Bonne equipe. ::: {'topics': [{'topic': 'Expérience utilisateur', 'sentiment': 'Positive', 'sub_topics': ['Bonne équipe']}]}\n",
      "Erreur rencontrée à l'index 36: 0\n"
     ]
    },
    {
     "name": "stderr",
     "output_type": "stream",
     "text": [
      " 51%|█████     | 37/73 [27:01<31:04, 51.79s/it]"
     ]
    },
    {
     "name": "stdout",
     "output_type": "stream",
     "text": [
      "Topic 37 : Bonne expérience ::: {'topics': [{'topic': 'Expérience utilisateur', 'sentiment': 'Positive', 'sub_topics': ['rapide', 'simple']}]}\n",
      "Erreur rencontrée à l'index 37: 0\n"
     ]
    },
    {
     "name": "stderr",
     "output_type": "stream",
     "text": [
      " 52%|█████▏    | 38/73 [27:54<30:25, 52.14s/it]"
     ]
    },
    {
     "name": "stdout",
     "output_type": "stream",
     "text": [
      "Topic 38 : Très mauvaise expérience ::: {'topics': [(\"Temps d'attente\", 'Negative', ['long', 'inconfortable'])]}\n"
     ]
    },
    {
     "name": "stderr",
     "output_type": "stream",
     "text": [
      " 53%|█████▎    | 39/73 [28:19<25:00, 44.14s/it]"
     ]
    },
    {
     "name": "stdout",
     "output_type": "stream",
     "text": [
      "Topic 39 : Très mauvaise expérience ::: {'topics': [('Expérience utilisateur', 'Negative', ['très mauvaise expérience'])]}\n"
     ]
    },
    {
     "name": "stderr",
     "output_type": "stream",
     "text": [
      " 55%|█████▍    | 40/73 [29:15<26:07, 47.50s/it]"
     ]
    },
    {
     "name": "stdout",
     "output_type": "stream",
     "text": [
      "Topic 40 : Très bonne expérience ::: {'topics': [{'topic': 'Expérience utilisateur', 'sentiment': 'Positive', 'sub_topics': ['rapide', 'simple']}]}\n",
      "Erreur rencontrée à l'index 40: 0\n"
     ]
    },
    {
     "name": "stderr",
     "output_type": "stream",
     "text": [
      " 56%|█████▌    | 41/73 [29:31<20:25, 38.29s/it]"
     ]
    },
    {
     "name": "stdout",
     "output_type": "stream",
     "text": [
      "Topic 41 : Très bonne expérience ::: {'topics': [('Très bonne expérience', 'Positive', ['positive', 'good'])]}\n"
     ]
    },
    {
     "name": "stderr",
     "output_type": "stream",
     "text": [
      " 58%|█████▊    | 42/73 [30:20<21:25, 41.46s/it]"
     ]
    },
    {
     "name": "stdout",
     "output_type": "stream",
     "text": [
      "Topic 42 : Des gens biens ::: {'topics': [('Sécurité', 'Negative', ['frais élevés'])]}\n"
     ]
    },
    {
     "name": "stderr",
     "output_type": "stream",
     "text": [
      " 59%|█████▉    | 43/73 [31:13<22:24, 44.80s/it]"
     ]
    },
    {
     "name": "stdout",
     "output_type": "stream",
     "text": [
      "Topic 43 : Comme les autres banques ::: {'topics': [(\"Facilité d'ouverture de compte\", 'Negative', ['difficile', 'longue'])]}\n"
     ]
    },
    {
     "name": "stderr",
     "output_type": "stream",
     "text": [
      " 60%|██████    | 44/73 [32:03<22:29, 46.55s/it]"
     ]
    },
    {
     "name": "stdout",
     "output_type": "stream",
     "text": [
      "Topic 44 : Très mauvaise expérience ::: {'topics': [('Sécurité des transactions en ligne', 'Negative', ['Détection de fraude'])]}\n"
     ]
    },
    {
     "name": "stderr",
     "output_type": "stream",
     "text": [
      " 62%|██████▏   | 45/73 [32:25<18:13, 39.04s/it]"
     ]
    },
    {
     "name": "stdout",
     "output_type": "stream",
     "text": [
      "Topic 45 : Très mauvaise expérience ::: {'topics': [('expérience client', 'Negative', ['mauvaise'])]}\n",
      "Attempt 1 failed with error: For SINGLE_SOURCE, reviews should be a single string.\n",
      "Attempt 2 failed with error: For SINGLE_SOURCE, reviews should be a single string.\n",
      "Attempt 3 failed with error: For SINGLE_SOURCE, reviews should be a single string.\n",
      "Attempt 4 failed with error: For SINGLE_SOURCE, reviews should be a single string.\n",
      "Attempt 5 failed with error: For SINGLE_SOURCE, reviews should be a single string.\n"
     ]
    },
    {
     "name": "stderr",
     "output_type": "stream",
     "text": [
      " 63%|██████▎   | 46/73 [32:35<13:38, 30.33s/it]"
     ]
    },
    {
     "name": "stdout",
     "output_type": "stream",
     "text": [
      "Topic 46 : ('Mauvaise expérience',) ::: Failed to extract topics after 5 attempts\n",
      "Erreur rencontrée à l'index 46: string indices must be integers, not 'str'\n"
     ]
    },
    {
     "name": "stderr",
     "output_type": "stream",
     "text": [
      " 64%|██████▍   | 47/73 [33:22<15:15, 35.23s/it]"
     ]
    },
    {
     "name": "stdout",
     "output_type": "stream",
     "text": [
      "Topic 47 : Bonne expérience ::: {'topics': [['Expérience utilisateur', 'Positive', ['facile', 'rapide']]]}\n"
     ]
    },
    {
     "name": "stderr",
     "output_type": "stream",
     "text": [
      " 66%|██████▌   | 48/73 [34:00<15:04, 36.16s/it]"
     ]
    },
    {
     "name": "stdout",
     "output_type": "stream",
     "text": [
      "Topic 48 : Très mauvaise expérience ::: {'topics': [('expérience utilisateur', 'Negative', ['mauvaise'])]}\n"
     ]
    },
    {
     "name": "stderr",
     "output_type": "stream",
     "text": [
      " 67%|██████▋   | 49/73 [34:44<15:21, 38.41s/it]"
     ]
    },
    {
     "name": "stdout",
     "output_type": "stream",
     "text": [
      "Topic 49 : C'est une agence très magnifique Et très réactif chapeau pour l équipe  bonne continuation ::: {'topics': [('Service client', 'Positive', ['Réactif', 'Rapide'])]}\n"
     ]
    },
    {
     "name": "stderr",
     "output_type": "stream",
     "text": [
      " 68%|██████▊   | 50/73 [35:28<15:24, 40.21s/it]"
     ]
    },
    {
     "name": "stdout",
     "output_type": "stream",
     "text": [
      "Topic 50 : Si vous n'êtes pas résident au Maroc c'est très galère pour retirer de l'argent de son propre compte bancaire... ::: {'topics': [('localisation et accessibilité', 'Negative', [\"galère pour retirer de l'argent\"])]}\n"
     ]
    },
    {
     "name": "stderr",
     "output_type": "stream",
     "text": [
      " 70%|██████▉   | 51/73 [36:20<15:59, 43.63s/it]"
     ]
    },
    {
     "name": "stdout",
     "output_type": "stream",
     "text": [
      "Topic 51 : Que Dieu bénisse ::: {'topics': [('Service client', 'Negative', ['longue attente', 'pas de réponse']), ('Localisation et accessibilité', 'Positive', ['situation centrale', 'facile à trouver'])]}\n"
     ]
    },
    {
     "name": "stderr",
     "output_type": "stream",
     "text": [
      " 71%|███████   | 52/73 [36:58<14:45, 42.18s/it]"
     ]
    },
    {
     "name": "stdout",
     "output_type": "stream",
     "text": [
      "Topic 52 : Service haut de gamme ::: {'topics': [('Service client', 'Neutral', ['standard']), ('Services additionnels', 'Negative', ['pas suffisants'])]}\n"
     ]
    },
    {
     "name": "stderr",
     "output_type": "stream",
     "text": [
      " 73%|███████▎  | 53/73 [37:51<15:08, 45.44s/it]"
     ]
    },
    {
     "name": "stdout",
     "output_type": "stream",
     "text": [
      "Topic 53 : Banque Dima Resayx huit ::: {'topics': [('Frais bancaires', 'Negative', ['élevés']), ('Application mobile', 'Negative', ['lente', 'peu intuitive']), ('Gestion des comptes', 'Neutral', []), ('Service client', 'Positive', [])]}\n"
     ]
    },
    {
     "name": "stderr",
     "output_type": "stream",
     "text": [
      " 74%|███████▍  | 54/73 [38:27<13:28, 42.54s/it]"
     ]
    },
    {
     "name": "stdout",
     "output_type": "stream",
     "text": [
      "Topic 54 : Parce que oui\n",
      "Merci ::: {'topics': [(\"facilité d'ouverture de compte\", 'Positive', ['rapide', 'simple'])]}\n"
     ]
    },
    {
     "name": "stderr",
     "output_type": "stream",
     "text": [
      " 75%|███████▌  | 55/73 [39:18<13:28, 44.93s/it]"
     ]
    },
    {
     "name": "stdout",
     "output_type": "stream",
     "text": [
      "Topic 55 : Bonne expérience ::: {'topics': [('qualité des services', 'Negative', ['très déçu de leur service']), (\"temps d'attente\", 'Negative', [\"long temps d'attente\"])]}\n"
     ]
    },
    {
     "name": "stderr",
     "output_type": "stream",
     "text": [
      " 77%|███████▋  | 56/73 [40:03<12:43, 44.93s/it]"
     ]
    },
    {
     "name": "stdout",
     "output_type": "stream",
     "text": [
      "Topic 56 : Imcompetence\n",
      "Aucun engagement\n",
      "Je sais pas si y a quelqu’un qui controle ces gens la ou pas . … ::: {'topics': [('Impartialité du service client', 'Négative', ['manque de contrôle', 'incompétence'])]}\n"
     ]
    },
    {
     "name": "stderr",
     "output_type": "stream",
     "text": [
      " 78%|███████▊  | 57/73 [40:41<11:25, 42.84s/it]"
     ]
    },
    {
     "name": "stdout",
     "output_type": "stream",
     "text": [
      "Topic 57 : Aïe incompétence c’est le seul mot qui me vienne ::: {'topics': [('incompétence', 'Negative', ['étrange', 'aucune aide'])]}\n"
     ]
    },
    {
     "name": "stderr",
     "output_type": "stream",
     "text": [
      " 79%|███████▉  | 58/73 [41:22<10:36, 42.44s/it]"
     ]
    },
    {
     "name": "stdout",
     "output_type": "stream",
     "text": [
      "Topic 58 : Bonne expérience ::: {'topics': [('service client', 'Positive', ['réactif', 'satisfait']), ('ouverture de compte', 'Neutral', [])]}\n"
     ]
    },
    {
     "name": "stderr",
     "output_type": "stream",
     "text": [
      " 81%|████████  | 59/73 [42:01<09:37, 41.25s/it]"
     ]
    },
    {
     "name": "stdout",
     "output_type": "stream",
     "text": [
      "Topic 59 : Une équipe très serviable et professionnelle. ::: {'topics': [('service client', 'Positive', ['serviable', 'professionnelle'])]}\n"
     ]
    },
    {
     "name": "stderr",
     "output_type": "stream",
     "text": [
      " 82%|████████▏ | 60/73 [42:42<08:56, 41.24s/it]"
     ]
    },
    {
     "name": "stdout",
     "output_type": "stream",
     "text": [
      "Topic 60 : Merci pour le changement de direction j'aime bien ::: {'topics': [('Satisfaction client', 'Positive', ['content', 'heureux'])]}\n"
     ]
    },
    {
     "name": "stderr",
     "output_type": "stream",
     "text": [
      " 84%|████████▎ | 61/73 [43:17<07:51, 39.30s/it]"
     ]
    },
    {
     "name": "stdout",
     "output_type": "stream",
     "text": [
      "Topic 61 : Bonne agence ... une équipe professionnels..... ::: {'topics': [('Agence', 'Positive', ['Professionnelle'])]}\n"
     ]
    },
    {
     "name": "stderr",
     "output_type": "stream",
     "text": [
      " 85%|████████▍ | 62/73 [43:51<06:56, 37.89s/it]"
     ]
    },
    {
     "name": "stdout",
     "output_type": "stream",
     "text": [
      "Topic 62 : toujours je téléphone pas répondre . ::: {'topics': [(\"temps d'attente\", 'Negative', ['pas répondre'])]}\n"
     ]
    },
    {
     "name": "stderr",
     "output_type": "stream",
     "text": [
      " 86%|████████▋ | 63/73 [44:24<06:04, 36.42s/it]"
     ]
    },
    {
     "name": "stdout",
     "output_type": "stream",
     "text": [
      "Topic 63 : Très mauvaise expérience ::: {'topics': [('Expérience utilisateur', 'Negative', ['très mauvaise'])]}\n"
     ]
    },
    {
     "name": "stderr",
     "output_type": "stream",
     "text": [
      " 88%|████████▊ | 64/73 [44:44<04:43, 31.45s/it]"
     ]
    },
    {
     "name": "stdout",
     "output_type": "stream",
     "text": [
      "Topic 64 : Très bonne expérience ::: {'topics': [('Satisfaction client', 'Positive', ['Très bonne expérience'])]}\n"
     ]
    },
    {
     "name": "stderr",
     "output_type": "stream",
     "text": [
      " 89%|████████▉ | 65/73 [45:14<04:08, 31.07s/it]"
     ]
    },
    {
     "name": "stdout",
     "output_type": "stream",
     "text": [
      "Topic 81 : C'est la pire agence, toujours pas de la ligne de connexion, les menteurs .... ::: {'topics': [('Sécurité', 'Negative', ['Pire agence', 'Menteurs']), ('Gestion des comptes', 'Negative', ['Pas de ligne de connexion'])]}\n"
     ]
    },
    {
     "name": "stderr",
     "output_type": "stream",
     "text": [
      " 90%|█████████ | 66/73 [45:37<03:19, 28.51s/it]"
     ]
    },
    {
     "name": "stdout",
     "output_type": "stream",
     "text": [
      "Topic 82 : Bien ::: {'topics': [('Service client', 'Positive', ['rapide', 'simple'])]}\n"
     ]
    },
    {
     "name": "stderr",
     "output_type": "stream",
     "text": [
      " 92%|█████████▏| 67/73 [46:11<03:00, 30.13s/it]"
     ]
    },
    {
     "name": "stdout",
     "output_type": "stream",
     "text": [
      "Topic 83 : Très bonne expérience ::: {'topics': [('expérience', 'Positive', ['très bonne'])]}\n",
      "Attempt 1 failed with error: For SINGLE_SOURCE, reviews should be a single string.\n",
      "Attempt 2 failed with error: For SINGLE_SOURCE, reviews should be a single string.\n",
      "Attempt 3 failed with error: For SINGLE_SOURCE, reviews should be a single string.\n",
      "Attempt 4 failed with error: For SINGLE_SOURCE, reviews should be a single string.\n",
      "Attempt 5 failed with error: For SINGLE_SOURCE, reviews should be a single string.\n"
     ]
    },
    {
     "name": "stderr",
     "output_type": "stream",
     "text": [
      " 93%|█████████▎| 68/73 [46:21<02:00, 24.09s/it]"
     ]
    },
    {
     "name": "stdout",
     "output_type": "stream",
     "text": [
      "Topic 84 : ('Mauvaise expérience',) ::: Failed to extract topics after 5 attempts\n",
      "Erreur rencontrée à l'index 84: string indices must be integers, not 'str'\n"
     ]
    },
    {
     "name": "stderr",
     "output_type": "stream",
     "text": [
      " 95%|█████████▍| 69/73 [46:32<01:21, 20.29s/it]"
     ]
    },
    {
     "name": "stdout",
     "output_type": "stream",
     "text": [
      "Topic 85 : Très bonne expérience ::: {'topics': [('expérience utilisateur', 'Positive', ['bonne'])]}\n"
     ]
    },
    {
     "name": "stderr",
     "output_type": "stream",
     "text": [
      " 96%|█████████▌| 70/73 [47:23<01:28, 29.46s/it]"
     ]
    },
    {
     "name": "stdout",
     "output_type": "stream",
     "text": [
      "Topic 86 : Chaisya rien ::: {'topics': [('service client', 'Negative', ['rude', 'incompetent']), ('ouverture de compte', 'Positive', ['rapide', 'simple']), ('frais bancaires', 'Negative', ['élevés', 'injustes'])]}\n"
     ]
    },
    {
     "name": "stderr",
     "output_type": "stream",
     "text": [
      " 97%|█████████▋| 71/73 [47:55<01:00, 30.10s/it]"
     ]
    },
    {
     "name": "stdout",
     "output_type": "stream",
     "text": [
      "Topic 87 : Prestation : 0\n",
      "Solutions : 0\n",
      "Attention : 0 ::: {'topics': [('Sécurité', 'Negative', ['fraude', 'problèmes']), ('Service client', 'Neutral', ['inexistants', 'désagréables'])]}\n"
     ]
    },
    {
     "name": "stderr",
     "output_type": "stream",
     "text": [
      " 99%|█████████▊| 72/73 [48:26<00:30, 30.49s/it]"
     ]
    },
    {
     "name": "stdout",
     "output_type": "stream",
     "text": [
      "Topic 88 : Très bien situé, personnel excellent. Il y a parfois des problèmes sur Internet ::: {'topics': [('Localisation et accessibilité', 'Positive', ['bien situé'])]}\n"
     ]
    },
    {
     "name": "stderr",
     "output_type": "stream",
     "text": [
      "100%|██████████| 73/73 [48:53<00:00, 40.19s/it]"
     ]
    },
    {
     "name": "stdout",
     "output_type": "stream",
     "text": [
      "Topic 89 : service 0 ::: {'topics': [(\"Temps d'attente\", 'Nan', [])]}\n"
     ]
    },
    {
     "name": "stderr",
     "output_type": "stream",
     "text": [
      "\n"
     ]
    }
   ],
   "source": [
    "\n",
    "# --------------------------------------------------------\n",
    "# 0.3 Preprocessing of concatenate parquets\n",
    "# --------------------------------------------------------\n",
    "df = preprocess_dataframe(concatenate_parquets)"
   ]
  },
  {
   "cell_type": "code",
   "execution_count": 16,
   "metadata": {},
   "outputs": [
    {
     "data": {
      "text/plain": [
       "Index(['Country', 'Town', 'Bank_Name', 'Bank_Phone_number', 'Bank_Address',\n",
       "       'Bank_Website', 'Reviewer_Name', 'Reviewer_Star', 'Reviewer_Text',\n",
       "       'Reviewer_Publish_Date', 'Reviewer_Like_Reaction',\n",
       "       'Reviewer_Profile_Link', 'Reviewer_Owner_Reply',\n",
       "       'Reviewer_Owner_Reply_Date', 'Topic', 'Sentiment', 'Sub_Topic'],\n",
       "      dtype='object')"
      ]
     },
     "execution_count": 16,
     "metadata": {},
     "output_type": "execute_result"
    }
   ],
   "source": [
    "df.columns"
   ]
  },
  {
   "cell_type": "code",
   "execution_count": 17,
   "metadata": {},
   "outputs": [],
   "source": [
    "# all df\n",
    "pd.set_option('display.max_rows', None)\n",
    "pd.set_option('display.max_columns', None)\n",
    "# df\n"
   ]
  },
  {
   "cell_type": "code",
   "execution_count": 18,
   "metadata": {},
   "outputs": [
    {
     "data": {
      "text/plain": [
       "Country                       0\n",
       "Town                          0\n",
       "Bank_Name                     0\n",
       "Bank_Phone_number             0\n",
       "Bank_Address                  0\n",
       "Bank_Website                  0\n",
       "Reviewer_Name                 0\n",
       "Reviewer_Star                 0\n",
       "Reviewer_Text                 0\n",
       "Reviewer_Publish_Date         0\n",
       "Reviewer_Like_Reaction        0\n",
       "Reviewer_Profile_Link         0\n",
       "Reviewer_Owner_Reply          2\n",
       "Reviewer_Owner_Reply_Date     0\n",
       "Topic                        73\n",
       "Sentiment                    73\n",
       "Sub_Topic                    73\n",
       "dtype: int64"
      ]
     },
     "execution_count": 18,
     "metadata": {},
     "output_type": "execute_result"
    }
   ],
   "source": [
    "df.isna().sum()"
   ]
  },
  {
   "cell_type": "code",
   "execution_count": 19,
   "metadata": {},
   "outputs": [
    {
     "data": {
      "text/html": [
       "<div>\n",
       "<style scoped>\n",
       "    .dataframe tbody tr th:only-of-type {\n",
       "        vertical-align: middle;\n",
       "    }\n",
       "\n",
       "    .dataframe tbody tr th {\n",
       "        vertical-align: top;\n",
       "    }\n",
       "\n",
       "    .dataframe thead th {\n",
       "        text-align: right;\n",
       "    }\n",
       "</style>\n",
       "<table border=\"1\" class=\"dataframe\">\n",
       "  <thead>\n",
       "    <tr style=\"text-align: right;\">\n",
       "      <th></th>\n",
       "      <th>Country</th>\n",
       "      <th>Town</th>\n",
       "      <th>Bank_Name</th>\n",
       "      <th>Bank_Phone_number</th>\n",
       "      <th>Bank_Address</th>\n",
       "      <th>Bank_Website</th>\n",
       "      <th>Reviewer_Name</th>\n",
       "      <th>Reviewer_Star</th>\n",
       "      <th>Reviewer_Text</th>\n",
       "      <th>Reviewer_Publish_Date</th>\n",
       "      <th>Reviewer_Like_Reaction</th>\n",
       "      <th>Reviewer_Profile_Link</th>\n",
       "      <th>Reviewer_Owner_Reply</th>\n",
       "      <th>Reviewer_Owner_Reply_Date</th>\n",
       "      <th>Topic</th>\n",
       "      <th>Sentiment</th>\n",
       "      <th>Sub_Topic</th>\n",
       "    </tr>\n",
       "  </thead>\n",
       "  <tbody>\n",
       "    <tr>\n",
       "      <th>0</th>\n",
       "      <td>Morocco</td>\n",
       "      <td>Nador</td>\n",
       "      <td>Banque Populaire</td>\n",
       "      <td>Not available</td>\n",
       "      <td>53Hg+Fvc, Bd Mohamed Ameziane Errifi, Nador</td>\n",
       "      <td>not available</td>\n",
       "      <td>Habib Chouaa</td>\n",
       "      <td>5</td>\n",
       "      <td>Pays Ahsan</td>\n",
       "      <td>2016-08-08 18:50:25.525147</td>\n",
       "      <td>0</td>\n",
       "      <td>https://www.google.com/maps/contrib/1006948281...</td>\n",
       "      <td>Nothing</td>\n",
       "      <td>1970-01-01</td>\n",
       "      <td>NaN</td>\n",
       "      <td>NaN</td>\n",
       "      <td>NaN</td>\n",
       "    </tr>\n",
       "    <tr>\n",
       "      <th>1</th>\n",
       "      <td>Morocco</td>\n",
       "      <td>Nador</td>\n",
       "      <td>Banque Populaire</td>\n",
       "      <td>Not available</td>\n",
       "      <td>53Hg+Fvc, Bd Mohamed Ameziane Errifi, Nador</td>\n",
       "      <td>not available</td>\n",
       "      <td>Mohamed Nador</td>\n",
       "      <td>4</td>\n",
       "      <td>Berger</td>\n",
       "      <td>2016-08-08 18:50:25.525158</td>\n",
       "      <td>0</td>\n",
       "      <td>https://www.google.com/maps/contrib/1165746157...</td>\n",
       "      <td>Nothing</td>\n",
       "      <td>1970-01-01</td>\n",
       "      <td>NaN</td>\n",
       "      <td>NaN</td>\n",
       "      <td>NaN</td>\n",
       "    </tr>\n",
       "    <tr>\n",
       "      <th>2</th>\n",
       "      <td>Morocco</td>\n",
       "      <td>Nador</td>\n",
       "      <td>Banque Populaire</td>\n",
       "      <td>Not available</td>\n",
       "      <td>53Hg+Fvc, Bd Mohamed Ameziane Errifi, Nador</td>\n",
       "      <td>not available</td>\n",
       "      <td>Hafaimya</td>\n",
       "      <td>3</td>\n",
       "      <td>Expérience neutre</td>\n",
       "      <td>2021-08-07 18:50:25.525160</td>\n",
       "      <td>0</td>\n",
       "      <td>https://www.google.com/maps/contrib/1027703754...</td>\n",
       "      <td>Nothing</td>\n",
       "      <td>1970-01-01</td>\n",
       "      <td>NaN</td>\n",
       "      <td>NaN</td>\n",
       "      <td>NaN</td>\n",
       "    </tr>\n",
       "    <tr>\n",
       "      <th>3</th>\n",
       "      <td>Morocco</td>\n",
       "      <td>Nador</td>\n",
       "      <td>Banque Populaire</td>\n",
       "      <td>Not available</td>\n",
       "      <td>53Hg+Fvc, Bd Mohamed Ameziane Errifi, Nador</td>\n",
       "      <td>not available</td>\n",
       "      <td>Imad Charkani El-Hassani</td>\n",
       "      <td>1</td>\n",
       "      <td>Très mauvaise expérience</td>\n",
       "      <td>2018-08-08 18:50:25.525162</td>\n",
       "      <td>0</td>\n",
       "      <td>https://www.google.com/maps/contrib/1029760643...</td>\n",
       "      <td>Nothing</td>\n",
       "      <td>1970-01-01</td>\n",
       "      <td>NaN</td>\n",
       "      <td>NaN</td>\n",
       "      <td>NaN</td>\n",
       "    </tr>\n",
       "    <tr>\n",
       "      <th>4</th>\n",
       "      <td>Morocco</td>\n",
       "      <td>Nador</td>\n",
       "      <td>Banque Populaire</td>\n",
       "      <td>Not available</td>\n",
       "      <td>53Hg+Fvc, Bd Mohamed Ameziane Errifi, Nador</td>\n",
       "      <td>not available</td>\n",
       "      <td>Abdelkarim Ajarray</td>\n",
       "      <td>3</td>\n",
       "      <td>Expérience neutre</td>\n",
       "      <td>2017-08-08 18:50:25.525163</td>\n",
       "      <td>0</td>\n",
       "      <td>https://www.google.com/maps/contrib/1158693667...</td>\n",
       "      <td>Nothing</td>\n",
       "      <td>1970-01-01</td>\n",
       "      <td>NaN</td>\n",
       "      <td>NaN</td>\n",
       "      <td>NaN</td>\n",
       "    </tr>\n",
       "  </tbody>\n",
       "</table>\n",
       "</div>"
      ],
      "text/plain": [
       "   Country   Town         Bank_Name Bank_Phone_number  \\\n",
       "0  Morocco  Nador  Banque Populaire     Not available   \n",
       "1  Morocco  Nador  Banque Populaire     Not available   \n",
       "2  Morocco  Nador  Banque Populaire     Not available   \n",
       "3  Morocco  Nador  Banque Populaire     Not available   \n",
       "4  Morocco  Nador  Banque Populaire     Not available   \n",
       "\n",
       "                                  Bank_Address   Bank_Website  \\\n",
       "0  53Hg+Fvc, Bd Mohamed Ameziane Errifi, Nador  not available   \n",
       "1  53Hg+Fvc, Bd Mohamed Ameziane Errifi, Nador  not available   \n",
       "2  53Hg+Fvc, Bd Mohamed Ameziane Errifi, Nador  not available   \n",
       "3  53Hg+Fvc, Bd Mohamed Ameziane Errifi, Nador  not available   \n",
       "4  53Hg+Fvc, Bd Mohamed Ameziane Errifi, Nador  not available   \n",
       "\n",
       "              Reviewer_Name  Reviewer_Star             Reviewer_Text  \\\n",
       "0              Habib Chouaa              5                Pays Ahsan   \n",
       "1             Mohamed Nador              4                    Berger   \n",
       "2                  Hafaimya              3         Expérience neutre   \n",
       "3  Imad Charkani El-Hassani              1  Très mauvaise expérience   \n",
       "4        Abdelkarim Ajarray              3         Expérience neutre   \n",
       "\n",
       "       Reviewer_Publish_Date  Reviewer_Like_Reaction  \\\n",
       "0 2016-08-08 18:50:25.525147                       0   \n",
       "1 2016-08-08 18:50:25.525158                       0   \n",
       "2 2021-08-07 18:50:25.525160                       0   \n",
       "3 2018-08-08 18:50:25.525162                       0   \n",
       "4 2017-08-08 18:50:25.525163                       0   \n",
       "\n",
       "                               Reviewer_Profile_Link Reviewer_Owner_Reply  \\\n",
       "0  https://www.google.com/maps/contrib/1006948281...              Nothing   \n",
       "1  https://www.google.com/maps/contrib/1165746157...              Nothing   \n",
       "2  https://www.google.com/maps/contrib/1027703754...              Nothing   \n",
       "3  https://www.google.com/maps/contrib/1029760643...              Nothing   \n",
       "4  https://www.google.com/maps/contrib/1158693667...              Nothing   \n",
       "\n",
       "  Reviewer_Owner_Reply_Date Topic Sentiment Sub_Topic  \n",
       "0                1970-01-01   NaN       NaN       NaN  \n",
       "1                1970-01-01   NaN       NaN       NaN  \n",
       "2                1970-01-01   NaN       NaN       NaN  \n",
       "3                1970-01-01   NaN       NaN       NaN  \n",
       "4                1970-01-01   NaN       NaN       NaN  "
      ]
     },
     "execution_count": 19,
     "metadata": {},
     "output_type": "execute_result"
    }
   ],
   "source": [
    "df.head()"
   ]
  },
  {
   "cell_type": "code",
   "execution_count": null,
   "metadata": {},
   "outputs": [],
   "source": [
    "\n",
    "# --------------------------------------------------------\n",
    "# 0.5 Initialization of database\n",
    "# --------------------------------------------------------\n",
    "# Utilisation de la DatabaseInitializer\n",
    "ADMIN_USER = 'postgres'\n",
    "ADMIN_PASSWORD = 'postgres'\n",
    "HOST = 'postgresql'\n",
    "PORT = '5432'\n",
    "DB_USER = 'conite'\n",
    "DB_PASSWORD = 'conite_password'\n",
    "DB_NAME = 'bank_reviews'\n",
    "\n",
    "# --------------------------------------------------------------------------\n",
    "# Database Initialization\n",
    "# --------------------------------------------------------------------------\n",
    "db_initializer = DatabaseInitializer(ADMIN_USER, ADMIN_PASSWORD, HOST, PORT)\n",
    "\n",
    "db_initializer.create_database_and_user(DB_USER, DB_PASSWORD, DB_NAME)\n",
    "\n",
    "# ------------------------------------------------------------------------------\n",
    "# Configuration de la base de donnees\n",
    "# ------------------------------------------------------------------------------\n",
    "DB_URI = f'postgresql://{DB_USER}:{DB_PASSWORD}@{HOST}:5432/{DB_NAME}'\n",
    "\n",
    "# ------------------------------------------------------------------------------\n",
    "# Initialize database and create tables\n",
    "# ------------------------------------------------------------------------------\n",
    "\n",
    "engine = create_engine(DB_URI)\n",
    "Session = sessionmaker(bind=engine)\n",
    "session = Session()\n",
    "wait_for_postgresql(host=HOST, port=PORT, user=DB_USER, password=DB_PASSWORD, dbname=DB_NAME)\n",
    "Base.metadata.create_all(engine)\n",
    "\n",
    "conn_params = {\n",
    "    'dbname': DB_NAME,\n",
    "    'user': DB_USER,\n",
    "    'password': DB_PASSWORD,\n",
    "    'host': HOST,\n",
    "    'port': PORT\n",
    "}\n",
    "with psycopg2.connect(**conn_params) as conn:\n",
    "    with conn.cursor() as cur:\n",
    "        query = \"\"\"\n",
    "        SELECT table_name \n",
    "        FROM information_schema.tables \n",
    "        WHERE table_schema = 'public'\n",
    "        \"\"\"\n",
    "        cur.execute(query)\n",
    "        existing_tables = cur.fetchall()\n",
    "        existing_tables = [table[0] for table in existing_tables]\n",
    "        print(\"\\033[1;92mTABLES CREATED SUCCESSFULLY.\\033[0m \\033[1;94m\" + str(existing_tables) + \"\\033[0m\")\n",
    "\n",
    "# --------------------------------------------------------\n",
    "# 0.6 Insertion of data in database\n",
    "# --------------------------------------------------------\n",
    "insert_data_from_dataframe(df, session)\n",
    "migration_to_decisionalDB(DB_NAME, DB_PASSWORD, session)\n",
    "# session.commit()"
   ]
  },
  {
   "cell_type": "code",
   "execution_count": null,
   "metadata": {},
   "outputs": [],
   "source": []
  }
 ],
 "metadata": {
  "kernelspec": {
   "display_name": "Python 3",
   "language": "python",
   "name": "python3"
  },
  "language_info": {
   "codemirror_mode": {
    "name": "ipython",
    "version": 3
   },
   "file_extension": ".py",
   "mimetype": "text/x-python",
   "name": "python",
   "nbconvert_exporter": "python",
   "pygments_lexer": "ipython3",
   "version": "3.11.0"
  }
 },
 "nbformat": 4,
 "nbformat_minor": 2
}
