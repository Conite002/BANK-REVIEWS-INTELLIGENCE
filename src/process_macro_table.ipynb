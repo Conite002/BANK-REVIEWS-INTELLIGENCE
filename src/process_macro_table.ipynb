{
 "cells": [
  {
   "cell_type": "code",
   "execution_count": 141,
   "metadata": {},
   "outputs": [],
   "source": [
    "import pandas as pd\n",
    "import numpy as np\n",
    "\n",
    "macro = pd.read_csv('macro_llamma.csv')"
   ]
  },
  {
   "cell_type": "code",
   "execution_count": 142,
   "metadata": {},
   "outputs": [
    {
     "data": {
      "text/plain": [
       "Index(['Country', 'Town', 'Bank_Name', 'Bank_Phone_number', 'Bank_Address',\n",
       "       'Bank_Website', 'Reviewer_Name', 'Reviewer_Star', 'Reviewer_Text',\n",
       "       'Reviewer_Publish_Date', 'Reviewer_Like_Reaction',\n",
       "       'Reviewer_Profile_Link', 'Reviewer_Owner_Reply',\n",
       "       'Reviewer_Owner_Reply_Date', 'Topic', 'Sentiment', 'Sub_Topic',\n",
       "       'sentiment'],\n",
       "      dtype='object')"
      ]
     },
     "execution_count": 142,
     "metadata": {},
     "output_type": "execute_result"
    }
   ],
   "source": [
    "macro.columns"
   ]
  },
  {
   "cell_type": "code",
   "execution_count": 143,
   "metadata": {},
   "outputs": [
    {
     "data": {
      "text/plain": [
       "Sentiment\n",
       "positive    13634\n",
       "negative     3835\n",
       "Name: count, dtype: int64"
      ]
     },
     "execution_count": 143,
     "metadata": {},
     "output_type": "execute_result"
    }
   ],
   "source": [
    "# use values from Reviewer_Star values to map Sentiment column (3-5 stars = positive, 1-2 stars = negative)\n",
    "macro[\"Sentiment\"]  = np.where(macro['Reviewer_Star'] > 2, 'positive', 'negative')\n",
    "macro[\"Sentiment\"].value_counts()"
   ]
  },
  {
   "cell_type": "code",
   "execution_count": 144,
   "metadata": {},
   "outputs": [
    {
     "data": {
      "text/html": [
       "<div>\n",
       "<style scoped>\n",
       "    .dataframe tbody tr th:only-of-type {\n",
       "        vertical-align: middle;\n",
       "    }\n",
       "\n",
       "    .dataframe tbody tr th {\n",
       "        vertical-align: top;\n",
       "    }\n",
       "\n",
       "    .dataframe thead th {\n",
       "        text-align: right;\n",
       "    }\n",
       "</style>\n",
       "<table border=\"1\" class=\"dataframe\">\n",
       "  <thead>\n",
       "    <tr style=\"text-align: right;\">\n",
       "      <th></th>\n",
       "      <th>Country</th>\n",
       "      <th>Town</th>\n",
       "      <th>Bank_Name</th>\n",
       "      <th>Bank_Phone_number</th>\n",
       "      <th>Bank_Address</th>\n",
       "      <th>Bank_Website</th>\n",
       "      <th>Reviewer_Name</th>\n",
       "      <th>Reviewer_Star</th>\n",
       "      <th>Reviewer_Text</th>\n",
       "      <th>Reviewer_Publish_Date</th>\n",
       "      <th>Reviewer_Like_Reaction</th>\n",
       "      <th>Reviewer_Profile_Link</th>\n",
       "      <th>Reviewer_Owner_Reply</th>\n",
       "      <th>Reviewer_Owner_Reply_Date</th>\n",
       "      <th>Topic</th>\n",
       "      <th>Sentiment</th>\n",
       "      <th>Sub_Topic</th>\n",
       "      <th>sentiment</th>\n",
       "    </tr>\n",
       "  </thead>\n",
       "  <tbody>\n",
       "    <tr>\n",
       "      <th>0</th>\n",
       "      <td>Morocco</td>\n",
       "      <td>Taroudant</td>\n",
       "      <td>Banque</td>\n",
       "      <td>+212 5288-52588</td>\n",
       "      <td>Populaire F4Fm+H48, N10, Taroudant</td>\n",
       "      <td>http://www.gbp.ma/</td>\n",
       "      <td>Hamza Izourane</td>\n",
       "      <td>4</td>\n",
       "      <td>L'emplacement est bien situé, il est facile de...</td>\n",
       "      <td>2018-08-13 00:58:13.786458</td>\n",
       "      <td>0</td>\n",
       "      <td>https://www.google.com/maps/contrib/1071099367...</td>\n",
       "      <td>Nothing</td>\n",
       "      <td>1970-01-01 00:00:00.000000</td>\n",
       "      <td>Localisation et accessibilité</td>\n",
       "      <td>positive</td>\n",
       "      <td>['emplacement bien situé', 'facile de trouver ...</td>\n",
       "      <td>positive</td>\n",
       "    </tr>\n",
       "    <tr>\n",
       "      <th>1</th>\n",
       "      <td>Morocco</td>\n",
       "      <td>Taroudant</td>\n",
       "      <td>Banque</td>\n",
       "      <td>+212 5288-52588</td>\n",
       "      <td>Populaire F4Fm+H48, N10, Taroudant</td>\n",
       "      <td>http://www.gbp.ma/</td>\n",
       "      <td>Imjou Fad</td>\n",
       "      <td>5</td>\n",
       "      <td>Très bon accueil, le vigile très serviable et ...</td>\n",
       "      <td>2023-08-12 00:58:13.786474</td>\n",
       "      <td>0</td>\n",
       "      <td>https://www.google.com/maps/contrib/1142323693...</td>\n",
       "      <td>Nothing</td>\n",
       "      <td>1970-01-01 00:00:00.000000</td>\n",
       "      <td>Service client</td>\n",
       "      <td>positive</td>\n",
       "      <td>['Accueil bienvenu', 'Vigile serviable et sour...</td>\n",
       "      <td>positive</td>\n",
       "    </tr>\n",
       "    <tr>\n",
       "      <th>2</th>\n",
       "      <td>Morocco</td>\n",
       "      <td>Taroudant</td>\n",
       "      <td>Banque</td>\n",
       "      <td>+212 5288-52588</td>\n",
       "      <td>Populaire F4Fm+H48, N10, Taroudant</td>\n",
       "      <td>http://www.gbp.ma/</td>\n",
       "      <td>Mobi Sud</td>\n",
       "      <td>4</td>\n",
       "      <td>La Banque Au Cheval</td>\n",
       "      <td>2017-08-13 00:58:13.786484</td>\n",
       "      <td>1</td>\n",
       "      <td>https://www.google.com/maps/contrib/1013145203...</td>\n",
       "      <td>Nothing</td>\n",
       "      <td>1970-01-01 00:00:00.000000</td>\n",
       "      <td>Frais bancaires</td>\n",
       "      <td>positive</td>\n",
       "      <td>['élevés']</td>\n",
       "      <td>positive</td>\n",
       "    </tr>\n",
       "    <tr>\n",
       "      <th>3</th>\n",
       "      <td>Morocco</td>\n",
       "      <td>Taroudant</td>\n",
       "      <td>Banque</td>\n",
       "      <td>+212 5288-52588</td>\n",
       "      <td>Populaire F4Fm+H48, N10, Taroudant</td>\n",
       "      <td>http://www.gbp.ma/</td>\n",
       "      <td>Patxi</td>\n",
       "      <td>4</td>\n",
       "      <td>Il y a peu de guichets automatiques dans la ré...</td>\n",
       "      <td>2021-08-12 00:58:13.786488</td>\n",
       "      <td>1</td>\n",
       "      <td>https://www.google.com/maps/contrib/1006364945...</td>\n",
       "      <td>Nothing</td>\n",
       "      <td>1970-01-01 00:00:00.000000</td>\n",
       "      <td>guichets automatiques</td>\n",
       "      <td>positive</td>\n",
       "      <td>['fonctionnels', 'abondants']</td>\n",
       "      <td>positive</td>\n",
       "    </tr>\n",
       "    <tr>\n",
       "      <th>4</th>\n",
       "      <td>Morocco</td>\n",
       "      <td>Taroudant</td>\n",
       "      <td>Banque</td>\n",
       "      <td>+212 5288-52588</td>\n",
       "      <td>Populaire F4Fm+H48, N10, Taroudant</td>\n",
       "      <td>http://www.gbp.ma/</td>\n",
       "      <td>Abdel Amah</td>\n",
       "      <td>5</td>\n",
       "      <td>Merci beaucoup pour votre excellent service.</td>\n",
       "      <td>2019-08-13 00:58:13.786492</td>\n",
       "      <td>1</td>\n",
       "      <td>https://www.google.com/maps/contrib/1124624498...</td>\n",
       "      <td>Nothing</td>\n",
       "      <td>1970-01-01 00:00:00.000000</td>\n",
       "      <td>Satisfaction client</td>\n",
       "      <td>positive</td>\n",
       "      <td>['excellent service']</td>\n",
       "      <td>positive</td>\n",
       "    </tr>\n",
       "  </tbody>\n",
       "</table>\n",
       "</div>"
      ],
      "text/plain": [
       "   Country       Town Bank_Name Bank_Phone_number  \\\n",
       "0  Morocco  Taroudant    Banque   +212 5288-52588   \n",
       "1  Morocco  Taroudant    Banque   +212 5288-52588   \n",
       "2  Morocco  Taroudant    Banque   +212 5288-52588   \n",
       "3  Morocco  Taroudant    Banque   +212 5288-52588   \n",
       "4  Morocco  Taroudant    Banque   +212 5288-52588   \n",
       "\n",
       "                         Bank_Address        Bank_Website   Reviewer_Name  \\\n",
       "0  Populaire F4Fm+H48, N10, Taroudant  http://www.gbp.ma/  Hamza Izourane   \n",
       "1  Populaire F4Fm+H48, N10, Taroudant  http://www.gbp.ma/       Imjou Fad   \n",
       "2  Populaire F4Fm+H48, N10, Taroudant  http://www.gbp.ma/        Mobi Sud   \n",
       "3  Populaire F4Fm+H48, N10, Taroudant  http://www.gbp.ma/           Patxi   \n",
       "4  Populaire F4Fm+H48, N10, Taroudant  http://www.gbp.ma/      Abdel Amah   \n",
       "\n",
       "   Reviewer_Star                                      Reviewer_Text  \\\n",
       "0              4  L'emplacement est bien situé, il est facile de...   \n",
       "1              5  Très bon accueil, le vigile très serviable et ...   \n",
       "2              4                                La Banque Au Cheval   \n",
       "3              4  Il y a peu de guichets automatiques dans la ré...   \n",
       "4              5       Merci beaucoup pour votre excellent service.   \n",
       "\n",
       "        Reviewer_Publish_Date  Reviewer_Like_Reaction  \\\n",
       "0  2018-08-13 00:58:13.786458                       0   \n",
       "1  2023-08-12 00:58:13.786474                       0   \n",
       "2  2017-08-13 00:58:13.786484                       1   \n",
       "3  2021-08-12 00:58:13.786488                       1   \n",
       "4  2019-08-13 00:58:13.786492                       1   \n",
       "\n",
       "                               Reviewer_Profile_Link Reviewer_Owner_Reply  \\\n",
       "0  https://www.google.com/maps/contrib/1071099367...              Nothing   \n",
       "1  https://www.google.com/maps/contrib/1142323693...              Nothing   \n",
       "2  https://www.google.com/maps/contrib/1013145203...              Nothing   \n",
       "3  https://www.google.com/maps/contrib/1006364945...              Nothing   \n",
       "4  https://www.google.com/maps/contrib/1124624498...              Nothing   \n",
       "\n",
       "    Reviewer_Owner_Reply_Date                          Topic Sentiment  \\\n",
       "0  1970-01-01 00:00:00.000000  Localisation et accessibilité  positive   \n",
       "1  1970-01-01 00:00:00.000000                 Service client  positive   \n",
       "2  1970-01-01 00:00:00.000000                Frais bancaires  positive   \n",
       "3  1970-01-01 00:00:00.000000          guichets automatiques  positive   \n",
       "4  1970-01-01 00:00:00.000000            Satisfaction client  positive   \n",
       "\n",
       "                                           Sub_Topic sentiment  \n",
       "0  ['emplacement bien situé', 'facile de trouver ...  positive  \n",
       "1  ['Accueil bienvenu', 'Vigile serviable et sour...  positive  \n",
       "2                                         ['élevés']  positive  \n",
       "3                      ['fonctionnels', 'abondants']  positive  \n",
       "4                              ['excellent service']  positive  "
      ]
     },
     "execution_count": 144,
     "metadata": {},
     "output_type": "execute_result"
    }
   ],
   "source": [
    "macro.head()"
   ]
  },
  {
   "cell_type": "code",
   "execution_count": 145,
   "metadata": {},
   "outputs": [
    {
     "data": {
      "text/plain": [
       "Bank_Name\n",
       "D'Ivoire     1528\n",
       "Banque       1114\n",
       "Bank          758\n",
       "Société       739\n",
       "Gcb           644\n",
       "             ... \n",
       "Ahantaman       1\n",
       "Fececam         1\n",
       "Banqie          1\n",
       "Cal             1\n",
       "Smk             1\n",
       "Name: count, Length: 330, dtype: int64"
      ]
     },
     "execution_count": 145,
     "metadata": {},
     "output_type": "execute_result"
    }
   ],
   "source": [
    "macro['Bank_Name'].value_counts()"
   ]
  },
  {
   "cell_type": "code",
   "execution_count": 146,
   "metadata": {},
   "outputs": [
    {
     "data": {
      "text/plain": [
       "array(['Morocco', 'Côte', 'Bénin', 'Senegal', 'Ghana', 'Kenya', 'Uganda'],\n",
       "      dtype=object)"
      ]
     },
     "execution_count": 146,
     "metadata": {},
     "output_type": "execute_result"
    }
   ],
   "source": [
    "macro['Country'].unique()"
   ]
  },
  {
   "cell_type": "code",
   "execution_count": 147,
   "metadata": {},
   "outputs": [
    {
     "data": {
      "text/plain": [
       "Bank_Name\n",
       "Société              520\n",
       "Boa                  367\n",
       "Ecobank              303\n",
       "Banque               215\n",
       "Uba                  172\n",
       "Bank                 168\n",
       "Bsic                 122\n",
       "Coris                101\n",
       "Mairie                77\n",
       "Orabank               75\n",
       "Ccei                  64\n",
       "Boa:                  61\n",
       "Sonibank              52\n",
       "Nsia                  37\n",
       "Bceao                 36\n",
       "Agence                36\n",
       "Distributeurs         31\n",
       "Cbao                  26\n",
       "Diamond               21\n",
       "Clcam                 20\n",
       "Not                   18\n",
       "Pobe                  13\n",
       "Cnss                  11\n",
       "Iamd-Microfinance      9\n",
       "Sgb                    8\n",
       "Clcam/Cove             7\n",
       "As                     6\n",
       "La                     3\n",
       "Boa,                   3\n",
       "Africabourse           3\n",
       "Ets                    2\n",
       "Cmmb                   2\n",
       "Western                2\n",
       "Carrefour              2\n",
       "Bureau                 2\n",
       "Axa                    2\n",
       "Trésor                 2\n",
       "Arrondissement         1\n",
       "Icb                    1\n",
       "Atm                    1\n",
       "Padme                  1\n",
       "Fececam                1\n",
       "Name: count, dtype: int64"
      ]
     },
     "execution_count": 147,
     "metadata": {},
     "output_type": "execute_result"
    }
   ],
   "source": [
    "# Benin\n",
    "macro[macro['Country'] == 'Bénin']['Bank_Name'].value_counts()"
   ]
  },
  {
   "cell_type": "code",
   "execution_count": 148,
   "metadata": {},
   "outputs": [
    {
     "name": "stderr",
     "output_type": "stream",
     "text": [
      "C:\\Users\\dscon\\AppData\\Local\\Temp\\ipykernel_19144\\393307359.py:3: SettingWithCopyWarning: \n",
      "A value is trying to be set on a copy of a slice from a DataFrame.\n",
      "Try using .loc[row_indexer,col_indexer] = value instead\n",
      "\n",
      "See the caveats in the documentation: https://pandas.pydata.org/pandas-docs/stable/user_guide/indexing.html#returning-a-view-versus-a-copy\n",
      "  filter_bank['Bank_Address'] = macro['Bank_Name'] +\" \"+ filter_bank['Bank_Address']\n"
     ]
    },
    {
     "data": {
      "text/plain": [
       "Bank_Address\n",
       "Banque Atlantique Agence Ganhi 9C3P+Gm2, Rue De La Poste, Cotonou, Bénin                        115\n",
       "Banque Internationale Pour L'Industrie Et Le Commerce Boulevard Saint Michel, Cotonou, Bénin     66\n",
       "Bank Of Africa Agence Bohicon 53G7+74V, Bohicon, Bénin                                           57\n",
       "Bank Of Africa (Boa) 996F+C9W, Cotonou, Bénin                                                    30\n",
       "Bank Of Africa Agence Saint Michel 9C8H+C55, Cotonou, Bénin                                      19\n",
       "Bank Of Africa Agence Lokossa Jpj6+2Hg, Lokossa, Bénin                                           19\n",
       "Bank Of Africa Akpakpa 9F94+24V, Cotonou, Bénin                                                  16\n",
       "Banque Atlantique Abomey-Calavi C9V3+Wmf, Abomey Calavi, Bénin                                   12\n",
       "Bank Of Africa 1Er Arrondissement, Bénin                                                          9\n",
       "Bank Of Africa Parakou 8Jvg+38P, Rte De Transa, Parakou, Bénin                                    7\n",
       "Banque Atlantique Agence Étoile Rouge 9Cc5+7Mg, Cotonou, Bénin                                    7\n",
       "Bank Of Africa Agence Zogbo 99Rq+34W, Rue 2650, Cotonou, Bénin                                    7\n",
       "Banque Ouest Africaine Pm3C+M67, Djougou, Bénin                                                   5\n",
       "Banque Atlantique Agence Parakou Cinema, Rte De Transa, Parakou, Bénin                            4\n",
       "Bank Of Africa Agence Kandi 4Wjj+2Vq, Kandi, Bénin                                                4\n",
       "Banque Du Bénin 8Jvg+Cc5, Rnie2, Parakou, Bénin                                                   3\n",
       "Banque Sahélo-Saharienne Pour L'Investissement Et Le Commerce 9J29+4Qr, Parakou, Bénin            1\n",
       "Banque Atlantique Agence L'Abattoir 9F9P+99X, Cotonou, Bénin                                      1\n",
       "Banque Atlantique Agence Bohicon 53G7+467, Rnie4, Bohicon, Bénin                                  1\n",
       "Name: count, dtype: int64"
      ]
     },
     "execution_count": 148,
     "metadata": {},
     "output_type": "execute_result"
    }
   ],
   "source": [
    "# macro[(macro['Country'] == 'Bénin') & ((macro['Bank_Name'] == 'Bank') | (macro['Bank_Name'] == 'Banque'))]['Bank_Address'].value_counts()\n",
    "filter_bank = macro[(macro['Country'] == 'Bénin') & ((macro['Bank_Name'] == 'Bank') | (macro['Bank_Name'] == 'Banque'))]\n",
    "filter_bank['Bank_Address'] = macro['Bank_Name'] +\" \"+ filter_bank['Bank_Address']\n",
    "filter_bank['Bank_Address'].value_counts()"
   ]
  },
  {
   "cell_type": "code",
   "execution_count": 115,
   "metadata": {},
   "outputs": [],
   "source": [
    "macro['Bank_Name'] = np.where(macro['Bank_Name'].str.contains('Boa|Distributeurs'), 'BOA', macro['Bank_Name'])\n",
    "\n",
    "\n",
    "# Benin Bank\n",
    "macro[macro['Country'] == 'Bénin']['Bank_Name'].value_counts()\n",
    "macro[macro['Country'] == 'Bénin']['Bank_Name'].unique()\n",
    "macro[(macro['Bank_Name'] == 'Bank') | (macro['Bank_Name'] == 'Banque')]\n",
    "\n",
    "# Morroco Bank\n",
    "macro['Bank_Name'] = np.where((macro['Bank_Name'] == 'Banque') & (macro['Country'] == 'Morocco'), 'Banque Populaire', macro['Bank_Name'])\n",
    "macro[macro['Country'] == 'Morocco']['Bank_Name'].value_counts()\n",
    "\n",
    "macro[macro['Bank_Name'] == \"Bank\"]['Bank_Address'].value_counts()\n",
    "\n",
    "\n",
    "# complete Bank_Name to Bank_Address if Bank_Name begin with \"Of\"\n",
    "macro['Bank_Name'] = np.where(macro['Bank_Address'].str.startswith('Of'), macro['Bank_Name'] +\" \"+ macro['Bank_Address'], macro['Bank_Name'])"
   ]
  }
 ],
 "metadata": {
  "kernelspec": {
   "display_name": "base",
   "language": "python",
   "name": "python3"
  },
  "language_info": {
   "codemirror_mode": {
    "name": "ipython",
    "version": 3
   },
   "file_extension": ".py",
   "mimetype": "text/x-python",
   "name": "python",
   "nbconvert_exporter": "python",
   "pygments_lexer": "ipython3",
   "version": "3.11.5"
  }
 },
 "nbformat": 4,
 "nbformat_minor": 2
}
