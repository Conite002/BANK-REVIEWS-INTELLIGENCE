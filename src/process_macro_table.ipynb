{
 "cells": [
  {
   "cell_type": "code",
   "execution_count": 106,
   "metadata": {},
   "outputs": [],
   "source": [
    "import pandas as pd\n",
    "import numpy as np\n",
    "\n",
    "macro = pd.read_csv('../data/processed/2024-08-31/macro_llamma_v2.csv')"
   ]
  },
  {
   "cell_type": "code",
   "execution_count": 107,
   "metadata": {},
   "outputs": [
    {
     "data": {
      "text/plain": [
       "Index(['Country', 'Town', 'Bank_Name', 'Bank_Phone_number', 'Bank_Address',\n",
       "       'Bank_Website', 'Reviewer_Name', 'Reviewer_Star', 'Reviewer_Text',\n",
       "       'Reviewer_Publish_Date', 'Reviewer_Like_Reaction',\n",
       "       'Reviewer_Profile_Link', 'Reviewer_Owner_Reply',\n",
       "       'Reviewer_Owner_Reply_Date', 'Topic', 'Sentiment', 'Sub_Topic',\n",
       "       'sentiment'],\n",
       "      dtype='object')"
      ]
     },
     "execution_count": 107,
     "metadata": {},
     "output_type": "execute_result"
    }
   ],
   "source": [
    "macro.columns"
   ]
  },
  {
   "cell_type": "code",
   "execution_count": 108,
   "metadata": {},
   "outputs": [
    {
     "data": {
      "text/plain": [
       "Sentiment\n",
       "positive    13634\n",
       "negative     3835\n",
       "Name: count, dtype: int64"
      ]
     },
     "execution_count": 108,
     "metadata": {},
     "output_type": "execute_result"
    }
   ],
   "source": [
    "# use values from Reviewer_Star values to map Sentiment column (3-5 stars = positive, 1-2 stars = negative)\n",
    "macro[\"Sentiment\"]  = np.where(macro['Reviewer_Star'] > 2, 'positive', 'negative')\n",
    "macro[\"Sentiment\"].value_counts()"
   ]
  },
  {
   "cell_type": "code",
   "execution_count": 109,
   "metadata": {},
   "outputs": [
    {
     "data": {
      "text/html": [
       "<div>\n",
       "<style scoped>\n",
       "    .dataframe tbody tr th:only-of-type {\n",
       "        vertical-align: middle;\n",
       "    }\n",
       "\n",
       "    .dataframe tbody tr th {\n",
       "        vertical-align: top;\n",
       "    }\n",
       "\n",
       "    .dataframe thead th {\n",
       "        text-align: right;\n",
       "    }\n",
       "</style>\n",
       "<table border=\"1\" class=\"dataframe\">\n",
       "  <thead>\n",
       "    <tr style=\"text-align: right;\">\n",
       "      <th></th>\n",
       "      <th>Country</th>\n",
       "      <th>Town</th>\n",
       "      <th>Bank_Name</th>\n",
       "      <th>Bank_Phone_number</th>\n",
       "      <th>Bank_Address</th>\n",
       "      <th>Bank_Website</th>\n",
       "      <th>Reviewer_Name</th>\n",
       "      <th>Reviewer_Star</th>\n",
       "      <th>Reviewer_Text</th>\n",
       "      <th>Reviewer_Publish_Date</th>\n",
       "      <th>Reviewer_Like_Reaction</th>\n",
       "      <th>Reviewer_Profile_Link</th>\n",
       "      <th>Reviewer_Owner_Reply</th>\n",
       "      <th>Reviewer_Owner_Reply_Date</th>\n",
       "      <th>Topic</th>\n",
       "      <th>Sentiment</th>\n",
       "      <th>Sub_Topic</th>\n",
       "      <th>sentiment</th>\n",
       "    </tr>\n",
       "  </thead>\n",
       "  <tbody>\n",
       "    <tr>\n",
       "      <th>0</th>\n",
       "      <td>Morocco</td>\n",
       "      <td>Taroudant</td>\n",
       "      <td>Banque</td>\n",
       "      <td>+212 5288-52588</td>\n",
       "      <td>Populaire F4Fm+H48, N10, Taroudant</td>\n",
       "      <td>http://www.gbp.ma/</td>\n",
       "      <td>Hamza Izourane</td>\n",
       "      <td>4</td>\n",
       "      <td>L'emplacement est bien situé, il est facile de...</td>\n",
       "      <td>2018-08-13 00:58:13.786458</td>\n",
       "      <td>0</td>\n",
       "      <td>https://www.google.com/maps/contrib/1071099367...</td>\n",
       "      <td>Nothing</td>\n",
       "      <td>1970-01-01 00:00:00.000000</td>\n",
       "      <td>Localisation et accessibilité</td>\n",
       "      <td>positive</td>\n",
       "      <td>['emplacement bien situé', 'facile de trouver ...</td>\n",
       "      <td>positive</td>\n",
       "    </tr>\n",
       "    <tr>\n",
       "      <th>1</th>\n",
       "      <td>Morocco</td>\n",
       "      <td>Taroudant</td>\n",
       "      <td>Banque</td>\n",
       "      <td>+212 5288-52588</td>\n",
       "      <td>Populaire F4Fm+H48, N10, Taroudant</td>\n",
       "      <td>http://www.gbp.ma/</td>\n",
       "      <td>Imjou Fad</td>\n",
       "      <td>5</td>\n",
       "      <td>Très bon accueil, le vigile très serviable et ...</td>\n",
       "      <td>2023-08-12 00:58:13.786474</td>\n",
       "      <td>0</td>\n",
       "      <td>https://www.google.com/maps/contrib/1142323693...</td>\n",
       "      <td>Nothing</td>\n",
       "      <td>1970-01-01 00:00:00.000000</td>\n",
       "      <td>Service client</td>\n",
       "      <td>positive</td>\n",
       "      <td>['Accueil bienvenu', 'Vigile serviable et sour...</td>\n",
       "      <td>positive</td>\n",
       "    </tr>\n",
       "    <tr>\n",
       "      <th>2</th>\n",
       "      <td>Morocco</td>\n",
       "      <td>Taroudant</td>\n",
       "      <td>Banque</td>\n",
       "      <td>+212 5288-52588</td>\n",
       "      <td>Populaire F4Fm+H48, N10, Taroudant</td>\n",
       "      <td>http://www.gbp.ma/</td>\n",
       "      <td>Mobi Sud</td>\n",
       "      <td>4</td>\n",
       "      <td>La Banque Au Cheval</td>\n",
       "      <td>2017-08-13 00:58:13.786484</td>\n",
       "      <td>1</td>\n",
       "      <td>https://www.google.com/maps/contrib/1013145203...</td>\n",
       "      <td>Nothing</td>\n",
       "      <td>1970-01-01 00:00:00.000000</td>\n",
       "      <td>Frais bancaires</td>\n",
       "      <td>positive</td>\n",
       "      <td>['élevés']</td>\n",
       "      <td>positive</td>\n",
       "    </tr>\n",
       "    <tr>\n",
       "      <th>3</th>\n",
       "      <td>Morocco</td>\n",
       "      <td>Taroudant</td>\n",
       "      <td>Banque</td>\n",
       "      <td>+212 5288-52588</td>\n",
       "      <td>Populaire F4Fm+H48, N10, Taroudant</td>\n",
       "      <td>http://www.gbp.ma/</td>\n",
       "      <td>Patxi</td>\n",
       "      <td>4</td>\n",
       "      <td>Il y a peu de guichets automatiques dans la ré...</td>\n",
       "      <td>2021-08-12 00:58:13.786488</td>\n",
       "      <td>1</td>\n",
       "      <td>https://www.google.com/maps/contrib/1006364945...</td>\n",
       "      <td>Nothing</td>\n",
       "      <td>1970-01-01 00:00:00.000000</td>\n",
       "      <td>guichets automatiques</td>\n",
       "      <td>positive</td>\n",
       "      <td>['fonctionnels', 'abondants']</td>\n",
       "      <td>positive</td>\n",
       "    </tr>\n",
       "    <tr>\n",
       "      <th>4</th>\n",
       "      <td>Morocco</td>\n",
       "      <td>Taroudant</td>\n",
       "      <td>Banque</td>\n",
       "      <td>+212 5288-52588</td>\n",
       "      <td>Populaire F4Fm+H48, N10, Taroudant</td>\n",
       "      <td>http://www.gbp.ma/</td>\n",
       "      <td>Abdel Amah</td>\n",
       "      <td>5</td>\n",
       "      <td>Merci beaucoup pour votre excellent service.</td>\n",
       "      <td>2019-08-13 00:58:13.786492</td>\n",
       "      <td>1</td>\n",
       "      <td>https://www.google.com/maps/contrib/1124624498...</td>\n",
       "      <td>Nothing</td>\n",
       "      <td>1970-01-01 00:00:00.000000</td>\n",
       "      <td>Satisfaction client</td>\n",
       "      <td>positive</td>\n",
       "      <td>['excellent service']</td>\n",
       "      <td>positive</td>\n",
       "    </tr>\n",
       "  </tbody>\n",
       "</table>\n",
       "</div>"
      ],
      "text/plain": [
       "   Country       Town Bank_Name Bank_Phone_number  \\\n",
       "0  Morocco  Taroudant    Banque   +212 5288-52588   \n",
       "1  Morocco  Taroudant    Banque   +212 5288-52588   \n",
       "2  Morocco  Taroudant    Banque   +212 5288-52588   \n",
       "3  Morocco  Taroudant    Banque   +212 5288-52588   \n",
       "4  Morocco  Taroudant    Banque   +212 5288-52588   \n",
       "\n",
       "                         Bank_Address        Bank_Website   Reviewer_Name  \\\n",
       "0  Populaire F4Fm+H48, N10, Taroudant  http://www.gbp.ma/  Hamza Izourane   \n",
       "1  Populaire F4Fm+H48, N10, Taroudant  http://www.gbp.ma/       Imjou Fad   \n",
       "2  Populaire F4Fm+H48, N10, Taroudant  http://www.gbp.ma/        Mobi Sud   \n",
       "3  Populaire F4Fm+H48, N10, Taroudant  http://www.gbp.ma/           Patxi   \n",
       "4  Populaire F4Fm+H48, N10, Taroudant  http://www.gbp.ma/      Abdel Amah   \n",
       "\n",
       "   Reviewer_Star                                      Reviewer_Text  \\\n",
       "0              4  L'emplacement est bien situé, il est facile de...   \n",
       "1              5  Très bon accueil, le vigile très serviable et ...   \n",
       "2              4                                La Banque Au Cheval   \n",
       "3              4  Il y a peu de guichets automatiques dans la ré...   \n",
       "4              5       Merci beaucoup pour votre excellent service.   \n",
       "\n",
       "        Reviewer_Publish_Date  Reviewer_Like_Reaction  \\\n",
       "0  2018-08-13 00:58:13.786458                       0   \n",
       "1  2023-08-12 00:58:13.786474                       0   \n",
       "2  2017-08-13 00:58:13.786484                       1   \n",
       "3  2021-08-12 00:58:13.786488                       1   \n",
       "4  2019-08-13 00:58:13.786492                       1   \n",
       "\n",
       "                               Reviewer_Profile_Link Reviewer_Owner_Reply  \\\n",
       "0  https://www.google.com/maps/contrib/1071099367...              Nothing   \n",
       "1  https://www.google.com/maps/contrib/1142323693...              Nothing   \n",
       "2  https://www.google.com/maps/contrib/1013145203...              Nothing   \n",
       "3  https://www.google.com/maps/contrib/1006364945...              Nothing   \n",
       "4  https://www.google.com/maps/contrib/1124624498...              Nothing   \n",
       "\n",
       "    Reviewer_Owner_Reply_Date                          Topic Sentiment  \\\n",
       "0  1970-01-01 00:00:00.000000  Localisation et accessibilité  positive   \n",
       "1  1970-01-01 00:00:00.000000                 Service client  positive   \n",
       "2  1970-01-01 00:00:00.000000                Frais bancaires  positive   \n",
       "3  1970-01-01 00:00:00.000000          guichets automatiques  positive   \n",
       "4  1970-01-01 00:00:00.000000            Satisfaction client  positive   \n",
       "\n",
       "                                           Sub_Topic sentiment  \n",
       "0  ['emplacement bien situé', 'facile de trouver ...  positive  \n",
       "1  ['Accueil bienvenu', 'Vigile serviable et sour...  positive  \n",
       "2                                         ['élevés']  positive  \n",
       "3                      ['fonctionnels', 'abondants']  positive  \n",
       "4                              ['excellent service']  positive  "
      ]
     },
     "execution_count": 109,
     "metadata": {},
     "output_type": "execute_result"
    }
   ],
   "source": [
    "macro.head()"
   ]
  },
  {
   "cell_type": "code",
   "execution_count": 110,
   "metadata": {},
   "outputs": [
    {
     "data": {
      "text/plain": [
       "Bank_Name\n",
       "D'Ivoire    1528\n",
       "Banque      1114\n",
       "Bank         758\n",
       "Société      739\n",
       "Gcb          644\n",
       "            ... \n",
       "Airtel         1\n",
       "Keur           1\n",
       "(              1\n",
       "Cgerwalo       1\n",
       "Smk            1\n",
       "Name: count, Length: 330, dtype: int64"
      ]
     },
     "execution_count": 110,
     "metadata": {},
     "output_type": "execute_result"
    }
   ],
   "source": [
    "macro['Bank_Name'].value_counts()"
   ]
  },
  {
   "cell_type": "code",
   "execution_count": 111,
   "metadata": {},
   "outputs": [
    {
     "data": {
      "text/plain": [
       "array(['Morocco', 'Côte', 'Bénin', 'Senegal', 'Ghana', 'Kenya', 'Uganda'],\n",
       "      dtype=object)"
      ]
     },
     "execution_count": 111,
     "metadata": {},
     "output_type": "execute_result"
    }
   ],
   "source": [
    "macro['Country'].unique()"
   ]
  },
  {
   "cell_type": "markdown",
   "metadata": {},
   "source": [
    "## Bank name"
   ]
  },
  {
   "cell_type": "code",
   "execution_count": 112,
   "metadata": {},
   "outputs": [],
   "source": [
    "macro['Bank_Name'] = np.where(macro['Bank_Name'].str.contains('Boa|Distributeurs'), 'BOA', macro['Bank_Name'])\n",
    "macro[macro['Bank_Name'] == 'Banque']['Bank_Address'].value_counts()\n",
    "macro['Bank_Address'] = np.where(macro['Bank_Name'] == 'Banque', macro['Bank_Name']+ \" \"+ macro['Bank_Address'], macro['Bank_Address'])\n"
   ]
  },
  {
   "cell_type": "code",
   "execution_count": 113,
   "metadata": {},
   "outputs": [
    {
     "data": {
      "text/plain": [
       "Bank_Name\n",
       "Société              520\n",
       "BOA                  462\n",
       "Ecobank              303\n",
       "Banque               215\n",
       "Uba                  172\n",
       "Bank                 168\n",
       "Bsic                 122\n",
       "Coris                101\n",
       "Mairie                77\n",
       "Orabank               75\n",
       "Ccei                  64\n",
       "Sonibank              52\n",
       "Nsia                  37\n",
       "Bceao                 36\n",
       "Agence                36\n",
       "Cbao                  26\n",
       "Diamond               21\n",
       "Clcam                 20\n",
       "Not                   18\n",
       "Pobe                  13\n",
       "Cnss                  11\n",
       "Iamd-Microfinance      9\n",
       "Sgb                    8\n",
       "Clcam/Cove             7\n",
       "As                     6\n",
       "La                     3\n",
       "Africabourse           3\n",
       "Bureau                 2\n",
       "Western                2\n",
       "Axa                    2\n",
       "Ets                    2\n",
       "Trésor                 2\n",
       "Carrefour              2\n",
       "Cmmb                   2\n",
       "Padme                  1\n",
       "Arrondissement         1\n",
       "Icb                    1\n",
       "Atm                    1\n",
       "Fececam                1\n",
       "Name: count, dtype: int64"
      ]
     },
     "execution_count": 113,
     "metadata": {},
     "output_type": "execute_result"
    }
   ],
   "source": [
    "# Benin\n",
    "macro[macro['Country'] == 'Bénin']['Bank_Name'].value_counts()"
   ]
  },
  {
   "cell_type": "code",
   "execution_count": 114,
   "metadata": {},
   "outputs": [
    {
     "name": "stderr",
     "output_type": "stream",
     "text": [
      "C:\\Users\\dscon\\AppData\\Local\\Temp\\ipykernel_15828\\393307359.py:3: SettingWithCopyWarning: \n",
      "A value is trying to be set on a copy of a slice from a DataFrame.\n",
      "Try using .loc[row_indexer,col_indexer] = value instead\n",
      "\n",
      "See the caveats in the documentation: https://pandas.pydata.org/pandas-docs/stable/user_guide/indexing.html#returning-a-view-versus-a-copy\n",
      "  filter_bank['Bank_Address'] = macro['Bank_Name'] +\" \"+ filter_bank['Bank_Address']\n"
     ]
    },
    {
     "data": {
      "text/plain": [
       "Bank_Address\n",
       "Banque Banque Atlantique Agence Ganhi 9C3P+Gm2, Rue De La Poste, Cotonou, Bénin                        115\n",
       "Banque Banque Internationale Pour L'Industrie Et Le Commerce Boulevard Saint Michel, Cotonou, Bénin     66\n",
       "Bank Of Africa Agence Bohicon 53G7+74V, Bohicon, Bénin                                                  57\n",
       "Bank Of Africa (Boa) 996F+C9W, Cotonou, Bénin                                                           30\n",
       "Bank Of Africa Agence Saint Michel 9C8H+C55, Cotonou, Bénin                                             19\n",
       "Bank Of Africa Agence Lokossa Jpj6+2Hg, Lokossa, Bénin                                                  19\n",
       "Bank Of Africa Akpakpa 9F94+24V, Cotonou, Bénin                                                         16\n",
       "Banque Banque Atlantique Abomey-Calavi C9V3+Wmf, Abomey Calavi, Bénin                                   12\n",
       "Bank Of Africa 1Er Arrondissement, Bénin                                                                 9\n",
       "Banque Banque Atlantique Agence Étoile Rouge 9Cc5+7Mg, Cotonou, Bénin                                    7\n",
       "Bank Of Africa Agence Zogbo 99Rq+34W, Rue 2650, Cotonou, Bénin                                           7\n",
       "Bank Of Africa Parakou 8Jvg+38P, Rte De Transa, Parakou, Bénin                                           7\n",
       "Banque Banque Ouest Africaine Pm3C+M67, Djougou, Bénin                                                   5\n",
       "Banque Banque Atlantique Agence Parakou Cinema, Rte De Transa, Parakou, Bénin                            4\n",
       "Bank Of Africa Agence Kandi 4Wjj+2Vq, Kandi, Bénin                                                       4\n",
       "Banque Banque Du Bénin 8Jvg+Cc5, Rnie2, Parakou, Bénin                                                   3\n",
       "Banque Banque Sahélo-Saharienne Pour L'Investissement Et Le Commerce 9J29+4Qr, Parakou, Bénin            1\n",
       "Banque Banque Atlantique Agence L'Abattoir 9F9P+99X, Cotonou, Bénin                                      1\n",
       "Banque Banque Atlantique Agence Bohicon 53G7+467, Rnie4, Bohicon, Bénin                                  1\n",
       "Name: count, dtype: int64"
      ]
     },
     "execution_count": 114,
     "metadata": {},
     "output_type": "execute_result"
    }
   ],
   "source": [
    "# macro[(macro['Country'] == 'Bénin') & ((macro['Bank_Name'] == 'Bank') | (macro['Bank_Name'] == 'Banque'))]['Bank_Address'].value_counts()\n",
    "filter_bank = macro[(macro['Country'] == 'Bénin') & ((macro['Bank_Name'] == 'Bank') | (macro['Bank_Name'] == 'Banque'))]\n",
    "filter_bank['Bank_Address'] = macro['Bank_Name'] +\" \"+ filter_bank['Bank_Address']\n",
    "filter_bank['Bank_Address'].value_counts()"
   ]
  },
  {
   "cell_type": "code",
   "execution_count": null,
   "metadata": {},
   "outputs": [],
   "source": []
  },
  {
   "cell_type": "markdown",
   "metadata": {},
   "source": [
    "**Import bank names according to country**"
   ]
  },
  {
   "cell_type": "code",
   "execution_count": 115,
   "metadata": {},
   "outputs": [
    {
     "data": {
      "text/plain": [
       "dict_keys(['Bénin', 'Burkina', 'Côte d’Ivoire', 'Guinée Bissau', 'Mali', 'Niger', 'Sénégal', 'Togo'])"
      ]
     },
     "execution_count": 115,
     "metadata": {},
     "output_type": "execute_result"
    }
   ],
   "source": [
    "import os\n",
    "directory = '../data/utils'\n",
    "file_path = os.path.join(directory, 'country_banks.json')\n",
    "\n",
    "# read according to the country\n",
    "import json\n",
    "with open(file_path) as f:\n",
    "    data = json.load(f)\n",
    "data.keys()"
   ]
  },
  {
   "cell_type": "markdown",
   "metadata": {},
   "source": [
    "**Create dataframe according country**"
   ]
  },
  {
   "cell_type": "code",
   "execution_count": 116,
   "metadata": {},
   "outputs": [],
   "source": [
    "benin_bank = pd.DataFrame(data['Bénin'], columns=['Bank_Name'])\n",
    "burkinan_faso_bank = pd.DataFrame(data['Burkina'], columns=['Bank_Name'])\n",
    "coast_ivoire_bank = pd.DataFrame(data['Côte d’Ivoire'], columns=['Bank_Name'])\n",
    "guinea_bank = pd.DataFrame(data['Guinée Bissau'], columns=['Bank_Name'])\n",
    "senegal_bank = pd.DataFrame(data['Sénégal'], columns=['Bank_Name'])\n",
    "togo_bank = pd.DataFrame(data['Togo'], columns=['Bank_Name'])"
   ]
  },
  {
   "cell_type": "code",
   "execution_count": 117,
   "metadata": {},
   "outputs": [
    {
     "data": {
      "text/html": [
       "<div>\n",
       "<style scoped>\n",
       "    .dataframe tbody tr th:only-of-type {\n",
       "        vertical-align: middle;\n",
       "    }\n",
       "\n",
       "    .dataframe tbody tr th {\n",
       "        vertical-align: top;\n",
       "    }\n",
       "\n",
       "    .dataframe thead th {\n",
       "        text-align: right;\n",
       "    }\n",
       "</style>\n",
       "<table border=\"1\" class=\"dataframe\">\n",
       "  <thead>\n",
       "    <tr style=\"text-align: right;\">\n",
       "      <th></th>\n",
       "      <th>Bank_Name</th>\n",
       "    </tr>\n",
       "  </thead>\n",
       "  <tbody>\n",
       "    <tr>\n",
       "      <th>0</th>\n",
       "      <td>BANK OF AFRICA - BENIN (BOA - BENIN)</td>\n",
       "    </tr>\n",
       "    <tr>\n",
       "      <th>1</th>\n",
       "      <td>BANQUE ATLANTIQUE DU BENIN (BANQUE ATLANTIQUE)</td>\n",
       "    </tr>\n",
       "    <tr>\n",
       "      <th>2</th>\n",
       "      <td>BANQUE SAHELO-SAHARIENNE POUR L’INVESTISSEMENT...</td>\n",
       "    </tr>\n",
       "    <tr>\n",
       "      <th>3</th>\n",
       "      <td>BGFIBANK BENIN</td>\n",
       "    </tr>\n",
       "    <tr>\n",
       "      <th>4</th>\n",
       "      <td>NSIA BANQUE BENIN</td>\n",
       "    </tr>\n",
       "    <tr>\n",
       "      <th>5</th>\n",
       "      <td>ECOBANK - BENIN (ECOBANK)</td>\n",
       "    </tr>\n",
       "    <tr>\n",
       "      <th>6</th>\n",
       "      <td>ORABANK BENIN</td>\n",
       "    </tr>\n",
       "    <tr>\n",
       "      <th>7</th>\n",
       "      <td>SOCIETE GENERALE - BENIN</td>\n",
       "    </tr>\n",
       "    <tr>\n",
       "      <th>8</th>\n",
       "      <td>UNITED BANK FOR AFRICA BENIN (UBA - BENIN)</td>\n",
       "    </tr>\n",
       "    <tr>\n",
       "      <th>9</th>\n",
       "      <td>BANGE BANK BENIN ex CCEI BANK BENIN</td>\n",
       "    </tr>\n",
       "    <tr>\n",
       "      <th>10</th>\n",
       "      <td>BANQUE INTERNATIONALE POUR L’INDUSTRIE ET LE C...</td>\n",
       "    </tr>\n",
       "    <tr>\n",
       "      <th>11</th>\n",
       "      <td>CORIS BANK INTERNATIONAL - BENIN</td>\n",
       "    </tr>\n",
       "    <tr>\n",
       "      <th>12</th>\n",
       "      <td>CBAO, GROUPE ATTIJARIWAFA BANK, SUCCURSALE DU ...</td>\n",
       "    </tr>\n",
       "    <tr>\n",
       "      <th>13</th>\n",
       "      <td>SOCIETE NIGERIENNE DE BANK (SONIBANK), SUCCURS...</td>\n",
       "    </tr>\n",
       "    <tr>\n",
       "      <th>14</th>\n",
       "      <td>NEANT</td>\n",
       "    </tr>\n",
       "    <tr>\n",
       "      <th>15</th>\n",
       "      <td>NEANT</td>\n",
       "    </tr>\n",
       "    <tr>\n",
       "      <th>16</th>\n",
       "      <td>NEANT</td>\n",
       "    </tr>\n",
       "  </tbody>\n",
       "</table>\n",
       "</div>"
      ],
      "text/plain": [
       "                                            Bank_Name\n",
       "0                BANK OF AFRICA - BENIN (BOA - BENIN)\n",
       "1      BANQUE ATLANTIQUE DU BENIN (BANQUE ATLANTIQUE)\n",
       "2   BANQUE SAHELO-SAHARIENNE POUR L’INVESTISSEMENT...\n",
       "3                                      BGFIBANK BENIN\n",
       "4                                   NSIA BANQUE BENIN\n",
       "5                           ECOBANK - BENIN (ECOBANK)\n",
       "6                                       ORABANK BENIN\n",
       "7                            SOCIETE GENERALE - BENIN\n",
       "8          UNITED BANK FOR AFRICA BENIN (UBA - BENIN)\n",
       "9                 BANGE BANK BENIN ex CCEI BANK BENIN\n",
       "10  BANQUE INTERNATIONALE POUR L’INDUSTRIE ET LE C...\n",
       "11                   CORIS BANK INTERNATIONAL - BENIN\n",
       "12  CBAO, GROUPE ATTIJARIWAFA BANK, SUCCURSALE DU ...\n",
       "13  SOCIETE NIGERIENNE DE BANK (SONIBANK), SUCCURS...\n",
       "14                                              NEANT\n",
       "15                                              NEANT\n",
       "16                                              NEANT"
      ]
     },
     "execution_count": 117,
     "metadata": {},
     "output_type": "execute_result"
    }
   ],
   "source": [
    "# macro[macro['Country'] == 'Bénin']['Bank_Name']\n",
    "# str.contains('Bank')\n",
    "benin_bank"
   ]
  },
  {
   "cell_type": "code",
   "execution_count": 118,
   "metadata": {},
   "outputs": [
    {
     "data": {
      "text/plain": [
       "Bank_Name    39\n",
       "dtype: int64"
      ]
     },
     "execution_count": 118,
     "metadata": {},
     "output_type": "execute_result"
    }
   ],
   "source": [
    "macro[macro['Country'] == 'Bénin'][['Bank_Name']].nunique()"
   ]
  },
  {
   "cell_type": "code",
   "execution_count": 119,
   "metadata": {},
   "outputs": [],
   "source": [
    "# # set_option to display all columns\n",
    "# pd.set_option('display.max_columns', None)\n",
    "# pd.set_option('display.max_rows', None)\n",
    "# macro[macro['Country'] == 'Bénin']['Bank_Address'].value_counts()\n"
   ]
  },
  {
   "cell_type": "code",
   "execution_count": null,
   "metadata": {},
   "outputs": [],
   "source": []
  },
  {
   "cell_type": "code",
   "execution_count": 120,
   "metadata": {},
   "outputs": [],
   "source": [
    "# Societe Generale Benin\n",
    "macro['Bank_Address'] = np.where(macro['Bank_Address'] == 'Générale Bénin Ave Clozel, Cotonou, Bénin', macro['Bank_Name']+ \" \"+ macro['Bank_Address'], macro['Bank_Address'])\n",
    "macro['Bank_Name'] = np.where(macro['Bank_Address'].str.contains('Générale Bénin'), 'SOCIETE GENERALE - BENIN', macro['Bank_Name'])\n",
    "macro['Bank_Name'] = np.where(macro['Bank_Name'] == 'Sgb', 'SOCIETE GENERALE - BENIN', macro['Bank_Name'])\n",
    "macro['Bank_Address'] = np.where(macro['Bank_Name'] == 'SOCIETE GENERALE - BENIN', macro['Bank_Name']+ \" \"+ macro['Bank_Address'], macro['Bank_Address'])\n",
    "# Ecobank Benin\n",
    "macro['Bank_Address'] = np.where(macro['Bank_Name'] == 'Ecobank', macro['Bank_Name']+ \" \"+ macro['Bank_Address'], macro['Bank_Address'])\n",
    "macro['Bank_Name'] = np.where(macro['Bank_Name'] == 'Ecobank', 'ECOBANK - BENIN (ECOBANK)', macro['Bank_Name'])\n",
    "macro['Bank_Name'] = np.where(macro['Bank_Address'].str.contains('Ecobank'), 'ECOBANK - BENIN (ECOBANK)', macro['Bank_Name'])\n",
    "\n",
    "# BANK OF AFRICA - BENIN (BOA - BENIN)\n",
    "macro['Bank_Address'] = np.where(macro['Bank_Name'] == 'BOA',\"BANK OF AFRICA \"+ macro['Bank_Address'], macro['Bank_Address'])\n",
    "macro['Bank_Name'] = np.where(macro['Bank_Name'] == 'BOA', 'BANK OF AFRICA - BENIN (BOA - BENIN)', macro['Bank_Name'])\n",
    "macro['Bank_Address'] = np.where(macro['Bank_Address'].str.contains('Of Africa'), \"BOA - \"+ macro['Bank_Address'], macro['Bank_Address'])\n",
    "macro['Bank_Name'] = np.where((macro['Bank_Name'] == 'Bank') & (macro['Country'] =='Bénin'), 'BANK OF AFRICA - BENIN (BOA - BENIN)', macro['Bank_Name'])\n",
    "macro['Bank_Name'] = np.where((macro['Bank_Address'].str.contains('Boa')) & (macro['Country'] =='Bénin'), 'BANK OF AFRICA - BENIN (BOA - BENIN)', macro['Bank_Name'])\n",
    "\n",
    "\n",
    "# Banque Atlantique\n",
    "macro['Bank_Name'] = np.where(macro['Bank_Address'].str.contains('Banque Atlantique') & (macro['Country'] == 'Bénin'), 'BANQUE ATLANTIQUE - BENIN', macro['Bank_Name'])\n",
    "\n",
    "# UBA Benin\n",
    "macro[\"Bank_Name\"] = np.where((macro['Bank_Name'] == 'Uba') & (macro['Country'] == 'Bénin'), 'UNITED BANK FOR AFRICA BENIN (UBA - BENIN)', macro['Bank_Name'])\n",
    "\n",
    "# Banque Sahélo-Saharienne Pour L'Investissement Et Le Commerce\n",
    "macro['Bank_Name'] = np.where(macro['Bank_Address'].str.contains('Banque Sahélo-Saharienne Pour L\\'Investissement Et Le Commerce') & (macro['Country'] == 'Bénin'), \"BANQUE SAHELO-SAHARIENNE POUR L’INVESTISSEMENT ET LE COMMERCE - BENIN (BSIC-BENIN)\", macro['Bank_Name'])\n",
    "macro['Bank_Name'] = np.where(macro['Bank_Name'].str.contains('Bsic') & (macro['Country'] == 'Bénin'), \"BANQUE SAHELO-SAHARIENNE POUR L’INVESTISSEMENT ET LE COMMERCE - BENIN (BSIC-BENIN)\", macro['Bank_Name'])\n",
    "\n",
    "#  Coris Bank Benin\n",
    "macro['Bank_Name'] = np.where(macro['Bank_Address'].str.contains('Coris') & (macro['Country'] == 'Bénin'), \"CORIS BANK INTERNATIONAL - BENIN\", macro['Bank_Name'])\n",
    "macro['Bank_Address'] = np.where(macro['Bank_Name'].str.contains('CORIS BANK INTERNATIONAL'), \"CORIS BANK INTERNATIONAL - \"+ macro['Bank_Address'], macro['Bank_Address'])\n",
    "macro[\"Bank_Name\"] = np.where((macro['Bank_Name'] == 'Coris') & (macro['Country'] == 'Bénin'), 'CORIS BANK INTERNATIONAL - BENIN', macro['Bank_Name'])\n",
    "\n",
    "# \"ORABANK BENIN\"\n",
    "macro['Bank_Name'] = np.where(macro['Bank_Address'].str.contains('Orabank') & (macro['Country'] == 'Bénin'), \"ORABANK BENIN\", macro['Bank_Name'])\n",
    "macro['Bank_Address'] = np.where(macro['Bank_Name'].str.contains('ORABANK'), \"ORABANK BENIN - \"+ macro['Bank_Address'], macro['Bank_Address'])\n",
    "macro['Bank_Name'] = np.where(macro['Bank_Name'].str.contains('Orabank') & (macro['Country'] == 'Bénin'), \"ORABANK BENIN\", macro['Bank_Name'])\n",
    "\n",
    "# BANGE BANK BENIN ex CCEI BANK BENIN\n",
    "macro['Bank_Name'] = np.where(macro['Bank_Address'].str.contains('Ccei') & (macro['Country'] == 'Bénin'), \"BANGE BANK BENIN ex CCEI BANK BENIN\", macro['Bank_Name'])\n",
    "macro['Bank_Address'] = np.where(macro['Bank_Name'].str.contains('BANGE BANK BENIN ex CCEI BANK BENIN'), \"BANGE BANK BENIN ex CCEI BANK BENIN - \"+ macro['Bank_Address'], macro['Bank_Address'])\n",
    "macro['Bank_Name'] = np.where(macro['Bank_Name'].str.contains('Ccei') & (macro['Country'] == 'Bénin'), \"BANGE BANK BENIN ex CCEI BANK BENIN\", macro['Bank_Name'])\n",
    "# CBAO, GROUPE ATTIJARIWAFA BANK, SUCCURSALE DU BENIN\n",
    "\n",
    "macro['Bank_Name'] = np.where(macro['Bank_Name'].str.contains('CBAO') & (macro['Country'] == 'Bénin'), \"CBAO, GROUPE ATTIJARIWAFA BANK, SUCCURSALE DU BENIN\", macro['Bank_Name'])\n",
    "macro['Bank_Address'] = np.where(macro['Bank_Name'].str.contains('CBAO'), \"CBAO, GROUPE ATTIJARIWAFA BANK, SUCCURSALE DU BENIN - \"+ macro['Bank_Address'], macro['Bank_Address'])\n",
    "\n",
    "# SOCIETE NIGERIENNE DE BANK (SONIBANK), SUCCURSALE DU BENIN\n",
    "\n",
    "macro['Bank_Name'] = np.where(macro['Bank_Name'].str.contains('Sonibank') & (macro['Country'] == 'Bénin'), \"SOCIETE NIGERIENNE DE BANK (SONIBANK), SUCCURSALE DU BENIN\", macro['Bank_Name'])\n",
    "macro['Bank_Address'] = np.where(macro['Bank_Name'].str.contains('SONIBANK'), \"SOCIETE NIGERIENNE DE BANK (SONIBANK), SUCCURSALE DU BENIN - \"+ macro['Bank_Address'], macro['Bank_Address'])\n",
    "\n",
    "# NSIA BANQUE BENIN\n",
    "\n",
    "macro['Bank_Name'] = np.where(macro['Bank_Name'].str.contains('Nsia') & (macro['Country'] == 'Bénin'), \"NSIA BANQUE BENIN\", macro['Bank_Name'])\n",
    "macro['Bank_Address'] = np.where(macro['Bank_Name'].str.contains('NSIA'), \"NSIA BANQUE BENIN - \"+ macro['Bank_Address'], macro['Bank_Address'])\n",
    "\n",
    "# CBAO, GROUPE ATTIJARIWAFA BANK, SUCCURSALE DU BENIN\n",
    "\n",
    "macro['Bank_Name'] = np.where(macro['Bank_Name'].str.contains('Cbao') & (macro['Country'] == 'Bénin'), \"CBAO, GROUPE ATTIJARIWAFA BANK, SUCCURSALE DU BENIN\", macro['Bank_Name'])\n",
    "macro['Bank_Address'] = np.where(macro['Bank_Name'].str.contains('CBAO'), \"CBAO, GROUPE ATTIJARIWAFA BANK, SUCCURSALE DU BENIN - \"+ macro['Bank_Address'], macro['Bank_Address'])\n",
    "macro['Bank_Name'] = np.where(macro['Bank_Name'].str.contains('Cbao') & (macro['Country'] == 'Bénin'), \"CBAO, GROUPE ATTIJARIWAFA BANK, SUCCURSALE DU BENIN\", macro['Bank_Name'])\n"
   ]
  },
  {
   "cell_type": "code",
   "execution_count": 121,
   "metadata": {},
   "outputs": [
    {
     "data": {
      "text/plain": [
       "Bank_Address\n",
       "Bceao 8Jvh+896, Parakou, Bénin                     10\n",
       "De La Poste De Pobe Xmm8+R7J, Pobé, Bénin           1\n",
       "De La Poste De Djougou Pm59+778, Djougou, Bénin     1\n",
       "De La Poste De Ketou 9J66+5Q7, Kétou, Bénin         1\n",
       "Name: count, dtype: int64"
      ]
     },
     "execution_count": 121,
     "metadata": {},
     "output_type": "execute_result"
    }
   ],
   "source": [
    "macro[(macro['Country'] == 'Bénin') & (macro['Bank_Name'] == 'Agence')]['Bank_Address'].value_counts()"
   ]
  },
  {
   "cell_type": "code",
   "execution_count": null,
   "metadata": {},
   "outputs": [],
   "source": []
  },
  {
   "cell_type": "code",
   "execution_count": 122,
   "metadata": {},
   "outputs": [
    {
     "data": {
      "text/plain": [
       "Bank_Name\n",
       "BANK OF AFRICA - BENIN (BOA - BENIN)                                                  649\n",
       "SOCIETE GENERALE - BENIN                                                              522\n",
       "ECOBANK - BENIN (ECOBANK)                                                             307\n",
       "UNITED BANK FOR AFRICA BENIN (UBA - BENIN)                                            172\n",
       "BANQUE ATLANTIQUE - BENIN                                                             140\n",
       "BANQUE SAHELO-SAHARIENNE POUR L’INVESTISSEMENT ET LE COMMERCE - BENIN (BSIC-BENIN)    123\n",
       "CORIS BANK INTERNATIONAL - BENIN                                                      101\n",
       "Mairie                                                                                 77\n",
       "ORABANK BENIN                                                                          75\n",
       "Banque                                                                                 74\n",
       "BANGE BANK BENIN ex CCEI BANK BENIN                                                    64\n",
       "SOCIETE NIGERIENNE DE BANK (SONIBANK), SUCCURSALE DU BENIN                             52\n",
       "NSIA BANQUE BENIN                                                                      37\n",
       "Bceao                                                                                  36\n",
       "CBAO, GROUPE ATTIJARIWAFA BANK, SUCCURSALE DU BENIN                                    26\n",
       "Diamond                                                                                21\n",
       "Clcam                                                                                  20\n",
       "Not                                                                                    18\n",
       "Agence                                                                                 13\n",
       "Pobe                                                                                   13\n",
       "Cnss                                                                                   11\n",
       "Iamd-Microfinance                                                                       9\n",
       "Clcam/Cove                                                                              7\n",
       "Société                                                                                 6\n",
       "As                                                                                      6\n",
       "La                                                                                      3\n",
       "Africabourse                                                                            3\n",
       "Bureau                                                                                  2\n",
       "Axa                                                                                     2\n",
       "Western                                                                                 2\n",
       "Carrefour                                                                               2\n",
       "Trésor                                                                                  2\n",
       "Cmmb                                                                                    2\n",
       "Ets                                                                                     2\n",
       "Padme                                                                                   1\n",
       "Atm                                                                                     1\n",
       "Icb                                                                                     1\n",
       "Arrondissement                                                                          1\n",
       "Fececam                                                                                 1\n",
       "Name: count, dtype: int64"
      ]
     },
     "execution_count": 122,
     "metadata": {},
     "output_type": "execute_result"
    }
   ],
   "source": [
    "macro[macro['Country'] == 'Bénin']['Bank_Name'].value_counts()"
   ]
  },
  {
   "cell_type": "code",
   "execution_count": 123,
   "metadata": {},
   "outputs": [
    {
     "data": {
      "text/plain": [
       "(17469, 18)"
      ]
     },
     "execution_count": 123,
     "metadata": {},
     "output_type": "execute_result"
    }
   ],
   "source": [
    "macro.shape"
   ]
  },
  {
   "cell_type": "markdown",
   "metadata": {},
   "source": [
    "**Remove all bank doesn't in list**"
   ]
  },
  {
   "cell_type": "code",
   "execution_count": 124,
   "metadata": {},
   "outputs": [
    {
     "data": {
      "text/plain": [
       "(16993, 18)"
      ]
     },
     "execution_count": 124,
     "metadata": {},
     "output_type": "execute_result"
    }
   ],
   "source": [
    "# remove  from dataframe only the rows with Bank_Name is in the list benin_bank\n",
    "macro = macro[~((macro['Country'] == 'Bénin') & ~macro['Bank_Name'].isin(benin_bank['Bank_Name'].tolist()))]\n",
    "macro.shape"
   ]
  },
  {
   "cell_type": "code",
   "execution_count": 125,
   "metadata": {},
   "outputs": [
    {
     "data": {
      "text/plain": [
       "Bank_Name\n",
       "BANK OF AFRICA - BENIN (BOA - BENIN)                                                  649\n",
       "SOCIETE GENERALE - BENIN                                                              522\n",
       "ECOBANK - BENIN (ECOBANK)                                                             307\n",
       "UNITED BANK FOR AFRICA BENIN (UBA - BENIN)                                            172\n",
       "BANQUE SAHELO-SAHARIENNE POUR L’INVESTISSEMENT ET LE COMMERCE - BENIN (BSIC-BENIN)    123\n",
       "CORIS BANK INTERNATIONAL - BENIN                                                      101\n",
       "ORABANK BENIN                                                                          75\n",
       "BANGE BANK BENIN ex CCEI BANK BENIN                                                    64\n",
       "SOCIETE NIGERIENNE DE BANK (SONIBANK), SUCCURSALE DU BENIN                             52\n",
       "NSIA BANQUE BENIN                                                                      37\n",
       "CBAO, GROUPE ATTIJARIWAFA BANK, SUCCURSALE DU BENIN                                    26\n",
       "Name: count, dtype: int64"
      ]
     },
     "execution_count": 125,
     "metadata": {},
     "output_type": "execute_result"
    }
   ],
   "source": [
    "macro[macro['Country'] == 'Bénin']['Bank_Name'].value_counts()"
   ]
  },
  {
   "cell_type": "markdown",
   "metadata": {},
   "source": [
    "## Morroco"
   ]
  },
  {
   "cell_type": "code",
   "execution_count": 21,
   "metadata": {},
   "outputs": [
    {
     "name": "stdout",
     "output_type": "stream",
     "text": [
      "Overwriting scraper_morocco_bank_name.py\n"
     ]
    }
   ],
   "source": [
    "%%file scraper_morocco_bank_name.py\n",
    "import requests\n",
    "from bs4 import BeautifulSoup\n",
    "import json\n",
    "\n",
    "# URL de la page contenant la liste des banques\n",
    "url = \"https://www.sgfg.ma/fr/garantie-des-depots/liste-des-banques-membres\"\n",
    "\n",
    "# Faire une requête GET pour obtenir le contenu de la page\n",
    "response = requests.get(url)\n",
    "response.raise_for_status()  # Assure que la requête a réussi\n",
    "\n",
    "# Parse le contenu HTML de la page\n",
    "soup = BeautifulSoup(response.content, 'html.parser')\n",
    "\n",
    "# Trouver tous les éléments contenant les noms des banques\n",
    "bank_cards = soup.find_all('div', class_='card')\n",
    "\n",
    "# Liste pour stocker les noms des banques\n",
    "banks = []\n",
    "\n",
    "# Extraire les noms des banques\n",
    "for card in bank_cards:\n",
    "    h1_tag = card.find('h1')\n",
    "    if h1_tag:\n",
    "        bank_name = h1_tag.get_text(strip=True)\n",
    "        banks.append(bank_name)\n",
    "\n",
    "# Enregistrer les noms des banques dans un fichier JSON\n",
    "with open('../data/utils/banks_maroc.json', 'w') as f:\n",
    "    json.dump(banks, f, indent=4, ensure_ascii=False)\n",
    "\n",
    "print(\"Les noms des banques ont été récupérés et enregistrés dans 'banks_maroc.json'.\")\n"
   ]
  },
  {
   "cell_type": "code",
   "execution_count": 126,
   "metadata": {},
   "outputs": [
    {
     "data": {
      "text/plain": [
       "['ARAB BANK MAROC',\n",
       " 'ATTIJARIWAFA BANK MAROC',\n",
       " 'AL BARID BANK',\n",
       " 'BANQUE CENTRALE POPULAIRE MAROC',\n",
       " 'BANK OF AFRICA MAROC (BOA)',\n",
       " 'BANQUE MAROCAINE POUR LE COMMERCE ET L’INDUSTRIE',\n",
       " 'CAIXA BANK S. A',\n",
       " 'CREDIT AGRICOLE DU MAROC',\n",
       " 'CFG BANK',\n",
       " 'CDG CAPITAL',\n",
       " 'CREDIT IMMOBILIER ET HOTELIER (CIH) MAROC',\n",
       " 'CITIBANK MAGHREB',\n",
       " 'CREDIT DU MAROC',\n",
       " 'SABADEL',\n",
       " 'SOCIETE GENERALE MAROCAINE DE BANQUES',\n",
       " 'UNION MAROCAINE DES BANQUES',\n",
       " 'BANK ASSAFA',\n",
       " 'AL AKHDAR BANK',\n",
       " 'BANK AL KARAM',\n",
       " 'BANK AL YOUSR',\n",
       " 'UMNIA BANK',\n",
       " 'BANK AL-MAGHRIB MAROC']"
      ]
     },
     "execution_count": 126,
     "metadata": {},
     "output_type": "execute_result"
    }
   ],
   "source": [
    "# read according to the country\n",
    "import json\n",
    "with open('../data/utils/banks_maroc.json') as f:\n",
    "    maroc_bank_name = json.load(f)\n",
    "    \n",
    "maroc_bank_name"
   ]
  },
  {
   "cell_type": "code",
   "execution_count": 127,
   "metadata": {},
   "outputs": [],
   "source": [
    "# Banque Populaire\n",
    "macro['Bank_Name'] = np.where(macro['Bank_Address'].str.contains('Banque Populaire|Banque Bopulaire|Banque Centrale|Populaire') & (macro['Country'] == 'Morocco'), 'BANQUE CENTRALE POPULAIRE MAROC', macro['Bank_Name'])\n",
    "macro['Bank_Address'] = np.where(macro['Bank_Name'].str.contains('BANQUE CENTRALE POPULAIRE'), 'BANQUE CENTRALE POPULAIRE - '+ macro['Bank_Address'], macro['Bank_Address'])\n",
    "macro['Bank_Name'] = np.where( (macro['Country'] == 'Morocco') & (macro['Bank_Name'] == 'Agence') & (macro['Bank_Address'].str.contains('Banque Populaire')), 'BANQUE POPULAIRE MAROC', macro['Bank_Name'])\n",
    "\n",
    "# Al-Maghrib\n",
    "macro['Bank_Name'] = np.where(macro['Bank_Address'].str.contains('Al Maghrib|Al-Maghrib|maghrib|CITIBANK MAGHREB') & (macro['Country'] == 'Morocco'), 'BANK AL-MAGHRIB MAROC', macro['Bank_Name'])\n",
    "macro['Bank_Address'] = np.where(macro['Bank_Name'].str.contains('BANK AL-MAGHRIB'), 'BANK AL-MAGHRIB - '+ macro['Bank_Address'], macro['Bank_Address'])\n",
    "macro['Bank_Name'] = np.where((macro['Country'] == 'Morocco') & (macro['Bank_Name'] == 'Bank') & (macro['Bank_Address'].str.contains('Al Maghrib')), 'BANK OF AFRICA MAROC (BOA)', macro['Bank_Name'])\n",
    "\n",
    "\n",
    "# Attijariwafa Bank\n",
    "macro['Bank_Name'] = np.where(macro['Bank_Address'].str.contains('Attijariwafa') & (macro['Country'] == 'Morocco'), 'ATTIJARIWAFA BANK MAROC', macro['Bank_Name'])\n",
    "macro['Bank_Address'] = np.where(macro['Bank_Name'].str.contains('ATTIJARIWAFA'), 'ATTIJARIWAFA BANK - '+ macro['Bank_Address'], macro['Bank_Address'])\n",
    "macro['Bank_Name'] = np.where(macro['Bank_Name'].str.contains('Attijari') & (macro['Country'] == 'Morocco'), 'ATTIJARIWAFA BANK MAROC', macro['Bank_Name'])\n",
    "macro['Bank_Name'] = np.where( (macro['Country'] == 'Morocco') & (macro['Bank_Name'] == 'Agence') & (macro['Bank_Address'].str.contains('Attijariwafa')), 'BANQUE POPULAIRE MAROC', macro['Bank_Name'])\n",
    "\n",
    "\n",
    "# Banque Cih              1\n",
    "macro['Bank_Name'] = np.where(macro['Bank_Address'].str.contains('Banque Cih') & (macro['Country'] == 'Morocco'), 'CREDIT IMMOBILIER ET HOTELIER (CIH) MAROC', macro['Bank_Name'])\n",
    "macro['Bank_Address'] = np.where(macro['Bank_Name'].str.contains('BANQUE CIH'), 'BANQUE CIH - '+ macro['Bank_Address'], macro['Bank_Address'])\n",
    "macro['Bank_Name'] = np.where(macro['Bank_Name'].str.contains('Banque Cih|Cih|C.I.H|Club') & (macro['Country'] == 'Morocco'), 'CREDIT IMMOBILIER ET HOTELIER (CIH) MAROC', macro['Bank_Name'])\n",
    "macro['Bank_Name'] = np.where(macro['Bank_Name'].str.contains('Cih') & (macro['Country'] == 'Morocco'), 'CREDIT IMMOBILIER ET HOTELIER (CIH) MAROC', macro['Bank_Name'])\n",
    "macro['Bank_Name'] = np.where(macro['Bank_Name'].str.contains('C.I.H') & (macro['Country'] == 'Morocco'), 'CREDIT IMMOBILIER ET HOTELIER (CIH) MAROC', macro['Bank_Name'])\n",
    "macro['Bank_Name'] = np.where(macro['Bank_Name'].str.contains('Club') & (macro['Country'] == 'Morocco'), 'CREDIT IMMOBILIER ET HOTELIER (CIH) MAROC', macro['Bank_Name'])\n",
    "\n",
    "# CREDIT AGRICOLE DU MAROC\n",
    "macro['Bank_Name'] = np.where(macro['Bank_Name'].str.contains('Crédit|Credit') & (macro['Country'] == 'Morocco'), 'CREDIT AGRICOLE DU MAROC', macro['Bank_Name'])\n",
    "macro['Bank_Address'] = np.where(macro['Bank_Name'].str.contains('CREDIT AGRICOLE DU MAROC'), 'CREDIT AGRICOLE DU MAROC - '+ macro['Bank_Address'], macro['Bank_Address'])\n",
    "\n",
    "# Akhdar Bank\n",
    "macro['Bank_Name'] = np.where(macro['Bank_Address'].str.contains('Akhdar') & (macro['Country'] == 'Morocco'), 'AL AKHDAR BANK MAROC', macro['Bank_Name'])\n",
    "macro['Bank_Address'] = np.where(macro['Bank_Name'].str.contains('AKHDAR BANK'), 'AKHDAR BANK - '+ macro['Bank_Address'], macro['Bank_Address'])\n",
    "\n",
    "# SOCIETE GENERALE MAROCAINE DE BANQUES\n",
    "macro['Bank_Name'] = np.where(macro['Bank_Name'].str.contains('Société') & (macro['Country'] == 'Morocco'), 'SOCIETE GENERALE MAROCAINE DE BANQUES', macro['Bank_Name'])\n",
    "macro['Bank_Address'] = np.where(macro['Bank_Name'].str.contains('SOCIETE GENERALE MAROCAINE DE BANQUES'), 'SOCIETE GENERALE MAROCAINE DE BANQUES - '+ macro['Bank_Address'], macro['Bank_Address'])\n",
    "\n",
    "# BANQUE MAROCAINE POUR LE COMMERCE ET L’INDUSTRIE\n",
    "macro['Bank_Name'] = np.where(macro['Bank_Name'].str.contains('Bmce') & (macro['Country'] == 'Morocco'), 'BANQUE MAROCAINE POUR LE COMMERCE ET L’INDUSTRIE', macro['Bank_Name']) \n",
    "macro['Bank_Name'] = np.where(macro['Bank_Name'].str.contains('Bmci') & (macro['Country'] == 'Morocco'), 'BANQUE MAROCAINE POUR LE COMMERCE ET L’INDUSTRIE', macro['Bank_Name'])\n",
    "macro['Bank_Address'] = np.where(macro['Bank_Name'].str.contains('BANQUE MAROCAINE POUR LE COMMERCE ET L’INDUSTRIE'), 'BANQUE MAROCAINE POUR LE COMMERCE ET L’INDUSTRIE - '+ macro['Bank_Address'], macro['Bank_Address'])\n",
    "\n",
    "\n",
    "# 'AL BARID BANK'\n",
    "macro['Bank_Name'] = np.where(macro['Bank_Name'].str.contains('Barid|Al') & (macro['Country'] == 'Morocco'), 'AL BARID BANK', macro['Bank_Name'])\n",
    "macro['Bank_Address'] = np.where(macro['Bank_Name'].str.contains('AL BARID BANK'), 'AL BARID BANK - '+ macro['Bank_Address'], macro['Bank_Address'])\n",
    "\n",
    "\n",
    "# BOA\n",
    "macro['Bank_Name'] = np.where((macro['Country'] == 'Morocco') & (macro['Bank_Name'] == 'Bank') & (macro['Bank_Address'].str.contains('BOA')), 'BANK OF AFRICA MAROC (BOA)', macro['Bank_Name'])\n",
    "\n",
    "# Al Yours\n",
    "macro['Bank_Name'] = np.where((macro['Country'] == 'Morocco') & (macro['Bank_Name'] == 'Bank') & (macro['Bank_Address'].str.contains('Al Yousr')), 'BANK AL YOUSR', macro['Bank_Name'])\n",
    "\n",
    "# Umnia\n",
    "macro['Bank_Name'] = np.where((macro['Country'] == 'Morocco') & (macro['Bank_Name'] == 'Umnia'), 'UMNIA BANK', macro['Bank_Name'])\n",
    "macro['Bank_Address'] = np.where(macro['Bank_Name'].str.contains('UMNIA BANK'), 'UMNIA BANK - '+ macro['Bank_Address'], macro['Bank_Address'])\n",
    "\n",
    "# Sgmb\n",
    "macro['Bank_Name'] = np.where((macro['Country'] == 'Morocco') & (macro['Bank_Name'] == 'Sgmb'), 'SOCIETE GENERALE MAROCAINE DE BANQUES (SGMB)', macro['Bank_Name'])\n",
    "macro['Bank_Address'] = np.where(macro['Bank_Name'].str.contains('UMNIA BANK'), 'SOCIETE GENERALE MAROCAINE DE BANQUES - '+ macro['Bank_Address'], macro['Bank_Address'])\n"
   ]
  },
  {
   "cell_type": "code",
   "execution_count": 128,
   "metadata": {},
   "outputs": [
    {
     "data": {
      "text/plain": [
       "Bank_Name\n",
       "CREDIT IMMOBILIER ET HOTELIER (CIH) MAROC           582\n",
       "BANQUE CENTRALE POPULAIRE MAROC                     506\n",
       "ATTIJARIWAFA BANK MAROC                             271\n",
       "CREDIT AGRICOLE DU MAROC                            227\n",
       "BANQUE MAROCAINE POUR LE COMMERCE ET L’INDUSTRIE    170\n",
       "BANK OF AFRICA MAROC (BOA)                          165\n",
       "Cash                                                125\n",
       "SOCIETE GENERALE MAROCAINE DE BANQUES               123\n",
       "AL BARID BANK                                        97\n",
       "Not                                                  37\n",
       "Chaabi                                               35\n",
       "Cashplus                                             23\n",
       "BANK AL-MAGHRIB MAROC                                21\n",
       "La                                                   14\n",
       "UMNIA BANK                                           12\n",
       "Western                                              11\n",
       "Poste                                                11\n",
       "بريد                                                  9\n",
       "Canal                                                 8\n",
       "AL AKHDAR BANK MAROC                                  8\n",
       "BANK AL YOUSR                                         8\n",
       "Guichet                                               8\n",
       "Banque                                                7\n",
       "Wafacash                                              7\n",
       "Axa                                                   7\n",
       "Bureau                                                6\n",
       "Direction                                             5\n",
       "القرض                                                 5\n",
       "Damane                                                4\n",
       "Lechhab                                               3\n",
       "Tgr                                                   3\n",
       "Wafa                                                  3\n",
       "Cam                                                   2\n",
       "Financière                                            2\n",
       "Attawfiq                                              2\n",
       "Banquesgmb                                            2\n",
       "Cdm                                                   2\n",
       "Micro                                                 1\n",
       "Moneygram                                             1\n",
       "Fondation                                             1\n",
       "Trésorerie                                            1\n",
       "الشعبي                                                1\n",
       "SOCIETE GENERALE MAROCAINE DE BANQUES (SGMB)          1\n",
       "بنك                                                   1\n",
       "Gab                                                   1\n",
       "Conseils                                              1\n",
       "Name: count, dtype: int64"
      ]
     },
     "execution_count": 128,
     "metadata": {},
     "output_type": "execute_result"
    }
   ],
   "source": [
    "macro[(macro['Country'] == 'Morocco')]['Bank_Name'].value_counts()"
   ]
  },
  {
   "cell_type": "code",
   "execution_count": 129,
   "metadata": {},
   "outputs": [],
   "source": [
    "# macro[(macro['Country'] == 'Morocco') & (macro['Bank_Name'] == 'Not')]['Bank_Address'].value_counts()"
   ]
  },
  {
   "cell_type": "code",
   "execution_count": 130,
   "metadata": {},
   "outputs": [],
   "source": [
    "# remove  from dataframe only the rows with Bank_Name is in the list maroc_bank_name\n",
    "macro_temp = macro[~((macro['Country'] == 'Morocco') & ~macro['Bank_Name'].isin(maroc_bank_name))]"
   ]
  },
  {
   "cell_type": "code",
   "execution_count": 131,
   "metadata": {},
   "outputs": [
    {
     "data": {
      "text/plain": [
       "['ARAB BANK MAROC',\n",
       " 'ATTIJARIWAFA BANK MAROC',\n",
       " 'AL BARID BANK',\n",
       " 'BANQUE CENTRALE POPULAIRE MAROC',\n",
       " 'BANK OF AFRICA MAROC (BOA)',\n",
       " 'BANQUE MAROCAINE POUR LE COMMERCE ET L’INDUSTRIE',\n",
       " 'CAIXA BANK S. A',\n",
       " 'CREDIT AGRICOLE DU MAROC',\n",
       " 'CFG BANK',\n",
       " 'CDG CAPITAL',\n",
       " 'CREDIT IMMOBILIER ET HOTELIER (CIH) MAROC',\n",
       " 'CITIBANK MAGHREB',\n",
       " 'CREDIT DU MAROC',\n",
       " 'SABADEL',\n",
       " 'SOCIETE GENERALE MAROCAINE DE BANQUES',\n",
       " 'UNION MAROCAINE DES BANQUES',\n",
       " 'BANK ASSAFA',\n",
       " 'AL AKHDAR BANK',\n",
       " 'BANK AL KARAM',\n",
       " 'BANK AL YOUSR',\n",
       " 'UMNIA BANK',\n",
       " 'BANK AL-MAGHRIB MAROC']"
      ]
     },
     "execution_count": 131,
     "metadata": {},
     "output_type": "execute_result"
    }
   ],
   "source": [
    "maroc_bank_name"
   ]
  },
  {
   "cell_type": "code",
   "execution_count": 132,
   "metadata": {},
   "outputs": [
    {
     "data": {
      "text/plain": [
       "Bank_Name\n",
       "CREDIT IMMOBILIER ET HOTELIER (CIH) MAROC           582\n",
       "BANQUE CENTRALE POPULAIRE MAROC                     506\n",
       "ATTIJARIWAFA BANK MAROC                             271\n",
       "CREDIT AGRICOLE DU MAROC                            227\n",
       "BANQUE MAROCAINE POUR LE COMMERCE ET L’INDUSTRIE    170\n",
       "BANK OF AFRICA MAROC (BOA)                          165\n",
       "SOCIETE GENERALE MAROCAINE DE BANQUES               123\n",
       "AL BARID BANK                                        97\n",
       "BANK AL-MAGHRIB MAROC                                21\n",
       "UMNIA BANK                                           12\n",
       "BANK AL YOUSR                                         8\n",
       "Name: count, dtype: int64"
      ]
     },
     "execution_count": 132,
     "metadata": {},
     "output_type": "execute_result"
    }
   ],
   "source": [
    "macro_temp[macro_temp['Country'] == 'Morocco']['Bank_Name'].value_counts()"
   ]
  },
  {
   "cell_type": "code",
   "execution_count": 133,
   "metadata": {},
   "outputs": [],
   "source": [
    "# benin_maroc_data_processed = macro[(macro['Country'] == 'Bénin') | \n",
    "#                                    (macro['Country'] == 'Morocco')]"
   ]
  },
  {
   "cell_type": "code",
   "execution_count": 134,
   "metadata": {},
   "outputs": [],
   "source": [
    "# # Create the directory if it doesn't exist\n",
    "# os.makedirs('../data/processed/2024-08-31', exist_ok=True)\n",
    "\n",
    "# # Save the dataframe to the CSV file\n",
    "# benin_maroc_data_processed.to_csv('../data/processed/2024-08-31/macro_benin_maroc.csv', index=False)"
   ]
  },
  {
   "cell_type": "code",
   "execution_count": 135,
   "metadata": {},
   "outputs": [],
   "source": [
    "# load the data\n",
    "macro = pd.read_csv('../data/processed/2024-08-31/macro_llamma_v2.csv')"
   ]
  },
  {
   "cell_type": "markdown",
   "metadata": {},
   "source": [
    "# Senegal Bank"
   ]
  },
  {
   "cell_type": "code",
   "execution_count": 136,
   "metadata": {},
   "outputs": [
    {
     "data": {
      "text/plain": [
       "['Marché',\n",
       " 'Banque',\n",
       " 'Sgbs',\n",
       " 'Boa',\n",
       " 'Ecobank',\n",
       " 'Cbao',\n",
       " 'Bicis',\n",
       " 'Crédit',\n",
       " 'Agence',\n",
       " 'Société',\n",
       " 'La',\n",
       " 'Nsia',\n",
       " 'Fort',\n",
       " 'Credit',\n",
       " 'Coris',\n",
       " 'Uba',\n",
       " 'Baobab',\n",
       " 'Sunu',\n",
       " 'Microcred',\n",
       " 'Bhs',\n",
       " 'Acep',\n",
       " 'Pamecas',\n",
       " 'Lycée',\n",
       " 'Cms',\n",
       " 'Bnde',\n",
       " 'Orabank',\n",
       " 'Ipres',\n",
       " 'B.Atlantique',\n",
       " 'Bureau',\n",
       " 'Imcec',\n",
       " 'Pamécas',\n",
       " 'Cncas',\n",
       " 'Caisse',\n",
       " 'Bank',\n",
       " 'Bhs,',\n",
       " 'Compagnie',\n",
       " 'Cnca',\n",
       " 'Bridge',\n",
       " 'Touba',\n",
       " 'United',\n",
       " 'Cbeao',\n",
       " 'Bsic',\n",
       " 'Aérodrome',\n",
       " 'Western',\n",
       " 'Baro',\n",
       " 'Cofina',\n",
       " 'Bis',\n",
       " 'Moneygram',\n",
       " 'Multiservices',\n",
       " 'Cnca,',\n",
       " 'Groupe',\n",
       " 'Atlantic',\n",
       " 'Femzop',\n",
       " 'Centre',\n",
       " 'Agrnce',\n",
       " 'Ecobabk',\n",
       " 'Emard',\n",
       " 'Poste',\n",
       " 'Distributeur',\n",
       " 'Osmose',\n",
       " 'Yaye',\n",
       " 'Bayomultiservices',\n",
       " 'Bad,',\n",
       " 'Bimao',\n",
       " 'Societe',\n",
       " 'Fatick',\n",
       " 'Zelcash',\n",
       " 'Cps',\n",
       " 'Mec',\n",
       " 'Kfm',\n",
       " 'Boutique',\n",
       " 'Tgp',\n",
       " 'Mecap',\n",
       " 'Not',\n",
       " 'Wave',\n",
       " 'Mutuelle',\n",
       " 'Multi-Services',\n",
       " 'Office',\n",
       " 'Keur',\n",
       " '(',\n",
       " 'Cgerwalo',\n",
       " 'Smk']"
      ]
     },
     "execution_count": 136,
     "metadata": {},
     "output_type": "execute_result"
    }
   ],
   "source": [
    "# 'Bénin', 'Burkina', 'Côte d’Ivoire', 'Guinée Bissau', 'Mali', 'Niger', 'Sénégal', 'Togo'\n",
    "macro[macro['Country'] == \"Senegal\"]['Bank_Name'].value_counts().keys().tolist()"
   ]
  },
  {
   "cell_type": "code",
   "execution_count": 137,
   "metadata": {},
   "outputs": [],
   "source": [
    "macro[(macro['Country'] == \"Senegal\") & (macro['Bank_Name'] == 'Marché')]\n",
    "# remove all rows with Bank_Name == 'Marché'\n",
    "macro = macro[~((macro['Country'] == \"Senegal\") & (macro['Bank_Name'] == 'Marché'))]\n"
   ]
  },
  {
   "cell_type": "code",
   "execution_count": 138,
   "metadata": {},
   "outputs": [
    {
     "data": {
      "text/plain": [
       "Bank_Name\n",
       "SOCIETE GENERALE SENEGAL                                                    198\n",
       "BANQUE DE L’HABITAT DU SENEGAL (BHS)                                        192\n",
       "BANK OF AFRICA - SENEGAL (BOA - SENEGAL)                                    136\n",
       "BANQUE INTERNATIONALE POUR LE COMMERCE ET L’INDUSTRIE DU SENEGAL (BICIS)    125\n",
       "ECOBANK - SENEGAL (ECOBANK)                                                 108\n",
       "                                                                           ... \n",
       "Office                                                                        1\n",
       "(                                                                             1\n",
       "Banque                                                                        1\n",
       "Cgerwalo                                                                      1\n",
       "Smk                                                                           1\n",
       "Name: count, Length: 81, dtype: int64"
      ]
     },
     "execution_count": 138,
     "metadata": {},
     "output_type": "execute_result"
    }
   ],
   "source": [
    "\n",
    "macro[\"Bank_Name\"] = np.where((macro['Country'] == \"Senegal\") & (macro['Bank_Name'] == 'Agence') & (macro['Bank_Address'].str.contains('Islamique')), 'BANQUE ISLAMIQUE DU SENEGAL (BIS)', macro['Bank_Name'])\n",
    "macro[\"Bank_Name\"] = np.where((macro['Country'] == \"Senegal\") & (macro['Bank_Name'] == 'Banque') & (macro['Bank_Address'].str.contains('Islamique')), 'BANQUE ISLAMIQUE DU SENEGAL (BIS)', macro['Bank_Name'])\n",
    "macro[\"Bank_Name\"] = np.where((macro['Country'] == \"Senegal\") & (macro['Bank_Name'] == 'Banque') & (macro['Bank_Address'].str.contains('ISLAMIQUE')), 'BANQUE ISLAMIQUE DU SENEGAL (BIS)', macro['Bank_Name'])\n",
    "macro[\"Bank_Name\"] = np.where((macro['Country'] == \"Senegal\") & (macro['Bank_Name'] == 'Banque') & (macro['Bank_Address'].str.contains('Atlantique')), 'BANQUE ATLANTIQUE SENEGAL (BANQUE ATLANTIQUE)', macro['Bank_Name'])\n",
    "macro[\"Bank_Name\"] = np.where((macro['Country'] == \"Senegal\") & (macro['Bank_Name'].str.contains(\"B.Atlantique\")) & (macro['Bank_Address'].str.contains('Atlantique')), 'BANQUE ATLANTIQUE SENEGAL (BANQUE ATLANTIQUE)', macro['Bank_Name'])\n",
    "macro[\"Bank_Name\"] = np.where((macro['Country'] == \"Senegal\") & (macro['Bank_Name'] == 'Banque') & (macro['Bank_Address'].str.contains('Habitat')), 'BANQUE DE L’HABITAT DU SENEGAL (BHS)', macro['Bank_Name'])\n",
    "macro[\"Bank_Name\"] = np.where((macro['Country'] == \"Senegal\") & (macro['Bank_Name'] == 'Banque') & (macro['Bank_Address'].str.contains('Agricole')), 'LA BANQUE AGRICOLE (LBA)', macro['Bank_Name'])\n",
    "macro[\"Bank_Name\"] = np.where((macro['Country'] == \"Senegal\") & (macro['Bank_Name'] == 'Banque') & (macro['Bank_Address'].str.contains('Nationale')), 'BANQUE NATIONALE POUR LE DEVELOPPEMENT ECONOMIQUE (BNDE)', macro['Bank_Name'])\n",
    "macro[\"Bank_Name\"] = np.where((macro['Country'] == \"Senegal\") & (macro['Bank_Name'] == 'Banque') & (macro['Bank_Address'].str.contains('Internationale')), 'BANQUE INTERNATIONALE POUR LE COMMERCE ET L’INDUSTRIE DU SENEGAL (BICIS)', macro['Bank_Name'])\n",
    "macro[\"Bank_Name\"] = np.where((macro['Country'] == \"Senegal\") & (macro['Bank_Name'] == 'Banque') & (macro['Bank_Address'].str.contains('Dakar')), 'BANQUE DE DAKAR', macro['Bank_Name'])\n",
    "# --------------------------------------------------------------------------------------------------------------------------------------------------------------------------------------------------------------------\n",
    "\n",
    "\n",
    "macro['Bank_Name'] = np.where(macro['Bank_Name'] == 'Sgbs', 'SOCIETE GENERALE SENEGAL', macro['Bank_Name'])\n",
    "macro['Bank_Name'] = np.where(macro['Bank_Name'] == 'Boa', 'BANK OF AFRICA - SENEGAL (BOA - SENEGAL)', macro['Bank_Name'])\n",
    "macro['Bank_Name'] = np.where(macro['Bank_Name'] == 'Ecobank', 'ECOBANK - SENEGAL (ECOBANK)', macro['Bank_Name'])\n",
    "macro['Bank_Name'] = np.where(macro['Bank_Name'] == 'Cbao', 'CBAO, GROUPE ATTIJARIWAFA BANK', macro['Bank_Name'])\n",
    "macro['Bank_Name'] = np.where(macro['Bank_Address'] == 'Cbao', 'CBAO, GROUPE ATTIJARIWAFA BANK', macro['Bank_Name'])\n",
    "macro['Bank_Name'] = np.where(macro['Bank_Name'] == 'Cbao', 'CREDIT DU SENEGAL (CDS)', macro['Bank_Name'])\n",
    "macro['Bank_Name'] = np.where((macro['Bank_Address'].str.contains('Générale')) & (macro['Country'] == 'Senegal') & (macro['Bank_Name'] == 'Société'), 'SOCIETE GENERALE SENEGAL', macro['Bank_Name'])\n",
    "macro['Bank_Name'] = np.where((macro['Bank_Address'].str.contains('Bank')) & (macro['Country'] == 'Senegal') & (macro['Bank_Name'] == 'Coris'), 'CORIS BANK INTERNATIONAL - SENEGAL (CBI-SENEGAL)', macro['Bank_Name'])\n",
    "macro['Bank_Name'] = np.where((macro['Bank_Name'].str.contains('Nsia')) & (macro['Country'] == 'Senegal'), 'NSIA BANQUE BENIN - SUCCURSALE DU SENEGAL', macro['Bank_Name'])\n",
    "macro['Bank_Name'] = np.where((macro['Bank_Name'].str.contains('Uba')) & (macro['Country'] == 'Senegal'), 'UNITED BANK FOR AFRICA SENEGAL (UBA SENEGAL)', macro['Bank_Name'])\n",
    "macro['Bank_Name'] = np.where((macro['Bank_Name'].str.contains('Sunu')) & (macro['Country'] == 'Senegal'), 'BANQUE INTERNATIONALE POUR LE COMMERCE ET L’INDUSTRIE DU SENEGAL (BICIS)', macro['Bank_Name'])\n",
    "macro['Bank_Name'] = np.where((macro['Bank_Name'].str.contains('Bicis')) & (macro['Country'] == 'Senegal'), 'BANQUE INTERNATIONALE POUR LE COMMERCE ET L’INDUSTRIE DU SENEGAL (BICIS)', macro['Bank_Name'])\n",
    "macro['Bank_Name'] = np.where((macro['Bank_Name'].str.contains('Bhs')) & (macro['Country'] == 'Senegal'), 'BANQUE DE L’HABITAT DU SENEGAL (BHS)', macro['Bank_Name'])\n",
    "macro['Bank_Name'] = np.where((macro['Bank_Name'].str.contains('Orabank')) & (macro['Country'] == 'Senegal'), 'ORABANK COTE D’IVOIRE, SUCCURSALE DU SENEGAL', macro['Bank_Name'])\n",
    "macro['Bank_Name'] = np.where((macro['Bank_Name'].str.contains('Bnde')) & (macro['Country'] == 'Senegal'), 'BANQUE NATIONALE POUR LE DEVELOPPEMENT ECONOMIQUE (BNDE)', macro['Bank_Name'])\n",
    "macro['Bank_Name'] = np.where((macro['Bank_Name'].str.contains('United')) & (macro['Country'] == 'Senegal'), 'UNITED BANK FOR AFRICA SENEGAL (UBA SENEGAL)', macro['Bank_Name'])\n",
    "macro['Bank_Name'] = np.where((macro['Bank_Name'].str.contains('Bsic')) & (macro['Country'] == 'Senegal'), 'BANQUE SAHELO-SAHARIENNE POUR L’INVESTISSEMENT ET LE COMMERCE - SENEGAL (BSIC - SENEGAL)', macro['Bank_Name'])\n",
    "\n",
    "\n",
    "# UNITED BANK FOR AFRICA SENEGAL (UBA SENEGAL)\n",
    "# ORABANK COTE D’IVOIRE, SUCCURSALE DU SENEGAL\n",
    "# BANQUE INTERNATIONALE POUR LE COMMERCE ET L’INDUSTRIE DU SENEGAL (BICIS)\n",
    "# UNITED BANK FOR AFRICA SENEGAL (UBA SENEGAL)\n",
    "# CORIS BANK INTERNATIONAL - SENEGAL (CBI-SENEGAL)\n",
    "# BANQUE DE L’HABITAT DU SENEGAL (BHS)\n",
    "# Ipres\n",
    "# BANQUE NATIONALE POUR LE DEVELOPPEMENT ECONOMIQUE (BNDE)\n",
    "macro[(macro['Country'] == \"Senegal\")]['Bank_Name'].value_counts()\n",
    "\n"
   ]
  },
  {
   "cell_type": "code",
   "execution_count": 139,
   "metadata": {},
   "outputs": [],
   "source": [
    "# # Divide the dataframe into two dataframes. One for banks in senegal_bank and the rest in the other dataframe\n",
    "# senegal_banks = macro[macro['Bank_Name'].isin(senegal_bank['Bank_Name'])]\n",
    "# other_banks = macro[~macro['Bank_Name'].isin(senegal_bank['Bank_Name'])]\n",
    "# other_banks[other_banks['Country'] == 'Senegal']['Bank_Name'].value_counts()"
   ]
  },
  {
   "cell_type": "code",
   "execution_count": 140,
   "metadata": {},
   "outputs": [],
   "source": [
    "# remove  from dataframe macro only the rows with Bank_Name is in the list senegal_bank\n",
    "macro = macro[~((macro['Country'] == 'Senegal') & ~macro['Bank_Name'].isin(senegal_bank['Bank_Name'].tolist()))]"
   ]
  },
  {
   "cell_type": "code",
   "execution_count": 141,
   "metadata": {},
   "outputs": [
    {
     "data": {
      "text/plain": [
       "Bank_Name\n",
       "SOCIETE GENERALE SENEGAL                                                                    198\n",
       "BANQUE DE L’HABITAT DU SENEGAL (BHS)                                                        192\n",
       "BANK OF AFRICA - SENEGAL (BOA - SENEGAL)                                                    136\n",
       "BANQUE INTERNATIONALE POUR LE COMMERCE ET L’INDUSTRIE DU SENEGAL (BICIS)                    125\n",
       "ECOBANK - SENEGAL (ECOBANK)                                                                 108\n",
       "CBAO, GROUPE ATTIJARIWAFA BANK                                                              106\n",
       "BANQUE ISLAMIQUE DU SENEGAL (BIS)                                                            87\n",
       "BANQUE ATLANTIQUE SENEGAL (BANQUE ATLANTIQUE)                                                64\n",
       "UNITED BANK FOR AFRICA SENEGAL (UBA SENEGAL)                                                 40\n",
       "NSIA BANQUE BENIN - SUCCURSALE DU SENEGAL                                                    39\n",
       "BANQUE DE DAKAR                                                                              35\n",
       "CORIS BANK INTERNATIONAL - SENEGAL (CBI-SENEGAL)                                             35\n",
       "BANQUE NATIONALE POUR LE DEVELOPPEMENT ECONOMIQUE (BNDE)                                     21\n",
       "ORABANK COTE D’IVOIRE, SUCCURSALE DU SENEGAL                                                 14\n",
       "BANQUE SAHELO-SAHARIENNE POUR L’INVESTISSEMENT ET LE COMMERCE - SENEGAL (BSIC - SENEGAL)      5\n",
       "LA BANQUE AGRICOLE (LBA)                                                                      1\n",
       "Name: count, dtype: int64"
      ]
     },
     "execution_count": 141,
     "metadata": {},
     "output_type": "execute_result"
    }
   ],
   "source": [
    "macro[macro['Country'] == 'Senegal']['Bank_Name'].value_counts()"
   ]
  },
  {
   "cell_type": "code",
   "execution_count": 144,
   "metadata": {},
   "outputs": [
    {
     "data": {
      "text/plain": [
       "array(['Morocco', 'Côte', 'Bénin', 'Senegal', 'Ghana', 'Kenya', 'Uganda'],\n",
       "      dtype=object)"
      ]
     },
     "execution_count": 144,
     "metadata": {},
     "output_type": "execute_result"
    }
   ],
   "source": [
    "macro['Country'].unique()"
   ]
  },
  {
   "cell_type": "markdown",
   "metadata": {},
   "source": [
    "# Ghana Bank"
   ]
  },
  {
   "cell_type": "code",
   "execution_count": 166,
   "metadata": {},
   "outputs": [
    {
     "data": {
      "text/plain": [
       "['Ghana Commercial Bank',\n",
       " 'Access Bank Ghana',\n",
       " 'Absa Bank Ghana Limited',\n",
       " 'Stanbic Bank Ghana',\n",
       " 'Zenith Bank Ghana',\n",
       " 'Fidelity Bank Ghana Limited',\n",
       " 'Société Générale – Social Security Bank (SG-SSB)',\n",
       " 'Bank Of Ghana',\n",
       " 'Republic bank Ghana',\n",
       " 'Bank Of Africa Ghana',\n",
       " 'Consolidated',\n",
       " 'Standard Chartered Bank',\n",
       " 'National Investment Bank',\n",
       " 'ECOBANK - SENEGAL (ECOBANK)',\n",
       " 'Gtbank',\n",
       " 'Prudential Bank Limited',\n",
       " 'Barclays | Absa Bank Ghana Limited',\n",
       " 'Calbank',\n",
       " 'Opportunity',\n",
       " 'Omnibsic',\n",
       " 'Kotokuraba',\n",
       " 'United Bank for Africa',\n",
       " 'Hfc',\n",
       " 'First',\n",
       " 'Cbg',\n",
       " 'Universal',\n",
       " 'Adb',\n",
       " 'Odotobiri',\n",
       " 'Not',\n",
       " 'Unibank Ghana',\n",
       " 'Agricultural',\n",
       " 'Dumpong',\n",
       " 'Adb,',\n",
       " 'Amanano',\n",
       " 'Ankobra',\n",
       " 'Manya',\n",
       " 'Kwahu',\n",
       " 'Asokore',\n",
       " 'Gn',\n",
       " 'Gcb,',\n",
       " 'Databank',\n",
       " 'Upper',\n",
       " 'Nzema',\n",
       " 'Barclay',\n",
       " 'Umb',\n",
       " 'Assinman',\n",
       " 'Kaaseman',\n",
       " 'Fbn',\n",
       " 'Otuasekan',\n",
       " 'Nib',\n",
       " 'Sinapi',\n",
       " 'Akwapim',\n",
       " 'Omni',\n",
       " 'Buco',\n",
       " 'Afb',\n",
       " 'Kumawuman',\n",
       " 'Omnibank',\n",
       " 'Arb',\n",
       " 'Des',\n",
       " 'Golden',\n",
       " 'Mumuadu',\n",
       " 'Sahel',\n",
       " 'Sisl',\n",
       " 'Kakum',\n",
       " 'Kwamanman',\n",
       " 'Beige',\n",
       " 'Baccsod',\n",
       " 'South',\n",
       " 'Jomoro',\n",
       " 'Pan-African',\n",
       " 'Afram',\n",
       " 'Ssb',\n",
       " 'Apex',\n",
       " 'Ccml',\n",
       " 'Dalex',\n",
       " 'Akatakyiman',\n",
       " 'CAL Bank',\n",
       " 'Mponua',\n",
       " 'Ahantaman Rural Bank Ltd',\n",
       " 'Nhyira',\n",
       " 'Igs',\n",
       " 'Lower',\n",
       " 'African Investment Bank',\n",
       " 'Atiwa',\n",
       " 'Akao',\n",
       " 'Asante',\n",
       " 'Proposed',\n",
       " 'Yapra',\n",
       " 'Gcb-Ho',\n",
       " 'Bestpoint']"
      ]
     },
     "execution_count": 166,
     "metadata": {},
     "output_type": "execute_result"
    }
   ],
   "source": [
    "macro[macro['Country'] == 'Ghana']['Bank_Name'].value_counts().keys().tolist()"
   ]
  },
  {
   "cell_type": "code",
   "execution_count": 165,
   "metadata": {},
   "outputs": [
    {
     "data": {
      "text/plain": [
       "Series([], Name: count, dtype: int64)"
      ]
     },
     "execution_count": 165,
     "metadata": {},
     "output_type": "execute_result"
    }
   ],
   "source": [
    "macro[\"Bank_Name\"] = np.where((macro['Country'] == \"Ghana\") & (macro['Bank_Name'] == 'Gcb'), 'Ghana Commercial Bank', macro['Bank_Name'])\n",
    "macro[\"Bank_Name\"] = np.where((macro['Country'] == \"Ghana\") & (macro['Bank_Name'] == 'Access'), 'Access Bank Ghana', macro['Bank_Name'])\n",
    "macro[\"Bank_Name\"] = np.where((macro['Country'] == \"Ghana\") & (macro['Bank_Name'] == 'Absa'), 'Barclays | Absa Bank Ghana Limited', macro['Bank_Name'])\n",
    "macro[\"Bank_Name\"] = np.where((macro['Country'] == \"Ghana\") & (macro['Bank_Name'] == 'Barclays'), 'Barclays | Absa Bank Ghana Limited', macro['Bank_Name'])\n",
    "macro[\"Bank_Name\"] = np.where((macro['Country'] == \"Ghana\") & (macro['Bank_Name'] == 'Bank') & (macro['Bank_Address'].str.contains(\"Of Africa\")), 'Bank Of Africa Ghana', macro['Bank_Name'])\n",
    "macro[\"Bank_Name\"] = np.where((macro['Country'] == \"Ghana\") & (macro['Bank_Name'] == 'Bank') & (macro['Bank_Address'].str.contains(\"Of Ghana\")), 'Bank Of Ghana', macro['Bank_Name'])\n",
    "macro[\"Bank_Name\"] = np.where((macro['Country'] == \"Ghana\") & (macro['Bank_Name'] == 'Stanbic'), 'Stanbic Bank Ghana', macro['Bank_Name'])\n",
    "macro[\"Bank_Name\"] = np.where((macro['Country'] == \"Ghana\") & (macro['Bank_Name'] == 'Zenith'), 'Zenith Bank Ghana', macro['Bank_Name'])\n",
    "macro[\"Bank_Name\"] = np.where((macro['Country'] == \"Ghana\") & (macro['Bank_Name'] == 'Fidelity'), 'Fidelity Bank Ghana Limited', macro['Bank_Name'])\n",
    "macro[\"Bank_Name\"] = np.where((macro['Country'] == \"Ghana\") & (macro['Bank_Name'] == 'Ghana'), 'Ghana Commercial Bank', macro['Bank_Name'])\n",
    "macro[\"Bank_Name\"] = np.where((macro['Country'] == \"Ghana\") & (macro['Bank_Name'] == 'Ghana'), 'Ghana Commercial Bank', macro['Bank_Name'])\n",
    "macro[\"Bank_Name\"] = np.where((macro['Country'] == \"Ghana\") & (macro['Bank_Name'] == 'Republic'), 'Republic bank Ghana', macro['Bank_Name'])\n",
    "macro[\"Bank_Name\"] = np.where((macro['Country'] == \"Ghana\") & (macro['Bank_Name'] == 'Standard'), 'Standard Chartered Bank', macro['Bank_Name'])\n",
    "macro[\"Bank_Name\"] = np.where((macro['Country'] == \"Ghana\") & (macro['Bank_Name'] == 'National'), 'National Investment Bank', macro['Bank_Name'])\n",
    "macro[\"Bank_Name\"] = np.where((macro['Country'] == \"Ghana\") & (macro['Bank_Name'] == 'Ecobank'), 'Ecobank Ghana', macro['Bank_Name'])\n",
    "macro[\"Bank_Name\"] = np.where((macro['Country'] == \"Ghana\") & (macro['Bank_Name'] == 'Prudential'), 'Prudential Bank Limited', macro['Bank_Name'])\n",
    "macro[\"Bank_Name\"] = np.where((macro['Country'] == \"Ghana\") & (macro['Bank_Name'] == 'Sg-Ssb'), 'Société Générale – Social Security Bank (SG-SSB)', macro['Bank_Name'])\n",
    "macro[\"Bank_Name\"] = np.where((macro['Country'] == \"Ghana\") & (macro['Bank_Name'] == 'Societe') | (macro['Bank_Name'] == 'Société'), 'Société Générale – Social Security Bank (SG-SSB)', macro['Bank_Name'])\n",
    "macro[\"Bank_Name\"] = np.where((macro['Country'] == \"Ghana\") & (macro['Bank_Name'] == 'Societe') & (macro['Bank_Name'] == 'Barclays'), 'Barclays | Absa Bank Ghana Limited', macro['Bank_Name'])\n",
    "macro[\"Bank_Name\"] = np.where((macro['Country'] == \"Ghana\") & (macro['Bank_Name'] == 'Unibank'), 'Unibank Ghana', macro['Bank_Name'])\n",
    "macro[\"Bank_Name\"] = np.where((macro['Country'] == \"Ghana\") & (macro['Bank_Name'] == 'Commercial'), 'Ghana Commercial Bank', macro['Bank_Name'])\n",
    "macro[\"Bank_Name\"] = np.where((macro['Country'] == \"Ghana\") & (macro['Bank_Name'] == 'Uba'), 'United Bank for Africa', macro['Bank_Name'])\n",
    "macro[\"Bank_Name\"] = np.where((macro['Country'] == \"Ghana\") & (macro['Bank_Name'] == 'African'), 'African Investment Bank', macro['Bank_Name'])\n",
    "macro[\"Bank_Name\"] = np.where((macro['Country'] == \"Ghana\") & (macro['Bank_Name'] == 'Cal'), 'CAL Bank', macro['Bank_Name'])\n",
    "macro[\"Bank_Name\"] = np.where((macro['Country'] == \"Ghana\") & (macro['Bank_Name'] == 'Ahantaman'), 'Ahantaman Rural Bank Ltd', macro['Bank_Name'])\n",
    "\n",
    "# African Investment Bank\n",
    "# Ahantaman Rural Bank Ltd\n",
    "# CAL Bank\n",
    "# United Bank for Africa\n",
    "# Societe | Société | Société Générale – Social Security Bank (SG-SSB)\n",
    "\n",
    "# macro[\"Bank_Name\"] = np.where((macro['Country'] == \"Ghana\") & (macro['Bank_Name'] == 'Gcb') & (macro['Bank_Address'].str.contains('Barclays')), 'BARCLAYS BANK GHANA', macro['Bank_Name'])\n",
    "macro[(macro['Country'] == 'Ghana') & (macro[\"Bank_Name\"] == \"Commercial\")]['Bank_Address'].value_counts()"
   ]
  },
  {
   "cell_type": "code",
   "execution_count": 167,
   "metadata": {},
   "outputs": [
    {
     "data": {
      "text/plain": [
       "Bank_Name\n",
       "Absa Bank Ghana Limited        190\n",
       "Consolidated                    74\n",
       "ECOBANK - SENEGAL (ECOBANK)     69\n",
       "Gtbank                          67\n",
       "Calbank                         51\n",
       "                              ... \n",
       "Akao                             1\n",
       "Proposed                         1\n",
       "Asante                           1\n",
       "Gcb-Ho                           1\n",
       "Bestpoint                        1\n",
       "Name: count, Length: 72, dtype: int64"
      ]
     },
     "execution_count": 167,
     "metadata": {},
     "output_type": "execute_result"
    }
   ],
   "source": [
    "ghana_bank_dict = {\n",
    "    \"Access Bank Ghana\",\n",
    "    \"Barclays | Absa Bank Ghana Limited\",\n",
    "    \"Bank Of Africa Ghana\",\n",
    "    \"Bank Of Ghana\",\n",
    "    \"CAL Bank\",\n",
    "    \"Ecobank Ghana\",\n",
    "    \"Fidelity Bank Ghana Limited\",\n",
    "    \"Ghana Commercial Bank\",\n",
    "    \"National Investment Bank\",\n",
    "    \"Prudential Bank Limited\",\n",
    "    \"Republic bank Ghana\",\n",
    "    \"Société Générale – Social Security Bank (SG-SSB)\",\n",
    "    \"Standard Chartered Bank\",\n",
    "    \"Stanbic Bank Ghana\",\n",
    "    \"Zenith Bank Ghana\",\n",
    "    \"African Investment Bank\",\n",
    "    \"Ahantaman Rural Bank Ltd\",\n",
    "    \"United Bank for Africa\",\n",
    "    \"Unibank Ghana\"\n",
    "}\n",
    "\n",
    "macro[(macro['Country'] == 'Ghana') & ~macro['Bank_Name'].isin(ghana_bank_dict)]['Bank_Name'].value_counts()\n"
   ]
  },
  {
   "cell_type": "markdown",
   "metadata": {},
   "source": [
    "# Côte Bank"
   ]
  },
  {
   "cell_type": "code",
   "execution_count": 185,
   "metadata": {},
   "outputs": [
    {
     "name": "stderr",
     "output_type": "stream",
     "text": [
      "C:\\Users\\dscon\\AppData\\Local\\Temp\\ipykernel_15828\\3169087437.py:1: UserWarning: This pattern is interpreted as a regular expression, and has match groups. To actually get the groups, use str.extract.\n",
      "  macro['Bank_Name'] = np.where((macro['Bank_Address'].str.contains(\"Banque D'Abidjan (Bda)\")), \"Banque D'Abidjan (Bda)\", macro['Bank_Name'])\n",
      "C:\\Users\\dscon\\AppData\\Local\\Temp\\ipykernel_15828\\3169087437.py:3: UserWarning: This pattern is interpreted as a regular expression, and has match groups. To actually get the groups, use str.extract.\n",
      "  macro['Bank_Name'] = np.where((macro['Bank_Address'].str.contains(\"Standard Chartered Bank Cote D'Ivoire (Scb)\")), \"Standard Chartered Bank Cote D'Ivoire (Scb)\", macro['Bank_Name'])\n"
     ]
    },
    {
     "data": {
      "text/plain": [
       "Series([], Name: count, dtype: int64)"
      ]
     },
     "execution_count": 185,
     "metadata": {},
     "output_type": "execute_result"
    }
   ],
   "source": [
    "macro['Bank_Name'] = np.where((macro['Bank_Address'].str.contains(\"Banque D'Abidjan (Bda)\")), \"Banque D'Abidjan (Bda)\", macro['Bank_Name'])\n",
    "macro['Bank_Name'] = np.where((macro['Bank_Address'].str.contains(\"Orange Bank Africa\")), \"Orange Bank Africa\", macro['Bank_Name'])\n",
    "macro['Bank_Name'] = np.where((macro['Bank_Address'].str.contains(\"Standard Chartered Bank Cote D'Ivoire (Scb)\")), \"Standard Chartered Bank Cote D'Ivoire (Scb)\", macro['Bank_Name'])\n",
    "macro['Bank_Name'] = np.where((macro['Bank_Address'].str.contains(\"Banque Africaine De Developpement Immeuble Ccia\")), \"Banque Africaine De Developpement Immeuble Ccia\", macro['Bank_Name'])\n",
    "macro['Bank_Name'] = np.where((macro['Bank_Address'].str.contains(\"Sgbci\")), \"Société Générale Côte d’Ivoire (SG-CI)\", macro['Bank_Name'])\n",
    "macro['Bank_Name'] = np.where((macro['Bank_Address'].str.contains(\"Sgbci\")), \"Société Générale Côte d’Ivoire (SG-CI)\", macro['Bank_Name'])\n",
    "\n",
    "\n",
    "# macro[(macro['Country'] == 'Côte') & (macro['Bank_Address'].str.contains(\"SAFCA\"))][[\"Bank_Address\"]].value_counts()"
   ]
  },
  {
   "cell_type": "code",
   "execution_count": 186,
   "metadata": {},
   "outputs": [],
   "source": [
    "# Save \n",
    "\n",
    "# Create the directory if it doesn't exist\n",
    "os.makedirs('../data/processed/2024-08-31', exist_ok=True)\n",
    "macro.to_csv('../data/processed/2024-08-31/macro_llamma_v3.csv', index=False)"
   ]
  },
  {
   "cell_type": "code",
   "execution_count": null,
   "metadata": {},
   "outputs": [],
   "source": []
  }
 ],
 "metadata": {
  "kernelspec": {
   "display_name": "base",
   "language": "python",
   "name": "python3"
  },
  "language_info": {
   "codemirror_mode": {
    "name": "ipython",
    "version": 3
   },
   "file_extension": ".py",
   "mimetype": "text/x-python",
   "name": "python",
   "nbconvert_exporter": "python",
   "pygments_lexer": "ipython3",
   "version": "3.11.5"
  }
 },
 "nbformat": 4,
 "nbformat_minor": 2
}
