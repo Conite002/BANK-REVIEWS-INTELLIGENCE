{
 "cells": [
  {
   "cell_type": "code",
   "execution_count": 3,
   "id": "2f63e24a-5ab9-4bb3-8ac6-bfb4c16c2483",
   "metadata": {
    "collapsed": true,
    "jupyter": {
     "outputs_hidden": true
    }
   },
   "outputs": [
    {
     "name": "stdout",
     "output_type": "stream",
     "text": [
      "Collecting superset-api-client\n",
      "  Downloading superset_api_client-0.6.0-py3-none-any.whl.metadata (3.2 kB)\n",
      "Requirement already satisfied: requests>=2.0.0 in /opt/anaconda3/lib/python3.11/site-packages (from superset-api-client) (2.31.0)\n",
      "Requirement already satisfied: requests-oauthlib in /opt/anaconda3/lib/python3.11/site-packages (from superset-api-client) (2.0.0)\n",
      "Requirement already satisfied: pyyaml>=6.0 in /opt/anaconda3/lib/python3.11/site-packages (from superset-api-client) (6.0.1)\n",
      "Requirement already satisfied: charset-normalizer<4,>=2 in /opt/anaconda3/lib/python3.11/site-packages (from requests>=2.0.0->superset-api-client) (2.0.4)\n",
      "Requirement already satisfied: idna<4,>=2.5 in /opt/anaconda3/lib/python3.11/site-packages (from requests>=2.0.0->superset-api-client) (3.7)\n",
      "Requirement already satisfied: urllib3<3,>=1.21.1 in /opt/anaconda3/lib/python3.11/site-packages (from requests>=2.0.0->superset-api-client) (2.2.1)\n",
      "Requirement already satisfied: certifi>=2017.4.17 in /opt/anaconda3/lib/python3.11/site-packages (from requests>=2.0.0->superset-api-client) (2024.6.2)\n",
      "Requirement already satisfied: oauthlib>=3.0.0 in /opt/anaconda3/lib/python3.11/site-packages (from requests-oauthlib->superset-api-client) (3.2.2)\n",
      "Downloading superset_api_client-0.6.0-py3-none-any.whl (16 kB)\n",
      "Installing collected packages: superset-api-client\n",
      "Successfully installed superset-api-client-0.6.0\n"
     ]
    }
   ],
   "source": [
    "!pip install superset-api-client"
   ]
  },
  {
   "cell_type": "code",
   "execution_count": 2,
   "id": "6b1ebfa0-b301-4db5-a9fd-3b04c9dbfaff",
   "metadata": {},
   "outputs": [],
   "source": [
    "from supersetapiclient.client import SupersetClient"
   ]
  },
  {
   "cell_type": "code",
   "execution_count": 4,
   "id": "8ec7794a-5027-4970-a71a-73317c0fc1b0",
   "metadata": {},
   "outputs": [],
   "source": [
    "# Connexion à Superset\n",
    "client = SupersetClient('http://localhost:8088', username='admin', password='root')"
   ]
  },
  {
   "cell_type": "code",
   "execution_count": 5,
   "id": "f11f8704-9f9a-4a6c-9084-05b012faf374",
   "metadata": {},
   "outputs": [
    {
     "ename": "AttributeError",
     "evalue": "'dict' object has no attribute 'to_json'",
     "output_type": "error",
     "traceback": [
      "\u001b[0;31m---------------------------------------------------------------------------\u001b[0m",
      "\u001b[0;31mAttributeError\u001b[0m                            Traceback (most recent call last)",
      "Cell \u001b[0;32mIn[5], line 2\u001b[0m\n\u001b[1;32m      1\u001b[0m \u001b[38;5;66;03m# Ajouter la vue comme une nouvelle table\u001b[39;00m\n\u001b[0;32m----> 2\u001b[0m client\u001b[38;5;241m.\u001b[39mcharts\u001b[38;5;241m.\u001b[39madd({\n\u001b[1;32m      3\u001b[0m     \u001b[38;5;124m\"\u001b[39m\u001b[38;5;124mdatabase_id\u001b[39m\u001b[38;5;124m\"\u001b[39m: \u001b[38;5;241m1\u001b[39m,  \u001b[38;5;66;03m# Remplacez par l'ID de votre base de données\u001b[39;00m\n\u001b[1;32m      4\u001b[0m     \u001b[38;5;124m\"\u001b[39m\u001b[38;5;124mschema\u001b[39m\u001b[38;5;124m\"\u001b[39m: \u001b[38;5;124m\"\u001b[39m\u001b[38;5;124mpublic\u001b[39m\u001b[38;5;124m\"\u001b[39m,\n\u001b[1;32m      5\u001b[0m     \u001b[38;5;124m\"\u001b[39m\u001b[38;5;124mtable_name\u001b[39m\u001b[38;5;124m\"\u001b[39m: \u001b[38;5;124m\"\u001b[39m\u001b[38;5;124mvw_city_sentiments\u001b[39m\u001b[38;5;124m\"\u001b[39m,\n\u001b[1;32m      6\u001b[0m     \u001b[38;5;124m\"\u001b[39m\u001b[38;5;124msql\u001b[39m\u001b[38;5;124m\"\u001b[39m: \u001b[38;5;124m\"\"\"\u001b[39m\n\u001b[1;32m      7\u001b[0m \u001b[38;5;124m        CREATE VIEW vw_city_sentiments AS\u001b[39m\n\u001b[1;32m      8\u001b[0m \u001b[38;5;124m        SELECT \u001b[39m\n\u001b[1;32m      9\u001b[0m \u001b[38;5;124m            dr.Country,\u001b[39m\n\u001b[1;32m     10\u001b[0m \u001b[38;5;124m            dr.Town,\u001b[39m\n\u001b[1;32m     11\u001b[0m \u001b[38;5;124m            ds.Sentiment_Label,\u001b[39m\n\u001b[1;32m     12\u001b[0m \u001b[38;5;124m            COUNT(fr.Count_Review) as Review_Count\u001b[39m\n\u001b[1;32m     13\u001b[0m \u001b[38;5;124m        FROM Fact_Reviews fr\u001b[39m\n\u001b[1;32m     14\u001b[0m \u001b[38;5;124m        JOIN Dimension_Region dr ON fr.Region_ID = dr.Region_ID\u001b[39m\n\u001b[1;32m     15\u001b[0m \u001b[38;5;124m        JOIN Dimension_Sentiment ds ON fr.Sentiment_ID = ds.Sentiment_ID\u001b[39m\n\u001b[1;32m     16\u001b[0m \u001b[38;5;124m        GROUP BY dr.Country, dr.Town, ds.Sentiment_Label;\u001b[39m\n\u001b[1;32m     17\u001b[0m \u001b[38;5;124m    \u001b[39m\u001b[38;5;124m\"\"\"\u001b[39m\n\u001b[1;32m     18\u001b[0m })\n",
      "File \u001b[0;32m/opt/anaconda3/lib/python3.11/site-packages/supersetapiclient/base.py:225\u001b[0m, in \u001b[0;36mObjectFactories.add\u001b[0;34m(self, obj)\u001b[0m\n\u001b[1;32m    222\u001b[0m \u001b[38;5;28;01mdef\u001b[39;00m \u001b[38;5;21madd\u001b[39m(\u001b[38;5;28mself\u001b[39m, obj) \u001b[38;5;241m-\u001b[39m\u001b[38;5;241m>\u001b[39m \u001b[38;5;28mint\u001b[39m:\n\u001b[1;32m    223\u001b[0m \u001b[38;5;250m    \u001b[39m\u001b[38;5;124;03m\"\"\"Create an object on remote.\"\"\"\u001b[39;00m\n\u001b[0;32m--> 225\u001b[0m     o \u001b[38;5;241m=\u001b[39m obj\u001b[38;5;241m.\u001b[39mto_json(columns\u001b[38;5;241m=\u001b[39m\u001b[38;5;28mself\u001b[39m\u001b[38;5;241m.\u001b[39madd_columns)\n\u001b[1;32m    226\u001b[0m     response \u001b[38;5;241m=\u001b[39m \u001b[38;5;28mself\u001b[39m\u001b[38;5;241m.\u001b[39mclient\u001b[38;5;241m.\u001b[39mpost(\u001b[38;5;28mself\u001b[39m\u001b[38;5;241m.\u001b[39mbase_url, json\u001b[38;5;241m=\u001b[39mo)\n\u001b[1;32m    227\u001b[0m     raise_for_status(response)\n",
      "\u001b[0;31mAttributeError\u001b[0m: 'dict' object has no attribute 'to_json'"
     ]
    }
   ],
   "source": [
    "# Ajouter la vue comme une nouvelle table\n",
    "client.charts.add({\n",
    "    \"database_id\": 1,  # Remplacez par l'ID de votre base de données\n",
    "    \"schema\": \"public\",\n",
    "    \"table_name\": \"vw_city_sentiments\",\n",
    "    \"sql\": \"\"\"\n",
    "        CREATE VIEW vw_city_sentiments AS\n",
    "        SELECT \n",
    "            dr.Country,\n",
    "            dr.Town,\n",
    "            ds.Sentiment_Label,\n",
    "            COUNT(fr.Count_Review) as Review_Count\n",
    "        FROM Fact_Reviews fr\n",
    "        JOIN Dimension_Region dr ON fr.Region_ID = dr.Region_ID\n",
    "        JOIN Dimension_Sentiment ds ON fr.Sentiment_ID = ds.Sentiment_ID\n",
    "        GROUP BY dr.Country, dr.Town, ds.Sentiment_Label;\n",
    "    \"\"\"\n",
    "})"
   ]
  },
  {
   "cell_type": "code",
   "execution_count": 3,
   "id": "fb292ee2-dc2d-43fd-acf3-e68f00ef2736",
   "metadata": {},
   "outputs": [
    {
     "ename": "AttributeError",
     "evalue": "'SupersetClient' object has no attribute 'create_table'",
     "output_type": "error",
     "traceback": [
      "\u001b[0;31m---------------------------------------------------------------------------\u001b[0m",
      "\u001b[0;31mAttributeError\u001b[0m                            Traceback (most recent call last)",
      "Cell \u001b[0;32mIn[3], line 5\u001b[0m\n\u001b[1;32m      2\u001b[0m client \u001b[38;5;241m=\u001b[39m SupersetClient(\u001b[38;5;124m'\u001b[39m\u001b[38;5;124mhttp://localhost:8088\u001b[39m\u001b[38;5;124m'\u001b[39m, username\u001b[38;5;241m=\u001b[39m\u001b[38;5;124m'\u001b[39m\u001b[38;5;124madmin\u001b[39m\u001b[38;5;124m'\u001b[39m, password\u001b[38;5;241m=\u001b[39m\u001b[38;5;124m'\u001b[39m\u001b[38;5;124mroot\u001b[39m\u001b[38;5;124m'\u001b[39m)\n\u001b[1;32m      4\u001b[0m \u001b[38;5;66;03m# Ajouter la vue comme une nouvelle table\u001b[39;00m\n\u001b[0;32m----> 5\u001b[0m client\u001b[38;5;241m.\u001b[39mcreate_table({\n\u001b[1;32m      6\u001b[0m     \u001b[38;5;124m\"\u001b[39m\u001b[38;5;124mdatabase_id\u001b[39m\u001b[38;5;124m\"\u001b[39m: \u001b[38;5;241m1\u001b[39m,  \u001b[38;5;66;03m# Remplacez par l'ID de votre base de données\u001b[39;00m\n\u001b[1;32m      7\u001b[0m     \u001b[38;5;124m\"\u001b[39m\u001b[38;5;124mschema\u001b[39m\u001b[38;5;124m\"\u001b[39m: \u001b[38;5;124m\"\u001b[39m\u001b[38;5;124mpublic\u001b[39m\u001b[38;5;124m\"\u001b[39m,\n\u001b[1;32m      8\u001b[0m     \u001b[38;5;124m\"\u001b[39m\u001b[38;5;124mtable_name\u001b[39m\u001b[38;5;124m\"\u001b[39m: \u001b[38;5;124m\"\u001b[39m\u001b[38;5;124mvw_city_sentiments\u001b[39m\u001b[38;5;124m\"\u001b[39m,\n\u001b[1;32m      9\u001b[0m     \u001b[38;5;124m\"\u001b[39m\u001b[38;5;124msql\u001b[39m\u001b[38;5;124m\"\u001b[39m: \u001b[38;5;124m\"\"\"\u001b[39m\n\u001b[1;32m     10\u001b[0m \u001b[38;5;124m        CREATE VIEW vw_city_sentiments AS\u001b[39m\n\u001b[1;32m     11\u001b[0m \u001b[38;5;124m        SELECT \u001b[39m\n\u001b[1;32m     12\u001b[0m \u001b[38;5;124m            dr.Country,\u001b[39m\n\u001b[1;32m     13\u001b[0m \u001b[38;5;124m            dr.Town,\u001b[39m\n\u001b[1;32m     14\u001b[0m \u001b[38;5;124m            ds.Sentiment_Label,\u001b[39m\n\u001b[1;32m     15\u001b[0m \u001b[38;5;124m            COUNT(fr.Count_Review) as Review_Count\u001b[39m\n\u001b[1;32m     16\u001b[0m \u001b[38;5;124m        FROM Fact_Reviews fr\u001b[39m\n\u001b[1;32m     17\u001b[0m \u001b[38;5;124m        JOIN Dimension_Region dr ON fr.Region_ID = dr.Region_ID\u001b[39m\n\u001b[1;32m     18\u001b[0m \u001b[38;5;124m        JOIN Dimension_Sentiment ds ON fr.Sentiment_ID = ds.Sentiment_ID\u001b[39m\n\u001b[1;32m     19\u001b[0m \u001b[38;5;124m        GROUP BY dr.Country, dr.Town, ds.Sentiment_Label;\u001b[39m\n\u001b[1;32m     20\u001b[0m \u001b[38;5;124m    \u001b[39m\u001b[38;5;124m\"\"\"\u001b[39m\n\u001b[1;32m     21\u001b[0m })\n\u001b[1;32m     23\u001b[0m \u001b[38;5;66;03m# Créer un nouveau bar chart empilé\u001b[39;00m\n\u001b[1;32m     24\u001b[0m chart \u001b[38;5;241m=\u001b[39m client\u001b[38;5;241m.\u001b[39mcreate_chart({\n\u001b[1;32m     25\u001b[0m     \u001b[38;5;124m\"\u001b[39m\u001b[38;5;124mslice_name\u001b[39m\u001b[38;5;124m\"\u001b[39m: \u001b[38;5;124m\"\u001b[39m\u001b[38;5;124mSentiment Analysis by City and Country\u001b[39m\u001b[38;5;124m\"\u001b[39m,\n\u001b[1;32m     26\u001b[0m     \u001b[38;5;124m\"\u001b[39m\u001b[38;5;124mviz_type\u001b[39m\u001b[38;5;124m\"\u001b[39m: \u001b[38;5;124m\"\u001b[39m\u001b[38;5;124mbar\u001b[39m\u001b[38;5;124m\"\u001b[39m,\n\u001b[0;32m   (...)\u001b[0m\n\u001b[1;32m     35\u001b[0m     }\n\u001b[1;32m     36\u001b[0m })\n",
      "\u001b[0;31mAttributeError\u001b[0m: 'SupersetClient' object has no attribute 'create_table'"
     ]
    }
   ],
   "source": [
    "\n",
    "\n",
    "# Créer un nouveau bar chart empilé\n",
    "chart = client.create_chart({\n",
    "    \"slice_name\": \"Sentiment Analysis by City and Country\",\n",
    "    \"viz_type\": \"bar\",\n",
    "    \"datasource_id\": 1,  # Remplacez par l'ID de votre datasource\n",
    "    \"datasource_type\": \"table\",\n",
    "    \"params\": {\n",
    "        \"metrics\": [\"sum__Review_Count\"],\n",
    "        \"groupby\": [\"Town\"],\n",
    "        \"series\": [\"Sentiment_Label\"],\n",
    "        \"bar_stacking\": \"stack\",\n",
    "        \"adhoc_filters\": [{\"col\": \"Country\", \"op\": \"==\", \"val\": \"selected_country\"}]\n",
    "    }\n",
    "})\n",
    "\n",
    "# Créer un nouveau dashboard et y ajouter le graphique\n",
    "dashboard = client.create_dashboard({\n",
    "    \"dashboard_title\": \"City Sentiment Analysis by Country\",\n",
    "    \"slices\": [chart['id']]\n",
    "})\n"
   ]
  },
  {
   "cell_type": "code",
   "execution_count": null,
   "id": "0760176d-3f26-4a8b-b01f-535dbc043a9b",
   "metadata": {},
   "outputs": [],
   "source": []
  }
 ],
 "metadata": {
  "kernelspec": {
   "display_name": "Python 3 (ipykernel)",
   "language": "python",
   "name": "python3"
  },
  "language_info": {
   "codemirror_mode": {
    "name": "ipython",
    "version": 3
   },
   "file_extension": ".py",
   "mimetype": "text/x-python",
   "name": "python",
   "nbconvert_exporter": "python",
   "pygments_lexer": "ipython3",
   "version": "3.11.7"
  }
 },
 "nbformat": 4,
 "nbformat_minor": 5
}
