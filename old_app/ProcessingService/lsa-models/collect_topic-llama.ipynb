{
 "cells": [
  {
   "cell_type": "code",
   "execution_count": 1,
   "metadata": {},
   "outputs": [],
   "source": [
    "import os, sys, re\n",
    "import pandas as pd\n",
    "import string\n",
    "from nltk.corpus import stopwords\n",
    "from nltk.tokenize import word_tokenize\n",
    "from transformers import pipeline, AutoModelForSequenceClassification, AutoTokenizer\n",
    "from sklearn.feature_extraction.text import TfidfVectorizer\n",
    "from sklearn.decomposition import TruncatedSVD\n",
    "from sklearn.metrics.pairwise import cosine_similarity\n",
    "from datetime import datetime, timedelta\n",
    "\n",
    "current_directory = os.getcwd()\n",
    "root_directory = os.path.abspath(os.path.join(current_directory, os.pardir))\n",
    "sys.path.append(root_directory)"
   ]
  },
  {
   "cell_type": "markdown",
   "metadata": {},
   "source": [
    "* **Concate all data**"
   ]
  },
  {
   "cell_type": "code",
   "execution_count": 2,
   "metadata": {},
   "outputs": [
    {
     "name": "stdout",
     "output_type": "stream",
     "text": [
      "(1710, 14)\n"
     ]
    }
   ],
   "source": [
    "import os\n",
    "import pandas as pd\n",
    "\n",
    "# Directory containing the CSV files\n",
    "#directory = r'c:\\Users\\mohammed\\OneDrive\\Documents\\QFM -S2\\BankReviewIntelligence\\ScrapperService\\production_standalone\\row_data\\parcket\\2024-06-08'\n",
    "directory = \"../../ScrapperService/production_standalone/row_data/parcket/2024-06-08\"\n",
    "# List to hold the data from each CSV file\n",
    "data_frames = []\n",
    "\n",
    "# Iterate over all files in the directory\n",
    "for country in os.listdir(directory):\n",
    "    if country != \".DS_Store\":\n",
    "        for city in os.listdir(directory+\"/\"+country):\n",
    "            if city.endswith(\".parquet\"):\n",
    "                file_path = os.path.join(directory+\"/\"+country, city)\n",
    "                df = pd.read_parquet(file_path)\n",
    "                data_frames.append(df)\n",
    "\n",
    "# Concatenate all DataFrames\n",
    "all_data = pd.concat(data_frames, ignore_index=True)\n",
    "all_data['Reviewer_Publish_Date'] = all_data['Reviewer_Publish_Date'].str.replace('\\xa0', ' ')\n",
    "\n",
    "# Save the concatenated DataFrame to a new CSV file\n",
    "all_data.to_parquet('concatenated_data.parquet', index=False)\n",
    "print(all_data.shape)\n",
    "#all_data.head()"
   ]
  },
  {
   "cell_type": "markdown",
   "metadata": {},
   "source": [
    "* **Preprocessing**"
   ]
  },
  {
   "cell_type": "code",
   "execution_count": 3,
   "metadata": {
    "scrolled": true
   },
   "outputs": [],
   "source": [
    "from parquet_preprocessing import preprocess_dataframe\n",
    "all_data = pd.read_parquet('concatenated_data.parquet')"
   ]
  },
  {
   "cell_type": "code",
   "execution_count": 4,
   "metadata": {},
   "outputs": [],
   "source": [
    "df = preprocess_dataframe(all_data)"
   ]
  },
  {
   "cell_type": "code",
   "execution_count": 5,
   "metadata": {},
   "outputs": [
    {
     "data": {
      "text/html": [
       "<div>\n",
       "<style scoped>\n",
       "    .dataframe tbody tr th:only-of-type {\n",
       "        vertical-align: middle;\n",
       "    }\n",
       "\n",
       "    .dataframe tbody tr th {\n",
       "        vertical-align: top;\n",
       "    }\n",
       "\n",
       "    .dataframe thead th {\n",
       "        text-align: right;\n",
       "    }\n",
       "</style>\n",
       "<table border=\"1\" class=\"dataframe\">\n",
       "  <thead>\n",
       "    <tr style=\"text-align: right;\">\n",
       "      <th></th>\n",
       "      <th>Country</th>\n",
       "      <th>Town</th>\n",
       "      <th>Bank_Name</th>\n",
       "      <th>Bank_Phone_number</th>\n",
       "      <th>Bank_Address</th>\n",
       "      <th>Bank_Website</th>\n",
       "      <th>Reviewer_Nane</th>\n",
       "      <th>Reviewer_Sart</th>\n",
       "      <th>Reviewer_Text</th>\n",
       "      <th>Reviewer_Publish_Date</th>\n",
       "      <th>Reviewer_Like_Reaction</th>\n",
       "      <th>Reviewer_Profil_Link</th>\n",
       "      <th>Reviewer_Owner_Reply</th>\n",
       "      <th>Reviewer_Owner_Reply_Date</th>\n",
       "      <th>Topic</th>\n",
       "      <th>Sentiment</th>\n",
       "      <th>Sub_Topic</th>\n",
       "    </tr>\n",
       "  </thead>\n",
       "  <tbody>\n",
       "    <tr>\n",
       "      <th>0</th>\n",
       "      <td>Kenya</td>\n",
       "      <td>Nyeri</td>\n",
       "      <td>Standard Chartered Bank Nyeri Branch</td>\n",
       "      <td>+254 20 3293900</td>\n",
       "      <td>Kenyatta Rd, Nyeri, Kenya</td>\n",
       "      <td>standardchartered.com</td>\n",
       "      <td>V M</td>\n",
       "      <td>5</td>\n",
       "      <td>NAN</td>\n",
       "      <td>2018-06-29</td>\n",
       "      <td>0</td>\n",
       "      <td>https://www.google.com/maps/contrib/1169461831...</td>\n",
       "      <td>None</td>\n",
       "      <td>0000-00-00</td>\n",
       "      <td>NaN</td>\n",
       "      <td>NaN</td>\n",
       "      <td>NaN</td>\n",
       "    </tr>\n",
       "    <tr>\n",
       "      <th>1</th>\n",
       "      <td>Kenya</td>\n",
       "      <td>Kitui</td>\n",
       "      <td>Co-Op Bank Atm - Kitui Branch</td>\n",
       "      <td>+254 44 4422370</td>\n",
       "      <td>Emco House, Kilungya Makuti Street, Kitui, Kenya</td>\n",
       "      <td>co-opbank.co.ke</td>\n",
       "      <td>Emman Emmah</td>\n",
       "      <td>5</td>\n",
       "      <td>NAN</td>\n",
       "      <td>2023-10-31</td>\n",
       "      <td>0</td>\n",
       "      <td>https://www.google.com/maps/contrib/1125754277...</td>\n",
       "      <td>None</td>\n",
       "      <td>0000-00-00</td>\n",
       "      <td>NaN</td>\n",
       "      <td>NaN</td>\n",
       "      <td>NaN</td>\n",
       "    </tr>\n",
       "    <tr>\n",
       "      <th>2</th>\n",
       "      <td>Kenya</td>\n",
       "      <td>Voi</td>\n",
       "      <td>Kcb Voi</td>\n",
       "      <td>Not available</td>\n",
       "      <td>Voi, Kenya</td>\n",
       "      <td>not available</td>\n",
       "      <td>Isaac Akuru Miruka</td>\n",
       "      <td>5</td>\n",
       "      <td>NAN</td>\n",
       "      <td>2021-06-28</td>\n",
       "      <td>0</td>\n",
       "      <td>https://www.google.com/maps/contrib/1090182152...</td>\n",
       "      <td>None</td>\n",
       "      <td>0000-00-00</td>\n",
       "      <td>NaN</td>\n",
       "      <td>NaN</td>\n",
       "      <td>NaN</td>\n",
       "    </tr>\n",
       "    <tr>\n",
       "      <th>3</th>\n",
       "      <td>Kenya</td>\n",
       "      <td>Kitale</td>\n",
       "      <td>Standard Chartered Bank - Kitale Branch</td>\n",
       "      <td>+254 20 3293900</td>\n",
       "      <td>Ground Floor- Teryet Business Centre, Kenyatta...</td>\n",
       "      <td>standardchartered.com</td>\n",
       "      <td>Tony Tonny</td>\n",
       "      <td>1</td>\n",
       "      <td>NAN</td>\n",
       "      <td>2020-06-28</td>\n",
       "      <td>0</td>\n",
       "      <td>https://www.google.com/maps/contrib/1018542844...</td>\n",
       "      <td>None</td>\n",
       "      <td>0000-00-00</td>\n",
       "      <td>NaN</td>\n",
       "      <td>NaN</td>\n",
       "      <td>NaN</td>\n",
       "    </tr>\n",
       "    <tr>\n",
       "      <th>4</th>\n",
       "      <td>Kenya</td>\n",
       "      <td>Homa Bay</td>\n",
       "      <td>Barclays Bank, Homa Bay</td>\n",
       "      <td>Not available</td>\n",
       "      <td>Fff4+7W4, Homa Bay, Kenya</td>\n",
       "      <td>not available</td>\n",
       "      <td>Declan Ottaro</td>\n",
       "      <td>3</td>\n",
       "      <td>Salle bancaire</td>\n",
       "      <td>2018-06-29</td>\n",
       "      <td>0</td>\n",
       "      <td>https://www.google.com/maps/contrib/1023346861...</td>\n",
       "      <td>None</td>\n",
       "      <td>0000-00-00</td>\n",
       "      <td>NaN</td>\n",
       "      <td>NaN</td>\n",
       "      <td>NaN</td>\n",
       "    </tr>\n",
       "    <tr>\n",
       "      <th>...</th>\n",
       "      <td>...</td>\n",
       "      <td>...</td>\n",
       "      <td>...</td>\n",
       "      <td>...</td>\n",
       "      <td>...</td>\n",
       "      <td>...</td>\n",
       "      <td>...</td>\n",
       "      <td>...</td>\n",
       "      <td>...</td>\n",
       "      <td>...</td>\n",
       "      <td>...</td>\n",
       "      <td>...</td>\n",
       "      <td>...</td>\n",
       "      <td>...</td>\n",
       "      <td>...</td>\n",
       "      <td>...</td>\n",
       "      <td>...</td>\n",
       "    </tr>\n",
       "    <tr>\n",
       "      <th>1705</th>\n",
       "      <td>Côte D'Ivoire</td>\n",
       "      <td>Divo</td>\n",
       "      <td>Sgci</td>\n",
       "      <td>+225 51225122</td>\n",
       "      <td>Rjrr+4W8, Divo, Côte D’Ivoire</td>\n",
       "      <td>not available</td>\n",
       "      <td>Marie Germaine</td>\n",
       "      <td>5</td>\n",
       "      <td>NAN</td>\n",
       "      <td>2019-06-29</td>\n",
       "      <td>0</td>\n",
       "      <td>https://www.google.com/maps/contrib/1054373247...</td>\n",
       "      <td>None</td>\n",
       "      <td>0000-00-00</td>\n",
       "      <td>NaN</td>\n",
       "      <td>NaN</td>\n",
       "      <td>NaN</td>\n",
       "    </tr>\n",
       "    <tr>\n",
       "      <th>1706</th>\n",
       "      <td>Côte D'Ivoire</td>\n",
       "      <td>Divo</td>\n",
       "      <td>Coopec Divo</td>\n",
       "      <td>Not available</td>\n",
       "      <td>Rjmm+P5W, Divo, Côte D’Ivoire</td>\n",
       "      <td>not available</td>\n",
       "      <td>Comoe Djibril</td>\n",
       "      <td>2</td>\n",
       "      <td>NAN</td>\n",
       "      <td>2019-06-29</td>\n",
       "      <td>0</td>\n",
       "      <td>https://www.google.com/maps/contrib/1132578295...</td>\n",
       "      <td>None</td>\n",
       "      <td>0000-00-00</td>\n",
       "      <td>NaN</td>\n",
       "      <td>NaN</td>\n",
       "      <td>NaN</td>\n",
       "    </tr>\n",
       "    <tr>\n",
       "      <th>1707</th>\n",
       "      <td>Côte D'Ivoire</td>\n",
       "      <td>Divo</td>\n",
       "      <td>Coopec Divo</td>\n",
       "      <td>Not available</td>\n",
       "      <td>Rjmm+P5W, Divo, Côte D’Ivoire</td>\n",
       "      <td>not available</td>\n",
       "      <td>Comoe Djibril</td>\n",
       "      <td>2</td>\n",
       "      <td>NAN</td>\n",
       "      <td>2019-06-29</td>\n",
       "      <td>0</td>\n",
       "      <td>https://www.google.com/maps/contrib/1132578295...</td>\n",
       "      <td>None</td>\n",
       "      <td>0000-00-00</td>\n",
       "      <td>NaN</td>\n",
       "      <td>NaN</td>\n",
       "      <td>NaN</td>\n",
       "    </tr>\n",
       "    <tr>\n",
       "      <th>1708</th>\n",
       "      <td>Côte D'Ivoire</td>\n",
       "      <td>Divo</td>\n",
       "      <td>Hamed &amp; El Djo Transfert Divo</td>\n",
       "      <td>+225 05 56 33 4482</td>\n",
       "      <td>Bp 385, Divo, Côte D’Ivoire</td>\n",
       "      <td>not available</td>\n",
       "      <td>Moctar Kone (Kmoctar)</td>\n",
       "      <td>3</td>\n",
       "      <td>NAN</td>\n",
       "      <td>2023-06-28</td>\n",
       "      <td>0</td>\n",
       "      <td>https://www.google.com/maps/contrib/1036178797...</td>\n",
       "      <td>None</td>\n",
       "      <td>0000-00-00</td>\n",
       "      <td>NaN</td>\n",
       "      <td>NaN</td>\n",
       "      <td>NaN</td>\n",
       "    </tr>\n",
       "    <tr>\n",
       "      <th>1709</th>\n",
       "      <td>Côte D'Ivoire</td>\n",
       "      <td>Divo</td>\n",
       "      <td>Centre Des Impots De Divo</td>\n",
       "      <td>Not available</td>\n",
       "      <td>Rjmj+Wjp, Divo, Côte D’Ivoire</td>\n",
       "      <td>not available</td>\n",
       "      <td>Folou Joel Henri Ayemou</td>\n",
       "      <td>3</td>\n",
       "      <td>De passage</td>\n",
       "      <td>2019-06-29</td>\n",
       "      <td>0</td>\n",
       "      <td>https://www.google.com/maps/contrib/1158262678...</td>\n",
       "      <td>None</td>\n",
       "      <td>0000-00-00</td>\n",
       "      <td>NaN</td>\n",
       "      <td>NaN</td>\n",
       "      <td>NaN</td>\n",
       "    </tr>\n",
       "  </tbody>\n",
       "</table>\n",
       "<p>1710 rows × 17 columns</p>\n",
       "</div>"
      ],
      "text/plain": [
       "            Country      Town                                Bank_Name  \\\n",
       "0             Kenya     Nyeri     Standard Chartered Bank Nyeri Branch   \n",
       "1             Kenya     Kitui            Co-Op Bank Atm - Kitui Branch   \n",
       "2             Kenya       Voi                                  Kcb Voi   \n",
       "3             Kenya    Kitale  Standard Chartered Bank - Kitale Branch   \n",
       "4             Kenya  Homa Bay                  Barclays Bank, Homa Bay   \n",
       "...             ...       ...                                      ...   \n",
       "1705  Côte D'Ivoire      Divo                                     Sgci   \n",
       "1706  Côte D'Ivoire      Divo                              Coopec Divo   \n",
       "1707  Côte D'Ivoire      Divo                              Coopec Divo   \n",
       "1708  Côte D'Ivoire      Divo            Hamed & El Djo Transfert Divo   \n",
       "1709  Côte D'Ivoire      Divo                Centre Des Impots De Divo   \n",
       "\n",
       "       Bank_Phone_number                                       Bank_Address  \\\n",
       "0        +254 20 3293900                          Kenyatta Rd, Nyeri, Kenya   \n",
       "1        +254 44 4422370   Emco House, Kilungya Makuti Street, Kitui, Kenya   \n",
       "2          Not available                                         Voi, Kenya   \n",
       "3        +254 20 3293900  Ground Floor- Teryet Business Centre, Kenyatta...   \n",
       "4          Not available                          Fff4+7W4, Homa Bay, Kenya   \n",
       "...                  ...                                                ...   \n",
       "1705       +225 51225122                      Rjrr+4W8, Divo, Côte D’Ivoire   \n",
       "1706       Not available                      Rjmm+P5W, Divo, Côte D’Ivoire   \n",
       "1707       Not available                      Rjmm+P5W, Divo, Côte D’Ivoire   \n",
       "1708  +225 05 56 33 4482                        Bp 385, Divo, Côte D’Ivoire   \n",
       "1709       Not available                      Rjmj+Wjp, Divo, Côte D’Ivoire   \n",
       "\n",
       "               Bank_Website            Reviewer_Nane  Reviewer_Sart  \\\n",
       "0     standardchartered.com                      V M              5   \n",
       "1           co-opbank.co.ke              Emman Emmah              5   \n",
       "2             not available       Isaac Akuru Miruka              5   \n",
       "3     standardchartered.com               Tony Tonny              1   \n",
       "4             not available            Declan Ottaro              3   \n",
       "...                     ...                      ...            ...   \n",
       "1705          not available           Marie Germaine              5   \n",
       "1706          not available            Comoe Djibril              2   \n",
       "1707          not available            Comoe Djibril              2   \n",
       "1708          not available    Moctar Kone (Kmoctar)              3   \n",
       "1709          not available  Folou Joel Henri Ayemou              3   \n",
       "\n",
       "       Reviewer_Text Reviewer_Publish_Date  Reviewer_Like_Reaction  \\\n",
       "0                NAN            2018-06-29                       0   \n",
       "1                NAN            2023-10-31                       0   \n",
       "2                NAN            2021-06-28                       0   \n",
       "3                NAN            2020-06-28                       0   \n",
       "4     Salle bancaire            2018-06-29                       0   \n",
       "...              ...                   ...                     ...   \n",
       "1705             NAN            2019-06-29                       0   \n",
       "1706             NAN            2019-06-29                       0   \n",
       "1707             NAN            2019-06-29                       0   \n",
       "1708             NAN            2023-06-28                       0   \n",
       "1709      De passage            2019-06-29                       0   \n",
       "\n",
       "                                   Reviewer_Profil_Link Reviewer_Owner_Reply  \\\n",
       "0     https://www.google.com/maps/contrib/1169461831...                 None   \n",
       "1     https://www.google.com/maps/contrib/1125754277...                 None   \n",
       "2     https://www.google.com/maps/contrib/1090182152...                 None   \n",
       "3     https://www.google.com/maps/contrib/1018542844...                 None   \n",
       "4     https://www.google.com/maps/contrib/1023346861...                 None   \n",
       "...                                                 ...                  ...   \n",
       "1705  https://www.google.com/maps/contrib/1054373247...                 None   \n",
       "1706  https://www.google.com/maps/contrib/1132578295...                 None   \n",
       "1707  https://www.google.com/maps/contrib/1132578295...                 None   \n",
       "1708  https://www.google.com/maps/contrib/1036178797...                 None   \n",
       "1709  https://www.google.com/maps/contrib/1158262678...                 None   \n",
       "\n",
       "     Reviewer_Owner_Reply_Date Topic Sentiment Sub_Topic  \n",
       "0                   0000-00-00   NaN       NaN       NaN  \n",
       "1                   0000-00-00   NaN       NaN       NaN  \n",
       "2                   0000-00-00   NaN       NaN       NaN  \n",
       "3                   0000-00-00   NaN       NaN       NaN  \n",
       "4                   0000-00-00   NaN       NaN       NaN  \n",
       "...                        ...   ...       ...       ...  \n",
       "1705                0000-00-00   NaN       NaN       NaN  \n",
       "1706                0000-00-00   NaN       NaN       NaN  \n",
       "1707                0000-00-00   NaN       NaN       NaN  \n",
       "1708                0000-00-00   NaN       NaN       NaN  \n",
       "1709                0000-00-00   NaN       NaN       NaN  \n",
       "\n",
       "[1710 rows x 17 columns]"
      ]
     },
     "execution_count": 5,
     "metadata": {},
     "output_type": "execute_result"
    }
   ],
   "source": [
    "df"
   ]
  },
  {
   "cell_type": "markdown",
   "metadata": {},
   "source": [
    "* **Topic generation**"
   ]
  },
  {
   "cell_type": "code",
   "execution_count": 6,
   "metadata": {},
   "outputs": [],
   "source": [
    "from llm.topificator import TopicExtractor\n",
    "from tqdm import tqdm\n",
    "extractor = TopicExtractor(model=\"llama3\", patience=5)"
   ]
  },
  {
   "cell_type": "code",
   "execution_count": 7,
   "metadata": {},
   "outputs": [],
   "source": [
    "df_macro = pd.DataFrame(columns=list(df.columns))\n",
    "output_file = 'macro_llamma.csv'"
   ]
  },
  {
   "cell_type": "code",
   "execution_count": 8,
   "metadata": {},
   "outputs": [],
   "source": [
    "save_interval = 1\n",
    "row_accumulated = 0"
   ]
  },
  {
   "cell_type": "code",
   "execution_count": 9,
   "metadata": {},
   "outputs": [],
   "source": [
    "def generate_static_topics_and_sentiments(stars):\n",
    "    if stars == 1:\n",
    "        return (\"Expérience\", \"Negative\", [])\n",
    "    elif stars == 2:\n",
    "        return (\"Expérience\", \"Negative\", [])\n",
    "    elif stars == 3:\n",
    "        return (\"Expérience\", \"Neutral\", [])\n",
    "    elif stars == 4:\n",
    "        return (\"Expérience\", \"Positive\", [])\n",
    "    elif stars == 5:\n",
    "        return (\"Expérience\", \"Positive\", [])\n",
    "    else:\n",
    "        return (\"Experience\", \"Neutral\", [])"
   ]
  },
  {
   "cell_type": "code",
   "execution_count": 10,
   "metadata": {},
   "outputs": [
    {
     "name": "stderr",
     "output_type": "stream",
     "text": [
      "  1%|█▍                                                                                                       | 24/1710 [03:39<3:51:06,  8.22s/it]"
     ]
    },
    {
     "name": "stdout",
     "output_type": "stream",
     "text": [
      "Attempt 1 failed with error: Failed to parse response: No JSON object could be identified in the response\n",
      "Attempt 2 failed with error: Failed to parse response: No JSON object could be identified in the response\n",
      "Attempt 3 failed with error: Failed to parse response: No JSON object could be identified in the response\n",
      "Attempt 4 failed with error: Failed to parse response: No JSON object could be identified in the response\n"
     ]
    },
    {
     "name": "stderr",
     "output_type": "stream",
     "text": [
      "  2%|██▏                                                                                                      | 35/1710 [05:01<3:38:55,  7.84s/it]"
     ]
    },
    {
     "name": "stdout",
     "output_type": "stream",
     "text": [
      "Attempt 1 failed with error: Failed to parse response: No JSON object could be identified in the response\n"
     ]
    },
    {
     "name": "stderr",
     "output_type": "stream",
     "text": [
      " 10%|██████████                                                                                              | 166/1710 [14:32<2:14:48,  5.24s/it]"
     ]
    },
    {
     "name": "stdout",
     "output_type": "stream",
     "text": [
      "Erreur rencontrée à l'index 165: list index out of range\n"
     ]
    },
    {
     "name": "stderr",
     "output_type": "stream",
     "text": [
      " 10%|██████████▉                                                                                             | 179/1710 [15:27<2:03:21,  4.83s/it]"
     ]
    },
    {
     "name": "stdout",
     "output_type": "stream",
     "text": [
      "Attempt 1 failed with error: Failed to parse response: No JSON object could be identified in the response\n"
     ]
    },
    {
     "name": "stderr",
     "output_type": "stream",
     "text": [
      " 12%|████████████▌                                                                                           | 206/1710 [20:12<3:33:01,  8.50s/it]"
     ]
    },
    {
     "name": "stdout",
     "output_type": "stream",
     "text": [
      "Attempt 1 failed with error: Failed to parse response: No JSON object could be identified in the response\n"
     ]
    },
    {
     "name": "stderr",
     "output_type": "stream",
     "text": [
      " 18%|██████████████████▋                                                                                     | 308/1710 [31:53<2:10:11,  5.57s/it]"
     ]
    },
    {
     "name": "stdout",
     "output_type": "stream",
     "text": [
      "Attempt 1 failed with error: Failed to parse response: No JSON object could be identified in the response\n"
     ]
    },
    {
     "name": "stderr",
     "output_type": "stream",
     "text": [
      " 19%|███████████████████▉                                                                                    | 327/1710 [36:41<5:23:45, 14.05s/it]"
     ]
    },
    {
     "name": "stdout",
     "output_type": "stream",
     "text": [
      "Attempt 1 failed with error: Failed to parse response: No JSON object could be identified in the response\n"
     ]
    },
    {
     "name": "stderr",
     "output_type": "stream",
     "text": [
      " 20%|█████████████████████▏                                                                                  | 349/1710 [41:20<4:32:17, 12.00s/it]"
     ]
    },
    {
     "name": "stdout",
     "output_type": "stream",
     "text": [
      "Attempt 1 failed with error: Failed to parse response: No JSON object could be identified in the response\n"
     ]
    },
    {
     "name": "stderr",
     "output_type": "stream",
     "text": [
      " 23%|███████████████████████▌                                                                                | 388/1710 [46:22<2:00:21,  5.46s/it]"
     ]
    },
    {
     "name": "stdout",
     "output_type": "stream",
     "text": [
      "Attempt 1 failed with error: Failed to parse response: No JSON object could be identified in the response\n"
     ]
    },
    {
     "name": "stderr",
     "output_type": "stream",
     "text": [
      " 23%|███████████████████████▊                                                                                | 391/1710 [48:09<4:04:14, 11.11s/it]"
     ]
    },
    {
     "name": "stdout",
     "output_type": "stream",
     "text": [
      "Attempt 1 failed with error: Failed to parse response: No JSON object could be identified in the response\n"
     ]
    },
    {
     "name": "stderr",
     "output_type": "stream",
     "text": [
      " 25%|██████████████████████████▏                                                                             | 430/1710 [50:41<1:09:33,  3.26s/it]"
     ]
    },
    {
     "name": "stdout",
     "output_type": "stream",
     "text": [
      "Attempt 1 failed with error: Failed to parse response: No JSON object could be identified in the response\n"
     ]
    },
    {
     "name": "stderr",
     "output_type": "stream",
     "text": [
      " 28%|████████████████████████████▊                                                                           | 474/1710 [54:33<2:35:34,  7.55s/it]"
     ]
    },
    {
     "name": "stdout",
     "output_type": "stream",
     "text": [
      "Attempt 1 failed with error: Failed to parse response: invalid syntax. Perhaps you forgot a comma? (<string>, line 2)\n"
     ]
    },
    {
     "name": "stderr",
     "output_type": "stream",
     "text": [
      " 30%|██████████████████████████████▍                                                                       | 511/1710 [1:04:14<2:08:42,  6.44s/it]"
     ]
    },
    {
     "name": "stdout",
     "output_type": "stream",
     "text": [
      "Attempt 1 failed with error: Failed to parse response: No JSON object could be identified in the response\n"
     ]
    },
    {
     "name": "stderr",
     "output_type": "stream",
     "text": [
      " 31%|███████████████████████████████▏                                                                      | 522/1710 [1:08:05<5:32:44, 16.81s/it]"
     ]
    },
    {
     "name": "stdout",
     "output_type": "stream",
     "text": [
      "Attempt 1 failed with error: Failed to parse response: invalid syntax. Perhaps you forgot a comma? (<string>, line 2)\n"
     ]
    },
    {
     "name": "stderr",
     "output_type": "stream",
     "text": [
      " 31%|███████████████████████████████▎                                                                      | 524/1710 [1:09:48<8:37:36, 26.19s/it]"
     ]
    },
    {
     "name": "stdout",
     "output_type": "stream",
     "text": [
      "Attempt 1 failed with error: Failed to parse response: No JSON object could be identified in the response\n"
     ]
    },
    {
     "name": "stderr",
     "output_type": "stream",
     "text": [
      " 31%|███████████████████████████████▉                                                                      | 536/1710 [1:11:28<3:54:20, 11.98s/it]"
     ]
    },
    {
     "name": "stdout",
     "output_type": "stream",
     "text": [
      "Attempt 1 failed with error: Failed to parse response: No JSON object could be identified in the response\n"
     ]
    },
    {
     "name": "stderr",
     "output_type": "stream",
     "text": [
      " 32%|████████████████████████████████▏                                                                     | 540/1710 [1:12:18<3:56:21, 12.12s/it]"
     ]
    },
    {
     "name": "stdout",
     "output_type": "stream",
     "text": [
      "Attempt 1 failed with error: Failed to parse response: No JSON object could be identified in the response\n"
     ]
    },
    {
     "name": "stderr",
     "output_type": "stream",
     "text": [
      " 51%|████████████████████████████████████████████████████▎                                                 | 878/1710 [1:35:27<1:52:01,  8.08s/it]"
     ]
    },
    {
     "name": "stdout",
     "output_type": "stream",
     "text": [
      "Attempt 1 failed with error: Failed to parse response: No JSON object could be identified in the response\n"
     ]
    },
    {
     "name": "stderr",
     "output_type": "stream",
     "text": [
      " 57%|██████████████████████████████████████████████████████████▎                                           | 978/1710 [1:47:08<1:48:43,  8.91s/it]"
     ]
    },
    {
     "name": "stdout",
     "output_type": "stream",
     "text": [
      "Attempt 1 failed with error: Failed to parse response: No JSON object could be identified in the response\n"
     ]
    },
    {
     "name": "stderr",
     "output_type": "stream",
     "text": [
      " 65%|██████████████████████████████████████████████████████████████████▍                                    | 1103/1710 [2:00:08<47:39,  4.71s/it]"
     ]
    },
    {
     "name": "stdout",
     "output_type": "stream",
     "text": [
      "Attempt 1 failed with error: Failed to parse response: No JSON object could be identified in the response\n"
     ]
    },
    {
     "name": "stderr",
     "output_type": "stream",
     "text": [
      " 76%|████████████████████████████████████████████████████████████████████████████▉                        | 1302/1710 [2:22:47<2:04:37, 18.33s/it]"
     ]
    },
    {
     "name": "stdout",
     "output_type": "stream",
     "text": [
      "Attempt 1 failed with error: Failed to parse response: No JSON object could be identified in the response\n",
      "Attempt 2 failed with error: Failed to parse response: No JSON object could be identified in the response\n",
      "Attempt 3 failed with error: Failed to parse response: No JSON object could be identified in the response\n"
     ]
    },
    {
     "name": "stderr",
     "output_type": "stream",
     "text": [
      " 83%|█████████████████████████████████████████████████████████████████████████████████████▉                 | 1426/1710 [2:41:36<25:07,  5.31s/it]"
     ]
    },
    {
     "name": "stdout",
     "output_type": "stream",
     "text": [
      "Attempt 1 failed with error: Failed to parse response: name 'topics' is not defined\n"
     ]
    },
    {
     "name": "stderr",
     "output_type": "stream",
     "text": [
      " 84%|██████████████████████████████████████████████████████████████████████████████████████▌                | 1437/1710 [2:44:46<43:25,  9.54s/it]"
     ]
    },
    {
     "name": "stdout",
     "output_type": "stream",
     "text": [
      "Attempt 1 failed with error: Failed to parse response: No JSON object could be identified in the response\n"
     ]
    },
    {
     "name": "stderr",
     "output_type": "stream",
     "text": [
      " 85%|███████████████████████████████████████████████████████████████████████████████████████                | 1446/1710 [2:46:34<49:42, 11.30s/it]"
     ]
    },
    {
     "name": "stdout",
     "output_type": "stream",
     "text": [
      "Attempt 1 failed with error: Failed to parse response: No JSON object could be identified in the response\n"
     ]
    },
    {
     "name": "stderr",
     "output_type": "stream",
     "text": [
      " 85%|███████████████████████████████████████████████████████████████████████████████████████▎               | 1449/1710 [2:47:19<53:00, 12.19s/it]"
     ]
    },
    {
     "name": "stdout",
     "output_type": "stream",
     "text": [
      "Attempt 1 failed with error: Failed to parse response: No JSON object could be identified in the response\n",
      "Attempt 2 failed with error: Failed to parse response: No JSON object could be identified in the response\n"
     ]
    },
    {
     "name": "stderr",
     "output_type": "stream",
     "text": [
      " 86%|████████████████████████████████████████████████████████████████████████████████████████▋              | 1472/1710 [2:50:46<17:15,  4.35s/it]"
     ]
    },
    {
     "name": "stdout",
     "output_type": "stream",
     "text": [
      "Attempt 1 failed with error: Failed to parse response: invalid syntax (<string>, line 9)\n",
      "Attempt 2 failed with error: Failed to parse response: No JSON object could be identified in the response\n"
     ]
    },
    {
     "name": "stderr",
     "output_type": "stream",
     "text": [
      " 87%|███████████████████████████████████████████████████████████████████████████████████████▋             | 1484/1710 [2:56:35<1:12:31, 19.26s/it]"
     ]
    },
    {
     "name": "stdout",
     "output_type": "stream",
     "text": [
      "Attempt 1 failed with error: Failed to parse response: No JSON object could be identified in the response\n"
     ]
    },
    {
     "name": "stderr",
     "output_type": "stream",
     "text": [
      " 91%|█████████████████████████████████████████████████████████████████████████████████████████████▋         | 1556/1710 [3:11:37<35:04, 13.67s/it]"
     ]
    },
    {
     "name": "stdout",
     "output_type": "stream",
     "text": [
      "Attempt 1 failed with error: Failed to parse response: No JSON object could be identified in the response\n"
     ]
    },
    {
     "name": "stderr",
     "output_type": "stream",
     "text": [
      " 99%|██████████████████████████████████████████████████████████████████████████████████████████████████████▍| 1701/1710 [3:42:06<02:16, 15.20s/it]"
     ]
    },
    {
     "name": "stdout",
     "output_type": "stream",
     "text": [
      "Attempt 1 failed with error: Failed to parse response: No JSON object could be identified in the response\n"
     ]
    },
    {
     "name": "stderr",
     "output_type": "stream",
     "text": [
      "100%|███████████████████████████████████████████████████████████████████████████████████████████████████████| 1710/1710 [3:44:50<00:00,  7.89s/it]\n"
     ]
    }
   ],
   "source": [
    "# Itérer sur chaque ligne du DataFrame\n",
    "for index, row in tqdm(df.iterrows(), total=df.shape[0]):\n",
    "    review = row['Reviewer_Text']\n",
    "    \n",
    "    try:\n",
    "        topics = extractor.extract(review, type='SINGLE_SOURCE')\n",
    "        topics_array = topics['topics']\n",
    "    \n",
    "        if len(topics_array) == 0:\n",
    "            static_topic, static_sentiment, static_sub_topic = generate_static_topics_and_sentiments(row['Reviewer_Sart'])\n",
    "            new_row = row.copy()\n",
    "            new_row['Topic'] = static_topic\n",
    "            new_row['Sentiment'] = static_sentiment\n",
    "            new_row['Sub_Topic'] = static_sub_topic\n",
    "            df_macro = pd.concat([df_macro, pd.DataFrame([new_row])], ignore_index=True)\n",
    "            row_accumulated += 1\n",
    "        else:\n",
    "            for tuple_ in topics_array:\n",
    "                new_row = row.copy()\n",
    "                new_row['Topic'] = tuple_[0]\n",
    "                new_row['Sentiment'] = tuple_[1]\n",
    "                new_row['Sub_Topic'] = tuple_[2]\n",
    "                df_macro = pd.concat([df_macro, pd.DataFrame([new_row])], ignore_index=True)\n",
    "                row_accumulated += 1\n",
    "            \n",
    "        # Sauvegarder à chaque intervalle défini\n",
    "        if row_accumulated >= save_interval:\n",
    "            df_macro.to_csv(output_file, index=False)\n",
    "            row_accumulated = 0\n",
    "    except Exception as e:\n",
    "        print(f\"Erreur rencontrée à l'index {index}: {e}\")\n",
    "        pass"
   ]
  },
  {
   "cell_type": "code",
   "execution_count": 11,
   "metadata": {},
   "outputs": [
    {
     "name": "stdout",
     "output_type": "stream",
     "text": [
      "DataFrame mis à jour et sauvegardé dans macro_llamma.csv\n"
     ]
    }
   ],
   "source": [
    "# Sauvegarder une dernière fois après la fin de la boucle\n",
    "df_macro.to_csv(output_file, index=False)\n",
    "\n",
    "# Afficher un message une fois le processus terminé\n",
    "print(f\"DataFrame mis à jour et sauvegardé dans {output_file}\")"
   ]
  },
  {
   "cell_type": "code",
   "execution_count": null,
   "metadata": {},
   "outputs": [],
   "source": []
  }
 ],
 "metadata": {
  "kernelspec": {
   "display_name": "Python 3 (ipykernel)",
   "language": "python",
   "name": "python3"
  },
  "language_info": {
   "codemirror_mode": {
    "name": "ipython",
    "version": 3
   },
   "file_extension": ".py",
   "mimetype": "text/x-python",
   "name": "python",
   "nbconvert_exporter": "python",
   "pygments_lexer": "ipython3",
   "version": "3.11.7"
  }
 },
 "nbformat": 4,
 "nbformat_minor": 4
}
